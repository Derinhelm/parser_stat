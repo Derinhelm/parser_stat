{
  "cells": [
    {
      "cell_type": "markdown",
      "metadata": {
        "id": "view-in-github",
        "colab_type": "text"
      },
      "source": [
        "<a href=\"https://colab.research.google.com/github/Derinhelm/parser_stat/blob/mmd_metric/MMD_Russian_parser_statistics.ipynb\" target=\"_parent\"><img src=\"https://colab.research.google.com/assets/colab-badge.svg\" alt=\"Open In Colab\"/></a>"
      ]
    },
    {
      "cell_type": "markdown",
      "metadata": {
        "id": "4evQZldcFtGg"
      },
      "source": [
        "# Repository cloning"
      ]
    },
    {
      "cell_type": "code",
      "execution_count": 9,
      "metadata": {
        "colab": {
          "base_uri": "https://localhost:8080/"
        },
        "id": "ecnCggplFs14",
        "outputId": "c779f7a2-3865-40b4-defc-990ed5b8b93c"
      },
      "outputs": [
        {
          "output_type": "stream",
          "name": "stdout",
          "text": [
            "Cloning into 'parser_stat'...\n",
            "remote: Enumerating objects: 122, done.\u001b[K\n",
            "remote: Counting objects: 100% (122/122), done.\u001b[K\n",
            "remote: Compressing objects: 100% (93/93), done.\u001b[K\n",
            "remote: Total 122 (delta 62), reused 64 (delta 28), pack-reused 0 (from 0)\u001b[K\n",
            "Receiving objects: 100% (122/122), 26.22 MiB | 14.96 MiB/s, done.\n",
            "Resolving deltas: 100% (62/62), done.\n"
          ]
        }
      ],
      "source": [
        "!git clone https://github.com/Derinhelm/parser_stat.git"
      ]
    },
    {
      "cell_type": "code",
      "execution_count": 10,
      "metadata": {
        "id": "nwQf_f7WFsuI"
      },
      "outputs": [],
      "source": [
        "import sys\n",
        "sys.path.append('/content/parser_stat')"
      ]
    },
    {
      "cell_type": "code",
      "execution_count": 11,
      "metadata": {
        "id": "sht31S9jHGte"
      },
      "outputs": [],
      "source": [
        "!mkdir pics"
      ]
    },
    {
      "cell_type": "markdown",
      "metadata": {
        "id": "zW8TZ8knF4A0"
      },
      "source": [
        "# Data getting"
      ]
    },
    {
      "cell_type": "code",
      "execution_count": 12,
      "metadata": {
        "id": "ezvcUG5vF6pl"
      },
      "outputs": [],
      "source": [
        "from data_classes import ConllEntry, Sentence"
      ]
    },
    {
      "cell_type": "code",
      "execution_count": 13,
      "metadata": {
        "id": "RGVipa8eGJol"
      },
      "outputs": [],
      "source": [
        "import pickle"
      ]
    },
    {
      "cell_type": "code",
      "execution_count": 14,
      "metadata": {
        "id": "I3hDekdWF6jm"
      },
      "outputs": [],
      "source": [
        "with open('/content/parser_stat/treebank_test_sets/treebank_data.pickle', 'rb') as f:\n",
        "    treebanks = pickle.load(f)"
      ]
    },
    {
      "cell_type": "code",
      "execution_count": 15,
      "metadata": {
        "colab": {
          "base_uri": "https://localhost:8080/"
        },
        "id": "joCfA0AJGLHe",
        "outputId": "27e20c69-7882-4b07-a832-637b4c99b446"
      },
      "outputs": [
        {
          "output_type": "stream",
          "name": "stdout",
          "text": [
            "gsd 601\n",
            "pud 1000\n",
            "syntagrus 8800\n",
            "poetry 728\n",
            "taiga 881\n"
          ]
        }
      ],
      "source": [
        "for t, sent_list in treebanks.items():\n",
        "    print(t, len(sent_list))\n",
        "    # checking the index uniqueness\n",
        "    assert len({s.sent_id for s in sent_list}) == len(sent_list)"
      ]
    },
    {
      "cell_type": "code",
      "execution_count": 16,
      "metadata": {
        "id": "zhhzbfc_G1fq"
      },
      "outputs": [],
      "source": [
        "treebank_names = ['taiga', 'poetry', 'gsd', 'pud', 'syntagrus']"
      ]
    },
    {
      "cell_type": "markdown",
      "metadata": {
        "id": "K9MuF8g4Uw66"
      },
      "source": [
        "# Parsing result getting"
      ]
    },
    {
      "cell_type": "code",
      "execution_count": 17,
      "metadata": {
        "id": "sPFwHaFZYbK9"
      },
      "outputs": [],
      "source": [
        "import pandas as pd"
      ]
    },
    {
      "cell_type": "code",
      "execution_count": 18,
      "metadata": {
        "id": "ikxnE3uCf6ic"
      },
      "outputs": [],
      "source": [
        "parser_names = [\"natasha\", \"udpipe\", \"spacy\", \"deeppavlov\", \"stanza\"]"
      ]
    },
    {
      "cell_type": "code",
      "execution_count": 19,
      "metadata": {
        "id": "mQBHOnbwDDGY"
      },
      "outputs": [],
      "source": [
        "parser_res = {}\n",
        "for p in parser_names:\n",
        "    with open(f'/content/parser_stat/pickle_results/{p}.pickle', 'rb') as f:\n",
        "       parser_res[p] = pickle.load(f)"
      ]
    },
    {
      "cell_type": "code",
      "execution_count": 20,
      "metadata": {
        "id": "OkXIRhqZHZu3"
      },
      "outputs": [],
      "source": [
        "for p in parser_names:\n",
        "  for t in treebanks:\n",
        "    assert len(treebanks[t]) == len(parser_res[p][t])"
      ]
    },
    {
      "cell_type": "code",
      "source": [
        "[(t.id, t.parent_id, t.relation) for t in parser_res['stanza']['syntagrus'][95].tokens]"
      ],
      "metadata": {
        "colab": {
          "base_uri": "https://localhost:8080/"
        },
        "id": "vgwWjhi1ik9U",
        "outputId": "837a0b7d-4f30-4e1d-f848-764e8be17cf9"
      },
      "execution_count": 21,
      "outputs": [
        {
          "output_type": "execute_result",
          "data": {
            "text/plain": [
              "[('1', '4', 'obl'),\n",
              " ('2', '4', 'case'),\n",
              " ('3', '4', 'amod'),\n",
              " ('4', '0', 'root'),\n",
              " ('5', '4', 'nsubj'),\n",
              " ('6', '5', 'flat:foreign'),\n",
              " ('7', '5', 'flat:foreign'),\n",
              " ('8', '5', 'flat:foreign'),\n",
              " ('9', '5', 'flat:foreign'),\n",
              " ('10', '4', 'punct'),\n",
              " ('1', '2', 'punct'),\n",
              " ('2', '4', 'parataxis'),\n",
              " ('3', '2', 'punct'),\n",
              " ('4', '0', 'root'),\n",
              " ('5', '4', 'xcomp'),\n",
              " ('6', '5', 'obj'),\n",
              " ('7', '8', 'amod'),\n",
              " ('8', '6', 'nmod'),\n",
              " ('9', '4', 'punct')]"
            ]
          },
          "metadata": {},
          "execution_count": 21
        }
      ]
    },
    {
      "cell_type": "code",
      "source": [
        "[i for (i, t) in enumerate(parser_res['stanza']['syntagrus'][95].tokens) if t.id == '1']"
      ],
      "metadata": {
        "colab": {
          "base_uri": "https://localhost:8080/"
        },
        "id": "3Wo_2USykzOC",
        "outputId": "8e7f127b-84ae-4b89-c2ff-91c9f47cb9cf"
      },
      "execution_count": 22,
      "outputs": [
        {
          "output_type": "execute_result",
          "data": {
            "text/plain": [
              "[0, 10]"
            ]
          },
          "metadata": {},
          "execution_count": 22
        }
      ]
    },
    {
      "cell_type": "code",
      "source": [
        "parser_res['stanza']['syntagrus'][95].sent_id"
      ],
      "metadata": {
        "colab": {
          "base_uri": "https://localhost:8080/",
          "height": 35
        },
        "id": "ANa4z-YAjA7-",
        "outputId": "faef79e3-19a8-4643-e49f-ea2b8f113f4f"
      },
      "execution_count": 23,
      "outputs": [
        {
          "output_type": "execute_result",
          "data": {
            "text/plain": [
              "'2003Armeniya.xml_96'"
            ],
            "application/vnd.google.colaboratory.intrinsic+json": {
              "type": "string"
            }
          },
          "metadata": {},
          "execution_count": 23
        }
      ]
    },
    {
      "cell_type": "code",
      "source": [
        "for t in treebank_names:\n",
        "  for p in parser_names:\n",
        "      print(t, p, len([i for (i, sent) in enumerate(parser_res[p][t])\n",
        "       if len([t.relation for t in sent.tokens if t.relation == \"root\"]) > 1]))"
      ],
      "metadata": {
        "colab": {
          "base_uri": "https://localhost:8080/"
        },
        "id": "RVA0wGLhpOPL",
        "outputId": "a774eed8-34fa-4769-9b70-2ab669479d53"
      },
      "execution_count": 24,
      "outputs": [
        {
          "output_type": "stream",
          "name": "stdout",
          "text": [
            "taiga natasha 95\n",
            "taiga udpipe 42\n",
            "taiga spacy 69\n",
            "taiga deeppavlov 67\n",
            "taiga stanza 69\n",
            "poetry natasha 148\n",
            "poetry udpipe 43\n",
            "poetry spacy 24\n",
            "poetry deeppavlov 50\n",
            "poetry stanza 65\n",
            "gsd natasha 83\n",
            "gsd udpipe 7\n",
            "gsd spacy 14\n",
            "gsd deeppavlov 18\n",
            "gsd stanza 5\n",
            "pud natasha 98\n",
            "pud udpipe 7\n",
            "pud spacy 18\n",
            "pud deeppavlov 3\n",
            "pud stanza 4\n",
            "syntagrus natasha 1073\n",
            "syntagrus udpipe 57\n",
            "syntagrus spacy 220\n",
            "syntagrus deeppavlov 131\n",
            "syntagrus stanza 190\n"
          ]
        }
      ]
    },
    {
      "cell_type": "code",
      "source": [
        "[i for (i, sent) in enumerate(parser_res['stanza']['syntagrus'])\n",
        "    if len([t.relation for t in sent.tokens if t.relation == \"root\"]) > 2]"
      ],
      "metadata": {
        "colab": {
          "base_uri": "https://localhost:8080/"
        },
        "id": "8w_NkKNUiQXU",
        "outputId": "9924c097-49a5-4376-faab-60941d110f4c"
      },
      "execution_count": 25,
      "outputs": [
        {
          "output_type": "execute_result",
          "data": {
            "text/plain": [
              "[6424]"
            ]
          },
          "metadata": {},
          "execution_count": 25
        }
      ]
    },
    {
      "cell_type": "code",
      "source": [
        "parser_res['stanza']['syntagrus'][6424].sent_id"
      ],
      "metadata": {
        "colab": {
          "base_uri": "https://localhost:8080/",
          "height": 35
        },
        "id": "lc8at2wBuV6w",
        "outputId": "071d5a86-3a42-4f4d-e489-af63882685e8"
      },
      "execution_count": 26,
      "outputs": [
        {
          "output_type": "execute_result",
          "data": {
            "text/plain": [
              "'2013Martovskaya_revolyutsiya.xml_88'"
            ],
            "application/vnd.google.colaboratory.intrinsic+json": {
              "type": "string"
            }
          },
          "metadata": {},
          "execution_count": 26
        }
      ]
    },
    {
      "cell_type": "code",
      "source": [
        "[(t.id, t.parent_id, t.relation) for t in parser_res['stanza']['syntagrus'][6424].tokens]"
      ],
      "metadata": {
        "colab": {
          "base_uri": "https://localhost:8080/"
        },
        "id": "UtDBVGi4i3WJ",
        "outputId": "594ac8a8-7ee6-4ab3-bf4d-47d423184062"
      },
      "execution_count": 27,
      "outputs": [
        {
          "output_type": "execute_result",
          "data": {
            "text/plain": [
              "[('1', '0', 'root'),\n",
              " ('2', '3', 'advmod'),\n",
              " ('3', '1', 'nsubj'),\n",
              " ('4', '3', 'obl'),\n",
              " ('5', '9', 'punct'),\n",
              " ('6', '9', 'cc'),\n",
              " ('7', '8', 'amod'),\n",
              " ('8', '9', 'nsubj'),\n",
              " ('9', '1', 'conj'),\n",
              " ('10', '12', 'case'),\n",
              " ('11', '12', 'det'),\n",
              " ('12', '9', 'obl'),\n",
              " ('13', '17', 'punct'),\n",
              " ('14', '17', 'amod'),\n",
              " ('15', '17', 'amod'),\n",
              " ('16', '17', 'amod'),\n",
              " ('17', '12', 'parataxis'),\n",
              " ('18', '19', 'punct'),\n",
              " ('19', '17', 'parataxis'),\n",
              " ('20', '19', 'flat'),\n",
              " ('21', '22', 'amod'),\n",
              " ('22', '19', 'nmod'),\n",
              " ('23', '19', 'punct'),\n",
              " ('24', '1', 'punct'),\n",
              " ('1', '3', 'amod'),\n",
              " ('2', '3', 'amod'),\n",
              " ('3', '0', 'root'),\n",
              " ('4', '5', 'punct'),\n",
              " ('5', '3', 'parataxis'),\n",
              " ('6', '5', 'flat'),\n",
              " ('7', '5', 'punct'),\n",
              " ('8', '3', 'punct'),\n",
              " ('1', '3', 'amod'),\n",
              " ('2', '3', 'amod'),\n",
              " ('3', '0', 'root'),\n",
              " ('4', '5', 'punct'),\n",
              " ('5', '3', 'parataxis'),\n",
              " ('6', '5', 'flat'),\n",
              " ('7', '5', 'punct'),\n",
              " ('8', '9', 'punct'),\n",
              " ('9', '3', 'conj'),\n",
              " ('10', '9', 'nmod'),\n",
              " ('11', '12', 'punct'),\n",
              " ('12', '10', 'parataxis'),\n",
              " ('13', '12', 'flat'),\n",
              " ('14', '12', 'punct'),\n",
              " ('15', '3', 'punct')]"
            ]
          },
          "metadata": {},
          "execution_count": 27
        }
      ]
    },
    {
      "cell_type": "code",
      "source": [
        "def shift_token_id(sentence):\n",
        "  first_token_shift = 0\n",
        "  for i, t in enumerate(sentence.tokens):\n",
        "    if t.id == '1':\n",
        "      first_token_shift = i\n",
        "    shift_id = str(int(t.id) + first_token_shift)\n",
        "    if t.parent_id != '0':\n",
        "      shift_parent_id = str(int(t.parent_id) + first_token_shift)\n",
        "    else:\n",
        "      shift_parent_id = '0'\n",
        "    #print(shift_id, t.id, \"    \", shift_parent_id, t.parent_id)\n",
        "    t.id = shift_id\n",
        "    t.parent_id = shift_parent_id"
      ],
      "metadata": {
        "id": "-TXAbeR-qtWO"
      },
      "execution_count": 28,
      "outputs": []
    },
    {
      "cell_type": "code",
      "source": [
        "for t in treebank_names:\n",
        "  for p in parser_names:\n",
        "    for s in parser_res[p][t]:\n",
        "      shift_token_id(s)"
      ],
      "metadata": {
        "id": "uDmFHnrgsrw6"
      },
      "execution_count": 29,
      "outputs": []
    },
    {
      "cell_type": "code",
      "source": [
        "[(t.id, t.parent_id, t.relation) for t in parser_res['stanza']['syntagrus'][6424].tokens]"
      ],
      "metadata": {
        "colab": {
          "base_uri": "https://localhost:8080/"
        },
        "id": "8Gdy8w4asYGz",
        "outputId": "daba5f56-8990-40e6-9a8d-9a72f098ed12"
      },
      "execution_count": 30,
      "outputs": [
        {
          "output_type": "execute_result",
          "data": {
            "text/plain": [
              "[('1', '0', 'root'),\n",
              " ('2', '3', 'advmod'),\n",
              " ('3', '1', 'nsubj'),\n",
              " ('4', '3', 'obl'),\n",
              " ('5', '9', 'punct'),\n",
              " ('6', '9', 'cc'),\n",
              " ('7', '8', 'amod'),\n",
              " ('8', '9', 'nsubj'),\n",
              " ('9', '1', 'conj'),\n",
              " ('10', '12', 'case'),\n",
              " ('11', '12', 'det'),\n",
              " ('12', '9', 'obl'),\n",
              " ('13', '17', 'punct'),\n",
              " ('14', '17', 'amod'),\n",
              " ('15', '17', 'amod'),\n",
              " ('16', '17', 'amod'),\n",
              " ('17', '12', 'parataxis'),\n",
              " ('18', '19', 'punct'),\n",
              " ('19', '17', 'parataxis'),\n",
              " ('20', '19', 'flat'),\n",
              " ('21', '22', 'amod'),\n",
              " ('22', '19', 'nmod'),\n",
              " ('23', '19', 'punct'),\n",
              " ('24', '1', 'punct'),\n",
              " ('25', '27', 'amod'),\n",
              " ('26', '27', 'amod'),\n",
              " ('27', '0', 'root'),\n",
              " ('28', '29', 'punct'),\n",
              " ('29', '27', 'parataxis'),\n",
              " ('30', '29', 'flat'),\n",
              " ('31', '29', 'punct'),\n",
              " ('32', '27', 'punct'),\n",
              " ('33', '35', 'amod'),\n",
              " ('34', '35', 'amod'),\n",
              " ('35', '0', 'root'),\n",
              " ('36', '37', 'punct'),\n",
              " ('37', '35', 'parataxis'),\n",
              " ('38', '37', 'flat'),\n",
              " ('39', '37', 'punct'),\n",
              " ('40', '41', 'punct'),\n",
              " ('41', '35', 'conj'),\n",
              " ('42', '41', 'nmod'),\n",
              " ('43', '44', 'punct'),\n",
              " ('44', '42', 'parataxis'),\n",
              " ('45', '44', 'flat'),\n",
              " ('46', '44', 'punct'),\n",
              " ('47', '35', 'punct')]"
            ]
          },
          "metadata": {},
          "execution_count": 30
        }
      ]
    },
    {
      "cell_type": "markdown",
      "metadata": {
        "id": "jZT08SOtAktK"
      },
      "source": [
        "# Creating token start-end pairs"
      ]
    },
    {
      "cell_type": "markdown",
      "metadata": {
        "id": "7Q9V6RQqIIXj"
      },
      "source": [
        "be_edges - set of dependency tree edges in begin-end format"
      ]
    },
    {
      "cell_type": "code",
      "execution_count": 31,
      "metadata": {
        "id": "CKG_qHSJIPef"
      },
      "outputs": [],
      "source": [
        "def create_sent_be_nodes(sent, text_transform):\n",
        "    token_begin_end = []\n",
        "    sent_text = text_transform(sent.text)\n",
        "    original_sent_text = text_transform(sent.text)\n",
        "    del_prefix_len = 0\n",
        "    tokens = [t for t in sent.tokens if '.' not in t.id]\n",
        "    for t_i, t in enumerate(tokens):\n",
        "        token_text = text_transform(t.form)\n",
        "        t_start = sent_text.find(token_text)\n",
        "        if t_start == -1:\n",
        "            print(\"Error:\", sent.sent_id, f\"sent_text:{sent_text}, t:{token_text}\", t_i)\n",
        "        else:\n",
        "            b, e = (del_prefix_len + t_start,\n",
        "                                  del_prefix_len + t_start + len(token_text))\n",
        "            token_begin_end.append((t, (b, e)))\n",
        "            del_prefix_len += t_start + len(token_text)\n",
        "            sent_text = sent_text[t_start + len(token_text):]\n",
        "            assert text_transform(original_sent_text[b:e]) == text_transform(tokens[t_i].form)\n",
        "    sent_text = text_transform(sent.text)\n",
        "    return token_begin_end"
      ]
    },
    {
      "cell_type": "code",
      "execution_count": 32,
      "metadata": {
        "id": "Nb_gR5VZcSSl"
      },
      "outputs": [],
      "source": [
        "def create_sent_be_edges(sent_be_tokens):\n",
        "    sent_be_res = {}\n",
        "    for t_id, (t, t_be) in enumerate(sent_be_tokens): # ellipsis are deleted, so index in sent_be_tokens = token_id\n",
        "      parent_id = t.parent_id\n",
        "      if parent_id == '0': # root\n",
        "        parent_be = (-1, -1)\n",
        "      else:\n",
        "        _, parent_be = sent_be_tokens[int(parent_id) - 1]\n",
        "      sent_be_res[t_be] = (parent_be, t.relation)\n",
        "    return sent_be_res"
      ]
    },
    {
      "cell_type": "code",
      "execution_count": 33,
      "metadata": {
        "id": "naqegyoidfhW"
      },
      "outputs": [],
      "source": [
        "from collections import OrderedDict"
      ]
    },
    {
      "cell_type": "code",
      "execution_count": 34,
      "metadata": {
        "id": "bIe_DoZPdUL1"
      },
      "outputs": [],
      "source": [
        "be_treebanks = {}\n",
        "for treebank_n in treebank_names:\n",
        "    be_treebanks[treebank_n] = OrderedDict()\n",
        "    for i, sent in enumerate(treebanks[treebank_n]):\n",
        "        be_sent = create_sent_be_nodes(sent, lambda text: text.lower())\n",
        "        be_treebanks[treebank_n][sent.sent_id] = create_sent_be_edges(be_sent)"
      ]
    },
    {
      "cell_type": "code",
      "execution_count": 35,
      "metadata": {
        "colab": {
          "base_uri": "https://localhost:8080/"
        },
        "id": "XynTMoSSfl9t",
        "outputId": "fe9c72ad-e365-49c7-ac72-3ed802a5a1d9"
      },
      "outputs": [
        {
          "output_type": "execute_result",
          "data": {
            "text/plain": [
              "{(0, 2): ((16, 20), 'nsubj'),\n",
              " (3, 15): ((16, 20), 'advmod'),\n",
              " (16, 20): ((-1, -1), 'root'),\n",
              " (21, 24): ((25, 34), 'det'),\n",
              " (25, 34): ((16, 20), 'obj'),\n",
              " (35, 43): ((16, 20), 'advmod'),\n",
              " (43, 44): ((16, 20), 'punct')}"
            ]
          },
          "metadata": {},
          "execution_count": 35
        }
      ],
      "source": [
        "be_treebanks['syntagrus']['2003Artist_mimansa.xml_130']"
      ]
    },
    {
      "cell_type": "markdown",
      "metadata": {
        "id": "zegcS0y1rKd0"
      },
      "source": [
        "{(0, 2): ((16, 20), 'nsubj'),\n",
        "\n",
        " (3, 15): ((16, 20), 'advmod'),\n",
        "\n",
        " (16, 20): ((-1, -1), 'root'),\n",
        "\n",
        " (21, 24): ((25, 34), 'det'),\n",
        "\n",
        " (25, 34): ((16, 20), 'obj'),\n",
        "\n",
        " (35, 43): ((16, 20), 'advmod'),\n",
        "\n",
        " (43, 44): ((16, 20), 'punct')}\n"
      ]
    },
    {
      "cell_type": "code",
      "execution_count": 36,
      "metadata": {
        "id": "RzpwKOowqN4a"
      },
      "outputs": [],
      "source": [
        "be_parser_res = {p: {} for p in parser_names}\n",
        "for p in parser_names:\n",
        "  if p == 'deeppavlov':\n",
        "    transform_fun = lambda text: text.lower().replace('``', '\"').replace(\"''\", '\"')\n",
        "  else:\n",
        "    transform_fun = lambda text: text.lower().replace(\"''\", '\"')\n",
        "  for t in treebank_names:\n",
        "    be_parser_res[p][t] = OrderedDict()\n",
        "    for i, sent in enumerate(parser_res[p][t]):\n",
        "        be_sent = create_sent_be_nodes(sent, transform_fun)\n",
        "        be_parser_res[p][t][sent.sent_id] = create_sent_be_edges(be_sent)"
      ]
    },
    {
      "cell_type": "code",
      "execution_count": 37,
      "metadata": {
        "colab": {
          "base_uri": "https://localhost:8080/"
        },
        "id": "ehDT7wRDWDKI",
        "outputId": "e2e9f3dc-b902-4ea4-fa0c-dcd86499e0fe"
      },
      "outputs": [
        {
          "output_type": "execute_result",
          "data": {
            "text/plain": [
              "{(0, 3): ((11, 15), 'obl'),\n",
              " (4, 5): ((11, 15), 'case'),\n",
              " (6, 10): ((11, 15), 'amod'),\n",
              " (11, 15): ((-1, -1), 'root'),\n",
              " (16, 24): ((11, 15), 'nsubj'),\n",
              " (25, 33): ((16, 24), 'flat:foreign'),\n",
              " (34, 42): ((16, 24), 'flat:foreign'),\n",
              " (43, 50): ((16, 24), 'flat:foreign'),\n",
              " (51, 54): ((16, 24), 'flat:foreign'),\n",
              " (54, 55): ((11, 15), 'punct'),\n",
              " (56, 57): ((57, 64), 'punct'),\n",
              " (57, 64): ((66, 72), 'parataxis'),\n",
              " (64, 65): ((57, 64), 'punct'),\n",
              " (66, 72): ((-1, -1), 'root'),\n",
              " (73, 86): ((66, 72), 'xcomp'),\n",
              " (87, 93): ((73, 86), 'obj'),\n",
              " (94, 105): ((106, 111), 'amod'),\n",
              " (106, 111): ((87, 93), 'nmod'),\n",
              " (111, 112): ((66, 72), 'punct')}"
            ]
          },
          "metadata": {},
          "execution_count": 37
        }
      ],
      "source": [
        "be_parser_res['stanza']['syntagrus']['2003Armeniya.xml_96']"
      ]
    },
    {
      "cell_type": "markdown",
      "metadata": {
        "id": "7xNSI7QKWGTr"
      },
      "source": [
        "((0, 2), ((16, 20), 'nsubj')),\n",
        "\n",
        "((3, 9), ((16, 20), 'obl')),\n",
        "\n",
        "((9, 10), ((10, 15), 'punct')),\n",
        "\n",
        "((10, 15), ((3, 9), 'conj')),\n",
        "\n",
        "((16, 20), ((-1, -1), 'root')),\n",
        "\n",
        "((21, 24), ((25, 34), 'det')),\n",
        "\n",
        "((25, 34), ((16, 20), 'obj')),\n",
        "\n",
        "((35, 43), ((16, 20), 'advmod')),\n",
        "\n",
        "((43, 44), ((16, 20), 'punct'))]"
      ]
    },
    {
      "cell_type": "markdown",
      "metadata": {
        "id": "kt5G6hkPAfN7"
      },
      "source": [
        "# Sentence statistics"
      ]
    },
    {
      "cell_type": "code",
      "source": [
        "be_treebanks['taiga']['1'] # Разбора из датасета"
      ],
      "metadata": {
        "colab": {
          "base_uri": "https://localhost:8080/"
        },
        "id": "ga8E2XolUXzm",
        "outputId": "ee03728a-8f74-44fa-b948-0dda8336df6f"
      },
      "execution_count": 42,
      "outputs": [
        {
          "output_type": "execute_result",
          "data": {
            "text/plain": [
              "{(0, 3): ((4, 9), 'advmod'),\n",
              " (4, 9): ((12, 18), 'obl'),\n",
              " (10, 11): ((12, 18), 'case'),\n",
              " (12, 18): ((-1, -1), 'root'),\n",
              " (19, 22): ((12, 18), 'nmod'),\n",
              " (23, 24): ((25, 28), 'cc'),\n",
              " (25, 28): ((19, 22), 'conj'),\n",
              " (29, 33): ((12, 18), 'cop'),\n",
              " (34, 39): ((40, 43), 'advmod'),\n",
              " (40, 43): ((44, 50), 'nummod:gov'),\n",
              " (44, 50): ((12, 18), 'nsubj'),\n",
              " (51, 52): ((81, 86), 'cc'),\n",
              " (53, 59): ((81, 86), 'nummod:gov'),\n",
              " (60, 66): ((81, 86), 'amod'),\n",
              " (67, 80): ((81, 86), 'amod'),\n",
              " (81, 86): ((44, 50), 'conj'),\n",
              " (86, 87): ((12, 18), 'punct')}"
            ]
          },
          "metadata": {},
          "execution_count": 42
        }
      ]
    },
    {
      "cell_type": "code",
      "source": [
        "be_parser_res['stanza']['taiga']['1'] # Разбор, полученный с помощью анализатора Stanza"
      ],
      "metadata": {
        "colab": {
          "base_uri": "https://localhost:8080/"
        },
        "id": "E8-l_PtZU04o",
        "outputId": "a2f8710a-029e-448f-f0d3-c78783079db5"
      },
      "execution_count": 44,
      "outputs": [
        {
          "output_type": "execute_result",
          "data": {
            "text/plain": [
              "{(0, 3): ((4, 9), 'obl'),\n",
              " (4, 9): ((12, 18), 'nmod'),\n",
              " (10, 11): ((12, 18), 'case'),\n",
              " (12, 18): ((-1, -1), 'root'),\n",
              " (19, 22): ((12, 18), 'nmod'),\n",
              " (23, 24): ((25, 28), 'cc'),\n",
              " (25, 28): ((19, 22), 'conj'),\n",
              " (29, 33): ((12, 18), 'cop'),\n",
              " (34, 39): ((12, 18), 'nsubj'),\n",
              " (40, 43): ((44, 50), 'nummod'),\n",
              " (44, 50): ((34, 39), 'obl'),\n",
              " (51, 52): ((81, 86), 'cc'),\n",
              " (53, 59): ((81, 86), 'nummod:gov'),\n",
              " (60, 66): ((81, 86), 'amod'),\n",
              " (67, 80): ((81, 86), 'amod'),\n",
              " (81, 86): ((44, 50), 'conj'),\n",
              " (86, 87): ((12, 18), 'punct')}"
            ]
          },
          "metadata": {},
          "execution_count": 44
        }
      ]
    },
    {
      "cell_type": "code",
      "source": [],
      "metadata": {
        "id": "CSasDoexU7vW"
      },
      "execution_count": null,
      "outputs": []
    },
    {
      "cell_type": "code",
      "source": [],
      "metadata": {
        "id": "C47PIVciU7xp"
      },
      "execution_count": null,
      "outputs": []
    }
  ],
  "metadata": {
    "colab": {
      "provenance": [],
      "authorship_tag": "ABX9TyPVDNDk/XgtH+/7fZyJbV7Z",
      "include_colab_link": true
    },
    "kernelspec": {
      "display_name": "Python 3",
      "name": "python3"
    },
    "language_info": {
      "name": "python"
    }
  },
  "nbformat": 4,
  "nbformat_minor": 0
}