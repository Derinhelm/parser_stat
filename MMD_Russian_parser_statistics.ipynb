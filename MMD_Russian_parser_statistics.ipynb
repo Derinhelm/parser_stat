{
  "cells": [
    {
      "cell_type": "markdown",
      "metadata": {
        "id": "view-in-github",
        "colab_type": "text"
      },
      "source": [
        "<a href=\"https://colab.research.google.com/github/Derinhelm/parser_stat/blob/mmd_metric/MMD_Russian_parser_statistics.ipynb\" target=\"_parent\"><img src=\"https://colab.research.google.com/assets/colab-badge.svg\" alt=\"Open In Colab\"/></a>"
      ]
    },
    {
      "cell_type": "markdown",
      "metadata": {
        "id": "4evQZldcFtGg"
      },
      "source": [
        "# Repository cloning"
      ]
    },
    {
      "cell_type": "code",
      "execution_count": 1,
      "metadata": {
        "id": "ecnCggplFs14",
        "colab": {
          "base_uri": "https://localhost:8080/"
        },
        "outputId": "26a2f344-0308-40c4-8c97-92472ab6ef55"
      },
      "outputs": [
        {
          "output_type": "stream",
          "name": "stdout",
          "text": [
            "Cloning into 'parser_stat'...\n",
            "remote: Enumerating objects: 137, done.\u001b[K\n",
            "remote: Counting objects: 100% (15/15), done.\u001b[K\n",
            "remote: Compressing objects: 100% (13/13), done.\u001b[K\n",
            "remote: Total 137 (delta 7), reused 2 (delta 2), pack-reused 122 (from 1)\u001b[K\n",
            "Receiving objects: 100% (137/137), 30.85 MiB | 7.86 MiB/s, done.\n",
            "Resolving deltas: 100% (67/67), done.\n",
            "Updating files: 100% (17/17), done.\n"
          ]
        }
      ],
      "source": [
        "!git clone https://github.com/Derinhelm/parser_stat.git"
      ]
    },
    {
      "cell_type": "code",
      "execution_count": 2,
      "metadata": {
        "id": "nwQf_f7WFsuI"
      },
      "outputs": [],
      "source": [
        "import sys\n",
        "sys.path.append('/content/parser_stat')"
      ]
    },
    {
      "cell_type": "code",
      "execution_count": 3,
      "metadata": {
        "id": "sht31S9jHGte"
      },
      "outputs": [],
      "source": [
        "!mkdir pics"
      ]
    },
    {
      "cell_type": "markdown",
      "metadata": {
        "id": "zW8TZ8knF4A0"
      },
      "source": [
        "# Data getting"
      ]
    },
    {
      "cell_type": "code",
      "execution_count": 4,
      "metadata": {
        "id": "ezvcUG5vF6pl"
      },
      "outputs": [],
      "source": [
        "from data_classes import ConllEntry, Sentence"
      ]
    },
    {
      "cell_type": "code",
      "execution_count": 5,
      "metadata": {
        "id": "RGVipa8eGJol"
      },
      "outputs": [],
      "source": [
        "import pickle"
      ]
    },
    {
      "cell_type": "code",
      "execution_count": 6,
      "metadata": {
        "id": "I3hDekdWF6jm"
      },
      "outputs": [],
      "source": [
        "with open('/content/parser_stat/treebank_test_sets/treebank_data.pickle', 'rb') as f:\n",
        "    treebanks = pickle.load(f)"
      ]
    },
    {
      "cell_type": "code",
      "execution_count": 7,
      "metadata": {
        "id": "joCfA0AJGLHe",
        "colab": {
          "base_uri": "https://localhost:8080/"
        },
        "outputId": "2b1c9269-4a25-4cc8-99be-2535c3152e39"
      },
      "outputs": [
        {
          "output_type": "stream",
          "name": "stdout",
          "text": [
            "gsd 601\n",
            "pud 1000\n",
            "syntagrus 8800\n",
            "poetry 728\n",
            "taiga 881\n"
          ]
        }
      ],
      "source": [
        "for t, sent_list in treebanks.items():\n",
        "    print(t, len(sent_list))\n",
        "    # checking the index uniqueness\n",
        "    assert len({s.sent_id for s in sent_list}) == len(sent_list)"
      ]
    },
    {
      "cell_type": "code",
      "execution_count": 8,
      "metadata": {
        "id": "zhhzbfc_G1fq"
      },
      "outputs": [],
      "source": [
        "treebank_names = ['taiga', 'poetry', 'gsd', 'pud', 'syntagrus']"
      ]
    },
    {
      "cell_type": "markdown",
      "metadata": {
        "id": "K9MuF8g4Uw66"
      },
      "source": [
        "# Parsing result getting"
      ]
    },
    {
      "cell_type": "code",
      "execution_count": 9,
      "metadata": {
        "id": "sPFwHaFZYbK9"
      },
      "outputs": [],
      "source": [
        "import pandas as pd"
      ]
    },
    {
      "cell_type": "code",
      "execution_count": 10,
      "metadata": {
        "id": "ikxnE3uCf6ic"
      },
      "outputs": [],
      "source": [
        "parser_names = [\"natasha\", \"udpipe\", \"spacy\", \"deeppavlov\", \"stanza\"]"
      ]
    },
    {
      "cell_type": "code",
      "execution_count": 11,
      "metadata": {
        "id": "mQBHOnbwDDGY"
      },
      "outputs": [],
      "source": [
        "parser_res = {}\n",
        "for p in parser_names:\n",
        "    with open(f'/content/parser_stat/pickle_results/{p}.pickle', 'rb') as f:\n",
        "       parser_res[p] = pickle.load(f)"
      ]
    },
    {
      "cell_type": "code",
      "execution_count": 12,
      "metadata": {
        "id": "OkXIRhqZHZu3"
      },
      "outputs": [],
      "source": [
        "for p in parser_names:\n",
        "  for t in treebanks:\n",
        "    assert len(treebanks[t]) == len(parser_res[p][t])"
      ]
    },
    {
      "cell_type": "code",
      "execution_count": 13,
      "metadata": {
        "colab": {
          "base_uri": "https://localhost:8080/"
        },
        "id": "vgwWjhi1ik9U",
        "outputId": "c4f3de9f-b222-4595-d4ca-cd6e31a349b4"
      },
      "outputs": [
        {
          "output_type": "execute_result",
          "data": {
            "text/plain": [
              "[('1', '4', 'obl'),\n",
              " ('2', '4', 'case'),\n",
              " ('3', '4', 'amod'),\n",
              " ('4', '0', 'root'),\n",
              " ('5', '4', 'nsubj'),\n",
              " ('6', '5', 'flat:foreign'),\n",
              " ('7', '5', 'flat:foreign'),\n",
              " ('8', '5', 'flat:foreign'),\n",
              " ('9', '5', 'flat:foreign'),\n",
              " ('10', '4', 'punct'),\n",
              " ('1', '2', 'punct'),\n",
              " ('2', '4', 'parataxis'),\n",
              " ('3', '2', 'punct'),\n",
              " ('4', '0', 'root'),\n",
              " ('5', '4', 'xcomp'),\n",
              " ('6', '5', 'obj'),\n",
              " ('7', '8', 'amod'),\n",
              " ('8', '6', 'nmod'),\n",
              " ('9', '4', 'punct')]"
            ]
          },
          "metadata": {},
          "execution_count": 13
        }
      ],
      "source": [
        "[(t.id, t.parent_id, t.relation) for t in parser_res['stanza']['syntagrus'][95].tokens]"
      ]
    },
    {
      "cell_type": "code",
      "execution_count": 14,
      "metadata": {
        "colab": {
          "base_uri": "https://localhost:8080/"
        },
        "id": "3Wo_2USykzOC",
        "outputId": "45bc66c8-2f40-41e8-b7af-010d7f445389"
      },
      "outputs": [
        {
          "output_type": "execute_result",
          "data": {
            "text/plain": [
              "[0, 10]"
            ]
          },
          "metadata": {},
          "execution_count": 14
        }
      ],
      "source": [
        "[i for (i, t) in enumerate(parser_res['stanza']['syntagrus'][95].tokens) if t.id == '1']"
      ]
    },
    {
      "cell_type": "code",
      "execution_count": 15,
      "metadata": {
        "colab": {
          "base_uri": "https://localhost:8080/",
          "height": 36
        },
        "id": "ANa4z-YAjA7-",
        "outputId": "e51bc198-2c45-4179-9d89-68c13d39bb66"
      },
      "outputs": [
        {
          "output_type": "execute_result",
          "data": {
            "text/plain": [
              "'2003Armeniya.xml_96'"
            ],
            "application/vnd.google.colaboratory.intrinsic+json": {
              "type": "string"
            }
          },
          "metadata": {},
          "execution_count": 15
        }
      ],
      "source": [
        "parser_res['stanza']['syntagrus'][95].sent_id"
      ]
    },
    {
      "cell_type": "code",
      "execution_count": 16,
      "metadata": {
        "colab": {
          "base_uri": "https://localhost:8080/"
        },
        "id": "RVA0wGLhpOPL",
        "outputId": "4a09bcf2-2e8c-4e38-df4d-21ff5352b6bf"
      },
      "outputs": [
        {
          "output_type": "stream",
          "name": "stdout",
          "text": [
            "taiga natasha 95\n",
            "taiga udpipe 42\n",
            "taiga spacy 69\n",
            "taiga deeppavlov 67\n",
            "taiga stanza 69\n",
            "poetry natasha 148\n",
            "poetry udpipe 43\n",
            "poetry spacy 24\n",
            "poetry deeppavlov 50\n",
            "poetry stanza 65\n",
            "gsd natasha 83\n",
            "gsd udpipe 7\n",
            "gsd spacy 14\n",
            "gsd deeppavlov 18\n",
            "gsd stanza 5\n",
            "pud natasha 98\n",
            "pud udpipe 7\n",
            "pud spacy 18\n",
            "pud deeppavlov 3\n",
            "pud stanza 4\n",
            "syntagrus natasha 1073\n",
            "syntagrus udpipe 57\n",
            "syntagrus spacy 220\n",
            "syntagrus deeppavlov 131\n",
            "syntagrus stanza 190\n"
          ]
        }
      ],
      "source": [
        "for t in treebank_names:\n",
        "  for p in parser_names:\n",
        "      print(t, p, len([i for (i, sent) in enumerate(parser_res[p][t])\n",
        "       if len([t.relation for t in sent.tokens if t.relation == \"root\"]) > 1]))"
      ]
    },
    {
      "cell_type": "code",
      "execution_count": 17,
      "metadata": {
        "colab": {
          "base_uri": "https://localhost:8080/"
        },
        "id": "8w_NkKNUiQXU",
        "outputId": "e7ec3edc-ab80-40d1-9bdd-cb6bae8649b5"
      },
      "outputs": [
        {
          "output_type": "execute_result",
          "data": {
            "text/plain": [
              "[6424]"
            ]
          },
          "metadata": {},
          "execution_count": 17
        }
      ],
      "source": [
        "[i for (i, sent) in enumerate(parser_res['stanza']['syntagrus'])\n",
        "    if len([t.relation for t in sent.tokens if t.relation == \"root\"]) > 2]"
      ]
    },
    {
      "cell_type": "code",
      "execution_count": 18,
      "metadata": {
        "colab": {
          "base_uri": "https://localhost:8080/",
          "height": 36
        },
        "id": "lc8at2wBuV6w",
        "outputId": "523ff921-1201-43ce-db56-7171e451fdc7"
      },
      "outputs": [
        {
          "output_type": "execute_result",
          "data": {
            "text/plain": [
              "'2013Martovskaya_revolyutsiya.xml_88'"
            ],
            "application/vnd.google.colaboratory.intrinsic+json": {
              "type": "string"
            }
          },
          "metadata": {},
          "execution_count": 18
        }
      ],
      "source": [
        "parser_res['stanza']['syntagrus'][6424].sent_id"
      ]
    },
    {
      "cell_type": "code",
      "execution_count": 19,
      "metadata": {
        "colab": {
          "base_uri": "https://localhost:8080/"
        },
        "id": "UtDBVGi4i3WJ",
        "outputId": "6bcdc868-177d-4a88-8e1b-fe7ad23f65b9"
      },
      "outputs": [
        {
          "output_type": "execute_result",
          "data": {
            "text/plain": [
              "[('1', '0', 'root'),\n",
              " ('2', '3', 'advmod'),\n",
              " ('3', '1', 'nsubj'),\n",
              " ('4', '3', 'obl'),\n",
              " ('5', '9', 'punct'),\n",
              " ('6', '9', 'cc'),\n",
              " ('7', '8', 'amod'),\n",
              " ('8', '9', 'nsubj'),\n",
              " ('9', '1', 'conj'),\n",
              " ('10', '12', 'case'),\n",
              " ('11', '12', 'det'),\n",
              " ('12', '9', 'obl'),\n",
              " ('13', '17', 'punct'),\n",
              " ('14', '17', 'amod'),\n",
              " ('15', '17', 'amod'),\n",
              " ('16', '17', 'amod'),\n",
              " ('17', '12', 'parataxis'),\n",
              " ('18', '19', 'punct'),\n",
              " ('19', '17', 'parataxis'),\n",
              " ('20', '19', 'flat'),\n",
              " ('21', '22', 'amod'),\n",
              " ('22', '19', 'nmod'),\n",
              " ('23', '19', 'punct'),\n",
              " ('24', '1', 'punct'),\n",
              " ('1', '3', 'amod'),\n",
              " ('2', '3', 'amod'),\n",
              " ('3', '0', 'root'),\n",
              " ('4', '5', 'punct'),\n",
              " ('5', '3', 'parataxis'),\n",
              " ('6', '5', 'flat'),\n",
              " ('7', '5', 'punct'),\n",
              " ('8', '3', 'punct'),\n",
              " ('1', '3', 'amod'),\n",
              " ('2', '3', 'amod'),\n",
              " ('3', '0', 'root'),\n",
              " ('4', '5', 'punct'),\n",
              " ('5', '3', 'parataxis'),\n",
              " ('6', '5', 'flat'),\n",
              " ('7', '5', 'punct'),\n",
              " ('8', '9', 'punct'),\n",
              " ('9', '3', 'conj'),\n",
              " ('10', '9', 'nmod'),\n",
              " ('11', '12', 'punct'),\n",
              " ('12', '10', 'parataxis'),\n",
              " ('13', '12', 'flat'),\n",
              " ('14', '12', 'punct'),\n",
              " ('15', '3', 'punct')]"
            ]
          },
          "metadata": {},
          "execution_count": 19
        }
      ],
      "source": [
        "[(t.id, t.parent_id, t.relation) for t in parser_res['stanza']['syntagrus'][6424].tokens]"
      ]
    },
    {
      "cell_type": "code",
      "execution_count": 20,
      "metadata": {
        "id": "-TXAbeR-qtWO"
      },
      "outputs": [],
      "source": [
        "def shift_token_id(sentence):\n",
        "  first_token_shift = 0\n",
        "  for i, t in enumerate(sentence.tokens):\n",
        "    if t.id == '1':\n",
        "      first_token_shift = i\n",
        "    shift_id = str(int(t.id) + first_token_shift)\n",
        "    if t.parent_id != '0':\n",
        "      shift_parent_id = str(int(t.parent_id) + first_token_shift)\n",
        "    else:\n",
        "      shift_parent_id = '0'\n",
        "    #print(shift_id, t.id, \"    \", shift_parent_id, t.parent_id)\n",
        "    t.id = shift_id\n",
        "    t.parent_id = shift_parent_id"
      ]
    },
    {
      "cell_type": "code",
      "execution_count": 21,
      "metadata": {
        "id": "uDmFHnrgsrw6"
      },
      "outputs": [],
      "source": [
        "for t in treebank_names:\n",
        "  for p in parser_names:\n",
        "    for s in parser_res[p][t]:\n",
        "      shift_token_id(s)"
      ]
    },
    {
      "cell_type": "code",
      "execution_count": 22,
      "metadata": {
        "colab": {
          "base_uri": "https://localhost:8080/"
        },
        "id": "8Gdy8w4asYGz",
        "outputId": "6c021ee2-7265-4098-afbf-70c66c7df359"
      },
      "outputs": [
        {
          "output_type": "execute_result",
          "data": {
            "text/plain": [
              "[('1', '0', 'root'),\n",
              " ('2', '3', 'advmod'),\n",
              " ('3', '1', 'nsubj'),\n",
              " ('4', '3', 'obl'),\n",
              " ('5', '9', 'punct'),\n",
              " ('6', '9', 'cc'),\n",
              " ('7', '8', 'amod'),\n",
              " ('8', '9', 'nsubj'),\n",
              " ('9', '1', 'conj'),\n",
              " ('10', '12', 'case'),\n",
              " ('11', '12', 'det'),\n",
              " ('12', '9', 'obl'),\n",
              " ('13', '17', 'punct'),\n",
              " ('14', '17', 'amod'),\n",
              " ('15', '17', 'amod'),\n",
              " ('16', '17', 'amod'),\n",
              " ('17', '12', 'parataxis'),\n",
              " ('18', '19', 'punct'),\n",
              " ('19', '17', 'parataxis'),\n",
              " ('20', '19', 'flat'),\n",
              " ('21', '22', 'amod'),\n",
              " ('22', '19', 'nmod'),\n",
              " ('23', '19', 'punct'),\n",
              " ('24', '1', 'punct'),\n",
              " ('25', '27', 'amod'),\n",
              " ('26', '27', 'amod'),\n",
              " ('27', '0', 'root'),\n",
              " ('28', '29', 'punct'),\n",
              " ('29', '27', 'parataxis'),\n",
              " ('30', '29', 'flat'),\n",
              " ('31', '29', 'punct'),\n",
              " ('32', '27', 'punct'),\n",
              " ('33', '35', 'amod'),\n",
              " ('34', '35', 'amod'),\n",
              " ('35', '0', 'root'),\n",
              " ('36', '37', 'punct'),\n",
              " ('37', '35', 'parataxis'),\n",
              " ('38', '37', 'flat'),\n",
              " ('39', '37', 'punct'),\n",
              " ('40', '41', 'punct'),\n",
              " ('41', '35', 'conj'),\n",
              " ('42', '41', 'nmod'),\n",
              " ('43', '44', 'punct'),\n",
              " ('44', '42', 'parataxis'),\n",
              " ('45', '44', 'flat'),\n",
              " ('46', '44', 'punct'),\n",
              " ('47', '35', 'punct')]"
            ]
          },
          "metadata": {},
          "execution_count": 22
        }
      ],
      "source": [
        "[(t.id, t.parent_id, t.relation) for t in parser_res['stanza']['syntagrus'][6424].tokens]"
      ]
    },
    {
      "cell_type": "markdown",
      "metadata": {
        "id": "jZT08SOtAktK"
      },
      "source": [
        "# Creating token start-end pairs"
      ]
    },
    {
      "cell_type": "markdown",
      "metadata": {
        "id": "7Q9V6RQqIIXj"
      },
      "source": [
        "be_edges - set of dependency tree edges in begin-end format"
      ]
    },
    {
      "cell_type": "code",
      "execution_count": 23,
      "metadata": {
        "id": "CKG_qHSJIPef"
      },
      "outputs": [],
      "source": [
        "def create_sent_be_nodes(sent, text_transform):\n",
        "    token_begin_end = []\n",
        "    sent_text = text_transform(sent.text)\n",
        "    original_sent_text = text_transform(sent.text)\n",
        "    del_prefix_len = 0\n",
        "    tokens = [t for t in sent.tokens if '.' not in t.id]\n",
        "    for t_i, t in enumerate(tokens):\n",
        "        token_text = text_transform(t.form)\n",
        "        t_start = sent_text.find(token_text)\n",
        "        if t_start == -1:\n",
        "            print(\"Error:\", sent.sent_id, f\"sent_text:{sent_text}, t:{token_text}\", t_i)\n",
        "        else:\n",
        "            b, e = (del_prefix_len + t_start,\n",
        "                                  del_prefix_len + t_start + len(token_text))\n",
        "            token_begin_end.append((t, (b, e)))\n",
        "            del_prefix_len += t_start + len(token_text)\n",
        "            sent_text = sent_text[t_start + len(token_text):]\n",
        "            assert text_transform(original_sent_text[b:e]) == text_transform(tokens[t_i].form)\n",
        "    sent_text = text_transform(sent.text)\n",
        "    return token_begin_end"
      ]
    },
    {
      "cell_type": "code",
      "execution_count": 24,
      "metadata": {
        "id": "Nb_gR5VZcSSl"
      },
      "outputs": [],
      "source": [
        "def create_sent_be_edges(sent_be_tokens):\n",
        "    sent_be_res = {}\n",
        "    for t_id, (t, t_be) in enumerate(sent_be_tokens): # ellipsis are deleted, so index in sent_be_tokens = token_id\n",
        "      parent_id = t.parent_id\n",
        "      if parent_id == '0': # root\n",
        "        parent_be = (-1, -1)\n",
        "      else:\n",
        "        _, parent_be = sent_be_tokens[int(parent_id) - 1]\n",
        "      sent_be_res[t_be] = (parent_be, t.relation)\n",
        "    return sent_be_res"
      ]
    },
    {
      "cell_type": "code",
      "execution_count": 25,
      "metadata": {
        "id": "naqegyoidfhW"
      },
      "outputs": [],
      "source": [
        "from collections import OrderedDict"
      ]
    },
    {
      "cell_type": "code",
      "execution_count": 26,
      "metadata": {
        "id": "bIe_DoZPdUL1"
      },
      "outputs": [],
      "source": [
        "be_treebanks = {}\n",
        "for treebank_n in treebank_names:\n",
        "    be_treebanks[treebank_n] = OrderedDict()\n",
        "    for i, sent in enumerate(treebanks[treebank_n]):\n",
        "        be_sent = create_sent_be_nodes(sent, lambda text: text.lower())\n",
        "        be_treebanks[treebank_n][sent.sent_id] = create_sent_be_edges(be_sent)"
      ]
    },
    {
      "cell_type": "code",
      "execution_count": 27,
      "metadata": {
        "colab": {
          "base_uri": "https://localhost:8080/"
        },
        "id": "XynTMoSSfl9t",
        "outputId": "03baac21-fa4b-469b-9027-c20d887abf95"
      },
      "outputs": [
        {
          "output_type": "execute_result",
          "data": {
            "text/plain": [
              "{(0, 2): ((16, 20), 'nsubj'),\n",
              " (3, 15): ((16, 20), 'advmod'),\n",
              " (16, 20): ((-1, -1), 'root'),\n",
              " (21, 24): ((25, 34), 'det'),\n",
              " (25, 34): ((16, 20), 'obj'),\n",
              " (35, 43): ((16, 20), 'advmod'),\n",
              " (43, 44): ((16, 20), 'punct')}"
            ]
          },
          "metadata": {},
          "execution_count": 27
        }
      ],
      "source": [
        "be_treebanks['syntagrus']['2003Artist_mimansa.xml_130']"
      ]
    },
    {
      "cell_type": "markdown",
      "metadata": {
        "id": "zegcS0y1rKd0"
      },
      "source": [
        "{(0, 2): ((16, 20), 'nsubj'),\n",
        "\n",
        " (3, 15): ((16, 20), 'advmod'),\n",
        "\n",
        " (16, 20): ((-1, -1), 'root'),\n",
        "\n",
        " (21, 24): ((25, 34), 'det'),\n",
        "\n",
        " (25, 34): ((16, 20), 'obj'),\n",
        "\n",
        " (35, 43): ((16, 20), 'advmod'),\n",
        "\n",
        " (43, 44): ((16, 20), 'punct')}\n"
      ]
    },
    {
      "cell_type": "code",
      "execution_count": 28,
      "metadata": {
        "id": "RzpwKOowqN4a"
      },
      "outputs": [],
      "source": [
        "be_parser_res = {p: {} for p in parser_names}\n",
        "for p in parser_names:\n",
        "  if p == 'deeppavlov':\n",
        "    transform_fun = lambda text: text.lower().replace('``', '\"').replace(\"''\", '\"')\n",
        "  else:\n",
        "    transform_fun = lambda text: text.lower().replace(\"''\", '\"')\n",
        "  for t in treebank_names:\n",
        "    be_parser_res[p][t] = OrderedDict()\n",
        "    for i, sent in enumerate(parser_res[p][t]):\n",
        "        be_sent = create_sent_be_nodes(sent, transform_fun)\n",
        "        be_parser_res[p][t][sent.sent_id] = create_sent_be_edges(be_sent)"
      ]
    },
    {
      "cell_type": "code",
      "execution_count": 29,
      "metadata": {
        "colab": {
          "base_uri": "https://localhost:8080/"
        },
        "id": "ehDT7wRDWDKI",
        "outputId": "5594300c-ebf9-4737-963b-5fdc8bab19f7"
      },
      "outputs": [
        {
          "output_type": "execute_result",
          "data": {
            "text/plain": [
              "{(0, 3): ((11, 15), 'obl'),\n",
              " (4, 5): ((11, 15), 'case'),\n",
              " (6, 10): ((11, 15), 'amod'),\n",
              " (11, 15): ((-1, -1), 'root'),\n",
              " (16, 24): ((11, 15), 'nsubj'),\n",
              " (25, 33): ((16, 24), 'flat:foreign'),\n",
              " (34, 42): ((16, 24), 'flat:foreign'),\n",
              " (43, 50): ((16, 24), 'flat:foreign'),\n",
              " (51, 54): ((16, 24), 'flat:foreign'),\n",
              " (54, 55): ((11, 15), 'punct'),\n",
              " (56, 57): ((57, 64), 'punct'),\n",
              " (57, 64): ((66, 72), 'parataxis'),\n",
              " (64, 65): ((57, 64), 'punct'),\n",
              " (66, 72): ((-1, -1), 'root'),\n",
              " (73, 86): ((66, 72), 'xcomp'),\n",
              " (87, 93): ((73, 86), 'obj'),\n",
              " (94, 105): ((106, 111), 'amod'),\n",
              " (106, 111): ((87, 93), 'nmod'),\n",
              " (111, 112): ((66, 72), 'punct')}"
            ]
          },
          "metadata": {},
          "execution_count": 29
        }
      ],
      "source": [
        "be_parser_res['stanza']['syntagrus']['2003Armeniya.xml_96']"
      ]
    },
    {
      "cell_type": "markdown",
      "metadata": {
        "id": "7xNSI7QKWGTr"
      },
      "source": [
        "((0, 2), ((16, 20), 'nsubj')),\n",
        "\n",
        "((3, 9), ((16, 20), 'obl')),\n",
        "\n",
        "((9, 10), ((10, 15), 'punct')),\n",
        "\n",
        "((10, 15), ((3, 9), 'conj')),\n",
        "\n",
        "((16, 20), ((-1, -1), 'root')),\n",
        "\n",
        "((21, 24), ((25, 34), 'det')),\n",
        "\n",
        "((25, 34), ((16, 20), 'obj')),\n",
        "\n",
        "((35, 43), ((16, 20), 'advmod')),\n",
        "\n",
        "((43, 44), ((16, 20), 'punct'))]"
      ]
    },
    {
      "cell_type": "markdown",
      "metadata": {
        "id": "kt5G6hkPAfN7"
      },
      "source": [
        "# Sentence statistics"
      ]
    },
    {
      "cell_type": "code",
      "execution_count": 30,
      "metadata": {
        "id": "jjpHXqnSiDNi"
      },
      "outputs": [],
      "source": [
        "import numpy as np\n",
        "import networkx as nx\n",
        "from collections import defaultdict"
      ]
    },
    {
      "cell_type": "code",
      "execution_count": null,
      "metadata": {
        "id": "kyQDcVXp-S1W"
      },
      "outputs": [],
      "source": [
        "'''\n",
        "\n",
        "Предыдущий вариант\n",
        "\n",
        " def wl_ker(graphs, h=3):\n",
        "    feature_maps = [defaultdict(int) for _ in graphs]\n",
        "\n",
        "    # Инициализация меток\n",
        "    for i, G in enumerate(graphs):\n",
        "        for node in G.nodes():\n",
        "            label = str(G.degree(node))  # Начальная метка — степень узла\n",
        "            feature_maps[i][label] += 1\n",
        "\n",
        "    # Итеративное обновление меток\n",
        "    prev_labels = [defaultdict(str) for _ in graphs]\n",
        "    for i, G in enumerate(graphs):\n",
        "        prev_labels[i].update({node: str(G.degree(node)) for node in G.nodes()})\n",
        "\n",
        "    for _ in range(h):\n",
        "        new_labels = [defaultdict(str) for _ in graphs]\n",
        "        for i, G in enumerate(graphs):\n",
        "            for node in G.nodes():\n",
        "                neighbor_info = []\n",
        "                for neighbor in G.neighbors(node):\n",
        "                    neighbor_label = prev_labels[i][neighbor]\n",
        "                    edge_label = G[node][neighbor].get('label', '')  # Метка ребра\n",
        "                    neighbor_info.append(f\"{neighbor_label}_{edge_label}\")\n",
        "                neighbor_info_sorted = sorted(neighbor_info)\n",
        "                if len(neighbor_info_sorted) == 0:\n",
        "                    neighbor_info_sorted = ['none']\n",
        "                new_label = f\"{prev_labels[i][node]}_{'_'.join(neighbor_info_sorted)}\"\n",
        "                new_labels[i][node] = new_label\n",
        "                feature_maps[i][new_label] += 1\n",
        "        prev_labels = new_labels\n",
        "\n",
        "    # Нормализация гистограмм\n",
        "    for i in range(len(graphs)):\n",
        "        total = sum(feature_maps[i].values())\n",
        "        if total > 0:  # Избегаем деления на ноль\n",
        "            for key in feature_maps[i]:\n",
        "                feature_maps[i][key] /= total\n",
        "\n",
        "    # Вычисление матрицы сходства\n",
        "    K = np.zeros((len(graphs), len(graphs)))\n",
        "    for i in range(len(graphs)):\n",
        "        for j in range(i, len(graphs)):\n",
        "            # Скалярное произведение с нормализацией\n",
        "            dot_product = sum(feature_maps[i].get(k, 0) * feature_maps[j].get(k, 0) for k in set(feature_maps[i]) | set(feature_maps[j]))\n",
        "            norm_i = np.sqrt(sum(feature_maps[i].get(k, 0)**2 for k in feature_maps[i]))\n",
        "            norm_j = np.sqrt(sum(feature_maps[j].get(k, 0)**2 for k in feature_maps[j]))\n",
        "            K[i, j] = dot_product / (norm_i * norm_j)\n",
        "\n",
        "    return K\n",
        "'''"
      ]
    },
    {
      "cell_type": "code",
      "source": [
        "import numpy as np\n",
        "from collections import defaultdict\n",
        "\n",
        "def new_wl_ker1(results, references, h=3):\n",
        "    assert len(results) == len(references), \"Количество результатов и эталонов должно совпадать\"\n",
        "\n",
        "    feature_maps_results = [defaultdict(int) for _ in results]\n",
        "    feature_maps_refs = [defaultdict(int) for _ in references]\n",
        "\n",
        "    for i, G in enumerate(results):\n",
        "        for node in G.nodes():\n",
        "            label = str(G.degree(node))\n",
        "            feature_maps_results[i][label] += 1\n",
        "\n",
        "    for i, G in enumerate(references):\n",
        "        for node in G.nodes():\n",
        "            label = str(G.degree(node))\n",
        "            feature_maps_refs[i][label] += 1\n",
        "\n",
        "    prev_labels_results = [defaultdict(str) for _ in results]\n",
        "    for i, G in enumerate(results):\n",
        "        prev_labels_results[i].update({node: str(G.degree(node)) for node in G.nodes()})\n",
        "\n",
        "    prev_labels_refs = [defaultdict(str) for _ in references]\n",
        "    for i, G in enumerate(references):\n",
        "        prev_labels_refs[i].update({node: str(G.degree(node)) for node in G.nodes()})\n",
        "\n",
        "    for _ in range(h):\n",
        "        new_labels_results = [defaultdict(str) for _ in results]\n",
        "        for i, G in enumerate(results):\n",
        "            for node in G.nodes():\n",
        "                neighbor_info = []\n",
        "                for neighbor in G.neighbors(node):\n",
        "                    neighbor_label = prev_labels_results[i][neighbor]\n",
        "                    edge_label = G[node][neighbor].get('label', '')\n",
        "                    neighbor_info.append(f\"{neighbor_label}_{edge_label}\")\n",
        "                neighbor_info_sorted = sorted(neighbor_info)\n",
        "                if not neighbor_info_sorted:\n",
        "                    neighbor_info_sorted = ['none']\n",
        "                new_label = f\"{prev_labels_results[i][node]}_{'_'.join(neighbor_info_sorted)}\"\n",
        "                new_labels_results[i][node] = new_label\n",
        "                feature_maps_results[i][new_label] += 1\n",
        "        prev_labels_results = new_labels_results\n",
        "\n",
        "        new_labels_refs = [defaultdict(str) for _ in references]\n",
        "        for i, G in enumerate(references):\n",
        "            for node in G.nodes():\n",
        "                neighbor_info = []\n",
        "                for neighbor in G.neighbors(node):\n",
        "                    neighbor_label = prev_labels_refs[i][neighbor]\n",
        "                    edge_label = G[node][neighbor].get('label', '')\n",
        "                    neighbor_info.append(f\"{neighbor_label}_{edge_label}\")\n",
        "                neighbor_info_sorted = sorted(neighbor_info)\n",
        "                if not neighbor_info_sorted:\n",
        "                    neighbor_info_sorted = ['none']\n",
        "                new_label = f\"{prev_labels_refs[i][node]}_{'_'.join(neighbor_info_sorted)}\"\n",
        "                new_labels_refs[i][node] = new_label\n",
        "                feature_maps_refs[i][new_label] += 1\n",
        "        prev_labels_refs = new_labels_refs\n",
        "\n",
        "    for i in range(len(results)):\n",
        "        total = sum(feature_maps_results[i].values())\n",
        "        if total > 0:\n",
        "            for key in feature_maps_results[i]:\n",
        "                feature_maps_results[i][key] /= total\n",
        "\n",
        "    for i in range(len(references)):\n",
        "        total = sum(feature_maps_refs[i].values())\n",
        "        if total > 0:\n",
        "            for key in feature_maps_refs[i]:\n",
        "                feature_maps_refs[i][key] /= total\n",
        "\n",
        "    similarities = np.zeros(len(results))\n",
        "    for i in range(len(results)):\n",
        "        # Скалярное произведение с нормализацией\n",
        "        dot_product = sum(feature_maps_results[i].get(k, 0) * feature_maps_refs[i].get(k, 0)\n",
        "                         for k in set(feature_maps_results[i]) | set(feature_maps_refs[i]))\n",
        "        norm_i = np.sqrt(sum(feature_maps_results[i].get(k, 0)**2 for k in feature_maps_results[i]))\n",
        "        norm_j = np.sqrt(sum(feature_maps_refs[i].get(k, 0)**2 for k in feature_maps_refs[i]))\n",
        "\n",
        "        if norm_i * norm_j > 0:\n",
        "            similarities[i] = dot_product / (norm_i * norm_j)\n",
        "        else:\n",
        "            similarities[i] = 0.0\n",
        "\n",
        "    return similarities"
      ],
      "metadata": {
        "id": "I_zybFB_2k9N"
      },
      "execution_count": 92,
      "outputs": []
    },
    {
      "cell_type": "code",
      "execution_count": 35,
      "metadata": {
        "id": "jYXUqhEyw9ci"
      },
      "outputs": [],
      "source": [
        "def networkx_formatter(dict_Graph, nx_Graph, show=False):\n",
        "    for node, value in dict_Graph.items():\n",
        "        if isinstance(value, tuple) and len(value) == 2:\n",
        "            head, label = value\n",
        "            nx_Graph.add_node(node)\n",
        "            if head != (-1, -1):\n",
        "                nx_Graph.add_edge(node, head, label=label)\n",
        "        else:\n",
        "            print(f\"Пропущено значение для узла {value} (некорректная структура)\\n\")\n",
        "\n",
        "    if show:\n",
        "        pos = nx.spring_layout(nx_Graph)\n",
        "        nx.draw(nx_Graph, pos, with_labels=True, node_size=1000, node_color=\"lightblue\", font_size=6, font_weight=\"bold\")\n",
        "\n",
        "    return nx_Graph"
      ]
    },
    {
      "cell_type": "markdown",
      "metadata": {
        "id": "T8eyWUiQF7TW"
      },
      "source": [
        "### Оne sentence (example)"
      ]
    },
    {
      "cell_type": "code",
      "execution_count": null,
      "metadata": {
        "colab": {
          "base_uri": "https://localhost:8080/"
        },
        "id": "ga8E2XolUXzm",
        "outputId": "a5f51f30-da3c-4e98-adac-b20710e6b711"
      },
      "outputs": [
        {
          "data": {
            "text/plain": [
              "{(0, 3): ((4, 9), 'advmod'),\n",
              " (4, 9): ((12, 18), 'obl'),\n",
              " (10, 11): ((12, 18), 'case'),\n",
              " (12, 18): ((-1, -1), 'root'),\n",
              " (19, 22): ((12, 18), 'nmod'),\n",
              " (23, 24): ((25, 28), 'cc'),\n",
              " (25, 28): ((19, 22), 'conj'),\n",
              " (29, 33): ((12, 18), 'cop'),\n",
              " (34, 39): ((40, 43), 'advmod'),\n",
              " (40, 43): ((44, 50), 'nummod:gov'),\n",
              " (44, 50): ((12, 18), 'nsubj'),\n",
              " (51, 52): ((81, 86), 'cc'),\n",
              " (53, 59): ((81, 86), 'nummod:gov'),\n",
              " (60, 66): ((81, 86), 'amod'),\n",
              " (67, 80): ((81, 86), 'amod'),\n",
              " (81, 86): ((44, 50), 'conj'),\n",
              " (86, 87): ((12, 18), 'punct')}"
            ]
          },
          "execution_count": 36,
          "metadata": {},
          "output_type": "execute_result"
        }
      ],
      "source": [
        "be_treebanks['taiga']['1']"
      ]
    },
    {
      "cell_type": "code",
      "execution_count": null,
      "metadata": {
        "colab": {
          "background_save": true,
          "base_uri": "https://localhost:8080/",
          "height": 516
        },
        "id": "0JgZPYsvhuPG",
        "outputId": "48b6d733-4bdc-42ca-ac8a-3550bcfa652b"
      },
      "outputs": [
        {
          "data": {
            "image/png": "[encoded data removed]",
            "text/plain": [
              "<Figure size 640x480 with 1 Axes>"
            ]
          },
          "metadata": {},
          "output_type": "display_data"
        }
      ],
      "source": [
        "P = networkx_formatter(be_treebanks['taiga']['1'], nx.DiGraph(), True)"
      ]
    },
    {
      "cell_type": "code",
      "execution_count": null,
      "metadata": {
        "colab": {
          "background_save": true,
          "base_uri": "https://localhost:8080/"
        },
        "id": "E8-l_PtZU04o",
        "outputId": "d68a8185-1a43-4c32-87d5-42b6505146be"
      },
      "outputs": [
        {
          "data": {
            "text/plain": [
              "{(0, 3): ((4, 9), 'obl'),\n",
              " (4, 9): ((12, 18), 'nmod'),\n",
              " (10, 11): ((12, 18), 'case'),\n",
              " (12, 18): ((-1, -1), 'root'),\n",
              " (19, 22): ((12, 18), 'nmod'),\n",
              " (23, 24): ((25, 28), 'cc'),\n",
              " (25, 28): ((19, 22), 'conj'),\n",
              " (29, 33): ((12, 18), 'cop'),\n",
              " (34, 39): ((12, 18), 'nsubj'),\n",
              " (40, 43): ((44, 50), 'nummod'),\n",
              " (44, 50): ((34, 39), 'obl'),\n",
              " (51, 52): ((81, 86), 'cc'),\n",
              " (53, 59): ((81, 86), 'nummod:gov'),\n",
              " (60, 66): ((81, 86), 'amod'),\n",
              " (67, 80): ((81, 86), 'amod'),\n",
              " (81, 86): ((44, 50), 'conj'),\n",
              " (86, 87): ((12, 18), 'punct')}"
            ]
          },
          "execution_count": 38,
          "metadata": {},
          "output_type": "execute_result"
        }
      ],
      "source": [
        "be_parser_res['stanza']['taiga']['1']"
      ]
    },
    {
      "cell_type": "code",
      "execution_count": null,
      "metadata": {
        "colab": {
          "background_save": true,
          "base_uri": "https://localhost:8080/",
          "height": 516
        },
        "id": "CSasDoexU7vW",
        "outputId": "05a9f454-145e-4b28-8194-16ad5fca67ad"
      },
      "outputs": [
        {
          "data": {
            "image/png": "[encoded data removed]",
            "text/plain": [
              "<Figure size 640x480 with 1 Axes>"
            ]
          },
          "metadata": {},
          "output_type": "display_data"
        }
      ],
      "source": [
        "Q = networkx_formatter(be_parser_res['stanza']['taiga']['1'], nx.DiGraph(), True)"
      ]
    },
    {
      "cell_type": "markdown",
      "metadata": {
        "id": "Phu-5uaLFzO9"
      },
      "source": [
        "### For parser \"Stanza\" and dataset \"Taiga\""
      ]
    },
    {
      "cell_type": "code",
      "execution_count": null,
      "metadata": {
        "id": "ryyBdSRdwHJY"
      },
      "outputs": [],
      "source": [
        "Graphs_P1 = []\n",
        "for key, item in be_treebanks['taiga'].items():\n",
        "    Graphs_P1.append(networkx_formatter(item, nx.DiGraph()))"
      ]
    },
    {
      "cell_type": "code",
      "execution_count": null,
      "metadata": {
        "id": "h4NhI3nj2wVB"
      },
      "outputs": [],
      "source": [
        "Graphs_Q1 = []\n",
        "for key, item in be_parser_res['stanza']['taiga'].items():\n",
        "    Graphs_Q1.append(networkx_formatter(item, nx.DiGraph()))"
      ]
    },
    {
      "cell_type": "code",
      "execution_count": null,
      "metadata": {
        "colab": {
          "base_uri": "https://localhost:8080/"
        },
        "id": "vHw33NzgDJT4",
        "outputId": "35fca8b7-21cf-42c6-866a-072599c792cd"
      },
      "outputs": [
        {
          "output_type": "stream",
          "name": "stdout",
          "text": [
            "Сходство (WL): 0.9651\n"
          ]
        }
      ],
      "source": [
        "K = new_wl_ker1(Graphs_P1, Graphs_Q1, h=0)\n",
        "print(f\"Сходство (WL): {(sum(K)/len(K)):.4f}\")"
      ]
    },
    {
      "cell_type": "code",
      "execution_count": null,
      "metadata": {
        "colab": {
          "base_uri": "https://localhost:8080/"
        },
        "id": "xQb2VktIDCfq",
        "outputId": "7b56aa0b-6657-4963-8ed9-449bb4dad189"
      },
      "outputs": [
        {
          "output_type": "stream",
          "name": "stdout",
          "text": [
            "Сходство (WL): 0.8778\n"
          ]
        }
      ],
      "source": [
        "K = new_wl_ker1(Graphs_P1, Graphs_Q1, h=1)\n",
        "print(f\"Сходство (WL): {(sum(K)/len(K)):.4f}\")"
      ]
    },
    {
      "cell_type": "code",
      "execution_count": null,
      "metadata": {
        "colab": {
          "base_uri": "https://localhost:8080/"
        },
        "id": "aFPJWLF7DFpx",
        "outputId": "fdcd1f7d-fbc1-411a-d921-64d102df3a1a"
      },
      "outputs": [
        {
          "output_type": "stream",
          "name": "stdout",
          "text": [
            "Сходство (WL): 0.8060\n"
          ]
        }
      ],
      "source": [
        "K = new_wl_ker1(Graphs_P1, Graphs_Q1, h=2)\n",
        "print(f\"Сходство (WL): {(sum(K)/len(K)):.4f}\")"
      ]
    },
    {
      "cell_type": "code",
      "execution_count": null,
      "metadata": {
        "colab": {
          "base_uri": "https://localhost:8080/"
        },
        "id": "1kNnwzCyDGLX",
        "outputId": "e63eaf43-8965-4547-8315-312a657c3f04"
      },
      "outputs": [
        {
          "output_type": "stream",
          "name": "stdout",
          "text": [
            "Сходство (WL): 0.7517\n"
          ]
        }
      ],
      "source": [
        "K = new_wl_ker1(Graphs_P1, Graphs_Q1, h=3)\n",
        "print(f\"Сходство (WL): {(sum(K)/len(K)):.4f}\")"
      ]
    },
    {
      "cell_type": "code",
      "execution_count": null,
      "metadata": {
        "colab": {
          "base_uri": "https://localhost:8080/"
        },
        "id": "85Kr2S-ADGij",
        "outputId": "0e0a0464-c6fe-4e0a-efc8-a769e5264069"
      },
      "outputs": [
        {
          "output_type": "stream",
          "name": "stdout",
          "text": [
            "Сходство (WL): 0.7102\n"
          ]
        }
      ],
      "source": [
        "K = new_wl_ker1(Graphs_P1, Graphs_Q1, h=4)\n",
        "print(f\"Сходство (WL): {(sum(K)/len(K)):.4f}\")"
      ]
    },
    {
      "cell_type": "code",
      "execution_count": null,
      "metadata": {
        "colab": {
          "base_uri": "https://localhost:8080/"
        },
        "id": "EuLZW2ScCaVv",
        "outputId": "22314730-e240-4e8b-9e61-808f44fcde44"
      },
      "outputs": [
        {
          "output_type": "stream",
          "name": "stdout",
          "text": [
            "Сходство (WL): 0.6774\n"
          ]
        }
      ],
      "source": [
        "K = new_wl_ker1(Graphs_P1, Graphs_Q1, h=5)\n",
        "print(f\"Сходство (WL): {(sum(K)/len(K)):.4f}\")"
      ]
    },
    {
      "cell_type": "markdown",
      "source": [
        "# Mean values"
      ],
      "metadata": {
        "id": "jPGdy70YqkZt"
      }
    },
    {
      "cell_type": "code",
      "source": [
        "similarity_results = {}\n",
        "\n",
        "for parser_key in be_parser_res.keys():\n",
        "    similarity_results[parser_key] = {}\n",
        "    for treebank_key in be_treebanks.keys():\n",
        "        print(treebank_key)\n",
        "        Graphs_P1 = []\n",
        "        for k, item in be_treebanks[treebank_key].items():\n",
        "            Graphs_P1.append(networkx_formatter(item, nx.DiGraph()))\n",
        "        Graphs_Q1 = []\n",
        "        for k, item in be_parser_res[parser_key][treebank_key].items():\n",
        "            Graphs_Q1.append(networkx_formatter(item, nx.DiGraph()))\n",
        "\n",
        "        similarity_results[parser_key][treebank_key] = new_wl_ker1(Graphs_P1, Graphs_Q1, h=3)"
      ],
      "metadata": {
        "id": "YtCZOyqNlhFp"
      },
      "execution_count": null,
      "outputs": []
    },
    {
      "cell_type": "code",
      "source": [
        "# DataFrame для средних значений сходства\n",
        "similarity_mean_df = pd.DataFrame(\n",
        "    [[f\"{np.mean(similarity_results[p][treebank]):.3f}\"\n",
        "      for treebank in treebank_names]\n",
        "     for p in parser_names],\n",
        "    index=parser_names,\n",
        "    columns=treebank_names\n",
        ")\n",
        "\n",
        "similarity_mean_df.round(2)"
      ],
      "metadata": {
        "colab": {
          "base_uri": "https://localhost:8080/",
          "height": 206
        },
        "id": "L3KogjVGqfLn",
        "outputId": "9e5c110a-2be0-4025-d62a-4f69c6517438"
      },
      "execution_count": 87,
      "outputs": [
        {
          "output_type": "execute_result",
          "data": {
            "text/plain": [
              "            taiga poetry    gsd    pud syntagrus\n",
              "natasha     0.696  0.700  0.788  0.836     0.805\n",
              "udpipe      0.724  0.763  0.786  0.835     0.854\n",
              "spacy       0.743  0.770  0.822  0.871     0.838\n",
              "deeppavlov  0.761  0.808  0.838  0.886     0.895\n",
              "stanza      0.752  0.801  0.823  0.881     0.901"
            ],
            "text/html": [
              "\n",
              "  <div id=\"df-28c0e99a-be57-4f0c-a32c-2dfbfbe0aef2\" class=\"colab-df-container\">\n",
              "    <div>\n",
              "<style scoped>\n",
              "    .dataframe tbody tr th:only-of-type {\n",
              "        vertical-align: middle;\n",
              "    }\n",
              "\n",
              "    .dataframe tbody tr th {\n",
              "        vertical-align: top;\n",
              "    }\n",
              "\n",
              "    .dataframe thead th {\n",
              "        text-align: right;\n",
              "    }\n",
              "</style>\n",
              "<table border=\"1\" class=\"dataframe\">\n",
              "  <thead>\n",
              "    <tr style=\"text-align: right;\">\n",
              "      <th></th>\n",
              "      <th>taiga</th>\n",
              "      <th>poetry</th>\n",
              "      <th>gsd</th>\n",
              "      <th>pud</th>\n",
              "      <th>syntagrus</th>\n",
              "    </tr>\n",
              "  </thead>\n",
              "  <tbody>\n",
              "    <tr>\n",
              "      <th>natasha</th>\n",
              "      <td>0.696</td>\n",
              "      <td>0.700</td>\n",
              "      <td>0.788</td>\n",
              "      <td>0.836</td>\n",
              "      <td>0.805</td>\n",
              "    </tr>\n",
              "    <tr>\n",
              "      <th>udpipe</th>\n",
              "      <td>0.724</td>\n",
              "      <td>0.763</td>\n",
              "      <td>0.786</td>\n",
              "      <td>0.835</td>\n",
              "      <td>0.854</td>\n",
              "    </tr>\n",
              "    <tr>\n",
              "      <th>spacy</th>\n",
              "      <td>0.743</td>\n",
              "      <td>0.770</td>\n",
              "      <td>0.822</td>\n",
              "      <td>0.871</td>\n",
              "      <td>0.838</td>\n",
              "    </tr>\n",
              "    <tr>\n",
              "      <th>deeppavlov</th>\n",
              "      <td>0.761</td>\n",
              "      <td>0.808</td>\n",
              "      <td>0.838</td>\n",
              "      <td>0.886</td>\n",
              "      <td>0.895</td>\n",
              "    </tr>\n",
              "    <tr>\n",
              "      <th>stanza</th>\n",
              "      <td>0.752</td>\n",
              "      <td>0.801</td>\n",
              "      <td>0.823</td>\n",
              "      <td>0.881</td>\n",
              "      <td>0.901</td>\n",
              "    </tr>\n",
              "  </tbody>\n",
              "</table>\n",
              "</div>\n",
              "    <div class=\"colab-df-buttons\">\n",
              "\n",
              "  <div class=\"colab-df-container\">\n",
              "    <button class=\"colab-df-convert\" onclick=\"convertToInteractive('df-28c0e99a-be57-4f0c-a32c-2dfbfbe0aef2')\"\n",
              "            title=\"Convert this dataframe to an interactive table.\"\n",
              "            style=\"display:none;\">\n",
              "\n",
              "  <svg xmlns=\"http://www.w3.org/2000/svg\" height=\"24px\" viewBox=\"0 -960 960 960\">\n",
              "    <path d=\"M120-120v-720h720v720H120Zm60-500h600v-160H180v160Zm220 220h160v-160H400v160Zm0 220h160v-160H400v160ZM180-400h160v-160H180v160Zm440 0h160v-160H620v160ZM180-180h160v-160H180v160Zm440 0h160v-160H620v160Z\"/>\n",
              "  </svg>\n",
              "    </button>\n",
              "\n",
              "  <style>\n",
              "    .colab-df-container {\n",
              "      display:flex;\n",
              "      gap: 12px;\n",
              "    }\n",
              "\n",
              "    .colab-df-convert {\n",
              "      background-color: #E8F0FE;\n",
              "      border: none;\n",
              "      border-radius: 50%;\n",
              "      cursor: pointer;\n",
              "      display: none;\n",
              "      fill: #1967D2;\n",
              "      height: 32px;\n",
              "      padding: 0 0 0 0;\n",
              "      width: 32px;\n",
              "    }\n",
              "\n",
              "    .colab-df-convert:hover {\n",
              "      background-color: #E2EBFA;\n",
              "      box-shadow: 0px 1px 2px rgba(60, 64, 67, 0.3), 0px 1px 3px 1px rgba(60, 64, 67, 0.15);\n",
              "      fill: #174EA6;\n",
              "    }\n",
              "\n",
              "    .colab-df-buttons div {\n",
              "      margin-bottom: 4px;\n",
              "    }\n",
              "\n",
              "    [theme=dark] .colab-df-convert {\n",
              "      background-color: #3B4455;\n",
              "      fill: #D2E3FC;\n",
              "    }\n",
              "\n",
              "    [theme=dark] .colab-df-convert:hover {\n",
              "      background-color: #434B5C;\n",
              "      box-shadow: 0px 1px 3px 1px rgba(0, 0, 0, 0.15);\n",
              "      filter: drop-shadow(0px 1px 2px rgba(0, 0, 0, 0.3));\n",
              "      fill: #FFFFFF;\n",
              "    }\n",
              "  </style>\n",
              "\n",
              "    <script>\n",
              "      const buttonEl =\n",
              "        document.querySelector('#df-28c0e99a-be57-4f0c-a32c-2dfbfbe0aef2 button.colab-df-convert');\n",
              "      buttonEl.style.display =\n",
              "        google.colab.kernel.accessAllowed ? 'block' : 'none';\n",
              "\n",
              "      async function convertToInteractive(key) {\n",
              "        const element = document.querySelector('#df-28c0e99a-be57-4f0c-a32c-2dfbfbe0aef2');\n",
              "        const dataTable =\n",
              "          await google.colab.kernel.invokeFunction('convertToInteractive',\n",
              "                                                    [key], {});\n",
              "        if (!dataTable) return;\n",
              "\n",
              "        const docLinkHtml = 'Like what you see? Visit the ' +\n",
              "          '<a target=\"_blank\" href=https://colab.research.google.com/notebooks/data_table.ipynb>data table notebook</a>'\n",
              "          + ' to learn more about interactive tables.';\n",
              "        element.innerHTML = '';\n",
              "        dataTable['output_type'] = 'display_data';\n",
              "        await google.colab.output.renderOutput(dataTable, element);\n",
              "        const docLink = document.createElement('div');\n",
              "        docLink.innerHTML = docLinkHtml;\n",
              "        element.appendChild(docLink);\n",
              "      }\n",
              "    </script>\n",
              "  </div>\n",
              "\n",
              "\n",
              "<div id=\"df-20bbfa97-3208-4895-a99a-5f7da2917cb6\">\n",
              "  <button class=\"colab-df-quickchart\" onclick=\"quickchart('df-20bbfa97-3208-4895-a99a-5f7da2917cb6')\"\n",
              "            title=\"Suggest charts\"\n",
              "            style=\"display:none;\">\n",
              "\n",
              "<svg xmlns=\"http://www.w3.org/2000/svg\" height=\"24px\"viewBox=\"0 0 24 24\"\n",
              "     width=\"24px\">\n",
              "    <g>\n",
              "        <path d=\"M19 3H5c-1.1 0-2 .9-2 2v14c0 1.1.9 2 2 2h14c1.1 0 2-.9 2-2V5c0-1.1-.9-2-2-2zM9 17H7v-7h2v7zm4 0h-2V7h2v10zm4 0h-2v-4h2v4z\"/>\n",
              "    </g>\n",
              "</svg>\n",
              "  </button>\n",
              "\n",
              "<style>\n",
              "  .colab-df-quickchart {\n",
              "      --bg-color: #E8F0FE;\n",
              "      --fill-color: #1967D2;\n",
              "      --hover-bg-color: #E2EBFA;\n",
              "      --hover-fill-color: #174EA6;\n",
              "      --disabled-fill-color: #AAA;\n",
              "      --disabled-bg-color: #DDD;\n",
              "  }\n",
              "\n",
              "  [theme=dark] .colab-df-quickchart {\n",
              "      --bg-color: #3B4455;\n",
              "      --fill-color: #D2E3FC;\n",
              "      --hover-bg-color: #434B5C;\n",
              "      --hover-fill-color: #FFFFFF;\n",
              "      --disabled-bg-color: #3B4455;\n",
              "      --disabled-fill-color: #666;\n",
              "  }\n",
              "\n",
              "  .colab-df-quickchart {\n",
              "    background-color: var(--bg-color);\n",
              "    border: none;\n",
              "    border-radius: 50%;\n",
              "    cursor: pointer;\n",
              "    display: none;\n",
              "    fill: var(--fill-color);\n",
              "    height: 32px;\n",
              "    padding: 0;\n",
              "    width: 32px;\n",
              "  }\n",
              "\n",
              "  .colab-df-quickchart:hover {\n",
              "    background-color: var(--hover-bg-color);\n",
              "    box-shadow: 0 1px 2px rgba(60, 64, 67, 0.3), 0 1px 3px 1px rgba(60, 64, 67, 0.15);\n",
              "    fill: var(--button-hover-fill-color);\n",
              "  }\n",
              "\n",
              "  .colab-df-quickchart-complete:disabled,\n",
              "  .colab-df-quickchart-complete:disabled:hover {\n",
              "    background-color: var(--disabled-bg-color);\n",
              "    fill: var(--disabled-fill-color);\n",
              "    box-shadow: none;\n",
              "  }\n",
              "\n",
              "  .colab-df-spinner {\n",
              "    border: 2px solid var(--fill-color);\n",
              "    border-color: transparent;\n",
              "    border-bottom-color: var(--fill-color);\n",
              "    animation:\n",
              "      spin 1s steps(1) infinite;\n",
              "  }\n",
              "\n",
              "  @keyframes spin {\n",
              "    0% {\n",
              "      border-color: transparent;\n",
              "      border-bottom-color: var(--fill-color);\n",
              "      border-left-color: var(--fill-color);\n",
              "    }\n",
              "    20% {\n",
              "      border-color: transparent;\n",
              "      border-left-color: var(--fill-color);\n",
              "      border-top-color: var(--fill-color);\n",
              "    }\n",
              "    30% {\n",
              "      border-color: transparent;\n",
              "      border-left-color: var(--fill-color);\n",
              "      border-top-color: var(--fill-color);\n",
              "      border-right-color: var(--fill-color);\n",
              "    }\n",
              "    40% {\n",
              "      border-color: transparent;\n",
              "      border-right-color: var(--fill-color);\n",
              "      border-top-color: var(--fill-color);\n",
              "    }\n",
              "    60% {\n",
              "      border-color: transparent;\n",
              "      border-right-color: var(--fill-color);\n",
              "    }\n",
              "    80% {\n",
              "      border-color: transparent;\n",
              "      border-right-color: var(--fill-color);\n",
              "      border-bottom-color: var(--fill-color);\n",
              "    }\n",
              "    90% {\n",
              "      border-color: transparent;\n",
              "      border-bottom-color: var(--fill-color);\n",
              "    }\n",
              "  }\n",
              "</style>\n",
              "\n",
              "  <script>\n",
              "    async function quickchart(key) {\n",
              "      const quickchartButtonEl =\n",
              "        document.querySelector('#' + key + ' button');\n",
              "      quickchartButtonEl.disabled = true;  // To prevent multiple clicks.\n",
              "      quickchartButtonEl.classList.add('colab-df-spinner');\n",
              "      try {\n",
              "        const charts = await google.colab.kernel.invokeFunction(\n",
              "            'suggestCharts', [key], {});\n",
              "      } catch (error) {\n",
              "        console.error('Error during call to suggestCharts:', error);\n",
              "      }\n",
              "      quickchartButtonEl.classList.remove('colab-df-spinner');\n",
              "      quickchartButtonEl.classList.add('colab-df-quickchart-complete');\n",
              "    }\n",
              "    (() => {\n",
              "      let quickchartButtonEl =\n",
              "        document.querySelector('#df-20bbfa97-3208-4895-a99a-5f7da2917cb6 button');\n",
              "      quickchartButtonEl.style.display =\n",
              "        google.colab.kernel.accessAllowed ? 'block' : 'none';\n",
              "    })();\n",
              "  </script>\n",
              "</div>\n",
              "    </div>\n",
              "  </div>\n"
            ],
            "application/vnd.google.colaboratory.intrinsic+json": {
              "type": "dataframe",
              "summary": "{\n  \"name\": \"similarity_mean_df\",\n  \"rows\": 5,\n  \"fields\": [\n    {\n      \"column\": \"taiga\",\n      \"properties\": {\n        \"dtype\": \"string\",\n        \"num_unique_values\": 5,\n        \"samples\": [\n          \"0.724\",\n          \"0.752\",\n          \"0.743\"\n        ],\n        \"semantic_type\": \"\",\n        \"description\": \"\"\n      }\n    },\n    {\n      \"column\": \"poetry\",\n      \"properties\": {\n        \"dtype\": \"string\",\n        \"num_unique_values\": 5,\n        \"samples\": [\n          \"0.763\",\n          \"0.801\",\n          \"0.770\"\n        ],\n        \"semantic_type\": \"\",\n        \"description\": \"\"\n      }\n    },\n    {\n      \"column\": \"gsd\",\n      \"properties\": {\n        \"dtype\": \"string\",\n        \"num_unique_values\": 5,\n        \"samples\": [\n          \"0.786\",\n          \"0.823\",\n          \"0.822\"\n        ],\n        \"semantic_type\": \"\",\n        \"description\": \"\"\n      }\n    },\n    {\n      \"column\": \"pud\",\n      \"properties\": {\n        \"dtype\": \"string\",\n        \"num_unique_values\": 5,\n        \"samples\": [\n          \"0.835\",\n          \"0.881\",\n          \"0.871\"\n        ],\n        \"semantic_type\": \"\",\n        \"description\": \"\"\n      }\n    },\n    {\n      \"column\": \"syntagrus\",\n      \"properties\": {\n        \"dtype\": \"string\",\n        \"num_unique_values\": 5,\n        \"samples\": [\n          \"0.854\",\n          \"0.901\",\n          \"0.838\"\n        ],\n        \"semantic_type\": \"\",\n        \"description\": \"\"\n      }\n    }\n  ]\n}"
            }
          },
          "metadata": {},
          "execution_count": 87
        }
      ]
    },
    {
      "cell_type": "code",
      "source": [
        "# DataFrame для медианных значений сходства\n",
        "similarity_median_df = pd.DataFrame(\n",
        "    [[f\"{np.median(similarity_results[p][treebank]):.3f}\"\n",
        "      for treebank in treebank_names]\n",
        "     for p in parser_names],\n",
        "    index=parser_names,\n",
        "    columns=treebank_names\n",
        ")\n",
        "\n",
        "similarity_median_df.round(2)"
      ],
      "metadata": {
        "colab": {
          "base_uri": "https://localhost:8080/",
          "height": 206
        },
        "id": "mcY1Gt3Bq6Wl",
        "outputId": "8ecc839a-b175-4e26-e936-53087a73372f"
      },
      "execution_count": 88,
      "outputs": [
        {
          "output_type": "execute_result",
          "data": {
            "text/plain": [
              "            taiga poetry    gsd    pud syntagrus\n",
              "natasha     0.700  0.724  0.792  0.827     0.811\n",
              "udpipe      0.732  0.773  0.792  0.831     0.869\n",
              "spacy       0.749  0.778  0.828  0.878     0.864\n",
              "deeppavlov  0.777  0.822  0.859  0.902     0.940\n",
              "stanza      0.778  0.808  0.838  0.893     0.954"
            ],
            "text/html": [
              "\n",
              "  <div id=\"df-31cb52b8-c12d-4eea-96ea-ef22bcc71cc6\" class=\"colab-df-container\">\n",
              "    <div>\n",
              "<style scoped>\n",
              "    .dataframe tbody tr th:only-of-type {\n",
              "        vertical-align: middle;\n",
              "    }\n",
              "\n",
              "    .dataframe tbody tr th {\n",
              "        vertical-align: top;\n",
              "    }\n",
              "\n",
              "    .dataframe thead th {\n",
              "        text-align: right;\n",
              "    }\n",
              "</style>\n",
              "<table border=\"1\" class=\"dataframe\">\n",
              "  <thead>\n",
              "    <tr style=\"text-align: right;\">\n",
              "      <th></th>\n",
              "      <th>taiga</th>\n",
              "      <th>poetry</th>\n",
              "      <th>gsd</th>\n",
              "      <th>pud</th>\n",
              "      <th>syntagrus</th>\n",
              "    </tr>\n",
              "  </thead>\n",
              "  <tbody>\n",
              "    <tr>\n",
              "      <th>natasha</th>\n",
              "      <td>0.700</td>\n",
              "      <td>0.724</td>\n",
              "      <td>0.792</td>\n",
              "      <td>0.827</td>\n",
              "      <td>0.811</td>\n",
              "    </tr>\n",
              "    <tr>\n",
              "      <th>udpipe</th>\n",
              "      <td>0.732</td>\n",
              "      <td>0.773</td>\n",
              "      <td>0.792</td>\n",
              "      <td>0.831</td>\n",
              "      <td>0.869</td>\n",
              "    </tr>\n",
              "    <tr>\n",
              "      <th>spacy</th>\n",
              "      <td>0.749</td>\n",
              "      <td>0.778</td>\n",
              "      <td>0.828</td>\n",
              "      <td>0.878</td>\n",
              "      <td>0.864</td>\n",
              "    </tr>\n",
              "    <tr>\n",
              "      <th>deeppavlov</th>\n",
              "      <td>0.777</td>\n",
              "      <td>0.822</td>\n",
              "      <td>0.859</td>\n",
              "      <td>0.902</td>\n",
              "      <td>0.940</td>\n",
              "    </tr>\n",
              "    <tr>\n",
              "      <th>stanza</th>\n",
              "      <td>0.778</td>\n",
              "      <td>0.808</td>\n",
              "      <td>0.838</td>\n",
              "      <td>0.893</td>\n",
              "      <td>0.954</td>\n",
              "    </tr>\n",
              "  </tbody>\n",
              "</table>\n",
              "</div>\n",
              "    <div class=\"colab-df-buttons\">\n",
              "\n",
              "  <div class=\"colab-df-container\">\n",
              "    <button class=\"colab-df-convert\" onclick=\"convertToInteractive('df-31cb52b8-c12d-4eea-96ea-ef22bcc71cc6')\"\n",
              "            title=\"Convert this dataframe to an interactive table.\"\n",
              "            style=\"display:none;\">\n",
              "\n",
              "  <svg xmlns=\"http://www.w3.org/2000/svg\" height=\"24px\" viewBox=\"0 -960 960 960\">\n",
              "    <path d=\"M120-120v-720h720v720H120Zm60-500h600v-160H180v160Zm220 220h160v-160H400v160Zm0 220h160v-160H400v160ZM180-400h160v-160H180v160Zm440 0h160v-160H620v160ZM180-180h160v-160H180v160Zm440 0h160v-160H620v160Z\"/>\n",
              "  </svg>\n",
              "    </button>\n",
              "\n",
              "  <style>\n",
              "    .colab-df-container {\n",
              "      display:flex;\n",
              "      gap: 12px;\n",
              "    }\n",
              "\n",
              "    .colab-df-convert {\n",
              "      background-color: #E8F0FE;\n",
              "      border: none;\n",
              "      border-radius: 50%;\n",
              "      cursor: pointer;\n",
              "      display: none;\n",
              "      fill: #1967D2;\n",
              "      height: 32px;\n",
              "      padding: 0 0 0 0;\n",
              "      width: 32px;\n",
              "    }\n",
              "\n",
              "    .colab-df-convert:hover {\n",
              "      background-color: #E2EBFA;\n",
              "      box-shadow: 0px 1px 2px rgba(60, 64, 67, 0.3), 0px 1px 3px 1px rgba(60, 64, 67, 0.15);\n",
              "      fill: #174EA6;\n",
              "    }\n",
              "\n",
              "    .colab-df-buttons div {\n",
              "      margin-bottom: 4px;\n",
              "    }\n",
              "\n",
              "    [theme=dark] .colab-df-convert {\n",
              "      background-color: #3B4455;\n",
              "      fill: #D2E3FC;\n",
              "    }\n",
              "\n",
              "    [theme=dark] .colab-df-convert:hover {\n",
              "      background-color: #434B5C;\n",
              "      box-shadow: 0px 1px 3px 1px rgba(0, 0, 0, 0.15);\n",
              "      filter: drop-shadow(0px 1px 2px rgba(0, 0, 0, 0.3));\n",
              "      fill: #FFFFFF;\n",
              "    }\n",
              "  </style>\n",
              "\n",
              "    <script>\n",
              "      const buttonEl =\n",
              "        document.querySelector('#df-31cb52b8-c12d-4eea-96ea-ef22bcc71cc6 button.colab-df-convert');\n",
              "      buttonEl.style.display =\n",
              "        google.colab.kernel.accessAllowed ? 'block' : 'none';\n",
              "\n",
              "      async function convertToInteractive(key) {\n",
              "        const element = document.querySelector('#df-31cb52b8-c12d-4eea-96ea-ef22bcc71cc6');\n",
              "        const dataTable =\n",
              "          await google.colab.kernel.invokeFunction('convertToInteractive',\n",
              "                                                    [key], {});\n",
              "        if (!dataTable) return;\n",
              "\n",
              "        const docLinkHtml = 'Like what you see? Visit the ' +\n",
              "          '<a target=\"_blank\" href=https://colab.research.google.com/notebooks/data_table.ipynb>data table notebook</a>'\n",
              "          + ' to learn more about interactive tables.';\n",
              "        element.innerHTML = '';\n",
              "        dataTable['output_type'] = 'display_data';\n",
              "        await google.colab.output.renderOutput(dataTable, element);\n",
              "        const docLink = document.createElement('div');\n",
              "        docLink.innerHTML = docLinkHtml;\n",
              "        element.appendChild(docLink);\n",
              "      }\n",
              "    </script>\n",
              "  </div>\n",
              "\n",
              "\n",
              "<div id=\"df-1e1c98f7-e90a-4a72-86f0-310e830a8802\">\n",
              "  <button class=\"colab-df-quickchart\" onclick=\"quickchart('df-1e1c98f7-e90a-4a72-86f0-310e830a8802')\"\n",
              "            title=\"Suggest charts\"\n",
              "            style=\"display:none;\">\n",
              "\n",
              "<svg xmlns=\"http://www.w3.org/2000/svg\" height=\"24px\"viewBox=\"0 0 24 24\"\n",
              "     width=\"24px\">\n",
              "    <g>\n",
              "        <path d=\"M19 3H5c-1.1 0-2 .9-2 2v14c0 1.1.9 2 2 2h14c1.1 0 2-.9 2-2V5c0-1.1-.9-2-2-2zM9 17H7v-7h2v7zm4 0h-2V7h2v10zm4 0h-2v-4h2v4z\"/>\n",
              "    </g>\n",
              "</svg>\n",
              "  </button>\n",
              "\n",
              "<style>\n",
              "  .colab-df-quickchart {\n",
              "      --bg-color: #E8F0FE;\n",
              "      --fill-color: #1967D2;\n",
              "      --hover-bg-color: #E2EBFA;\n",
              "      --hover-fill-color: #174EA6;\n",
              "      --disabled-fill-color: #AAA;\n",
              "      --disabled-bg-color: #DDD;\n",
              "  }\n",
              "\n",
              "  [theme=dark] .colab-df-quickchart {\n",
              "      --bg-color: #3B4455;\n",
              "      --fill-color: #D2E3FC;\n",
              "      --hover-bg-color: #434B5C;\n",
              "      --hover-fill-color: #FFFFFF;\n",
              "      --disabled-bg-color: #3B4455;\n",
              "      --disabled-fill-color: #666;\n",
              "  }\n",
              "\n",
              "  .colab-df-quickchart {\n",
              "    background-color: var(--bg-color);\n",
              "    border: none;\n",
              "    border-radius: 50%;\n",
              "    cursor: pointer;\n",
              "    display: none;\n",
              "    fill: var(--fill-color);\n",
              "    height: 32px;\n",
              "    padding: 0;\n",
              "    width: 32px;\n",
              "  }\n",
              "\n",
              "  .colab-df-quickchart:hover {\n",
              "    background-color: var(--hover-bg-color);\n",
              "    box-shadow: 0 1px 2px rgba(60, 64, 67, 0.3), 0 1px 3px 1px rgba(60, 64, 67, 0.15);\n",
              "    fill: var(--button-hover-fill-color);\n",
              "  }\n",
              "\n",
              "  .colab-df-quickchart-complete:disabled,\n",
              "  .colab-df-quickchart-complete:disabled:hover {\n",
              "    background-color: var(--disabled-bg-color);\n",
              "    fill: var(--disabled-fill-color);\n",
              "    box-shadow: none;\n",
              "  }\n",
              "\n",
              "  .colab-df-spinner {\n",
              "    border: 2px solid var(--fill-color);\n",
              "    border-color: transparent;\n",
              "    border-bottom-color: var(--fill-color);\n",
              "    animation:\n",
              "      spin 1s steps(1) infinite;\n",
              "  }\n",
              "\n",
              "  @keyframes spin {\n",
              "    0% {\n",
              "      border-color: transparent;\n",
              "      border-bottom-color: var(--fill-color);\n",
              "      border-left-color: var(--fill-color);\n",
              "    }\n",
              "    20% {\n",
              "      border-color: transparent;\n",
              "      border-left-color: var(--fill-color);\n",
              "      border-top-color: var(--fill-color);\n",
              "    }\n",
              "    30% {\n",
              "      border-color: transparent;\n",
              "      border-left-color: var(--fill-color);\n",
              "      border-top-color: var(--fill-color);\n",
              "      border-right-color: var(--fill-color);\n",
              "    }\n",
              "    40% {\n",
              "      border-color: transparent;\n",
              "      border-right-color: var(--fill-color);\n",
              "      border-top-color: var(--fill-color);\n",
              "    }\n",
              "    60% {\n",
              "      border-color: transparent;\n",
              "      border-right-color: var(--fill-color);\n",
              "    }\n",
              "    80% {\n",
              "      border-color: transparent;\n",
              "      border-right-color: var(--fill-color);\n",
              "      border-bottom-color: var(--fill-color);\n",
              "    }\n",
              "    90% {\n",
              "      border-color: transparent;\n",
              "      border-bottom-color: var(--fill-color);\n",
              "    }\n",
              "  }\n",
              "</style>\n",
              "\n",
              "  <script>\n",
              "    async function quickchart(key) {\n",
              "      const quickchartButtonEl =\n",
              "        document.querySelector('#' + key + ' button');\n",
              "      quickchartButtonEl.disabled = true;  // To prevent multiple clicks.\n",
              "      quickchartButtonEl.classList.add('colab-df-spinner');\n",
              "      try {\n",
              "        const charts = await google.colab.kernel.invokeFunction(\n",
              "            'suggestCharts', [key], {});\n",
              "      } catch (error) {\n",
              "        console.error('Error during call to suggestCharts:', error);\n",
              "      }\n",
              "      quickchartButtonEl.classList.remove('colab-df-spinner');\n",
              "      quickchartButtonEl.classList.add('colab-df-quickchart-complete');\n",
              "    }\n",
              "    (() => {\n",
              "      let quickchartButtonEl =\n",
              "        document.querySelector('#df-1e1c98f7-e90a-4a72-86f0-310e830a8802 button');\n",
              "      quickchartButtonEl.style.display =\n",
              "        google.colab.kernel.accessAllowed ? 'block' : 'none';\n",
              "    })();\n",
              "  </script>\n",
              "</div>\n",
              "    </div>\n",
              "  </div>\n"
            ],
            "application/vnd.google.colaboratory.intrinsic+json": {
              "type": "dataframe",
              "summary": "{\n  \"name\": \"similarity_median_df\",\n  \"rows\": 5,\n  \"fields\": [\n    {\n      \"column\": \"taiga\",\n      \"properties\": {\n        \"dtype\": \"string\",\n        \"num_unique_values\": 5,\n        \"samples\": [\n          \"0.732\",\n          \"0.778\",\n          \"0.749\"\n        ],\n        \"semantic_type\": \"\",\n        \"description\": \"\"\n      }\n    },\n    {\n      \"column\": \"poetry\",\n      \"properties\": {\n        \"dtype\": \"string\",\n        \"num_unique_values\": 5,\n        \"samples\": [\n          \"0.773\",\n          \"0.808\",\n          \"0.778\"\n        ],\n        \"semantic_type\": \"\",\n        \"description\": \"\"\n      }\n    },\n    {\n      \"column\": \"gsd\",\n      \"properties\": {\n        \"dtype\": \"string\",\n        \"num_unique_values\": 4,\n        \"samples\": [\n          \"0.828\",\n          \"0.838\",\n          \"0.792\"\n        ],\n        \"semantic_type\": \"\",\n        \"description\": \"\"\n      }\n    },\n    {\n      \"column\": \"pud\",\n      \"properties\": {\n        \"dtype\": \"string\",\n        \"num_unique_values\": 5,\n        \"samples\": [\n          \"0.831\",\n          \"0.893\",\n          \"0.878\"\n        ],\n        \"semantic_type\": \"\",\n        \"description\": \"\"\n      }\n    },\n    {\n      \"column\": \"syntagrus\",\n      \"properties\": {\n        \"dtype\": \"string\",\n        \"num_unique_values\": 5,\n        \"samples\": [\n          \"0.869\",\n          \"0.954\",\n          \"0.864\"\n        ],\n        \"semantic_type\": \"\",\n        \"description\": \"\"\n      }\n    }\n  ]\n}"
            }
          },
          "metadata": {},
          "execution_count": 88
        }
      ]
    },
    {
      "cell_type": "code",
      "source": [
        "# DataFrame для минимальных значений сходства\n",
        "similarity_min_df = pd.DataFrame(\n",
        "    [[f\"{np.min(similarity_results[p][treebank]):.3f}\"\n",
        "      for treebank in treebank_names]\n",
        "     for p in parser_names],\n",
        "    index=parser_names,\n",
        "    columns=treebank_names\n",
        ")\n",
        "\n",
        "similarity_min_df.round(2)"
      ],
      "metadata": {
        "colab": {
          "base_uri": "https://localhost:8080/",
          "height": 206
        },
        "id": "Nowy5WRmrGXs",
        "outputId": "ab820e7d-7aaa-40a8-8f06-80e26820a9d8"
      },
      "execution_count": 89,
      "outputs": [
        {
          "output_type": "execute_result",
          "data": {
            "text/plain": [
              "            taiga poetry    gsd    pud syntagrus\n",
              "natasha     0.000  0.000  0.231  0.413     0.182\n",
              "udpipe      0.000  0.000  0.355  0.413     0.242\n",
              "spacy       0.000  0.000  0.290  0.413     0.167\n",
              "deeppavlov  0.000  0.000  0.286  0.413     0.000\n",
              "stanza      0.000  0.000  0.375  0.413     0.242"
            ],
            "text/html": [
              "\n",
              "  <div id=\"df-0c576ed1-3a46-45d0-8870-edf9df345756\" class=\"colab-df-container\">\n",
              "    <div>\n",
              "<style scoped>\n",
              "    .dataframe tbody tr th:only-of-type {\n",
              "        vertical-align: middle;\n",
              "    }\n",
              "\n",
              "    .dataframe tbody tr th {\n",
              "        vertical-align: top;\n",
              "    }\n",
              "\n",
              "    .dataframe thead th {\n",
              "        text-align: right;\n",
              "    }\n",
              "</style>\n",
              "<table border=\"1\" class=\"dataframe\">\n",
              "  <thead>\n",
              "    <tr style=\"text-align: right;\">\n",
              "      <th></th>\n",
              "      <th>taiga</th>\n",
              "      <th>poetry</th>\n",
              "      <th>gsd</th>\n",
              "      <th>pud</th>\n",
              "      <th>syntagrus</th>\n",
              "    </tr>\n",
              "  </thead>\n",
              "  <tbody>\n",
              "    <tr>\n",
              "      <th>natasha</th>\n",
              "      <td>0.000</td>\n",
              "      <td>0.000</td>\n",
              "      <td>0.231</td>\n",
              "      <td>0.413</td>\n",
              "      <td>0.182</td>\n",
              "    </tr>\n",
              "    <tr>\n",
              "      <th>udpipe</th>\n",
              "      <td>0.000</td>\n",
              "      <td>0.000</td>\n",
              "      <td>0.355</td>\n",
              "      <td>0.413</td>\n",
              "      <td>0.242</td>\n",
              "    </tr>\n",
              "    <tr>\n",
              "      <th>spacy</th>\n",
              "      <td>0.000</td>\n",
              "      <td>0.000</td>\n",
              "      <td>0.290</td>\n",
              "      <td>0.413</td>\n",
              "      <td>0.167</td>\n",
              "    </tr>\n",
              "    <tr>\n",
              "      <th>deeppavlov</th>\n",
              "      <td>0.000</td>\n",
              "      <td>0.000</td>\n",
              "      <td>0.286</td>\n",
              "      <td>0.413</td>\n",
              "      <td>0.000</td>\n",
              "    </tr>\n",
              "    <tr>\n",
              "      <th>stanza</th>\n",
              "      <td>0.000</td>\n",
              "      <td>0.000</td>\n",
              "      <td>0.375</td>\n",
              "      <td>0.413</td>\n",
              "      <td>0.242</td>\n",
              "    </tr>\n",
              "  </tbody>\n",
              "</table>\n",
              "</div>\n",
              "    <div class=\"colab-df-buttons\">\n",
              "\n",
              "  <div class=\"colab-df-container\">\n",
              "    <button class=\"colab-df-convert\" onclick=\"convertToInteractive('df-0c576ed1-3a46-45d0-8870-edf9df345756')\"\n",
              "            title=\"Convert this dataframe to an interactive table.\"\n",
              "            style=\"display:none;\">\n",
              "\n",
              "  <svg xmlns=\"http://www.w3.org/2000/svg\" height=\"24px\" viewBox=\"0 -960 960 960\">\n",
              "    <path d=\"M120-120v-720h720v720H120Zm60-500h600v-160H180v160Zm220 220h160v-160H400v160Zm0 220h160v-160H400v160ZM180-400h160v-160H180v160Zm440 0h160v-160H620v160ZM180-180h160v-160H180v160Zm440 0h160v-160H620v160Z\"/>\n",
              "  </svg>\n",
              "    </button>\n",
              "\n",
              "  <style>\n",
              "    .colab-df-container {\n",
              "      display:flex;\n",
              "      gap: 12px;\n",
              "    }\n",
              "\n",
              "    .colab-df-convert {\n",
              "      background-color: #E8F0FE;\n",
              "      border: none;\n",
              "      border-radius: 50%;\n",
              "      cursor: pointer;\n",
              "      display: none;\n",
              "      fill: #1967D2;\n",
              "      height: 32px;\n",
              "      padding: 0 0 0 0;\n",
              "      width: 32px;\n",
              "    }\n",
              "\n",
              "    .colab-df-convert:hover {\n",
              "      background-color: #E2EBFA;\n",
              "      box-shadow: 0px 1px 2px rgba(60, 64, 67, 0.3), 0px 1px 3px 1px rgba(60, 64, 67, 0.15);\n",
              "      fill: #174EA6;\n",
              "    }\n",
              "\n",
              "    .colab-df-buttons div {\n",
              "      margin-bottom: 4px;\n",
              "    }\n",
              "\n",
              "    [theme=dark] .colab-df-convert {\n",
              "      background-color: #3B4455;\n",
              "      fill: #D2E3FC;\n",
              "    }\n",
              "\n",
              "    [theme=dark] .colab-df-convert:hover {\n",
              "      background-color: #434B5C;\n",
              "      box-shadow: 0px 1px 3px 1px rgba(0, 0, 0, 0.15);\n",
              "      filter: drop-shadow(0px 1px 2px rgba(0, 0, 0, 0.3));\n",
              "      fill: #FFFFFF;\n",
              "    }\n",
              "  </style>\n",
              "\n",
              "    <script>\n",
              "      const buttonEl =\n",
              "        document.querySelector('#df-0c576ed1-3a46-45d0-8870-edf9df345756 button.colab-df-convert');\n",
              "      buttonEl.style.display =\n",
              "        google.colab.kernel.accessAllowed ? 'block' : 'none';\n",
              "\n",
              "      async function convertToInteractive(key) {\n",
              "        const element = document.querySelector('#df-0c576ed1-3a46-45d0-8870-edf9df345756');\n",
              "        const dataTable =\n",
              "          await google.colab.kernel.invokeFunction('convertToInteractive',\n",
              "                                                    [key], {});\n",
              "        if (!dataTable) return;\n",
              "\n",
              "        const docLinkHtml = 'Like what you see? Visit the ' +\n",
              "          '<a target=\"_blank\" href=https://colab.research.google.com/notebooks/data_table.ipynb>data table notebook</a>'\n",
              "          + ' to learn more about interactive tables.';\n",
              "        element.innerHTML = '';\n",
              "        dataTable['output_type'] = 'display_data';\n",
              "        await google.colab.output.renderOutput(dataTable, element);\n",
              "        const docLink = document.createElement('div');\n",
              "        docLink.innerHTML = docLinkHtml;\n",
              "        element.appendChild(docLink);\n",
              "      }\n",
              "    </script>\n",
              "  </div>\n",
              "\n",
              "\n",
              "<div id=\"df-7d16829f-08a1-44b7-ad17-56de02e31284\">\n",
              "  <button class=\"colab-df-quickchart\" onclick=\"quickchart('df-7d16829f-08a1-44b7-ad17-56de02e31284')\"\n",
              "            title=\"Suggest charts\"\n",
              "            style=\"display:none;\">\n",
              "\n",
              "<svg xmlns=\"http://www.w3.org/2000/svg\" height=\"24px\"viewBox=\"0 0 24 24\"\n",
              "     width=\"24px\">\n",
              "    <g>\n",
              "        <path d=\"M19 3H5c-1.1 0-2 .9-2 2v14c0 1.1.9 2 2 2h14c1.1 0 2-.9 2-2V5c0-1.1-.9-2-2-2zM9 17H7v-7h2v7zm4 0h-2V7h2v10zm4 0h-2v-4h2v4z\"/>\n",
              "    </g>\n",
              "</svg>\n",
              "  </button>\n",
              "\n",
              "<style>\n",
              "  .colab-df-quickchart {\n",
              "      --bg-color: #E8F0FE;\n",
              "      --fill-color: #1967D2;\n",
              "      --hover-bg-color: #E2EBFA;\n",
              "      --hover-fill-color: #174EA6;\n",
              "      --disabled-fill-color: #AAA;\n",
              "      --disabled-bg-color: #DDD;\n",
              "  }\n",
              "\n",
              "  [theme=dark] .colab-df-quickchart {\n",
              "      --bg-color: #3B4455;\n",
              "      --fill-color: #D2E3FC;\n",
              "      --hover-bg-color: #434B5C;\n",
              "      --hover-fill-color: #FFFFFF;\n",
              "      --disabled-bg-color: #3B4455;\n",
              "      --disabled-fill-color: #666;\n",
              "  }\n",
              "\n",
              "  .colab-df-quickchart {\n",
              "    background-color: var(--bg-color);\n",
              "    border: none;\n",
              "    border-radius: 50%;\n",
              "    cursor: pointer;\n",
              "    display: none;\n",
              "    fill: var(--fill-color);\n",
              "    height: 32px;\n",
              "    padding: 0;\n",
              "    width: 32px;\n",
              "  }\n",
              "\n",
              "  .colab-df-quickchart:hover {\n",
              "    background-color: var(--hover-bg-color);\n",
              "    box-shadow: 0 1px 2px rgba(60, 64, 67, 0.3), 0 1px 3px 1px rgba(60, 64, 67, 0.15);\n",
              "    fill: var(--button-hover-fill-color);\n",
              "  }\n",
              "\n",
              "  .colab-df-quickchart-complete:disabled,\n",
              "  .colab-df-quickchart-complete:disabled:hover {\n",
              "    background-color: var(--disabled-bg-color);\n",
              "    fill: var(--disabled-fill-color);\n",
              "    box-shadow: none;\n",
              "  }\n",
              "\n",
              "  .colab-df-spinner {\n",
              "    border: 2px solid var(--fill-color);\n",
              "    border-color: transparent;\n",
              "    border-bottom-color: var(--fill-color);\n",
              "    animation:\n",
              "      spin 1s steps(1) infinite;\n",
              "  }\n",
              "\n",
              "  @keyframes spin {\n",
              "    0% {\n",
              "      border-color: transparent;\n",
              "      border-bottom-color: var(--fill-color);\n",
              "      border-left-color: var(--fill-color);\n",
              "    }\n",
              "    20% {\n",
              "      border-color: transparent;\n",
              "      border-left-color: var(--fill-color);\n",
              "      border-top-color: var(--fill-color);\n",
              "    }\n",
              "    30% {\n",
              "      border-color: transparent;\n",
              "      border-left-color: var(--fill-color);\n",
              "      border-top-color: var(--fill-color);\n",
              "      border-right-color: var(--fill-color);\n",
              "    }\n",
              "    40% {\n",
              "      border-color: transparent;\n",
              "      border-right-color: var(--fill-color);\n",
              "      border-top-color: var(--fill-color);\n",
              "    }\n",
              "    60% {\n",
              "      border-color: transparent;\n",
              "      border-right-color: var(--fill-color);\n",
              "    }\n",
              "    80% {\n",
              "      border-color: transparent;\n",
              "      border-right-color: var(--fill-color);\n",
              "      border-bottom-color: var(--fill-color);\n",
              "    }\n",
              "    90% {\n",
              "      border-color: transparent;\n",
              "      border-bottom-color: var(--fill-color);\n",
              "    }\n",
              "  }\n",
              "</style>\n",
              "\n",
              "  <script>\n",
              "    async function quickchart(key) {\n",
              "      const quickchartButtonEl =\n",
              "        document.querySelector('#' + key + ' button');\n",
              "      quickchartButtonEl.disabled = true;  // To prevent multiple clicks.\n",
              "      quickchartButtonEl.classList.add('colab-df-spinner');\n",
              "      try {\n",
              "        const charts = await google.colab.kernel.invokeFunction(\n",
              "            'suggestCharts', [key], {});\n",
              "      } catch (error) {\n",
              "        console.error('Error during call to suggestCharts:', error);\n",
              "      }\n",
              "      quickchartButtonEl.classList.remove('colab-df-spinner');\n",
              "      quickchartButtonEl.classList.add('colab-df-quickchart-complete');\n",
              "    }\n",
              "    (() => {\n",
              "      let quickchartButtonEl =\n",
              "        document.querySelector('#df-7d16829f-08a1-44b7-ad17-56de02e31284 button');\n",
              "      quickchartButtonEl.style.display =\n",
              "        google.colab.kernel.accessAllowed ? 'block' : 'none';\n",
              "    })();\n",
              "  </script>\n",
              "</div>\n",
              "    </div>\n",
              "  </div>\n"
            ],
            "application/vnd.google.colaboratory.intrinsic+json": {
              "type": "dataframe",
              "summary": "{\n  \"name\": \"similarity_min_df\",\n  \"rows\": 5,\n  \"fields\": [\n    {\n      \"column\": \"taiga\",\n      \"properties\": {\n        \"dtype\": \"category\",\n        \"num_unique_values\": 1,\n        \"samples\": [\n          \"0.000\"\n        ],\n        \"semantic_type\": \"\",\n        \"description\": \"\"\n      }\n    },\n    {\n      \"column\": \"poetry\",\n      \"properties\": {\n        \"dtype\": \"category\",\n        \"num_unique_values\": 1,\n        \"samples\": [\n          \"0.000\"\n        ],\n        \"semantic_type\": \"\",\n        \"description\": \"\"\n      }\n    },\n    {\n      \"column\": \"gsd\",\n      \"properties\": {\n        \"dtype\": \"string\",\n        \"num_unique_values\": 5,\n        \"samples\": [\n          \"0.355\"\n        ],\n        \"semantic_type\": \"\",\n        \"description\": \"\"\n      }\n    },\n    {\n      \"column\": \"pud\",\n      \"properties\": {\n        \"dtype\": \"category\",\n        \"num_unique_values\": 1,\n        \"samples\": [\n          \"0.413\"\n        ],\n        \"semantic_type\": \"\",\n        \"description\": \"\"\n      }\n    },\n    {\n      \"column\": \"syntagrus\",\n      \"properties\": {\n        \"dtype\": \"string\",\n        \"num_unique_values\": 4,\n        \"samples\": [\n          \"0.242\"\n        ],\n        \"semantic_type\": \"\",\n        \"description\": \"\"\n      }\n    }\n  ]\n}"
            }
          },
          "metadata": {},
          "execution_count": 89
        }
      ]
    },
    {
      "cell_type": "code",
      "source": [
        "# Для пороговых значений (значение + процент)\n",
        "threshold = 1  # Пороговое значение\n",
        "\n",
        "similarity_threshold_df = pd.DataFrame(\n",
        "    [[f\"{sum(sim == threshold)} ({sum(sim == threshold) / len(sim)*100:.0f}%)\"\n",
        "      for treebank in treebank_names\n",
        "      for sim in [similarity_results[p][treebank]]]\n",
        "     for p in parser_names],\n",
        "    index=parser_names,\n",
        "    columns=treebank_names\n",
        ")\n",
        "\n",
        "similarity_threshold_df.round(2)"
      ],
      "metadata": {
        "colab": {
          "base_uri": "https://localhost:8080/",
          "height": 206
        },
        "id": "Tw2qSQgjpCMg",
        "outputId": "52642835-92b6-4506-9ce5-2dbb405f1ea7"
      },
      "execution_count": 91,
      "outputs": [
        {
          "output_type": "execute_result",
          "data": {
            "text/plain": [
              "              taiga    poetry      gsd      pud syntagrus\n",
              "natasha     45 (5%)   43 (6%)  16 (3%)  30 (3%)  384 (4%)\n",
              "udpipe      48 (5%)   61 (8%)  11 (2%)  25 (2%)  506 (6%)\n",
              "spacy       57 (6%)   67 (9%)  24 (4%)  40 (4%)  405 (5%)\n",
              "deeppavlov  58 (7%)   68 (9%)  16 (3%)  31 (3%)  638 (7%)\n",
              "stanza      49 (6%)  73 (10%)  15 (2%)  32 (3%)  654 (7%)"
            ],
            "text/html": [
              "\n",
              "  <div id=\"df-f57debd5-5d06-4ce2-b4ca-22d6d3958322\" class=\"colab-df-container\">\n",
              "    <div>\n",
              "<style scoped>\n",
              "    .dataframe tbody tr th:only-of-type {\n",
              "        vertical-align: middle;\n",
              "    }\n",
              "\n",
              "    .dataframe tbody tr th {\n",
              "        vertical-align: top;\n",
              "    }\n",
              "\n",
              "    .dataframe thead th {\n",
              "        text-align: right;\n",
              "    }\n",
              "</style>\n",
              "<table border=\"1\" class=\"dataframe\">\n",
              "  <thead>\n",
              "    <tr style=\"text-align: right;\">\n",
              "      <th></th>\n",
              "      <th>taiga</th>\n",
              "      <th>poetry</th>\n",
              "      <th>gsd</th>\n",
              "      <th>pud</th>\n",
              "      <th>syntagrus</th>\n",
              "    </tr>\n",
              "  </thead>\n",
              "  <tbody>\n",
              "    <tr>\n",
              "      <th>natasha</th>\n",
              "      <td>45 (5%)</td>\n",
              "      <td>43 (6%)</td>\n",
              "      <td>16 (3%)</td>\n",
              "      <td>30 (3%)</td>\n",
              "      <td>384 (4%)</td>\n",
              "    </tr>\n",
              "    <tr>\n",
              "      <th>udpipe</th>\n",
              "      <td>48 (5%)</td>\n",
              "      <td>61 (8%)</td>\n",
              "      <td>11 (2%)</td>\n",
              "      <td>25 (2%)</td>\n",
              "      <td>506 (6%)</td>\n",
              "    </tr>\n",
              "    <tr>\n",
              "      <th>spacy</th>\n",
              "      <td>57 (6%)</td>\n",
              "      <td>67 (9%)</td>\n",
              "      <td>24 (4%)</td>\n",
              "      <td>40 (4%)</td>\n",
              "      <td>405 (5%)</td>\n",
              "    </tr>\n",
              "    <tr>\n",
              "      <th>deeppavlov</th>\n",
              "      <td>58 (7%)</td>\n",
              "      <td>68 (9%)</td>\n",
              "      <td>16 (3%)</td>\n",
              "      <td>31 (3%)</td>\n",
              "      <td>638 (7%)</td>\n",
              "    </tr>\n",
              "    <tr>\n",
              "      <th>stanza</th>\n",
              "      <td>49 (6%)</td>\n",
              "      <td>73 (10%)</td>\n",
              "      <td>15 (2%)</td>\n",
              "      <td>32 (3%)</td>\n",
              "      <td>654 (7%)</td>\n",
              "    </tr>\n",
              "  </tbody>\n",
              "</table>\n",
              "</div>\n",
              "    <div class=\"colab-df-buttons\">\n",
              "\n",
              "  <div class=\"colab-df-container\">\n",
              "    <button class=\"colab-df-convert\" onclick=\"convertToInteractive('df-f57debd5-5d06-4ce2-b4ca-22d6d3958322')\"\n",
              "            title=\"Convert this dataframe to an interactive table.\"\n",
              "            style=\"display:none;\">\n",
              "\n",
              "  <svg xmlns=\"http://www.w3.org/2000/svg\" height=\"24px\" viewBox=\"0 -960 960 960\">\n",
              "    <path d=\"M120-120v-720h720v720H120Zm60-500h600v-160H180v160Zm220 220h160v-160H400v160Zm0 220h160v-160H400v160ZM180-400h160v-160H180v160Zm440 0h160v-160H620v160ZM180-180h160v-160H180v160Zm440 0h160v-160H620v160Z\"/>\n",
              "  </svg>\n",
              "    </button>\n",
              "\n",
              "  <style>\n",
              "    .colab-df-container {\n",
              "      display:flex;\n",
              "      gap: 12px;\n",
              "    }\n",
              "\n",
              "    .colab-df-convert {\n",
              "      background-color: #E8F0FE;\n",
              "      border: none;\n",
              "      border-radius: 50%;\n",
              "      cursor: pointer;\n",
              "      display: none;\n",
              "      fill: #1967D2;\n",
              "      height: 32px;\n",
              "      padding: 0 0 0 0;\n",
              "      width: 32px;\n",
              "    }\n",
              "\n",
              "    .colab-df-convert:hover {\n",
              "      background-color: #E2EBFA;\n",
              "      box-shadow: 0px 1px 2px rgba(60, 64, 67, 0.3), 0px 1px 3px 1px rgba(60, 64, 67, 0.15);\n",
              "      fill: #174EA6;\n",
              "    }\n",
              "\n",
              "    .colab-df-buttons div {\n",
              "      margin-bottom: 4px;\n",
              "    }\n",
              "\n",
              "    [theme=dark] .colab-df-convert {\n",
              "      background-color: #3B4455;\n",
              "      fill: #D2E3FC;\n",
              "    }\n",
              "\n",
              "    [theme=dark] .colab-df-convert:hover {\n",
              "      background-color: #434B5C;\n",
              "      box-shadow: 0px 1px 3px 1px rgba(0, 0, 0, 0.15);\n",
              "      filter: drop-shadow(0px 1px 2px rgba(0, 0, 0, 0.3));\n",
              "      fill: #FFFFFF;\n",
              "    }\n",
              "  </style>\n",
              "\n",
              "    <script>\n",
              "      const buttonEl =\n",
              "        document.querySelector('#df-f57debd5-5d06-4ce2-b4ca-22d6d3958322 button.colab-df-convert');\n",
              "      buttonEl.style.display =\n",
              "        google.colab.kernel.accessAllowed ? 'block' : 'none';\n",
              "\n",
              "      async function convertToInteractive(key) {\n",
              "        const element = document.querySelector('#df-f57debd5-5d06-4ce2-b4ca-22d6d3958322');\n",
              "        const dataTable =\n",
              "          await google.colab.kernel.invokeFunction('convertToInteractive',\n",
              "                                                    [key], {});\n",
              "        if (!dataTable) return;\n",
              "\n",
              "        const docLinkHtml = 'Like what you see? Visit the ' +\n",
              "          '<a target=\"_blank\" href=https://colab.research.google.com/notebooks/data_table.ipynb>data table notebook</a>'\n",
              "          + ' to learn more about interactive tables.';\n",
              "        element.innerHTML = '';\n",
              "        dataTable['output_type'] = 'display_data';\n",
              "        await google.colab.output.renderOutput(dataTable, element);\n",
              "        const docLink = document.createElement('div');\n",
              "        docLink.innerHTML = docLinkHtml;\n",
              "        element.appendChild(docLink);\n",
              "      }\n",
              "    </script>\n",
              "  </div>\n",
              "\n",
              "\n",
              "<div id=\"df-6d0f462c-381f-4bc1-99e4-5f6cd4958e3a\">\n",
              "  <button class=\"colab-df-quickchart\" onclick=\"quickchart('df-6d0f462c-381f-4bc1-99e4-5f6cd4958e3a')\"\n",
              "            title=\"Suggest charts\"\n",
              "            style=\"display:none;\">\n",
              "\n",
              "<svg xmlns=\"http://www.w3.org/2000/svg\" height=\"24px\"viewBox=\"0 0 24 24\"\n",
              "     width=\"24px\">\n",
              "    <g>\n",
              "        <path d=\"M19 3H5c-1.1 0-2 .9-2 2v14c0 1.1.9 2 2 2h14c1.1 0 2-.9 2-2V5c0-1.1-.9-2-2-2zM9 17H7v-7h2v7zm4 0h-2V7h2v10zm4 0h-2v-4h2v4z\"/>\n",
              "    </g>\n",
              "</svg>\n",
              "  </button>\n",
              "\n",
              "<style>\n",
              "  .colab-df-quickchart {\n",
              "      --bg-color: #E8F0FE;\n",
              "      --fill-color: #1967D2;\n",
              "      --hover-bg-color: #E2EBFA;\n",
              "      --hover-fill-color: #174EA6;\n",
              "      --disabled-fill-color: #AAA;\n",
              "      --disabled-bg-color: #DDD;\n",
              "  }\n",
              "\n",
              "  [theme=dark] .colab-df-quickchart {\n",
              "      --bg-color: #3B4455;\n",
              "      --fill-color: #D2E3FC;\n",
              "      --hover-bg-color: #434B5C;\n",
              "      --hover-fill-color: #FFFFFF;\n",
              "      --disabled-bg-color: #3B4455;\n",
              "      --disabled-fill-color: #666;\n",
              "  }\n",
              "\n",
              "  .colab-df-quickchart {\n",
              "    background-color: var(--bg-color);\n",
              "    border: none;\n",
              "    border-radius: 50%;\n",
              "    cursor: pointer;\n",
              "    display: none;\n",
              "    fill: var(--fill-color);\n",
              "    height: 32px;\n",
              "    padding: 0;\n",
              "    width: 32px;\n",
              "  }\n",
              "\n",
              "  .colab-df-quickchart:hover {\n",
              "    background-color: var(--hover-bg-color);\n",
              "    box-shadow: 0 1px 2px rgba(60, 64, 67, 0.3), 0 1px 3px 1px rgba(60, 64, 67, 0.15);\n",
              "    fill: var(--button-hover-fill-color);\n",
              "  }\n",
              "\n",
              "  .colab-df-quickchart-complete:disabled,\n",
              "  .colab-df-quickchart-complete:disabled:hover {\n",
              "    background-color: var(--disabled-bg-color);\n",
              "    fill: var(--disabled-fill-color);\n",
              "    box-shadow: none;\n",
              "  }\n",
              "\n",
              "  .colab-df-spinner {\n",
              "    border: 2px solid var(--fill-color);\n",
              "    border-color: transparent;\n",
              "    border-bottom-color: var(--fill-color);\n",
              "    animation:\n",
              "      spin 1s steps(1) infinite;\n",
              "  }\n",
              "\n",
              "  @keyframes spin {\n",
              "    0% {\n",
              "      border-color: transparent;\n",
              "      border-bottom-color: var(--fill-color);\n",
              "      border-left-color: var(--fill-color);\n",
              "    }\n",
              "    20% {\n",
              "      border-color: transparent;\n",
              "      border-left-color: var(--fill-color);\n",
              "      border-top-color: var(--fill-color);\n",
              "    }\n",
              "    30% {\n",
              "      border-color: transparent;\n",
              "      border-left-color: var(--fill-color);\n",
              "      border-top-color: var(--fill-color);\n",
              "      border-right-color: var(--fill-color);\n",
              "    }\n",
              "    40% {\n",
              "      border-color: transparent;\n",
              "      border-right-color: var(--fill-color);\n",
              "      border-top-color: var(--fill-color);\n",
              "    }\n",
              "    60% {\n",
              "      border-color: transparent;\n",
              "      border-right-color: var(--fill-color);\n",
              "    }\n",
              "    80% {\n",
              "      border-color: transparent;\n",
              "      border-right-color: var(--fill-color);\n",
              "      border-bottom-color: var(--fill-color);\n",
              "    }\n",
              "    90% {\n",
              "      border-color: transparent;\n",
              "      border-bottom-color: var(--fill-color);\n",
              "    }\n",
              "  }\n",
              "</style>\n",
              "\n",
              "  <script>\n",
              "    async function quickchart(key) {\n",
              "      const quickchartButtonEl =\n",
              "        document.querySelector('#' + key + ' button');\n",
              "      quickchartButtonEl.disabled = true;  // To prevent multiple clicks.\n",
              "      quickchartButtonEl.classList.add('colab-df-spinner');\n",
              "      try {\n",
              "        const charts = await google.colab.kernel.invokeFunction(\n",
              "            'suggestCharts', [key], {});\n",
              "      } catch (error) {\n",
              "        console.error('Error during call to suggestCharts:', error);\n",
              "      }\n",
              "      quickchartButtonEl.classList.remove('colab-df-spinner');\n",
              "      quickchartButtonEl.classList.add('colab-df-quickchart-complete');\n",
              "    }\n",
              "    (() => {\n",
              "      let quickchartButtonEl =\n",
              "        document.querySelector('#df-6d0f462c-381f-4bc1-99e4-5f6cd4958e3a button');\n",
              "      quickchartButtonEl.style.display =\n",
              "        google.colab.kernel.accessAllowed ? 'block' : 'none';\n",
              "    })();\n",
              "  </script>\n",
              "</div>\n",
              "    </div>\n",
              "  </div>\n"
            ],
            "application/vnd.google.colaboratory.intrinsic+json": {
              "type": "dataframe",
              "summary": "{\n  \"name\": \"similarity_threshold_df\",\n  \"rows\": 5,\n  \"fields\": [\n    {\n      \"column\": \"taiga\",\n      \"properties\": {\n        \"dtype\": \"string\",\n        \"num_unique_values\": 5,\n        \"samples\": [\n          \"48 (5%)\",\n          \"49 (6%)\",\n          \"57 (6%)\"\n        ],\n        \"semantic_type\": \"\",\n        \"description\": \"\"\n      }\n    },\n    {\n      \"column\": \"poetry\",\n      \"properties\": {\n        \"dtype\": \"string\",\n        \"num_unique_values\": 5,\n        \"samples\": [\n          \"61 (8%)\",\n          \"73 (10%)\",\n          \"67 (9%)\"\n        ],\n        \"semantic_type\": \"\",\n        \"description\": \"\"\n      }\n    },\n    {\n      \"column\": \"gsd\",\n      \"properties\": {\n        \"dtype\": \"string\",\n        \"num_unique_values\": 4,\n        \"samples\": [\n          \"11 (2%)\",\n          \"15 (2%)\",\n          \"16 (3%)\"\n        ],\n        \"semantic_type\": \"\",\n        \"description\": \"\"\n      }\n    },\n    {\n      \"column\": \"pud\",\n      \"properties\": {\n        \"dtype\": \"string\",\n        \"num_unique_values\": 5,\n        \"samples\": [\n          \"25 (2%)\",\n          \"32 (3%)\",\n          \"40 (4%)\"\n        ],\n        \"semantic_type\": \"\",\n        \"description\": \"\"\n      }\n    },\n    {\n      \"column\": \"syntagrus\",\n      \"properties\": {\n        \"dtype\": \"string\",\n        \"num_unique_values\": 5,\n        \"samples\": [\n          \"506 (6%)\",\n          \"654 (7%)\",\n          \"405 (5%)\"\n        ],\n        \"semantic_type\": \"\",\n        \"description\": \"\"\n      }\n    }\n  ]\n}"
            }
          },
          "metadata": {},
          "execution_count": 91
        }
      ]
    },
    {
      "cell_type": "code",
      "source": [
        "threshold = 0  # Пример порогового значения\n",
        "\n",
        "similarity_threshold_df = pd.DataFrame(\n",
        "    [[f\"{sum(sim == threshold)} ({sum(sim == threshold) / len(sim)*100:.0f}%)\"\n",
        "      for treebank in treebank_names\n",
        "      for sim in [similarity_results[p][treebank]]]\n",
        "     for p in parser_names],\n",
        "    index=parser_names,\n",
        "    columns=treebank_names\n",
        ")\n",
        "\n",
        "similarity_threshold_df.round(2)"
      ],
      "metadata": {
        "colab": {
          "base_uri": "https://localhost:8080/",
          "height": 206
        },
        "id": "SmoqWbAIr3Q4",
        "outputId": "46908b0e-6858-4466-bb61-ac68a6d4ea9e"
      },
      "execution_count": 46,
      "outputs": [
        {
          "output_type": "execute_result",
          "data": {
            "text/plain": [
              "             taiga   poetry     gsd     pud syntagrus\n",
              "natasha     8 (1%)  14 (2%)  0 (0%)  0 (0%)    0 (0%)\n",
              "udpipe      1 (0%)   1 (0%)  0 (0%)  0 (0%)    0 (0%)\n",
              "spacy       2 (0%)   1 (0%)  0 (0%)  0 (0%)    0 (0%)\n",
              "deeppavlov  1 (0%)   1 (0%)  0 (0%)  0 (0%)    4 (0%)\n",
              "stanza      3 (0%)   2 (0%)  0 (0%)  0 (0%)    0 (0%)"
            ],
            "text/html": [
              "\n",
              "  <div id=\"df-b4c80353-5e31-4f7e-a228-addb71f3ed7e\" class=\"colab-df-container\">\n",
              "    <div>\n",
              "<style scoped>\n",
              "    .dataframe tbody tr th:only-of-type {\n",
              "        vertical-align: middle;\n",
              "    }\n",
              "\n",
              "    .dataframe tbody tr th {\n",
              "        vertical-align: top;\n",
              "    }\n",
              "\n",
              "    .dataframe thead th {\n",
              "        text-align: right;\n",
              "    }\n",
              "</style>\n",
              "<table border=\"1\" class=\"dataframe\">\n",
              "  <thead>\n",
              "    <tr style=\"text-align: right;\">\n",
              "      <th></th>\n",
              "      <th>taiga</th>\n",
              "      <th>poetry</th>\n",
              "      <th>gsd</th>\n",
              "      <th>pud</th>\n",
              "      <th>syntagrus</th>\n",
              "    </tr>\n",
              "  </thead>\n",
              "  <tbody>\n",
              "    <tr>\n",
              "      <th>natasha</th>\n",
              "      <td>8 (1%)</td>\n",
              "      <td>14 (2%)</td>\n",
              "      <td>0 (0%)</td>\n",
              "      <td>0 (0%)</td>\n",
              "      <td>0 (0%)</td>\n",
              "    </tr>\n",
              "    <tr>\n",
              "      <th>udpipe</th>\n",
              "      <td>1 (0%)</td>\n",
              "      <td>1 (0%)</td>\n",
              "      <td>0 (0%)</td>\n",
              "      <td>0 (0%)</td>\n",
              "      <td>0 (0%)</td>\n",
              "    </tr>\n",
              "    <tr>\n",
              "      <th>spacy</th>\n",
              "      <td>2 (0%)</td>\n",
              "      <td>1 (0%)</td>\n",
              "      <td>0 (0%)</td>\n",
              "      <td>0 (0%)</td>\n",
              "      <td>0 (0%)</td>\n",
              "    </tr>\n",
              "    <tr>\n",
              "      <th>deeppavlov</th>\n",
              "      <td>1 (0%)</td>\n",
              "      <td>1 (0%)</td>\n",
              "      <td>0 (0%)</td>\n",
              "      <td>0 (0%)</td>\n",
              "      <td>4 (0%)</td>\n",
              "    </tr>\n",
              "    <tr>\n",
              "      <th>stanza</th>\n",
              "      <td>3 (0%)</td>\n",
              "      <td>2 (0%)</td>\n",
              "      <td>0 (0%)</td>\n",
              "      <td>0 (0%)</td>\n",
              "      <td>0 (0%)</td>\n",
              "    </tr>\n",
              "  </tbody>\n",
              "</table>\n",
              "</div>\n",
              "    <div class=\"colab-df-buttons\">\n",
              "\n",
              "  <div class=\"colab-df-container\">\n",
              "    <button class=\"colab-df-convert\" onclick=\"convertToInteractive('df-b4c80353-5e31-4f7e-a228-addb71f3ed7e')\"\n",
              "            title=\"Convert this dataframe to an interactive table.\"\n",
              "            style=\"display:none;\">\n",
              "\n",
              "  <svg xmlns=\"http://www.w3.org/2000/svg\" height=\"24px\" viewBox=\"0 -960 960 960\">\n",
              "    <path d=\"M120-120v-720h720v720H120Zm60-500h600v-160H180v160Zm220 220h160v-160H400v160Zm0 220h160v-160H400v160ZM180-400h160v-160H180v160Zm440 0h160v-160H620v160ZM180-180h160v-160H180v160Zm440 0h160v-160H620v160Z\"/>\n",
              "  </svg>\n",
              "    </button>\n",
              "\n",
              "  <style>\n",
              "    .colab-df-container {\n",
              "      display:flex;\n",
              "      gap: 12px;\n",
              "    }\n",
              "\n",
              "    .colab-df-convert {\n",
              "      background-color: #E8F0FE;\n",
              "      border: none;\n",
              "      border-radius: 50%;\n",
              "      cursor: pointer;\n",
              "      display: none;\n",
              "      fill: #1967D2;\n",
              "      height: 32px;\n",
              "      padding: 0 0 0 0;\n",
              "      width: 32px;\n",
              "    }\n",
              "\n",
              "    .colab-df-convert:hover {\n",
              "      background-color: #E2EBFA;\n",
              "      box-shadow: 0px 1px 2px rgba(60, 64, 67, 0.3), 0px 1px 3px 1px rgba(60, 64, 67, 0.15);\n",
              "      fill: #174EA6;\n",
              "    }\n",
              "\n",
              "    .colab-df-buttons div {\n",
              "      margin-bottom: 4px;\n",
              "    }\n",
              "\n",
              "    [theme=dark] .colab-df-convert {\n",
              "      background-color: #3B4455;\n",
              "      fill: #D2E3FC;\n",
              "    }\n",
              "\n",
              "    [theme=dark] .colab-df-convert:hover {\n",
              "      background-color: #434B5C;\n",
              "      box-shadow: 0px 1px 3px 1px rgba(0, 0, 0, 0.15);\n",
              "      filter: drop-shadow(0px 1px 2px rgba(0, 0, 0, 0.3));\n",
              "      fill: #FFFFFF;\n",
              "    }\n",
              "  </style>\n",
              "\n",
              "    <script>\n",
              "      const buttonEl =\n",
              "        document.querySelector('#df-b4c80353-5e31-4f7e-a228-addb71f3ed7e button.colab-df-convert');\n",
              "      buttonEl.style.display =\n",
              "        google.colab.kernel.accessAllowed ? 'block' : 'none';\n",
              "\n",
              "      async function convertToInteractive(key) {\n",
              "        const element = document.querySelector('#df-b4c80353-5e31-4f7e-a228-addb71f3ed7e');\n",
              "        const dataTable =\n",
              "          await google.colab.kernel.invokeFunction('convertToInteractive',\n",
              "                                                    [key], {});\n",
              "        if (!dataTable) return;\n",
              "\n",
              "        const docLinkHtml = 'Like what you see? Visit the ' +\n",
              "          '<a target=\"_blank\" href=https://colab.research.google.com/notebooks/data_table.ipynb>data table notebook</a>'\n",
              "          + ' to learn more about interactive tables.';\n",
              "        element.innerHTML = '';\n",
              "        dataTable['output_type'] = 'display_data';\n",
              "        await google.colab.output.renderOutput(dataTable, element);\n",
              "        const docLink = document.createElement('div');\n",
              "        docLink.innerHTML = docLinkHtml;\n",
              "        element.appendChild(docLink);\n",
              "      }\n",
              "    </script>\n",
              "  </div>\n",
              "\n",
              "\n",
              "<div id=\"df-1253bee2-c303-4575-ab03-74ece49bc423\">\n",
              "  <button class=\"colab-df-quickchart\" onclick=\"quickchart('df-1253bee2-c303-4575-ab03-74ece49bc423')\"\n",
              "            title=\"Suggest charts\"\n",
              "            style=\"display:none;\">\n",
              "\n",
              "<svg xmlns=\"http://www.w3.org/2000/svg\" height=\"24px\"viewBox=\"0 0 24 24\"\n",
              "     width=\"24px\">\n",
              "    <g>\n",
              "        <path d=\"M19 3H5c-1.1 0-2 .9-2 2v14c0 1.1.9 2 2 2h14c1.1 0 2-.9 2-2V5c0-1.1-.9-2-2-2zM9 17H7v-7h2v7zm4 0h-2V7h2v10zm4 0h-2v-4h2v4z\"/>\n",
              "    </g>\n",
              "</svg>\n",
              "  </button>\n",
              "\n",
              "<style>\n",
              "  .colab-df-quickchart {\n",
              "      --bg-color: #E8F0FE;\n",
              "      --fill-color: #1967D2;\n",
              "      --hover-bg-color: #E2EBFA;\n",
              "      --hover-fill-color: #174EA6;\n",
              "      --disabled-fill-color: #AAA;\n",
              "      --disabled-bg-color: #DDD;\n",
              "  }\n",
              "\n",
              "  [theme=dark] .colab-df-quickchart {\n",
              "      --bg-color: #3B4455;\n",
              "      --fill-color: #D2E3FC;\n",
              "      --hover-bg-color: #434B5C;\n",
              "      --hover-fill-color: #FFFFFF;\n",
              "      --disabled-bg-color: #3B4455;\n",
              "      --disabled-fill-color: #666;\n",
              "  }\n",
              "\n",
              "  .colab-df-quickchart {\n",
              "    background-color: var(--bg-color);\n",
              "    border: none;\n",
              "    border-radius: 50%;\n",
              "    cursor: pointer;\n",
              "    display: none;\n",
              "    fill: var(--fill-color);\n",
              "    height: 32px;\n",
              "    padding: 0;\n",
              "    width: 32px;\n",
              "  }\n",
              "\n",
              "  .colab-df-quickchart:hover {\n",
              "    background-color: var(--hover-bg-color);\n",
              "    box-shadow: 0 1px 2px rgba(60, 64, 67, 0.3), 0 1px 3px 1px rgba(60, 64, 67, 0.15);\n",
              "    fill: var(--button-hover-fill-color);\n",
              "  }\n",
              "\n",
              "  .colab-df-quickchart-complete:disabled,\n",
              "  .colab-df-quickchart-complete:disabled:hover {\n",
              "    background-color: var(--disabled-bg-color);\n",
              "    fill: var(--disabled-fill-color);\n",
              "    box-shadow: none;\n",
              "  }\n",
              "\n",
              "  .colab-df-spinner {\n",
              "    border: 2px solid var(--fill-color);\n",
              "    border-color: transparent;\n",
              "    border-bottom-color: var(--fill-color);\n",
              "    animation:\n",
              "      spin 1s steps(1) infinite;\n",
              "  }\n",
              "\n",
              "  @keyframes spin {\n",
              "    0% {\n",
              "      border-color: transparent;\n",
              "      border-bottom-color: var(--fill-color);\n",
              "      border-left-color: var(--fill-color);\n",
              "    }\n",
              "    20% {\n",
              "      border-color: transparent;\n",
              "      border-left-color: var(--fill-color);\n",
              "      border-top-color: var(--fill-color);\n",
              "    }\n",
              "    30% {\n",
              "      border-color: transparent;\n",
              "      border-left-color: var(--fill-color);\n",
              "      border-top-color: var(--fill-color);\n",
              "      border-right-color: var(--fill-color);\n",
              "    }\n",
              "    40% {\n",
              "      border-color: transparent;\n",
              "      border-right-color: var(--fill-color);\n",
              "      border-top-color: var(--fill-color);\n",
              "    }\n",
              "    60% {\n",
              "      border-color: transparent;\n",
              "      border-right-color: var(--fill-color);\n",
              "    }\n",
              "    80% {\n",
              "      border-color: transparent;\n",
              "      border-right-color: var(--fill-color);\n",
              "      border-bottom-color: var(--fill-color);\n",
              "    }\n",
              "    90% {\n",
              "      border-color: transparent;\n",
              "      border-bottom-color: var(--fill-color);\n",
              "    }\n",
              "  }\n",
              "</style>\n",
              "\n",
              "  <script>\n",
              "    async function quickchart(key) {\n",
              "      const quickchartButtonEl =\n",
              "        document.querySelector('#' + key + ' button');\n",
              "      quickchartButtonEl.disabled = true;  // To prevent multiple clicks.\n",
              "      quickchartButtonEl.classList.add('colab-df-spinner');\n",
              "      try {\n",
              "        const charts = await google.colab.kernel.invokeFunction(\n",
              "            'suggestCharts', [key], {});\n",
              "      } catch (error) {\n",
              "        console.error('Error during call to suggestCharts:', error);\n",
              "      }\n",
              "      quickchartButtonEl.classList.remove('colab-df-spinner');\n",
              "      quickchartButtonEl.classList.add('colab-df-quickchart-complete');\n",
              "    }\n",
              "    (() => {\n",
              "      let quickchartButtonEl =\n",
              "        document.querySelector('#df-1253bee2-c303-4575-ab03-74ece49bc423 button');\n",
              "      quickchartButtonEl.style.display =\n",
              "        google.colab.kernel.accessAllowed ? 'block' : 'none';\n",
              "    })();\n",
              "  </script>\n",
              "</div>\n",
              "    </div>\n",
              "  </div>\n"
            ],
            "application/vnd.google.colaboratory.intrinsic+json": {
              "type": "dataframe",
              "summary": "{\n  \"name\": \"similarity_threshold_df\",\n  \"rows\": 5,\n  \"fields\": [\n    {\n      \"column\": \"taiga\",\n      \"properties\": {\n        \"dtype\": \"string\",\n        \"num_unique_values\": 4,\n        \"samples\": [\n          \"1 (0%)\",\n          \"3 (0%)\",\n          \"8 (1%)\"\n        ],\n        \"semantic_type\": \"\",\n        \"description\": \"\"\n      }\n    },\n    {\n      \"column\": \"poetry\",\n      \"properties\": {\n        \"dtype\": \"string\",\n        \"num_unique_values\": 3,\n        \"samples\": [\n          \"14 (2%)\",\n          \"1 (0%)\",\n          \"2 (0%)\"\n        ],\n        \"semantic_type\": \"\",\n        \"description\": \"\"\n      }\n    },\n    {\n      \"column\": \"gsd\",\n      \"properties\": {\n        \"dtype\": \"category\",\n        \"num_unique_values\": 1,\n        \"samples\": [\n          \"0 (0%)\"\n        ],\n        \"semantic_type\": \"\",\n        \"description\": \"\"\n      }\n    },\n    {\n      \"column\": \"pud\",\n      \"properties\": {\n        \"dtype\": \"category\",\n        \"num_unique_values\": 1,\n        \"samples\": [\n          \"0 (0%)\"\n        ],\n        \"semantic_type\": \"\",\n        \"description\": \"\"\n      }\n    },\n    {\n      \"column\": \"syntagrus\",\n      \"properties\": {\n        \"dtype\": \"category\",\n        \"num_unique_values\": 2,\n        \"samples\": [\n          \"4 (0%)\"\n        ],\n        \"semantic_type\": \"\",\n        \"description\": \"\"\n      }\n    }\n  ]\n}"
            }
          },
          "metadata": {},
          "execution_count": 46
        }
      ]
    },
    {
      "cell_type": "code",
      "source": [
        "import matplotlib.pyplot as plt\n",
        "from matplotlib import colormaps\n",
        "\n",
        "def draw_similarity_values(ax, data, title=\"Graph Similarity Mean Score\"):\n",
        "    colors = colormaps['Accent'].colors\n",
        "    colors = (colors[0],) + colors[4:]\n",
        "\n",
        "    for parser_i, p in enumerate(parser_names[::-1]):\n",
        "        values = [np.mean(data[p][t]) for t in treebank_names]\n",
        "        ax.plot(treebank_names, values,\n",
        "                color=colors[parser_i],\n",
        "                label=p,\n",
        "                marker='.',\n",
        "                linewidth=1,\n",
        "                markersize=12)\n",
        "\n",
        "    ax.legend(loc='lower right', framealpha=1.0)\n",
        "    ax.set_title(title)\n",
        "\n",
        "    ax.axhline(y=0.6, color=\"black\", linestyle=\"--\")\n",
        "    ax.axhline(y=0.8, color=\"black\", linestyle=\"--\")\n",
        "    ax.set_ylim([0.55, 0.95])\n",
        "\n",
        "    ax.set_xlabel(\"Treebanks\")\n",
        "    ax.set_ylabel(\"Similarity Score\")\n",
        "\n",
        "plt.figure(figsize=(10, 5))\n",
        "ax = plt.gca()\n",
        "\n",
        "draw_similarity_values(ax, similarity_results)\n",
        "\n",
        "plt.show()"
      ],
      "metadata": {
        "colab": {
          "base_uri": "https://localhost:8080/",
          "height": 491
        },
        "id": "77mE3aHyr9Au",
        "outputId": "b8532cdd-bd00-452b-ef54-684d6e20419c"
      },
      "execution_count": 90,
      "outputs": [
        {
          "output_type": "display_data",
          "data": {
            "text/plain": [
              "<Figure size 1000x500 with 1 Axes>"
            ],
            "image/png": "[encoded data removed]"
          },
          "metadata": {}
        }
      ]
    },
    {
      "cell_type": "markdown",
      "source": [
        "# Boxplots"
      ],
      "metadata": {
        "id": "2JeJOMyxuA_2"
      }
    },
    {
      "cell_type": "code",
      "source": [
        "import matplotlib\n",
        "import matplotlib.gridspec as gridspec\n",
        "import matplotlib.pyplot as plt\n",
        "import numpy as np\n",
        "from matplotlib import colormaps"
      ],
      "metadata": {
        "id": "DZNsnsIMuHAP"
      },
      "execution_count": 50,
      "outputs": []
    },
    {
      "cell_type": "code",
      "source": [
        "def draw_hboxplot(ax_plot, data, p):\n",
        "    b = ax_plot.boxplot(x=data, showfliers=False, showcaps=True, showmeans=True,\n",
        "            meanprops={'color':'grey', 'linewidth': 4, 'linestyle':'solid'},\n",
        "            medianprops={'color': 'black', 'linewidth': 3},\n",
        "            vert=False, meanline=True, widths=0.3)\n",
        "    ax_plot.set_xlim([-0.02, 1.2])\n",
        "    ax_plot.get_yaxis().set_visible(False)\n",
        "    c = b['caps'][0]._x[0]\n",
        "    ax_plot.text(\n",
        "          c,\n",
        "          0.79,\n",
        "          f'{c:.2}',\n",
        "          horizontalalignment='center',\n",
        "          fontsize=12,\n",
        "      )\n",
        "\n",
        "    u_q1 = data.quantile(0.25)\n",
        "    ax_plot.text(\n",
        "        u_q1,\n",
        "        0.65,\n",
        "        f'{u_q1:.2}',\n",
        "        horizontalalignment='center',\n",
        "        fontsize=12,\n",
        "    )\n",
        "    u_q2 = data.quantile(0.5)\n",
        "    if u_q2 != 1.0:\n",
        "      ax_plot.text(\n",
        "        u_q2,\n",
        "        0.5,\n",
        "        f'{u_q2:.2}',\n",
        "        horizontalalignment='center',\n",
        "        fontsize=12,\n",
        "        color='black'\n",
        "      )\n",
        "    u_q3 = data.quantile(0.75)\n",
        "    if u_q3 != 1.0:\n",
        "      ax_plot.text(\n",
        "        u_q3,\n",
        "        0.35,\n",
        "        f'{u_q3:.2}',\n",
        "        horizontalalignment='center',\n",
        "        fontsize=12,\n",
        "      )\n",
        "\n",
        "    u_mean = data.mean()\n",
        "    if u_mean != 1.0:\n",
        "      ax_plot.text(\n",
        "            u_mean,\n",
        "            1.2,\n",
        "            f'{u_mean:.2}',\n",
        "            horizontalalignment='center',\n",
        "            fontsize=12,\n",
        "            color='black'\n",
        "      )"
      ],
      "metadata": {
        "id": "oONXndxyvInB"
      },
      "execution_count": 69,
      "outputs": []
    },
    {
      "cell_type": "code",
      "source": [
        "def draw_hist(ax_plot, data):\n",
        "      step = 0.2\n",
        "      bins1 = [round(step * i, 1) for i in range(0, 6)] + [1.01]\n",
        "      v_5 = ax_plot.hist(data, bins=bins1, color=\"white\", edgecolor='black',\n",
        "                         linewidth=0.4)\n",
        "      for i, v in enumerate(v_5[0]):\n",
        "        rate = round(v / len(data) * 100)\n",
        "        if rate >= 5:\n",
        "          if i == len(v_5[0]) - 1:\n",
        "            text_color = 'black'\n",
        "          else:\n",
        "            text_color = 'black'\n",
        "          ax_plot.text(i * step, v + len(data) / 20, f\"{rate}%\", color=text_color, size=12)\n",
        "      step2 = 0.05\n",
        "      max2 = 20\n",
        "      bins2 = [round(step2 * i, 2) for i in range(0, max2 + 1)] + [1.01]\n",
        "      v_20 = ax_plot.hist(data, bins=bins2, rwidth=0.8)\n",
        "      v_20[2][-1].set_facecolor('black')\n",
        "      ax_plot.set_ylim([0, len(data) * 0.85])\n",
        "      ax_plot.set_xlim([-0.02, 1.2])\n",
        "      xlabels = [round(0.2 * i, 2) for i in range(0, 6)]\n",
        "      ax_plot.set_xticks(xlabels, xlabels, fontdict={'fontsize':12})"
      ],
      "metadata": {
        "id": "FbZkxKjJvJhZ"
      },
      "execution_count": 85,
      "outputs": []
    },
    {
      "cell_type": "code",
      "source": [
        "def draw_similarity_diagrams(similarity_data, file_title):\n",
        "    matplotlib.rc('xtick', labelsize=12)\n",
        "    matplotlib.rc('ytick', labelsize=12)\n",
        "    matplotlib.rcParams['axes.linewidth'] = 1\n",
        "\n",
        "    fig = plt.figure(figsize = (16,24))\n",
        "\n",
        "    gs = gridspec.GridSpec(4 * len(treebank_names), len(parser_names), figure=fig,\n",
        "                  wspace=0.1, hspace=0.5,\n",
        "                  height_ratios=(0.01, 0.01,  0.09, 0.09) * len(treebank_names))\n",
        "\n",
        "    for treebank_i, t in enumerate(treebank_names):\n",
        "      ax_t = fig.add_subplot(gs[4 * treebank_i, :])\n",
        "      ax_t.text(0.5, 0.8, t, va=\"top\", ha=\"center\", fontsize=24, weight=\"bold\")\n",
        "      if treebank_i != 0:\n",
        "        ax_t.axhline(y=1, color='gray', lw=1)\n",
        "      ax_t.axis('off')\n",
        "\n",
        "      for parser_i, p in enumerate(parser_names):\n",
        "          ax_tp = fig.add_subplot(gs[4 * treebank_i + 1, parser_i])\n",
        "          ax_tp.text(0.5, 0.5, p, va=\"top\", ha=\"center\", fontsize=18)\n",
        "          ax_tp.axis('off')\n",
        "\n",
        "          ax_h = fig.add_subplot(gs[4 * treebank_i + 2, parser_i])\n",
        "          if parser_i != 0:\n",
        "              ax_h.get_yaxis().set_visible(False)\n",
        "          # Используем similarity_data вместо align_uas_f\n",
        "          draw_hist(ax_h, pd.Series(similarity_data[p][t]))\n",
        "\n",
        "          ax_b = fig.add_subplot(gs[4 * treebank_i + 3, parser_i])\n",
        "          # Используем similarity_data вместо align_uas_f\n",
        "          draw_hboxplot(ax_b, pd.Series(similarity_data[p][t]), p)\n",
        "          ax_b.get_xaxis().set_visible(False)\n",
        "          ax_b.axis('off')\n",
        "\n",
        "    plt.savefig(f\"{file_title}.eps\", format='eps', dpi=300, bbox_inches='tight')\n",
        "    plt.savefig(f\"{file_title}.jpg\", format='jpg', dpi=300, bbox_inches='tight')\n",
        "    plt.show()"
      ],
      "metadata": {
        "id": "8RAlgisRvLy1"
      },
      "execution_count": 63,
      "outputs": []
    },
    {
      "cell_type": "code",
      "source": [
        "draw_similarity_diagrams(similarity_results, 'pics/graph_similarity')"
      ],
      "metadata": {
        "colab": {
          "base_uri": "https://localhost:8080/",
          "height": 1000
        },
        "id": "25YFhLczvRe0",
        "outputId": "4a312687-3c3a-4b28-e243-bd9c50710d8c"
      },
      "execution_count": 86,
      "outputs": [
        {
          "output_type": "display_data",
          "data": {
            "text/plain": [
              "<Figure size 1600x2400 with 80 Axes>"
            ],
            "image/png": "[encoded data removed]"
          },
          "metadata": {}
        }
      ]
    }
  ],
  "metadata": {
    "colab": {
      "provenance": [],
      "include_colab_link": true
    },
    "kernelspec": {
      "display_name": "Python 3",
      "name": "python3"
    },
    "language_info": {
      "name": "python"
    }
  },
  "nbformat": 4,
  "nbformat_minor": 0
}