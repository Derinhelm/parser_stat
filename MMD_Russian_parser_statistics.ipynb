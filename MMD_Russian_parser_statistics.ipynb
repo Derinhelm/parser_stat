{
  "cells": [
    {
      "cell_type": "markdown",
      "metadata": {
        "id": "view-in-github",
        "colab_type": "text"
      },
      "source": [
        "<a href=\"https://colab.research.google.com/github/Derinhelm/parser_stat/blob/mmd_metric/MMD_Russian_parser_statistics.ipynb\" target=\"_parent\"><img src=\"https://colab.research.google.com/assets/colab-badge.svg\" alt=\"Open In Colab\"/></a>"
      ]
    },
    {
      "cell_type": "markdown",
      "metadata": {
        "id": "4evQZldcFtGg"
      },
      "source": [
        "# Repository cloning"
      ]
    },
    {
      "cell_type": "code",
      "execution_count": null,
      "metadata": {
        "colab": {
          "base_uri": "https://localhost:8080/"
        },
        "id": "ecnCggplFs14",
        "outputId": "ba0b8f8e-8a29-40d5-e9a7-fa51e0bf834c"
      },
      "outputs": [
        {
          "output_type": "stream",
          "name": "stdout",
          "text": [
            "fatal: destination path 'parser_stat' already exists and is not an empty directory.\n"
          ]
        }
      ],
      "source": [
        "!git clone https://github.com/Derinhelm/parser_stat.git"
      ]
    },
    {
      "cell_type": "code",
      "execution_count": null,
      "metadata": {
        "id": "nwQf_f7WFsuI"
      },
      "outputs": [],
      "source": [
        "import sys\n",
        "sys.path.append('/content/parser_stat')"
      ]
    },
    {
      "cell_type": "code",
      "execution_count": null,
      "metadata": {
        "id": "sht31S9jHGte",
        "colab": {
          "base_uri": "https://localhost:8080/"
        },
        "outputId": "a9dcac12-2734-4601-fa14-eaf664fa13c5"
      },
      "outputs": [
        {
          "output_type": "stream",
          "name": "stdout",
          "text": [
            "mkdir: cannot create directory ‘pics’: File exists\n"
          ]
        }
      ],
      "source": [
        "!mkdir pics"
      ]
    },
    {
      "cell_type": "markdown",
      "metadata": {
        "id": "zW8TZ8knF4A0"
      },
      "source": [
        "# Data getting"
      ]
    },
    {
      "cell_type": "code",
      "execution_count": null,
      "metadata": {
        "id": "ezvcUG5vF6pl"
      },
      "outputs": [],
      "source": [
        "from data_classes import ConllEntry, Sentence"
      ]
    },
    {
      "cell_type": "code",
      "execution_count": null,
      "metadata": {
        "id": "RGVipa8eGJol"
      },
      "outputs": [],
      "source": [
        "import pickle"
      ]
    },
    {
      "cell_type": "code",
      "execution_count": null,
      "metadata": {
        "id": "I3hDekdWF6jm"
      },
      "outputs": [],
      "source": [
        "with open('/content/parser_stat/treebank_test_sets/treebank_data.pickle', 'rb') as f:\n",
        "    treebanks = pickle.load(f)"
      ]
    },
    {
      "cell_type": "code",
      "execution_count": null,
      "metadata": {
        "colab": {
          "base_uri": "https://localhost:8080/"
        },
        "id": "joCfA0AJGLHe",
        "outputId": "da8f035d-817f-4d32-b364-8307eb98520f"
      },
      "outputs": [
        {
          "output_type": "stream",
          "name": "stdout",
          "text": [
            "gsd 601\n",
            "pud 1000\n",
            "syntagrus 8800\n",
            "poetry 728\n",
            "taiga 881\n"
          ]
        }
      ],
      "source": [
        "for t, sent_list in treebanks.items():\n",
        "    print(t, len(sent_list))\n",
        "    # checking the index uniqueness\n",
        "    assert len({s.sent_id for s in sent_list}) == len(sent_list)"
      ]
    },
    {
      "cell_type": "code",
      "execution_count": null,
      "metadata": {
        "id": "zhhzbfc_G1fq"
      },
      "outputs": [],
      "source": [
        "treebank_names = ['taiga', 'poetry', 'gsd', 'pud', 'syntagrus']"
      ]
    },
    {
      "cell_type": "markdown",
      "metadata": {
        "id": "K9MuF8g4Uw66"
      },
      "source": [
        "# Parsing result getting"
      ]
    },
    {
      "cell_type": "code",
      "execution_count": null,
      "metadata": {
        "id": "sPFwHaFZYbK9"
      },
      "outputs": [],
      "source": [
        "import pandas as pd"
      ]
    },
    {
      "cell_type": "code",
      "execution_count": null,
      "metadata": {
        "id": "ikxnE3uCf6ic"
      },
      "outputs": [],
      "source": [
        "parser_names = [\"natasha\", \"udpipe\", \"spacy\", \"deeppavlov\", \"stanza\"]"
      ]
    },
    {
      "cell_type": "code",
      "execution_count": null,
      "metadata": {
        "id": "mQBHOnbwDDGY"
      },
      "outputs": [],
      "source": [
        "parser_res = {}\n",
        "for p in parser_names:\n",
        "    with open(f'/content/parser_stat/pickle_results/{p}.pickle', 'rb') as f:\n",
        "       parser_res[p] = pickle.load(f)"
      ]
    },
    {
      "cell_type": "code",
      "execution_count": null,
      "metadata": {
        "id": "OkXIRhqZHZu3"
      },
      "outputs": [],
      "source": [
        "for p in parser_names:\n",
        "  for t in treebanks:\n",
        "    assert len(treebanks[t]) == len(parser_res[p][t])"
      ]
    },
    {
      "cell_type": "code",
      "source": [
        "[(t.id, t.parent_id, t.relation) for t in parser_res['stanza']['syntagrus'][95].tokens]"
      ],
      "metadata": {
        "colab": {
          "base_uri": "https://localhost:8080/"
        },
        "id": "vgwWjhi1ik9U",
        "outputId": "5216d7a6-8caf-49e4-c49d-c07d309684de"
      },
      "execution_count": null,
      "outputs": [
        {
          "output_type": "execute_result",
          "data": {
            "text/plain": [
              "[('1', '4', 'obl'),\n",
              " ('2', '4', 'case'),\n",
              " ('3', '4', 'amod'),\n",
              " ('4', '0', 'root'),\n",
              " ('5', '4', 'nsubj'),\n",
              " ('6', '5', 'flat:foreign'),\n",
              " ('7', '5', 'flat:foreign'),\n",
              " ('8', '5', 'flat:foreign'),\n",
              " ('9', '5', 'flat:foreign'),\n",
              " ('10', '4', 'punct'),\n",
              " ('1', '2', 'punct'),\n",
              " ('2', '4', 'parataxis'),\n",
              " ('3', '2', 'punct'),\n",
              " ('4', '0', 'root'),\n",
              " ('5', '4', 'xcomp'),\n",
              " ('6', '5', 'obj'),\n",
              " ('7', '8', 'amod'),\n",
              " ('8', '6', 'nmod'),\n",
              " ('9', '4', 'punct')]"
            ]
          },
          "metadata": {},
          "execution_count": 201
        }
      ]
    },
    {
      "cell_type": "code",
      "source": [
        "[i for (i, t) in enumerate(parser_res['stanza']['syntagrus'][95].tokens) if t.id == '1']"
      ],
      "metadata": {
        "colab": {
          "base_uri": "https://localhost:8080/"
        },
        "id": "3Wo_2USykzOC",
        "outputId": "7bfd477a-0638-4194-9512-7cc28a39a47a"
      },
      "execution_count": null,
      "outputs": [
        {
          "output_type": "execute_result",
          "data": {
            "text/plain": [
              "[0, 10]"
            ]
          },
          "metadata": {},
          "execution_count": 202
        }
      ]
    },
    {
      "cell_type": "code",
      "source": [
        "parser_res['stanza']['syntagrus'][95].sent_id"
      ],
      "metadata": {
        "colab": {
          "base_uri": "https://localhost:8080/",
          "height": 36
        },
        "id": "ANa4z-YAjA7-",
        "outputId": "3ec2f419-5dfb-4c2f-bd4d-d33a80152244"
      },
      "execution_count": null,
      "outputs": [
        {
          "output_type": "execute_result",
          "data": {
            "text/plain": [
              "'2003Armeniya.xml_96'"
            ],
            "application/vnd.google.colaboratory.intrinsic+json": {
              "type": "string"
            }
          },
          "metadata": {},
          "execution_count": 203
        }
      ]
    },
    {
      "cell_type": "code",
      "source": [
        "for t in treebank_names:\n",
        "  for p in parser_names:\n",
        "      print(t, p, len([i for (i, sent) in enumerate(parser_res[p][t])\n",
        "       if len([t.relation for t in sent.tokens if t.relation == \"root\"]) > 1]))"
      ],
      "metadata": {
        "colab": {
          "base_uri": "https://localhost:8080/"
        },
        "id": "RVA0wGLhpOPL",
        "outputId": "cbd88b35-2bfb-40f6-a234-63977d857bac"
      },
      "execution_count": null,
      "outputs": [
        {
          "output_type": "stream",
          "name": "stdout",
          "text": [
            "taiga natasha 95\n",
            "taiga udpipe 42\n",
            "taiga spacy 69\n",
            "taiga deeppavlov 67\n",
            "taiga stanza 69\n",
            "poetry natasha 148\n",
            "poetry udpipe 43\n",
            "poetry spacy 24\n",
            "poetry deeppavlov 50\n",
            "poetry stanza 65\n",
            "gsd natasha 83\n",
            "gsd udpipe 7\n",
            "gsd spacy 14\n",
            "gsd deeppavlov 18\n",
            "gsd stanza 5\n",
            "pud natasha 98\n",
            "pud udpipe 7\n",
            "pud spacy 18\n",
            "pud deeppavlov 3\n",
            "pud stanza 4\n",
            "syntagrus natasha 1073\n",
            "syntagrus udpipe 57\n",
            "syntagrus spacy 220\n",
            "syntagrus deeppavlov 131\n",
            "syntagrus stanza 190\n"
          ]
        }
      ]
    },
    {
      "cell_type": "code",
      "source": [
        "[i for (i, sent) in enumerate(parser_res['stanza']['syntagrus'])\n",
        "    if len([t.relation for t in sent.tokens if t.relation == \"root\"]) > 2]"
      ],
      "metadata": {
        "colab": {
          "base_uri": "https://localhost:8080/"
        },
        "id": "8w_NkKNUiQXU",
        "outputId": "cb0ccfc1-bb2f-4db8-edb6-221c455f33b8"
      },
      "execution_count": null,
      "outputs": [
        {
          "output_type": "execute_result",
          "data": {
            "text/plain": [
              "[6424]"
            ]
          },
          "metadata": {},
          "execution_count": 205
        }
      ]
    },
    {
      "cell_type": "code",
      "source": [
        "parser_res['stanza']['syntagrus'][6424].sent_id"
      ],
      "metadata": {
        "colab": {
          "base_uri": "https://localhost:8080/",
          "height": 36
        },
        "id": "lc8at2wBuV6w",
        "outputId": "34ae5823-8164-4044-c52d-2f8af8eb1687"
      },
      "execution_count": null,
      "outputs": [
        {
          "output_type": "execute_result",
          "data": {
            "text/plain": [
              "'2013Martovskaya_revolyutsiya.xml_88'"
            ],
            "application/vnd.google.colaboratory.intrinsic+json": {
              "type": "string"
            }
          },
          "metadata": {},
          "execution_count": 206
        }
      ]
    },
    {
      "cell_type": "code",
      "source": [
        "[(t.id, t.parent_id, t.relation) for t in parser_res['stanza']['syntagrus'][6424].tokens]"
      ],
      "metadata": {
        "colab": {
          "base_uri": "https://localhost:8080/"
        },
        "id": "UtDBVGi4i3WJ",
        "outputId": "48a496a9-721d-4e71-d047-451a562f6537"
      },
      "execution_count": null,
      "outputs": [
        {
          "output_type": "execute_result",
          "data": {
            "text/plain": [
              "[('1', '0', 'root'),\n",
              " ('2', '3', 'advmod'),\n",
              " ('3', '1', 'nsubj'),\n",
              " ('4', '3', 'obl'),\n",
              " ('5', '9', 'punct'),\n",
              " ('6', '9', 'cc'),\n",
              " ('7', '8', 'amod'),\n",
              " ('8', '9', 'nsubj'),\n",
              " ('9', '1', 'conj'),\n",
              " ('10', '12', 'case'),\n",
              " ('11', '12', 'det'),\n",
              " ('12', '9', 'obl'),\n",
              " ('13', '17', 'punct'),\n",
              " ('14', '17', 'amod'),\n",
              " ('15', '17', 'amod'),\n",
              " ('16', '17', 'amod'),\n",
              " ('17', '12', 'parataxis'),\n",
              " ('18', '19', 'punct'),\n",
              " ('19', '17', 'parataxis'),\n",
              " ('20', '19', 'flat'),\n",
              " ('21', '22', 'amod'),\n",
              " ('22', '19', 'nmod'),\n",
              " ('23', '19', 'punct'),\n",
              " ('24', '1', 'punct'),\n",
              " ('1', '3', 'amod'),\n",
              " ('2', '3', 'amod'),\n",
              " ('3', '0', 'root'),\n",
              " ('4', '5', 'punct'),\n",
              " ('5', '3', 'parataxis'),\n",
              " ('6', '5', 'flat'),\n",
              " ('7', '5', 'punct'),\n",
              " ('8', '3', 'punct'),\n",
              " ('1', '3', 'amod'),\n",
              " ('2', '3', 'amod'),\n",
              " ('3', '0', 'root'),\n",
              " ('4', '5', 'punct'),\n",
              " ('5', '3', 'parataxis'),\n",
              " ('6', '5', 'flat'),\n",
              " ('7', '5', 'punct'),\n",
              " ('8', '9', 'punct'),\n",
              " ('9', '3', 'conj'),\n",
              " ('10', '9', 'nmod'),\n",
              " ('11', '12', 'punct'),\n",
              " ('12', '10', 'parataxis'),\n",
              " ('13', '12', 'flat'),\n",
              " ('14', '12', 'punct'),\n",
              " ('15', '3', 'punct')]"
            ]
          },
          "metadata": {},
          "execution_count": 207
        }
      ]
    },
    {
      "cell_type": "code",
      "source": [
        "def shift_token_id(sentence):\n",
        "  first_token_shift = 0\n",
        "  for i, t in enumerate(sentence.tokens):\n",
        "    if t.id == '1':\n",
        "      first_token_shift = i\n",
        "    shift_id = str(int(t.id) + first_token_shift)\n",
        "    if t.parent_id != '0':\n",
        "      shift_parent_id = str(int(t.parent_id) + first_token_shift)\n",
        "    else:\n",
        "      shift_parent_id = '0'\n",
        "    #print(shift_id, t.id, \"    \", shift_parent_id, t.parent_id)\n",
        "    t.id = shift_id\n",
        "    t.parent_id = shift_parent_id"
      ],
      "metadata": {
        "id": "-TXAbeR-qtWO"
      },
      "execution_count": null,
      "outputs": []
    },
    {
      "cell_type": "code",
      "source": [
        "for t in treebank_names:\n",
        "  for p in parser_names:\n",
        "    for s in parser_res[p][t]:\n",
        "      shift_token_id(s)"
      ],
      "metadata": {
        "id": "uDmFHnrgsrw6"
      },
      "execution_count": null,
      "outputs": []
    },
    {
      "cell_type": "code",
      "source": [
        "[(t.id, t.parent_id, t.relation) for t in parser_res['stanza']['syntagrus'][6424].tokens]"
      ],
      "metadata": {
        "colab": {
          "base_uri": "https://localhost:8080/"
        },
        "id": "8Gdy8w4asYGz",
        "outputId": "67a67607-820b-46a3-d33f-90153b34b287"
      },
      "execution_count": null,
      "outputs": [
        {
          "output_type": "execute_result",
          "data": {
            "text/plain": [
              "[('1', '0', 'root'),\n",
              " ('2', '3', 'advmod'),\n",
              " ('3', '1', 'nsubj'),\n",
              " ('4', '3', 'obl'),\n",
              " ('5', '9', 'punct'),\n",
              " ('6', '9', 'cc'),\n",
              " ('7', '8', 'amod'),\n",
              " ('8', '9', 'nsubj'),\n",
              " ('9', '1', 'conj'),\n",
              " ('10', '12', 'case'),\n",
              " ('11', '12', 'det'),\n",
              " ('12', '9', 'obl'),\n",
              " ('13', '17', 'punct'),\n",
              " ('14', '17', 'amod'),\n",
              " ('15', '17', 'amod'),\n",
              " ('16', '17', 'amod'),\n",
              " ('17', '12', 'parataxis'),\n",
              " ('18', '19', 'punct'),\n",
              " ('19', '17', 'parataxis'),\n",
              " ('20', '19', 'flat'),\n",
              " ('21', '22', 'amod'),\n",
              " ('22', '19', 'nmod'),\n",
              " ('23', '19', 'punct'),\n",
              " ('24', '1', 'punct'),\n",
              " ('25', '27', 'amod'),\n",
              " ('26', '27', 'amod'),\n",
              " ('27', '0', 'root'),\n",
              " ('28', '29', 'punct'),\n",
              " ('29', '27', 'parataxis'),\n",
              " ('30', '29', 'flat'),\n",
              " ('31', '29', 'punct'),\n",
              " ('32', '27', 'punct'),\n",
              " ('33', '35', 'amod'),\n",
              " ('34', '35', 'amod'),\n",
              " ('35', '0', 'root'),\n",
              " ('36', '37', 'punct'),\n",
              " ('37', '35', 'parataxis'),\n",
              " ('38', '37', 'flat'),\n",
              " ('39', '37', 'punct'),\n",
              " ('40', '41', 'punct'),\n",
              " ('41', '35', 'conj'),\n",
              " ('42', '41', 'nmod'),\n",
              " ('43', '44', 'punct'),\n",
              " ('44', '42', 'parataxis'),\n",
              " ('45', '44', 'flat'),\n",
              " ('46', '44', 'punct'),\n",
              " ('47', '35', 'punct')]"
            ]
          },
          "metadata": {},
          "execution_count": 210
        }
      ]
    },
    {
      "cell_type": "markdown",
      "metadata": {
        "id": "jZT08SOtAktK"
      },
      "source": [
        "# Creating token start-end pairs"
      ]
    },
    {
      "cell_type": "markdown",
      "metadata": {
        "id": "7Q9V6RQqIIXj"
      },
      "source": [
        "be_edges - set of dependency tree edges in begin-end format"
      ]
    },
    {
      "cell_type": "code",
      "execution_count": null,
      "metadata": {
        "id": "CKG_qHSJIPef"
      },
      "outputs": [],
      "source": [
        "def create_sent_be_nodes(sent, text_transform):\n",
        "    token_begin_end = []\n",
        "    sent_text = text_transform(sent.text)\n",
        "    original_sent_text = text_transform(sent.text)\n",
        "    del_prefix_len = 0\n",
        "    tokens = [t for t in sent.tokens if '.' not in t.id]\n",
        "    for t_i, t in enumerate(tokens):\n",
        "        token_text = text_transform(t.form)\n",
        "        t_start = sent_text.find(token_text)\n",
        "        if t_start == -1:\n",
        "            print(\"Error:\", sent.sent_id, f\"sent_text:{sent_text}, t:{token_text}\", t_i)\n",
        "        else:\n",
        "            b, e = (del_prefix_len + t_start,\n",
        "                                  del_prefix_len + t_start + len(token_text))\n",
        "            token_begin_end.append((t, (b, e)))\n",
        "            del_prefix_len += t_start + len(token_text)\n",
        "            sent_text = sent_text[t_start + len(token_text):]\n",
        "            assert text_transform(original_sent_text[b:e]) == text_transform(tokens[t_i].form)\n",
        "    sent_text = text_transform(sent.text)\n",
        "    return token_begin_end"
      ]
    },
    {
      "cell_type": "code",
      "execution_count": null,
      "metadata": {
        "id": "Nb_gR5VZcSSl"
      },
      "outputs": [],
      "source": [
        "def create_sent_be_edges(sent_be_tokens):\n",
        "    sent_be_res = {}\n",
        "    for t_id, (t, t_be) in enumerate(sent_be_tokens): # ellipsis are deleted, so index in sent_be_tokens = token_id\n",
        "      parent_id = t.parent_id\n",
        "      if parent_id == '0': # root\n",
        "        parent_be = (-1, -1)\n",
        "      else:\n",
        "        _, parent_be = sent_be_tokens[int(parent_id) - 1]\n",
        "      sent_be_res[t_be] = (parent_be, t.relation)\n",
        "    return sent_be_res"
      ]
    },
    {
      "cell_type": "code",
      "execution_count": null,
      "metadata": {
        "id": "naqegyoidfhW"
      },
      "outputs": [],
      "source": [
        "from collections import OrderedDict"
      ]
    },
    {
      "cell_type": "code",
      "execution_count": null,
      "metadata": {
        "id": "bIe_DoZPdUL1"
      },
      "outputs": [],
      "source": [
        "be_treebanks = {}\n",
        "for treebank_n in treebank_names:\n",
        "    be_treebanks[treebank_n] = OrderedDict()\n",
        "    for i, sent in enumerate(treebanks[treebank_n]):\n",
        "        be_sent = create_sent_be_nodes(sent, lambda text: text.lower())\n",
        "        be_treebanks[treebank_n][sent.sent_id] = create_sent_be_edges(be_sent)"
      ]
    },
    {
      "cell_type": "code",
      "execution_count": null,
      "metadata": {
        "colab": {
          "base_uri": "https://localhost:8080/"
        },
        "id": "XynTMoSSfl9t",
        "outputId": "03984abe-4995-42c2-c339-8ee2486dabc6"
      },
      "outputs": [
        {
          "output_type": "execute_result",
          "data": {
            "text/plain": [
              "{(0, 2): ((16, 20), 'nsubj'),\n",
              " (3, 15): ((16, 20), 'advmod'),\n",
              " (16, 20): ((-1, -1), 'root'),\n",
              " (21, 24): ((25, 34), 'det'),\n",
              " (25, 34): ((16, 20), 'obj'),\n",
              " (35, 43): ((16, 20), 'advmod'),\n",
              " (43, 44): ((16, 20), 'punct')}"
            ]
          },
          "metadata": {},
          "execution_count": 215
        }
      ],
      "source": [
        "be_treebanks['syntagrus']['2003Artist_mimansa.xml_130']"
      ]
    },
    {
      "cell_type": "markdown",
      "metadata": {
        "id": "zegcS0y1rKd0"
      },
      "source": [
        "{(0, 2): ((16, 20), 'nsubj'),\n",
        "\n",
        " (3, 15): ((16, 20), 'advmod'),\n",
        "\n",
        " (16, 20): ((-1, -1), 'root'),\n",
        "\n",
        " (21, 24): ((25, 34), 'det'),\n",
        "\n",
        " (25, 34): ((16, 20), 'obj'),\n",
        "\n",
        " (35, 43): ((16, 20), 'advmod'),\n",
        "\n",
        " (43, 44): ((16, 20), 'punct')}\n"
      ]
    },
    {
      "cell_type": "code",
      "execution_count": null,
      "metadata": {
        "id": "RzpwKOowqN4a"
      },
      "outputs": [],
      "source": [
        "be_parser_res = {p: {} for p in parser_names}\n",
        "for p in parser_names:\n",
        "  if p == 'deeppavlov':\n",
        "    transform_fun = lambda text: text.lower().replace('``', '\"').replace(\"''\", '\"')\n",
        "  else:\n",
        "    transform_fun = lambda text: text.lower().replace(\"''\", '\"')\n",
        "  for t in treebank_names:\n",
        "    be_parser_res[p][t] = OrderedDict()\n",
        "    for i, sent in enumerate(parser_res[p][t]):\n",
        "        be_sent = create_sent_be_nodes(sent, transform_fun)\n",
        "        be_parser_res[p][t][sent.sent_id] = create_sent_be_edges(be_sent)"
      ]
    },
    {
      "cell_type": "code",
      "execution_count": null,
      "metadata": {
        "colab": {
          "base_uri": "https://localhost:8080/"
        },
        "id": "ehDT7wRDWDKI",
        "outputId": "659acc2c-f7a0-4e74-d324-36ed1abb0f79"
      },
      "outputs": [
        {
          "output_type": "execute_result",
          "data": {
            "text/plain": [
              "{(0, 3): ((11, 15), 'obl'),\n",
              " (4, 5): ((11, 15), 'case'),\n",
              " (6, 10): ((11, 15), 'amod'),\n",
              " (11, 15): ((-1, -1), 'root'),\n",
              " (16, 24): ((11, 15), 'nsubj'),\n",
              " (25, 33): ((16, 24), 'flat:foreign'),\n",
              " (34, 42): ((16, 24), 'flat:foreign'),\n",
              " (43, 50): ((16, 24), 'flat:foreign'),\n",
              " (51, 54): ((16, 24), 'flat:foreign'),\n",
              " (54, 55): ((11, 15), 'punct'),\n",
              " (56, 57): ((57, 64), 'punct'),\n",
              " (57, 64): ((66, 72), 'parataxis'),\n",
              " (64, 65): ((57, 64), 'punct'),\n",
              " (66, 72): ((-1, -1), 'root'),\n",
              " (73, 86): ((66, 72), 'xcomp'),\n",
              " (87, 93): ((73, 86), 'obj'),\n",
              " (94, 105): ((106, 111), 'amod'),\n",
              " (106, 111): ((87, 93), 'nmod'),\n",
              " (111, 112): ((66, 72), 'punct')}"
            ]
          },
          "metadata": {},
          "execution_count": 217
        }
      ],
      "source": [
        "be_parser_res['stanza']['syntagrus']['2003Armeniya.xml_96']"
      ]
    },
    {
      "cell_type": "markdown",
      "metadata": {
        "id": "7xNSI7QKWGTr"
      },
      "source": [
        "((0, 2), ((16, 20), 'nsubj')),\n",
        "\n",
        "((3, 9), ((16, 20), 'obl')),\n",
        "\n",
        "((9, 10), ((10, 15), 'punct')),\n",
        "\n",
        "((10, 15), ((3, 9), 'conj')),\n",
        "\n",
        "((16, 20), ((-1, -1), 'root')),\n",
        "\n",
        "((21, 24), ((25, 34), 'det')),\n",
        "\n",
        "((25, 34), ((16, 20), 'obj')),\n",
        "\n",
        "((35, 43), ((16, 20), 'advmod')),\n",
        "\n",
        "((43, 44), ((16, 20), 'punct'))]"
      ]
    },
    {
      "cell_type": "markdown",
      "metadata": {
        "id": "kt5G6hkPAfN7"
      },
      "source": [
        "# Sentence statistics"
      ]
    },
    {
      "cell_type": "code",
      "source": [
        "import numpy as np\n",
        "import networkx as nx\n",
        "from collections import defaultdict"
      ],
      "metadata": {
        "id": "jjpHXqnSiDNi"
      },
      "execution_count": null,
      "outputs": []
    },
    {
      "cell_type": "code",
      "source": [
        "def networkx_formatter(dict_Graph, nx_Graph, show=False):\n",
        "    for node, value in dict_Graph.items():\n",
        "        if isinstance(value, tuple) and len(value) == 2:\n",
        "            head, label = value\n",
        "            nx_Graph.add_node(node)\n",
        "            if head != (-1, -1):\n",
        "                nx_Graph.add_edge(node, head, label=label)\n",
        "        else:\n",
        "            print(f\"Пропущено значение для узла {value} (некорректная структура)\\n\")\n",
        "\n",
        "    if show:\n",
        "        pos = nx.spring_layout(nx_Graph)\n",
        "        nx.draw(nx_Graph, pos, with_labels=True, node_size=1000, node_color=\"lightblue\", font_size=6, font_weight=\"bold\")\n",
        "\n",
        "    return nx_Graph"
      ],
      "metadata": {
        "id": "jYXUqhEyw9ci"
      },
      "execution_count": null,
      "outputs": []
    },
    {
      "cell_type": "code",
      "source": [
        "def MMD(graphs_P, graphs_Q, kernel=\"wl\", h=5, num_walks=10, walk_length=5, seed=None):\n",
        "    # Check input data\n",
        "    if not graphs_P or not graphs_Q:\n",
        "        raise ValueError(\"Input graph lists cannot be empty\")\n",
        "\n",
        "    # Compute kernel matrices\n",
        "    if kernel == \"wl\":\n",
        "        K_P = wl_ker(graphs_P, h)\n",
        "        K_Q = wl_ker(graphs_Q, h)\n",
        "        K_PQ = wl_ker(graphs_P + graphs_Q, h)\n",
        "    elif kernel == \"rw\":\n",
        "        K_P = rw_ker(graphs_P, num_walks, walk_length, seed)\n",
        "        K_Q = rw_ker(graphs_Q, num_walks, walk_length, seed)\n",
        "        K_PQ = rw_ker(graphs_P + graphs_Q, num_walks, walk_length, seed)\n",
        "    else:\n",
        "        raise ValueError(f\"Unknown kernel: {kernel}\")\n",
        "\n",
        "    # Number of graphs in each set\n",
        "    n, m = len(graphs_P), len(graphs_Q)\n",
        "\n",
        "    # Compute MMD\n",
        "    mmd_square = (np.sum(K_P) / (n**2) +\n",
        "                 np.sum(K_Q) / (m**2) -\n",
        "                 2 * np.sum(K_PQ[:n, n:]) / (n * m))\n",
        "\n",
        "    return np.sqrt(max(mmd_square, 0))  # Ensure non-negativity"
      ],
      "metadata": {
        "id": "C47PIVciU7xp"
      },
      "execution_count": null,
      "outputs": []
    },
    {
      "cell_type": "code",
      "source": [
        "def wl_ker(graphs, h=3):\n",
        "    \"\"\"\n",
        "    Weisfeiler-Lehman kernel with normalization.\n",
        "    \"\"\"\n",
        "    feature_maps = [defaultdict(int) for _ in graphs]\n",
        "\n",
        "    # Initialize labels with node degrees\n",
        "    for i, G in enumerate(graphs):\n",
        "        for node in G.nodes():\n",
        "            label = str(G.degree(node))\n",
        "            feature_maps[i][label] += 1\n",
        "\n",
        "    # Multi-level label updating\n",
        "    prev_labels = [defaultdict(str) for _ in graphs]\n",
        "    for i, G in enumerate(graphs):\n",
        "        prev_labels[i].update({node: str(G.degree(node)) for node in G.nodes()})\n",
        "\n",
        "    for _ in range(h):\n",
        "        new_labels = [defaultdict(str) for _ in graphs]\n",
        "\n",
        "        # Update labels for each graph\n",
        "        for i, G in enumerate(graphs):\n",
        "            for node in G.nodes():\n",
        "                # Collect neighbor labels\n",
        "                neighbor_labels = sorted(prev_labels[i][neighbor] for neighbor in G.neighbors(node))\n",
        "                new_label = f\"{prev_labels[i][node]}_{'_'.join(neighbor_labels)}\"\n",
        "                new_labels[i][node] = new_label\n",
        "                feature_maps[i][new_label] += 1\n",
        "\n",
        "        prev_labels = new_labels\n",
        "\n",
        "    # Normalize histograms\n",
        "    for i in range(len(graphs)):\n",
        "        total = sum(feature_maps[i].values())\n",
        "        for key in feature_maps[i]:\n",
        "            feature_maps[i][key] /= total\n",
        "\n",
        "    # Compute similarity matrix\n",
        "    K = np.zeros((len(graphs), len(graphs)))\n",
        "    for i in range(len(graphs)):\n",
        "        for j in range(len(graphs)):\n",
        "            # Dot product of normalized histograms\n",
        "            common_keys = set(feature_maps[i]) | set(feature_maps[j])\n",
        "            K[i,j] = sum(feature_maps[i].get(k,0) * feature_maps[j].get(k,0) for k in common_keys)\n",
        "\n",
        "    return K"
      ],
      "metadata": {
        "id": "PibfavUzFqQU"
      },
      "execution_count": null,
      "outputs": []
    },
    {
      "cell_type": "markdown",
      "source": [
        "### For one sentence"
      ],
      "metadata": {
        "id": "T8eyWUiQF7TW"
      }
    },
    {
      "cell_type": "code",
      "source": [
        "be_treebanks['taiga']['1']"
      ],
      "metadata": {
        "colab": {
          "base_uri": "https://localhost:8080/"
        },
        "id": "ga8E2XolUXzm",
        "outputId": "2224a692-c5dd-400c-fdcb-2d43aed37620"
      },
      "execution_count": null,
      "outputs": [
        {
          "output_type": "execute_result",
          "data": {
            "text/plain": [
              "{(0, 3): ((4, 9), 'advmod'),\n",
              " (4, 9): ((12, 18), 'obl'),\n",
              " (10, 11): ((12, 18), 'case'),\n",
              " (12, 18): ((-1, -1), 'root'),\n",
              " (19, 22): ((12, 18), 'nmod'),\n",
              " (23, 24): ((25, 28), 'cc'),\n",
              " (25, 28): ((19, 22), 'conj'),\n",
              " (29, 33): ((12, 18), 'cop'),\n",
              " (34, 39): ((40, 43), 'advmod'),\n",
              " (40, 43): ((44, 50), 'nummod:gov'),\n",
              " (44, 50): ((12, 18), 'nsubj'),\n",
              " (51, 52): ((81, 86), 'cc'),\n",
              " (53, 59): ((81, 86), 'nummod:gov'),\n",
              " (60, 66): ((81, 86), 'amod'),\n",
              " (67, 80): ((81, 86), 'amod'),\n",
              " (81, 86): ((44, 50), 'conj'),\n",
              " (86, 87): ((12, 18), 'punct')}"
            ]
          },
          "metadata": {},
          "execution_count": 290
        }
      ]
    },
    {
      "cell_type": "code",
      "source": [
        "P = networkx_formatter(be_treebanks['taiga']['1'], nx.DiGraph(), 1)"
      ],
      "metadata": {
        "colab": {
          "base_uri": "https://localhost:8080/",
          "height": 516
        },
        "id": "0JgZPYsvhuPG",
        "outputId": "0886d658-ecd3-47c5-b008-a75b240ea707"
      },
      "execution_count": null,
      "outputs": [
        {
          "output_type": "display_data",
          "data": {
            "text/plain": [
              "<Figure size 640x480 with 1 Axes>"
            ],
            "image/png": "[encoded data removed]"
          },
          "metadata": {}
        }
      ]
    },
    {
      "cell_type": "code",
      "source": [
        "be_parser_res['stanza']['taiga']['1']"
      ],
      "metadata": {
        "colab": {
          "base_uri": "https://localhost:8080/"
        },
        "id": "E8-l_PtZU04o",
        "outputId": "b7e4b190-1785-466e-b112-7f2422c6d3f3"
      },
      "execution_count": null,
      "outputs": [
        {
          "output_type": "execute_result",
          "data": {
            "text/plain": [
              "{(0, 3): ((4, 9), 'obl'),\n",
              " (4, 9): ((12, 18), 'nmod'),\n",
              " (10, 11): ((12, 18), 'case'),\n",
              " (12, 18): ((-1, -1), 'root'),\n",
              " (19, 22): ((12, 18), 'nmod'),\n",
              " (23, 24): ((25, 28), 'cc'),\n",
              " (25, 28): ((19, 22), 'conj'),\n",
              " (29, 33): ((12, 18), 'cop'),\n",
              " (34, 39): ((12, 18), 'nsubj'),\n",
              " (40, 43): ((44, 50), 'nummod'),\n",
              " (44, 50): ((34, 39), 'obl'),\n",
              " (51, 52): ((81, 86), 'cc'),\n",
              " (53, 59): ((81, 86), 'nummod:gov'),\n",
              " (60, 66): ((81, 86), 'amod'),\n",
              " (67, 80): ((81, 86), 'amod'),\n",
              " (81, 86): ((44, 50), 'conj'),\n",
              " (86, 87): ((12, 18), 'punct')}"
            ]
          },
          "metadata": {},
          "execution_count": 241
        }
      ]
    },
    {
      "cell_type": "code",
      "source": [
        "Q = networkx_formatter(be_parser_res['stanza']['taiga']['1'], nx.DiGraph(), 1)"
      ],
      "metadata": {
        "id": "CSasDoexU7vW",
        "colab": {
          "base_uri": "https://localhost:8080/",
          "height": 516
        },
        "outputId": "e50033e6-c96a-4fde-c78c-62b8cad8e111"
      },
      "execution_count": null,
      "outputs": [
        {
          "output_type": "display_data",
          "data": {
            "text/plain": [
              "<Figure size 640x480 with 1 Axes>"
            ],
            "image/png": "[encoded data removed]"
          },
          "metadata": {}
        }
      ]
    },
    {
      "cell_type": "code",
      "source": [
        "Graphs_P = [P]\n",
        "Graphs_Q = [Q]"
      ],
      "metadata": {
        "id": "EyVtfLdAuzMW"
      },
      "execution_count": null,
      "outputs": []
    },
    {
      "cell_type": "code",
      "source": [
        "mmd = MMD(Graphs_P, Graphs_Q, kernel=\"wl\", h=5)\n",
        "print(f\"MMD (WL): {mmd:.4f}\")"
      ],
      "metadata": {
        "colab": {
          "base_uri": "https://localhost:8080/"
        },
        "id": "xfx4PjLjtqxc",
        "outputId": "97498e0b-d3f4-49f7-de44-b26a2edbdf8a"
      },
      "execution_count": null,
      "outputs": [
        {
          "output_type": "stream",
          "name": "stdout",
          "text": [
            "MMD (WL): 0.1135\n"
          ]
        }
      ]
    },
    {
      "cell_type": "markdown",
      "source": [
        "### For all dataset"
      ],
      "metadata": {
        "id": "Phu-5uaLFzO9"
      }
    },
    {
      "cell_type": "code",
      "source": [
        "Graphs_P1 = []\n",
        "for key, item in be_treebanks['taiga'].items():\n",
        "    Graphs_P1.append(networkx_formatter(item, nx.DiGraph()))"
      ],
      "metadata": {
        "id": "ryyBdSRdwHJY"
      },
      "execution_count": null,
      "outputs": []
    },
    {
      "cell_type": "code",
      "source": [
        "G = Graphs_P1[0]\n",
        "pos = nx.spring_layout(G)\n",
        "nx.draw(G, pos, with_labels=True, node_size=1000, node_color=\"lightblue\", font_size=6, font_weight=\"bold\")"
      ],
      "metadata": {
        "colab": {
          "base_uri": "https://localhost:8080/",
          "height": 516
        },
        "collapsed": true,
        "id": "tfJetXmsBeRj",
        "outputId": "2cd78aed-d858-4607-873e-663cb067188e"
      },
      "execution_count": null,
      "outputs": [
        {
          "output_type": "display_data",
          "data": {
            "text/plain": [
              "<Figure size 640x480 with 1 Axes>"
            ],
            "image/png": "[encoded data removed]"
          },
          "metadata": {}
        }
      ]
    },
    {
      "cell_type": "code",
      "source": [
        "Graphs_Q1 = []\n",
        "for key, item in be_parser_res['stanza']['taiga'].items():\n",
        "    Graphs_Q1.append(networkx_formatter(item, nx.DiGraph()))"
      ],
      "metadata": {
        "id": "h4NhI3nj2wVB"
      },
      "execution_count": null,
      "outputs": []
    },
    {
      "cell_type": "code",
      "source": [
        "mmd = MMD(Graphs_P1, Graphs_Q1, kernel=\"wl\", h=0)\n",
        "print(f\"MMD (WL): {mmd:.8f}\")"
      ],
      "metadata": {
        "colab": {
          "base_uri": "https://localhost:8080/"
        },
        "id": "vHw33NzgDJT4",
        "outputId": "0549b934-0533-43dc-b5a5-14fe90bfa799"
      },
      "execution_count": null,
      "outputs": [
        {
          "output_type": "stream",
          "name": "stdout",
          "text": [
            "MMD (WL): 0.00888795\n"
          ]
        }
      ]
    },
    {
      "cell_type": "code",
      "source": [
        "mmd = MMD(Graphs_P1, Graphs_Q1, kernel=\"wl\", h=1)\n",
        "print(f\"MMD (WL): {mmd:.8f}\")"
      ],
      "metadata": {
        "colab": {
          "base_uri": "https://localhost:8080/"
        },
        "id": "xQb2VktIDCfq",
        "outputId": "83ea8c18-6cc6-4043-dd58-8bf4e439b76b"
      },
      "execution_count": null,
      "outputs": [
        {
          "output_type": "stream",
          "name": "stdout",
          "text": [
            "MMD (WL): 0.00969175\n"
          ]
        }
      ]
    },
    {
      "cell_type": "code",
      "source": [
        "mmd = MMD(Graphs_P1, Graphs_Q1, kernel=\"wl\", h=2)\n",
        "print(f\"MMD (WL): {mmd:.8f}\")"
      ],
      "metadata": {
        "colab": {
          "base_uri": "https://localhost:8080/"
        },
        "id": "aFPJWLF7DFpx",
        "outputId": "5c3a30ad-a829-4e77-8edf-55089c44ea37"
      },
      "execution_count": null,
      "outputs": [
        {
          "output_type": "stream",
          "name": "stdout",
          "text": [
            "MMD (WL): 0.00833935\n"
          ]
        }
      ]
    },
    {
      "cell_type": "code",
      "source": [
        "mmd = MMD(Graphs_P1, Graphs_Q1, kernel=\"wl\", h=3)\n",
        "print(f\"MMD (WL): {mmd:.8f}\")"
      ],
      "metadata": {
        "colab": {
          "base_uri": "https://localhost:8080/"
        },
        "id": "1kNnwzCyDGLX",
        "outputId": "2077b62c-a9eb-4b8b-abbd-feabe0d872a4"
      },
      "execution_count": null,
      "outputs": [
        {
          "output_type": "stream",
          "name": "stdout",
          "text": [
            "MMD (WL): 0.00740819\n"
          ]
        }
      ]
    },
    {
      "cell_type": "code",
      "source": [
        "mmd = MMD(Graphs_P1, Graphs_Q1, kernel=\"wl\", h=4)\n",
        "print(f\"MMD (WL): {mmd:.8f}\")"
      ],
      "metadata": {
        "colab": {
          "base_uri": "https://localhost:8080/"
        },
        "id": "85Kr2S-ADGij",
        "outputId": "43346746-7a69-4c74-e1ea-1c11d85d25bc"
      },
      "execution_count": null,
      "outputs": [
        {
          "output_type": "stream",
          "name": "stdout",
          "text": [
            "MMD (WL): 0.00673062\n"
          ]
        }
      ]
    },
    {
      "cell_type": "code",
      "source": [
        "mmd = MMD(Graphs_P1, Graphs_Q1, kernel=\"wl\", h=5)\n",
        "print(f\"MMD (WL): {mmd:.8f}\")"
      ],
      "metadata": {
        "colab": {
          "base_uri": "https://localhost:8080/"
        },
        "id": "EuLZW2ScCaVv",
        "outputId": "8922af3f-30ab-4f4c-83a5-a522cc480dc4"
      },
      "execution_count": null,
      "outputs": [
        {
          "output_type": "stream",
          "name": "stdout",
          "text": [
            "MMD (WL): 0.00620483\n"
          ]
        }
      ]
    }
  ],
  "metadata": {
    "colab": {
      "provenance": [],
      "include_colab_link": true
    },
    "kernelspec": {
      "display_name": "Python 3",
      "name": "python3"
    },
    "language_info": {
      "name": "python"
    }
  },
  "nbformat": 4,
  "nbformat_minor": 0
}