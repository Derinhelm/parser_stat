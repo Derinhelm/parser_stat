{
  "cells": [
    {
      "cell_type": "markdown",
      "metadata": {
        "id": "view-in-github",
        "colab_type": "text"
      },
      "source": [
        "<a href=\"https://colab.research.google.com/github/Derinhelm/parser_stat/blob/natasha_emb/natasha_unk_Russian_parser_statistics.ipynb\" target=\"_parent\"><img src=\"https://colab.research.google.com/assets/colab-badge.svg\" alt=\"Open In Colab\"/></a>"
      ]
    },
    {
      "cell_type": "markdown",
      "metadata": {
        "id": "4evQZldcFtGg"
      },
      "source": [
        "# Загрузка репозитория"
      ]
    },
    {
      "cell_type": "code",
      "execution_count": 1,
      "metadata": {
        "colab": {
          "base_uri": "https://localhost:8080/"
        },
        "id": "ecnCggplFs14",
        "outputId": "6186ef59-3360-4f92-fc5b-e899e73ec241"
      },
      "outputs": [
        {
          "output_type": "stream",
          "name": "stdout",
          "text": [
            "Cloning into 'parser_stat'...\n",
            "remote: Enumerating objects: 276, done.\u001b[K\n",
            "remote: Counting objects: 100% (45/45), done.\u001b[K\n",
            "remote: Compressing objects: 100% (33/33), done.\u001b[K\n",
            "remote: Total 276 (delta 23), reused 24 (delta 12), pack-reused 231 (from 1)\u001b[K\n",
            "Receiving objects: 100% (276/276), 49.95 MiB | 16.85 MiB/s, done.\n",
            "Resolving deltas: 100% (150/150), done.\n"
          ]
        }
      ],
      "source": [
        "!git clone --branch natasha_emb https://github.com/Derinhelm/parser_stat.git"
      ]
    },
    {
      "cell_type": "code",
      "execution_count": 2,
      "metadata": {
        "id": "nwQf_f7WFsuI"
      },
      "outputs": [],
      "source": [
        "import sys\n",
        "sys.path.append('/content/parser_stat')"
      ]
    },
    {
      "cell_type": "code",
      "execution_count": 3,
      "metadata": {
        "id": "sht31S9jHGte"
      },
      "outputs": [],
      "source": [
        "!mkdir pics"
      ]
    },
    {
      "cell_type": "markdown",
      "metadata": {
        "id": "zW8TZ8knF4A0"
      },
      "source": [
        "# Получение данных"
      ]
    },
    {
      "cell_type": "code",
      "execution_count": 4,
      "metadata": {
        "id": "ezvcUG5vF6pl"
      },
      "outputs": [],
      "source": [
        "from data_classes import ConllEntry, Sentence"
      ]
    },
    {
      "cell_type": "code",
      "execution_count": 5,
      "metadata": {
        "id": "RGVipa8eGJol"
      },
      "outputs": [],
      "source": [
        "import pickle"
      ]
    },
    {
      "cell_type": "code",
      "execution_count": 6,
      "metadata": {
        "id": "I3hDekdWF6jm"
      },
      "outputs": [],
      "source": [
        "with open('/content/parser_stat/treebank_test_sets/treebank_data.pickle', 'rb') as f:\n",
        "    treebanks = pickle.load(f)"
      ]
    },
    {
      "cell_type": "code",
      "execution_count": 7,
      "metadata": {
        "colab": {
          "base_uri": "https://localhost:8080/"
        },
        "id": "joCfA0AJGLHe",
        "outputId": "5bc8c95a-cce4-43a2-e954-cb8b2b774d32"
      },
      "outputs": [
        {
          "output_type": "stream",
          "name": "stdout",
          "text": [
            "gsd 601\n",
            "pud 1000\n",
            "syntagrus 8800\n",
            "poetry 728\n",
            "taiga 881\n"
          ]
        }
      ],
      "source": [
        "for t, sent_list in treebanks.items():\n",
        "    print(t, len(sent_list))\n",
        "    # checking the index uniqueness\n",
        "    assert len({s.sent_id for s in sent_list}) == len(sent_list)"
      ]
    },
    {
      "cell_type": "code",
      "execution_count": 8,
      "metadata": {
        "id": "zhhzbfc_G1fq"
      },
      "outputs": [],
      "source": [
        "treebank_names = ['taiga', 'poetry', 'gsd', 'pud', 'syntagrus']"
      ]
    },
    {
      "cell_type": "markdown",
      "metadata": {
        "id": "K9MuF8g4Uw66"
      },
      "source": [
        "# Получение результатов синтаксического анализа"
      ]
    },
    {
      "cell_type": "code",
      "execution_count": 9,
      "metadata": {
        "id": "sPFwHaFZYbK9"
      },
      "outputs": [],
      "source": [
        "import pandas as pd"
      ]
    },
    {
      "cell_type": "code",
      "execution_count": 10,
      "metadata": {
        "id": "ikxnE3uCf6ic"
      },
      "outputs": [],
      "source": [
        "parser_names = [\"natasha\"]"
      ]
    },
    {
      "cell_type": "code",
      "execution_count": 11,
      "metadata": {
        "id": "mQBHOnbwDDGY"
      },
      "outputs": [],
      "source": [
        "parser_res = {}\n",
        "for p in parser_names:\n",
        "    with open(f'/content/parser_stat/pickle_results/{p}.pickle', 'rb') as f:\n",
        "       parser_res[p] = pickle.load(f)"
      ]
    },
    {
      "cell_type": "code",
      "execution_count": 12,
      "metadata": {
        "id": "OkXIRhqZHZu3"
      },
      "outputs": [],
      "source": [
        "for p in parser_names:\n",
        "  for t in treebanks:\n",
        "    assert len(treebanks[t]) == len(parser_res[p][t])"
      ]
    },
    {
      "cell_type": "code",
      "execution_count": 13,
      "metadata": {
        "colab": {
          "base_uri": "https://localhost:8080/"
        },
        "id": "RVA0wGLhpOPL",
        "outputId": "94109154-2ff1-484b-a33d-cdb7ac5cd79a"
      },
      "outputs": [
        {
          "output_type": "stream",
          "name": "stdout",
          "text": [
            "taiga natasha 95\n",
            "poetry natasha 148\n",
            "gsd natasha 83\n",
            "pud natasha 98\n",
            "syntagrus natasha 1073\n"
          ]
        }
      ],
      "source": [
        "for t in treebank_names:\n",
        "  for p in parser_names:\n",
        "      print(t, p, len([i for (i, sent) in enumerate(parser_res[p][t])\n",
        "       if len([t.relation for t in sent.tokens if t.relation == \"root\"]) > 1]))"
      ]
    },
    {
      "cell_type": "code",
      "execution_count": 14,
      "metadata": {
        "id": "-TXAbeR-qtWO"
      },
      "outputs": [],
      "source": [
        "def shift_token_id(sentence):\n",
        "  first_token_shift = 0\n",
        "  for i, t in enumerate(sentence.tokens):\n",
        "    if t.id == '1':\n",
        "      first_token_shift = i\n",
        "    shift_id = str(int(t.id) + first_token_shift)\n",
        "    if t.parent_id != '0':\n",
        "      shift_parent_id = str(int(t.parent_id) + first_token_shift)\n",
        "    else:\n",
        "      shift_parent_id = '0'\n",
        "    #print(shift_id, t.id, \"    \", shift_parent_id, t.parent_id)\n",
        "    t.id = shift_id\n",
        "    t.parent_id = shift_parent_id"
      ]
    },
    {
      "cell_type": "code",
      "execution_count": 15,
      "metadata": {
        "id": "uDmFHnrgsrw6"
      },
      "outputs": [],
      "source": [
        "for t in treebank_names:\n",
        "  for p in parser_names:\n",
        "    for s in parser_res[p][t]:\n",
        "      shift_token_id(s)"
      ]
    },
    {
      "cell_type": "code",
      "execution_count": 16,
      "metadata": {
        "id": "8Gdy8w4asYGz"
      },
      "outputs": [],
      "source": [
        "#[(t.id, t.parent_id, t.relation) for t in parser_res['stanza']['syntagrus'][6424].tokens]"
      ]
    },
    {
      "cell_type": "markdown",
      "source": [
        "# Добавление информации о распознанности эмбеддинга"
      ],
      "metadata": {
        "id": "w2mGvhNt2Gn6"
      }
    },
    {
      "cell_type": "code",
      "source": [
        "with open('/content/parser_stat/pickle_results/natasha_emb.pickle', 'rb') as f:\n",
        "    emb_info = pickle.load(f)"
      ],
      "metadata": {
        "id": "DZnWj3WC2KsL"
      },
      "execution_count": 17,
      "outputs": []
    },
    {
      "cell_type": "code",
      "source": [
        "p = 'natasha'\n",
        "for tr in treebank_names:\n",
        "  assert len(emb_info[tr]) == len(parser_res[p][tr])\n",
        "  for s_i, s in enumerate(parser_res[p][tr]):\n",
        "    assert len(emb_info[tr][s_i]) == len(s.tokens)\n",
        "    for t_i, t in enumerate(s.tokens):\n",
        "      t.emb_unk = emb_info[tr][s_i][t_i]"
      ],
      "metadata": {
        "id": "nTTNmsgy2KuS"
      },
      "execution_count": 18,
      "outputs": []
    },
    {
      "cell_type": "markdown",
      "metadata": {
        "id": "jZT08SOtAktK"
      },
      "source": [
        "# Создание пар вида (начало токена, конец токена)"
      ]
    },
    {
      "cell_type": "markdown",
      "metadata": {
        "id": "7Q9V6RQqIIXj"
      },
      "source": [
        "be_edges - набор ребер дерева зависимостей в формате (начало токена, конец токена)"
      ]
    },
    {
      "cell_type": "code",
      "execution_count": 19,
      "metadata": {
        "id": "CKG_qHSJIPef"
      },
      "outputs": [],
      "source": [
        "from functions import create_sent_be_nodes, create_sent_be_edges"
      ]
    },
    {
      "cell_type": "code",
      "execution_count": 20,
      "metadata": {
        "id": "naqegyoidfhW"
      },
      "outputs": [],
      "source": [
        "from collections import OrderedDict"
      ]
    },
    {
      "cell_type": "code",
      "execution_count": 21,
      "metadata": {
        "id": "bIe_DoZPdUL1"
      },
      "outputs": [],
      "source": [
        "be_treebanks = {}\n",
        "be_token_dict_gold = {}\n",
        "for treebank_n in treebank_names:\n",
        "    be_treebanks[treebank_n] = OrderedDict()\n",
        "    be_token_dict_gold[treebank_n] = OrderedDict()\n",
        "    for i, sent in enumerate(treebanks[treebank_n]):\n",
        "        be_sent, be_token_dict_gold[treebank_n][sent.sent_id] = create_sent_be_nodes(sent, lambda text: text.lower())\n",
        "        be_treebanks[treebank_n][sent.sent_id] = create_sent_be_edges(be_sent)"
      ]
    },
    {
      "cell_type": "code",
      "execution_count": 22,
      "metadata": {
        "colab": {
          "base_uri": "https://localhost:8080/"
        },
        "id": "XynTMoSSfl9t",
        "outputId": "ebfd547b-0c33-4bf8-f93a-9f3c5cbbd6cc"
      },
      "outputs": [
        {
          "output_type": "execute_result",
          "data": {
            "text/plain": [
              "{(0, 2): ((16, 20), 'nsubj'),\n",
              " (3, 15): ((16, 20), 'advmod'),\n",
              " (16, 20): ((-1, -1), 'root'),\n",
              " (21, 24): ((25, 34), 'det'),\n",
              " (25, 34): ((16, 20), 'obj'),\n",
              " (35, 43): ((16, 20), 'advmod'),\n",
              " (43, 44): ((16, 20), 'punct')}"
            ]
          },
          "metadata": {},
          "execution_count": 22
        }
      ],
      "source": [
        "be_treebanks['syntagrus']['2003Artist_mimansa.xml_130']"
      ]
    },
    {
      "cell_type": "code",
      "execution_count": 23,
      "metadata": {
        "colab": {
          "base_uri": "https://localhost:8080/"
        },
        "id": "lyfObvYXCA8Q",
        "outputId": "c59c879e-7600-469b-9d79-08deb184951a"
      },
      "outputs": [
        {
          "output_type": "execute_result",
          "data": {
            "text/plain": [
              "{(0, 6): <data_classes.ConllEntry at 0x78df3bc52250>,\n",
              " (7, 15): <data_classes.ConllEntry at 0x78df3bc523d0>,\n",
              " (16, 19): <data_classes.ConllEntry at 0x78df3bc52550>,\n",
              " (20, 29): <data_classes.ConllEntry at 0x78df3bc526d0>,\n",
              " (30, 31): <data_classes.ConllEntry at 0x78df3bc52850>,\n",
              " (32, 34): <data_classes.ConllEntry at 0x78df3bc529d0>,\n",
              " (35, 38): <data_classes.ConllEntry at 0x78df3bc52bd0>,\n",
              " (39, 45): <data_classes.ConllEntry at 0x78df3bc52dd0>,\n",
              " (46, 48): <data_classes.ConllEntry at 0x78df3bc52f50>,\n",
              " (49, 51): <data_classes.ConllEntry at 0x78df3bc53110>,\n",
              " (52, 53): <data_classes.ConllEntry at 0x78df3bc53310>,\n",
              " (53, 54): <data_classes.ConllEntry at 0x78df3bc53510>}"
            ]
          },
          "metadata": {},
          "execution_count": 23
        }
      ],
      "source": [
        "be_token_dict_gold['gsd']['test-s600']"
      ]
    },
    {
      "cell_type": "code",
      "execution_count": 24,
      "metadata": {
        "id": "RzpwKOowqN4a"
      },
      "outputs": [],
      "source": [
        "be_parser_res = {p: {} for p in parser_names}\n",
        "be_token_dict_parser = {p: {} for p in parser_names}\n",
        "for p in parser_names:\n",
        "  if p == 'deeppavlov':\n",
        "    transform_fun = lambda text: text.lower().replace('``', '\"').replace(\"''\", '\"')\n",
        "  else:\n",
        "    transform_fun = lambda text: text.lower().replace(\"''\", '\"')\n",
        "  for t in treebank_names:\n",
        "    be_parser_res[p][t] = OrderedDict()\n",
        "    be_token_dict_parser[p][t] = OrderedDict()\n",
        "    for i, sent in enumerate(parser_res[p][t]):\n",
        "        be_sent, be_token_dict_parser[p][t][sent.sent_id] = create_sent_be_nodes(sent, transform_fun)\n",
        "        be_parser_res[p][t][sent.sent_id] = create_sent_be_edges(be_sent)"
      ]
    },
    {
      "cell_type": "code",
      "source": [
        "be_parser_res['natasha']['gsd']['test-s1']"
      ],
      "metadata": {
        "colab": {
          "base_uri": "https://localhost:8080/"
        },
        "id": "CPnu96x25K8r",
        "outputId": "04e5eda3-0145-48ea-db0c-03ce5353152a"
      },
      "execution_count": 25,
      "outputs": [
        {
          "output_type": "execute_result",
          "data": {
            "text/plain": [
              "{(0, 5): ((6, 11), 'nsubj'),\n",
              " (6, 11): ((-1, -1), 'root'),\n",
              " (12, 18): ((6, 11), 'xcomp'),\n",
              " (19, 21): ((32, 38), 'case'),\n",
              " (22, 31): ((32, 38), 'amod'),\n",
              " (32, 38): ((101, 110), 'obl'),\n",
              " (39, 40): ((41, 46), 'punct'),\n",
              " (40, 41): ((46, 47), 'punct'),\n",
              " (41, 46): ((32, 38), 'appos'),\n",
              " (46, 47): ((46, 47), 'flat:foreign'),\n",
              " (47, 48): ((46, 47), 'punct'),\n",
              " (48, 50): ((46, 47), 'appos'),\n",
              " (50, 51): ((41, 46), 'punct'),\n",
              " (51, 52): ((46, 47), 'conj'),\n",
              " (52, 53): ((51, 52), 'punct'),\n",
              " (53, 55): ((52, 53), 'appos'),\n",
              " (55, 56): ((101, 110), 'punct'),\n",
              " (57, 58): ((59, 67), 'case'),\n",
              " (59, 67): ((101, 110), 'obl'),\n",
              " (68, 70): ((71, 74), 'nummod'),\n",
              " (71, 74): ((59, 67), 'nmod'),\n",
              " (74, 75): ((101, 110), 'punct'),\n",
              " (76, 77): ((101, 110), 'cc'),\n",
              " (78, 83): ((84, 88), 'case'),\n",
              " (84, 88): ((101, 110), 'obl'),\n",
              " (89, 96): ((84, 88), 'nmod'),\n",
              " (97, 100): ((101, 110), 'aux:pass'),\n",
              " (101, 110): ((-1, -1), 'root'),\n",
              " (111, 112): ((122, 128), 'case'),\n",
              " (113, 121): ((122, 128), 'amod'),\n",
              " (122, 128): ((101, 110), 'obl'),\n",
              " (128, 129): ((6, 11), 'punct')}"
            ]
          },
          "metadata": {},
          "execution_count": 25
        }
      ]
    },
    {
      "cell_type": "code",
      "source": [
        "be_token_dict_parser['natasha']['gsd']['test-s1']"
      ],
      "metadata": {
        "colab": {
          "base_uri": "https://localhost:8080/"
        },
        "id": "22ojRfg-6Zcf",
        "outputId": "74c9db3e-ab4d-4bfe-db65-30e59cc05b4b"
      },
      "execution_count": 26,
      "outputs": [
        {
          "output_type": "execute_result",
          "data": {
            "text/plain": [
              "{(0, 5): <data_classes.ConllEntry at 0x78df39a6a510>,\n",
              " (6, 11): <data_classes.ConllEntry at 0x78df582b3950>,\n",
              " (12, 18): <data_classes.ConllEntry at 0x78df39a6bf10>,\n",
              " (19, 21): <data_classes.ConllEntry at 0x78df39a70350>,\n",
              " (22, 31): <data_classes.ConllEntry at 0x78df39a70b10>,\n",
              " (32, 38): <data_classes.ConllEntry at 0x78df39a71350>,\n",
              " (39, 40): <data_classes.ConllEntry at 0x78df39a71ad0>,\n",
              " (40, 41): <data_classes.ConllEntry at 0x78df39a72110>,\n",
              " (41, 46): <data_classes.ConllEntry at 0x78df39a72750>,\n",
              " (46, 47): <data_classes.ConllEntry at 0x78df39a72dd0>,\n",
              " (47, 48): <data_classes.ConllEntry at 0x78df39a73810>,\n",
              " (48, 50): <data_classes.ConllEntry at 0x78df39a73e90>,\n",
              " (50, 51): <data_classes.ConllEntry at 0x78df39a78850>,\n",
              " (51, 52): <data_classes.ConllEntry at 0x78df39a78f90>,\n",
              " (52, 53): <data_classes.ConllEntry at 0x78df39a797d0>,\n",
              " (53, 55): <data_classes.ConllEntry at 0x78df39a7a050>,\n",
              " (55, 56): <data_classes.ConllEntry at 0x78df39a7ac90>,\n",
              " (57, 58): <data_classes.ConllEntry at 0x78df39a7b6d0>,\n",
              " (59, 67): <data_classes.ConllEntry at 0x78df39a7be50>,\n",
              " (68, 70): <data_classes.ConllEntry at 0x78df39a84710>,\n",
              " (71, 74): <data_classes.ConllEntry at 0x78df39a85490>,\n",
              " (74, 75): <data_classes.ConllEntry at 0x78df39a85d90>,\n",
              " (76, 77): <data_classes.ConllEntry at 0x78df39a86590>,\n",
              " (78, 83): <data_classes.ConllEntry at 0x78df39a87150>,\n",
              " (84, 88): <data_classes.ConllEntry at 0x78df39a87950>,\n",
              " (89, 96): <data_classes.ConllEntry at 0x78df39a90150>,\n",
              " (97, 100): <data_classes.ConllEntry at 0x78df39a90890>,\n",
              " (101, 110): <data_classes.ConllEntry at 0x78df39a91250>,\n",
              " (111, 112): <data_classes.ConllEntry at 0x78df39a91a50>,\n",
              " (113, 121): <data_classes.ConllEntry at 0x78df39a92150>,\n",
              " (122, 128): <data_classes.ConllEntry at 0x78df39a92950>,\n",
              " (128, 129): <data_classes.ConllEntry at 0x78df39a930d0>}"
            ]
          },
          "metadata": {},
          "execution_count": 26
        }
      ]
    },
    {
      "cell_type": "markdown",
      "metadata": {
        "id": "Jhvps1cscRTd"
      },
      "source": [
        "# Создание графов для деревьев зависимостей"
      ]
    },
    {
      "cell_type": "code",
      "execution_count": 28,
      "metadata": {
        "id": "6y0jgwKscQc8"
      },
      "outputs": [],
      "source": [
        "import networkx as nx\n",
        "\n",
        "def create_graph(s):\n",
        "  tokens = [t for t in s.tokens if '.' not in t.id]\n",
        "  s.graph = nx.DiGraph()\n",
        "  s.graph.add_node('0', word='root')\n",
        "  for w in tokens:\n",
        "    s.graph.add_node(w.id, word=w.form)\n",
        "  for w in tokens:\n",
        "    s.graph.add_edge(w.parent_id, w.id, dep_rel=w.relation)\n",
        "\n",
        "  for t in tokens:\n",
        "      t.root_depth = nx.shortest_path_length(s.graph, '0', t.id)\n",
        "  s.graph_depth = max(t.root_depth for t in tokens)\n",
        "\n",
        "for treebank_n in treebank_names:\n",
        "    for sent_i in range(len(treebanks[treebank_n])):\n",
        "      create_graph(treebanks[treebank_n][sent_i])"
      ]
    },
    {
      "cell_type": "markdown",
      "metadata": {
        "id": "kt5G6hkPAfN7"
      },
      "source": [
        "# Статистика на уровне предложений"
      ]
    },
    {
      "cell_type": "code",
      "execution_count": 29,
      "metadata": {
        "id": "JRyzodiiQ0FW"
      },
      "outputs": [],
      "source": [
        "def calculate_stat(be_gold, be_res_p):\n",
        "  stat_list = []\n",
        "  for sent_id in be_gold:\n",
        "    extra_gold = len(be_gold[sent_id].keys() - be_res_p[sent_id].keys())\n",
        "    extra_parser = len(be_res_p[sent_id].keys() - be_gold[sent_id].keys())\n",
        "    tokenisation_matched = len({t_be for t_be in be_res_p[sent_id].keys() & be_gold[sent_id].keys()})\n",
        "    parent_matched = len({t_be for t_be in be_res_p[sent_id].keys() & be_gold[sent_id].keys()\n",
        "      if be_res_p[sent_id][t_be][0] == be_gold[sent_id][t_be][0]})\n",
        "    relation_matched = len({t_be for t_be in be_res_p[sent_id].keys() & be_gold[sent_id].keys()\n",
        "      if be_res_p[sent_id][t_be] == be_gold[sent_id][t_be]})\n",
        "    stat_list.append((sent_id, extra_gold, extra_parser, tokenisation_matched,\n",
        "                      parent_matched, relation_matched, len(be_gold[sent_id])))\n",
        "  stat = pd.DataFrame(stat_list, columns=['sent_id', 'extra_gold', 'extra_parser', 'tokenisation_matched',\n",
        "                                             'parent_matched', 'relation_matched', 'token_length'])\n",
        "\n",
        "  align_uas_precision = stat['parent_matched'] / (stat['extra_parser'] + stat['tokenisation_matched'])\n",
        "  align_uas_recall = stat['parent_matched'] / (stat['extra_gold'] + stat['tokenisation_matched'])\n",
        "  align_las_precision = stat['relation_matched'] / (stat['extra_parser'] + stat['tokenisation_matched'])\n",
        "  align_las_recall = stat['relation_matched'] / (stat['extra_gold'] + stat['tokenisation_matched'])\n",
        "  align_uas_f = ((2 * align_uas_precision * align_uas_recall) / (align_uas_precision + align_uas_recall)).fillna(0.0)\n",
        "  align_las_f = ((2 * align_las_precision * align_las_recall) / (align_las_precision + align_las_recall)).fillna(0.0)\n",
        "  return align_uas_f, align_las_f"
      ]
    },
    {
      "cell_type": "code",
      "execution_count": 30,
      "metadata": {
        "id": "zDez6GU9RUcf"
      },
      "outputs": [],
      "source": [
        "align_uas_f = {treebank: {} for treebank in treebank_names}\n",
        "align_las_f = {treebank: {} for treebank in treebank_names}\n",
        "for treebank in treebank_names:\n",
        "  for p in parser_names:\n",
        "    align_uas_f[treebank][p], align_las_f[treebank][p] = \\\n",
        "        calculate_stat(be_treebanks[treebank], be_parser_res[p][treebank])\n",
        "align_res = {\"uas_f\": align_uas_f,\n",
        "             \"las_f\": align_las_f}"
      ]
    },
    {
      "cell_type": "code",
      "execution_count": 31,
      "metadata": {
        "id": "dTdlUJjKrjw-"
      },
      "outputs": [],
      "source": [
        "parser_titles = [\"Natasha\"]\n",
        "treebank_titles = [\"Taiga\", \"Poetry\", \"GSD\", \"PUD\", \"SynTagRus\"]"
      ]
    },
    {
      "cell_type": "code",
      "execution_count": 32,
      "metadata": {
        "id": "KBjM_KaOaavg"
      },
      "outputs": [],
      "source": [
        "import numpy as np\n",
        "\n",
        "def get_ax(ax, lang_i, x_count, y_count):\n",
        "    if isinstance(ax[0], np.ndarray):\n",
        "      x = lang_i // y_count\n",
        "      y = lang_i % y_count\n",
        "      return ax[x, y]\n",
        "    else:\n",
        "      return ax[lang_i]"
      ]
    },
    {
      "cell_type": "markdown",
      "metadata": {
        "id": "oKILixZ5Aioh"
      },
      "source": [
        "# Сравнение на уровне токенов"
      ]
    },
    {
      "cell_type": "markdown",
      "metadata": {
        "id": "EaIIo7MuCYk5"
      },
      "source": [
        "## Создание статистики на уровне токенов"
      ]
    },
    {
      "cell_type": "code",
      "execution_count": 33,
      "metadata": {
        "id": "2SU6eZaKB2x1",
        "colab": {
          "base_uri": "https://localhost:8080/"
        },
        "outputId": "418b29f7-7190-45dc-bd95-45986732c0ca"
      },
      "outputs": [
        {
          "output_type": "execute_result",
          "data": {
            "text/plain": [
              "[881, 728, 601, 1000, 8800]"
            ]
          },
          "metadata": {},
          "execution_count": 33
        }
      ],
      "source": [
        "[len(be_treebanks[tr]) for tr in treebank_names]"
      ]
    },
    {
      "cell_type": "code",
      "execution_count": 34,
      "metadata": {
        "id": "aX-4PRCHB9_K",
        "colab": {
          "base_uri": "https://localhost:8080/"
        },
        "outputId": "0cac46d3-2ea1-4fac-e10d-2005c5668704"
      },
      "outputs": [
        {
          "output_type": "execute_result",
          "data": {
            "text/plain": [
              "[[881, 728, 601, 1000, 8800]]"
            ]
          },
          "metadata": {},
          "execution_count": 34
        }
      ],
      "source": [
        "[[len(be_parser_res[p][tr]) for tr in treebank_names] for p in parser_names]"
      ]
    },
    {
      "cell_type": "code",
      "execution_count": 35,
      "metadata": {
        "id": "Mc5fCbjnCbr7"
      },
      "outputs": [],
      "source": [
        "import pandas as pd\n",
        "import numpy as np"
      ]
    },
    {
      "cell_type": "code",
      "execution_count": 37,
      "metadata": {
        "id": "EFw4d39nCH36"
      },
      "outputs": [],
      "source": [
        "result_df = {}\n",
        "for tr in treebank_names:\n",
        "    data_to_df = []\n",
        "    for sent_i, sent_be in be_treebanks[tr].items():\n",
        "        for gold_token_be, (gold_parent_be, gold_type) in sent_be.items():\n",
        "          token_dict = { 'sent_i': sent_i, 'gold_token': gold_token_be,\n",
        "                        'gold_parent': gold_parent_be, 'gold_type': gold_type}\n",
        "          gold_token = be_token_dict_gold[tr][sent_i][gold_token_be]\n",
        "          token_dict['gold_pos'] = gold_token.pos\n",
        "          token_dict['gold_relation'] = gold_token.relation\n",
        "          token_dict['gold_depth'] = gold_token.root_depth\n",
        "          if gold_parent_be != (-1, -1):\n",
        "              gold_parent = be_token_dict_gold[tr][sent_i][gold_parent_be]\n",
        "              dep_len = int(gold_token.id) - int(gold_parent.id)\n",
        "          else:\n",
        "              dep_len = np.nan\n",
        "          token_dict['gold_dep_len'] = dep_len\n",
        "          for p in parser_names:\n",
        "            if gold_token_be in be_parser_res[p][tr][sent_i]:\n",
        "              token_dict[f'{p}_parent'], token_dict[f'{p}_type'] = be_parser_res[p][tr][sent_i][gold_token_be]\n",
        "              parser_token = be_token_dict_parser[p][tr][sent_i][gold_token_be]\n",
        "              token_dict[f'{p}_emb_unk'] = parser_token.emb_unk\n",
        "            else:\n",
        "              token_dict[f'{p}_parent'], token_dict[f'{p}_type'] = None, None\n",
        "              token_dict[f'{p}_emb_unk'] = None\n",
        "\n",
        "          data_to_df.append( token_dict)\n",
        "\n",
        "    result_df[tr] = pd.DataFrame(data_to_df)"
      ]
    },
    {
      "cell_type": "code",
      "execution_count": 38,
      "metadata": {
        "id": "dZqoOptpH-vv",
        "colab": {
          "base_uri": "https://localhost:8080/",
          "height": 677
        },
        "outputId": "a43ba1ee-d1b7-482a-8cc4-782746f358e0"
      },
      "outputs": [
        {
          "output_type": "execute_result",
          "data": {
            "text/plain": [
              "   sent_i gold_token gold_parent   gold_type gold_pos gold_relation  \\\n",
              "0       1     (0, 3)      (4, 9)      advmod      ADV        advmod   \n",
              "1       1     (4, 9)    (12, 18)         obl     NOUN           obl   \n",
              "2       1   (10, 11)    (12, 18)        case      ADP          case   \n",
              "3       1   (12, 18)    (-1, -1)        root     NOUN          root   \n",
              "4       1   (19, 22)    (12, 18)        nmod    PROPN          nmod   \n",
              "5       1   (23, 24)    (25, 28)          cc    CCONJ            cc   \n",
              "6       1   (25, 28)    (19, 22)        conj    PROPN          conj   \n",
              "7       1   (29, 33)    (12, 18)         cop      AUX           cop   \n",
              "8       1   (34, 39)    (40, 43)      advmod      ADV        advmod   \n",
              "9       1   (40, 43)    (44, 50)  nummod:gov      NUM    nummod:gov   \n",
              "10      1   (44, 50)    (12, 18)       nsubj     NOUN         nsubj   \n",
              "11      1   (51, 52)    (81, 86)          cc    CCONJ            cc   \n",
              "12      1   (53, 59)    (81, 86)  nummod:gov     NOUN    nummod:gov   \n",
              "13      1   (60, 66)    (81, 86)        amod      ADJ          amod   \n",
              "14      1   (67, 80)    (81, 86)        amod      ADJ          amod   \n",
              "15      1   (81, 86)    (44, 50)        conj     NOUN          conj   \n",
              "16      1   (86, 87)    (12, 18)       punct    PUNCT         punct   \n",
              "17      3     (0, 3)     (4, 10)       nsubj     PRON         nsubj   \n",
              "18      3    (4, 10)    (-1, -1)        root     VERB          root   \n",
              "19      3   (11, 21)     (4, 10)       xcomp     VERB         xcomp   \n",
              "\n",
              "    gold_depth  gold_dep_len natasha_parent natasha_type natasha_emb_unk  \n",
              "0            3          -1.0         (4, 9)       advmod           False  \n",
              "1            2          -2.0       (29, 33)          obl           False  \n",
              "2            2          -1.0       (12, 18)         case           False  \n",
              "3            1           NaN       (29, 33)          obl           False  \n",
              "4            2           1.0       (12, 18)         nmod           False  \n",
              "5            4          -1.0       (25, 28)           cc           False  \n",
              "6            3           2.0       (19, 22)         conj           False  \n",
              "7            2           4.0       (-1, -1)         root           False  \n",
              "8            4          -1.0       (29, 33)        nsubj           False  \n",
              "9            3          -1.0       (44, 50)       nummod            True  \n",
              "10           2           7.0       (34, 39)          obl           False  \n",
              "11           4          -4.0       (81, 86)           cc           False  \n",
              "12           4          -3.0       (81, 86)   nummod:gov           False  \n",
              "13           4          -2.0       (81, 86)         amod           False  \n",
              "14           4          -1.0       (81, 86)         amod           False  \n",
              "15           3           5.0       (34, 39)          obl           False  \n",
              "16           2          13.0       (29, 33)        punct            True  \n",
              "17           2          -1.0        (4, 10)        nsubj           False  \n",
              "18           1           NaN       (-1, -1)         root           False  \n",
              "19           2           1.0        (4, 10)        xcomp           False  "
            ],
            "text/html": [
              "\n",
              "  <div id=\"df-220ccae6-60f6-4967-9482-3630cd5de0e2\" class=\"colab-df-container\">\n",
              "    <div>\n",
              "<style scoped>\n",
              "    .dataframe tbody tr th:only-of-type {\n",
              "        vertical-align: middle;\n",
              "    }\n",
              "\n",
              "    .dataframe tbody tr th {\n",
              "        vertical-align: top;\n",
              "    }\n",
              "\n",
              "    .dataframe thead th {\n",
              "        text-align: right;\n",
              "    }\n",
              "</style>\n",
              "<table border=\"1\" class=\"dataframe\">\n",
              "  <thead>\n",
              "    <tr style=\"text-align: right;\">\n",
              "      <th></th>\n",
              "      <th>sent_i</th>\n",
              "      <th>gold_token</th>\n",
              "      <th>gold_parent</th>\n",
              "      <th>gold_type</th>\n",
              "      <th>gold_pos</th>\n",
              "      <th>gold_relation</th>\n",
              "      <th>gold_depth</th>\n",
              "      <th>gold_dep_len</th>\n",
              "      <th>natasha_parent</th>\n",
              "      <th>natasha_type</th>\n",
              "      <th>natasha_emb_unk</th>\n",
              "    </tr>\n",
              "  </thead>\n",
              "  <tbody>\n",
              "    <tr>\n",
              "      <th>0</th>\n",
              "      <td>1</td>\n",
              "      <td>(0, 3)</td>\n",
              "      <td>(4, 9)</td>\n",
              "      <td>advmod</td>\n",
              "      <td>ADV</td>\n",
              "      <td>advmod</td>\n",
              "      <td>3</td>\n",
              "      <td>-1.0</td>\n",
              "      <td>(4, 9)</td>\n",
              "      <td>advmod</td>\n",
              "      <td>False</td>\n",
              "    </tr>\n",
              "    <tr>\n",
              "      <th>1</th>\n",
              "      <td>1</td>\n",
              "      <td>(4, 9)</td>\n",
              "      <td>(12, 18)</td>\n",
              "      <td>obl</td>\n",
              "      <td>NOUN</td>\n",
              "      <td>obl</td>\n",
              "      <td>2</td>\n",
              "      <td>-2.0</td>\n",
              "      <td>(29, 33)</td>\n",
              "      <td>obl</td>\n",
              "      <td>False</td>\n",
              "    </tr>\n",
              "    <tr>\n",
              "      <th>2</th>\n",
              "      <td>1</td>\n",
              "      <td>(10, 11)</td>\n",
              "      <td>(12, 18)</td>\n",
              "      <td>case</td>\n",
              "      <td>ADP</td>\n",
              "      <td>case</td>\n",
              "      <td>2</td>\n",
              "      <td>-1.0</td>\n",
              "      <td>(12, 18)</td>\n",
              "      <td>case</td>\n",
              "      <td>False</td>\n",
              "    </tr>\n",
              "    <tr>\n",
              "      <th>3</th>\n",
              "      <td>1</td>\n",
              "      <td>(12, 18)</td>\n",
              "      <td>(-1, -1)</td>\n",
              "      <td>root</td>\n",
              "      <td>NOUN</td>\n",
              "      <td>root</td>\n",
              "      <td>1</td>\n",
              "      <td>NaN</td>\n",
              "      <td>(29, 33)</td>\n",
              "      <td>obl</td>\n",
              "      <td>False</td>\n",
              "    </tr>\n",
              "    <tr>\n",
              "      <th>4</th>\n",
              "      <td>1</td>\n",
              "      <td>(19, 22)</td>\n",
              "      <td>(12, 18)</td>\n",
              "      <td>nmod</td>\n",
              "      <td>PROPN</td>\n",
              "      <td>nmod</td>\n",
              "      <td>2</td>\n",
              "      <td>1.0</td>\n",
              "      <td>(12, 18)</td>\n",
              "      <td>nmod</td>\n",
              "      <td>False</td>\n",
              "    </tr>\n",
              "    <tr>\n",
              "      <th>5</th>\n",
              "      <td>1</td>\n",
              "      <td>(23, 24)</td>\n",
              "      <td>(25, 28)</td>\n",
              "      <td>cc</td>\n",
              "      <td>CCONJ</td>\n",
              "      <td>cc</td>\n",
              "      <td>4</td>\n",
              "      <td>-1.0</td>\n",
              "      <td>(25, 28)</td>\n",
              "      <td>cc</td>\n",
              "      <td>False</td>\n",
              "    </tr>\n",
              "    <tr>\n",
              "      <th>6</th>\n",
              "      <td>1</td>\n",
              "      <td>(25, 28)</td>\n",
              "      <td>(19, 22)</td>\n",
              "      <td>conj</td>\n",
              "      <td>PROPN</td>\n",
              "      <td>conj</td>\n",
              "      <td>3</td>\n",
              "      <td>2.0</td>\n",
              "      <td>(19, 22)</td>\n",
              "      <td>conj</td>\n",
              "      <td>False</td>\n",
              "    </tr>\n",
              "    <tr>\n",
              "      <th>7</th>\n",
              "      <td>1</td>\n",
              "      <td>(29, 33)</td>\n",
              "      <td>(12, 18)</td>\n",
              "      <td>cop</td>\n",
              "      <td>AUX</td>\n",
              "      <td>cop</td>\n",
              "      <td>2</td>\n",
              "      <td>4.0</td>\n",
              "      <td>(-1, -1)</td>\n",
              "      <td>root</td>\n",
              "      <td>False</td>\n",
              "    </tr>\n",
              "    <tr>\n",
              "      <th>8</th>\n",
              "      <td>1</td>\n",
              "      <td>(34, 39)</td>\n",
              "      <td>(40, 43)</td>\n",
              "      <td>advmod</td>\n",
              "      <td>ADV</td>\n",
              "      <td>advmod</td>\n",
              "      <td>4</td>\n",
              "      <td>-1.0</td>\n",
              "      <td>(29, 33)</td>\n",
              "      <td>nsubj</td>\n",
              "      <td>False</td>\n",
              "    </tr>\n",
              "    <tr>\n",
              "      <th>9</th>\n",
              "      <td>1</td>\n",
              "      <td>(40, 43)</td>\n",
              "      <td>(44, 50)</td>\n",
              "      <td>nummod:gov</td>\n",
              "      <td>NUM</td>\n",
              "      <td>nummod:gov</td>\n",
              "      <td>3</td>\n",
              "      <td>-1.0</td>\n",
              "      <td>(44, 50)</td>\n",
              "      <td>nummod</td>\n",
              "      <td>True</td>\n",
              "    </tr>\n",
              "    <tr>\n",
              "      <th>10</th>\n",
              "      <td>1</td>\n",
              "      <td>(44, 50)</td>\n",
              "      <td>(12, 18)</td>\n",
              "      <td>nsubj</td>\n",
              "      <td>NOUN</td>\n",
              "      <td>nsubj</td>\n",
              "      <td>2</td>\n",
              "      <td>7.0</td>\n",
              "      <td>(34, 39)</td>\n",
              "      <td>obl</td>\n",
              "      <td>False</td>\n",
              "    </tr>\n",
              "    <tr>\n",
              "      <th>11</th>\n",
              "      <td>1</td>\n",
              "      <td>(51, 52)</td>\n",
              "      <td>(81, 86)</td>\n",
              "      <td>cc</td>\n",
              "      <td>CCONJ</td>\n",
              "      <td>cc</td>\n",
              "      <td>4</td>\n",
              "      <td>-4.0</td>\n",
              "      <td>(81, 86)</td>\n",
              "      <td>cc</td>\n",
              "      <td>False</td>\n",
              "    </tr>\n",
              "    <tr>\n",
              "      <th>12</th>\n",
              "      <td>1</td>\n",
              "      <td>(53, 59)</td>\n",
              "      <td>(81, 86)</td>\n",
              "      <td>nummod:gov</td>\n",
              "      <td>NOUN</td>\n",
              "      <td>nummod:gov</td>\n",
              "      <td>4</td>\n",
              "      <td>-3.0</td>\n",
              "      <td>(81, 86)</td>\n",
              "      <td>nummod:gov</td>\n",
              "      <td>False</td>\n",
              "    </tr>\n",
              "    <tr>\n",
              "      <th>13</th>\n",
              "      <td>1</td>\n",
              "      <td>(60, 66)</td>\n",
              "      <td>(81, 86)</td>\n",
              "      <td>amod</td>\n",
              "      <td>ADJ</td>\n",
              "      <td>amod</td>\n",
              "      <td>4</td>\n",
              "      <td>-2.0</td>\n",
              "      <td>(81, 86)</td>\n",
              "      <td>amod</td>\n",
              "      <td>False</td>\n",
              "    </tr>\n",
              "    <tr>\n",
              "      <th>14</th>\n",
              "      <td>1</td>\n",
              "      <td>(67, 80)</td>\n",
              "      <td>(81, 86)</td>\n",
              "      <td>amod</td>\n",
              "      <td>ADJ</td>\n",
              "      <td>amod</td>\n",
              "      <td>4</td>\n",
              "      <td>-1.0</td>\n",
              "      <td>(81, 86)</td>\n",
              "      <td>amod</td>\n",
              "      <td>False</td>\n",
              "    </tr>\n",
              "    <tr>\n",
              "      <th>15</th>\n",
              "      <td>1</td>\n",
              "      <td>(81, 86)</td>\n",
              "      <td>(44, 50)</td>\n",
              "      <td>conj</td>\n",
              "      <td>NOUN</td>\n",
              "      <td>conj</td>\n",
              "      <td>3</td>\n",
              "      <td>5.0</td>\n",
              "      <td>(34, 39)</td>\n",
              "      <td>obl</td>\n",
              "      <td>False</td>\n",
              "    </tr>\n",
              "    <tr>\n",
              "      <th>16</th>\n",
              "      <td>1</td>\n",
              "      <td>(86, 87)</td>\n",
              "      <td>(12, 18)</td>\n",
              "      <td>punct</td>\n",
              "      <td>PUNCT</td>\n",
              "      <td>punct</td>\n",
              "      <td>2</td>\n",
              "      <td>13.0</td>\n",
              "      <td>(29, 33)</td>\n",
              "      <td>punct</td>\n",
              "      <td>True</td>\n",
              "    </tr>\n",
              "    <tr>\n",
              "      <th>17</th>\n",
              "      <td>3</td>\n",
              "      <td>(0, 3)</td>\n",
              "      <td>(4, 10)</td>\n",
              "      <td>nsubj</td>\n",
              "      <td>PRON</td>\n",
              "      <td>nsubj</td>\n",
              "      <td>2</td>\n",
              "      <td>-1.0</td>\n",
              "      <td>(4, 10)</td>\n",
              "      <td>nsubj</td>\n",
              "      <td>False</td>\n",
              "    </tr>\n",
              "    <tr>\n",
              "      <th>18</th>\n",
              "      <td>3</td>\n",
              "      <td>(4, 10)</td>\n",
              "      <td>(-1, -1)</td>\n",
              "      <td>root</td>\n",
              "      <td>VERB</td>\n",
              "      <td>root</td>\n",
              "      <td>1</td>\n",
              "      <td>NaN</td>\n",
              "      <td>(-1, -1)</td>\n",
              "      <td>root</td>\n",
              "      <td>False</td>\n",
              "    </tr>\n",
              "    <tr>\n",
              "      <th>19</th>\n",
              "      <td>3</td>\n",
              "      <td>(11, 21)</td>\n",
              "      <td>(4, 10)</td>\n",
              "      <td>xcomp</td>\n",
              "      <td>VERB</td>\n",
              "      <td>xcomp</td>\n",
              "      <td>2</td>\n",
              "      <td>1.0</td>\n",
              "      <td>(4, 10)</td>\n",
              "      <td>xcomp</td>\n",
              "      <td>False</td>\n",
              "    </tr>\n",
              "  </tbody>\n",
              "</table>\n",
              "</div>\n",
              "    <div class=\"colab-df-buttons\">\n",
              "\n",
              "  <div class=\"colab-df-container\">\n",
              "    <button class=\"colab-df-convert\" onclick=\"convertToInteractive('df-220ccae6-60f6-4967-9482-3630cd5de0e2')\"\n",
              "            title=\"Convert this dataframe to an interactive table.\"\n",
              "            style=\"display:none;\">\n",
              "\n",
              "  <svg xmlns=\"http://www.w3.org/2000/svg\" height=\"24px\" viewBox=\"0 -960 960 960\">\n",
              "    <path d=\"M120-120v-720h720v720H120Zm60-500h600v-160H180v160Zm220 220h160v-160H400v160Zm0 220h160v-160H400v160ZM180-400h160v-160H180v160Zm440 0h160v-160H620v160ZM180-180h160v-160H180v160Zm440 0h160v-160H620v160Z\"/>\n",
              "  </svg>\n",
              "    </button>\n",
              "\n",
              "  <style>\n",
              "    .colab-df-container {\n",
              "      display:flex;\n",
              "      gap: 12px;\n",
              "    }\n",
              "\n",
              "    .colab-df-convert {\n",
              "      background-color: #E8F0FE;\n",
              "      border: none;\n",
              "      border-radius: 50%;\n",
              "      cursor: pointer;\n",
              "      display: none;\n",
              "      fill: #1967D2;\n",
              "      height: 32px;\n",
              "      padding: 0 0 0 0;\n",
              "      width: 32px;\n",
              "    }\n",
              "\n",
              "    .colab-df-convert:hover {\n",
              "      background-color: #E2EBFA;\n",
              "      box-shadow: 0px 1px 2px rgba(60, 64, 67, 0.3), 0px 1px 3px 1px rgba(60, 64, 67, 0.15);\n",
              "      fill: #174EA6;\n",
              "    }\n",
              "\n",
              "    .colab-df-buttons div {\n",
              "      margin-bottom: 4px;\n",
              "    }\n",
              "\n",
              "    [theme=dark] .colab-df-convert {\n",
              "      background-color: #3B4455;\n",
              "      fill: #D2E3FC;\n",
              "    }\n",
              "\n",
              "    [theme=dark] .colab-df-convert:hover {\n",
              "      background-color: #434B5C;\n",
              "      box-shadow: 0px 1px 3px 1px rgba(0, 0, 0, 0.15);\n",
              "      filter: drop-shadow(0px 1px 2px rgba(0, 0, 0, 0.3));\n",
              "      fill: #FFFFFF;\n",
              "    }\n",
              "  </style>\n",
              "\n",
              "    <script>\n",
              "      const buttonEl =\n",
              "        document.querySelector('#df-220ccae6-60f6-4967-9482-3630cd5de0e2 button.colab-df-convert');\n",
              "      buttonEl.style.display =\n",
              "        google.colab.kernel.accessAllowed ? 'block' : 'none';\n",
              "\n",
              "      async function convertToInteractive(key) {\n",
              "        const element = document.querySelector('#df-220ccae6-60f6-4967-9482-3630cd5de0e2');\n",
              "        const dataTable =\n",
              "          await google.colab.kernel.invokeFunction('convertToInteractive',\n",
              "                                                    [key], {});\n",
              "        if (!dataTable) return;\n",
              "\n",
              "        const docLinkHtml = 'Like what you see? Visit the ' +\n",
              "          '<a target=\"_blank\" href=https://colab.research.google.com/notebooks/data_table.ipynb>data table notebook</a>'\n",
              "          + ' to learn more about interactive tables.';\n",
              "        element.innerHTML = '';\n",
              "        dataTable['output_type'] = 'display_data';\n",
              "        await google.colab.output.renderOutput(dataTable, element);\n",
              "        const docLink = document.createElement('div');\n",
              "        docLink.innerHTML = docLinkHtml;\n",
              "        element.appendChild(docLink);\n",
              "      }\n",
              "    </script>\n",
              "  </div>\n",
              "\n",
              "\n",
              "    <div id=\"df-7d91479f-45e0-4f95-b70b-daea29036b77\">\n",
              "      <button class=\"colab-df-quickchart\" onclick=\"quickchart('df-7d91479f-45e0-4f95-b70b-daea29036b77')\"\n",
              "                title=\"Suggest charts\"\n",
              "                style=\"display:none;\">\n",
              "\n",
              "<svg xmlns=\"http://www.w3.org/2000/svg\" height=\"24px\"viewBox=\"0 0 24 24\"\n",
              "     width=\"24px\">\n",
              "    <g>\n",
              "        <path d=\"M19 3H5c-1.1 0-2 .9-2 2v14c0 1.1.9 2 2 2h14c1.1 0 2-.9 2-2V5c0-1.1-.9-2-2-2zM9 17H7v-7h2v7zm4 0h-2V7h2v10zm4 0h-2v-4h2v4z\"/>\n",
              "    </g>\n",
              "</svg>\n",
              "      </button>\n",
              "\n",
              "<style>\n",
              "  .colab-df-quickchart {\n",
              "      --bg-color: #E8F0FE;\n",
              "      --fill-color: #1967D2;\n",
              "      --hover-bg-color: #E2EBFA;\n",
              "      --hover-fill-color: #174EA6;\n",
              "      --disabled-fill-color: #AAA;\n",
              "      --disabled-bg-color: #DDD;\n",
              "  }\n",
              "\n",
              "  [theme=dark] .colab-df-quickchart {\n",
              "      --bg-color: #3B4455;\n",
              "      --fill-color: #D2E3FC;\n",
              "      --hover-bg-color: #434B5C;\n",
              "      --hover-fill-color: #FFFFFF;\n",
              "      --disabled-bg-color: #3B4455;\n",
              "      --disabled-fill-color: #666;\n",
              "  }\n",
              "\n",
              "  .colab-df-quickchart {\n",
              "    background-color: var(--bg-color);\n",
              "    border: none;\n",
              "    border-radius: 50%;\n",
              "    cursor: pointer;\n",
              "    display: none;\n",
              "    fill: var(--fill-color);\n",
              "    height: 32px;\n",
              "    padding: 0;\n",
              "    width: 32px;\n",
              "  }\n",
              "\n",
              "  .colab-df-quickchart:hover {\n",
              "    background-color: var(--hover-bg-color);\n",
              "    box-shadow: 0 1px 2px rgba(60, 64, 67, 0.3), 0 1px 3px 1px rgba(60, 64, 67, 0.15);\n",
              "    fill: var(--button-hover-fill-color);\n",
              "  }\n",
              "\n",
              "  .colab-df-quickchart-complete:disabled,\n",
              "  .colab-df-quickchart-complete:disabled:hover {\n",
              "    background-color: var(--disabled-bg-color);\n",
              "    fill: var(--disabled-fill-color);\n",
              "    box-shadow: none;\n",
              "  }\n",
              "\n",
              "  .colab-df-spinner {\n",
              "    border: 2px solid var(--fill-color);\n",
              "    border-color: transparent;\n",
              "    border-bottom-color: var(--fill-color);\n",
              "    animation:\n",
              "      spin 1s steps(1) infinite;\n",
              "  }\n",
              "\n",
              "  @keyframes spin {\n",
              "    0% {\n",
              "      border-color: transparent;\n",
              "      border-bottom-color: var(--fill-color);\n",
              "      border-left-color: var(--fill-color);\n",
              "    }\n",
              "    20% {\n",
              "      border-color: transparent;\n",
              "      border-left-color: var(--fill-color);\n",
              "      border-top-color: var(--fill-color);\n",
              "    }\n",
              "    30% {\n",
              "      border-color: transparent;\n",
              "      border-left-color: var(--fill-color);\n",
              "      border-top-color: var(--fill-color);\n",
              "      border-right-color: var(--fill-color);\n",
              "    }\n",
              "    40% {\n",
              "      border-color: transparent;\n",
              "      border-right-color: var(--fill-color);\n",
              "      border-top-color: var(--fill-color);\n",
              "    }\n",
              "    60% {\n",
              "      border-color: transparent;\n",
              "      border-right-color: var(--fill-color);\n",
              "    }\n",
              "    80% {\n",
              "      border-color: transparent;\n",
              "      border-right-color: var(--fill-color);\n",
              "      border-bottom-color: var(--fill-color);\n",
              "    }\n",
              "    90% {\n",
              "      border-color: transparent;\n",
              "      border-bottom-color: var(--fill-color);\n",
              "    }\n",
              "  }\n",
              "</style>\n",
              "\n",
              "      <script>\n",
              "        async function quickchart(key) {\n",
              "          const quickchartButtonEl =\n",
              "            document.querySelector('#' + key + ' button');\n",
              "          quickchartButtonEl.disabled = true;  // To prevent multiple clicks.\n",
              "          quickchartButtonEl.classList.add('colab-df-spinner');\n",
              "          try {\n",
              "            const charts = await google.colab.kernel.invokeFunction(\n",
              "                'suggestCharts', [key], {});\n",
              "          } catch (error) {\n",
              "            console.error('Error during call to suggestCharts:', error);\n",
              "          }\n",
              "          quickchartButtonEl.classList.remove('colab-df-spinner');\n",
              "          quickchartButtonEl.classList.add('colab-df-quickchart-complete');\n",
              "        }\n",
              "        (() => {\n",
              "          let quickchartButtonEl =\n",
              "            document.querySelector('#df-7d91479f-45e0-4f95-b70b-daea29036b77 button');\n",
              "          quickchartButtonEl.style.display =\n",
              "            google.colab.kernel.accessAllowed ? 'block' : 'none';\n",
              "        })();\n",
              "      </script>\n",
              "    </div>\n",
              "    </div>\n",
              "  </div>\n"
            ],
            "application/vnd.google.colaboratory.intrinsic+json": {
              "type": "dataframe",
              "summary": "{\n  \"name\": \"result_df['taiga']\",\n  \"rows\": 20,\n  \"fields\": [\n    {\n      \"column\": \"sent_i\",\n      \"properties\": {\n        \"dtype\": \"category\",\n        \"num_unique_values\": 2,\n        \"samples\": [\n          \"3\",\n          \"1\"\n        ],\n        \"semantic_type\": \"\",\n        \"description\": \"\"\n      }\n    },\n    {\n      \"column\": \"gold_token\",\n      \"properties\": {\n        \"dtype\": \"string\",\n        \"num_unique_values\": 19,\n        \"samples\": [\n          [\n            0,\n            3\n          ],\n          [\n            23,\n            24\n          ]\n        ],\n        \"semantic_type\": \"\",\n        \"description\": \"\"\n      }\n    },\n    {\n      \"column\": \"gold_parent\",\n      \"properties\": {\n        \"dtype\": \"category\",\n        \"num_unique_values\": 9,\n        \"samples\": [\n          [\n            81,\n            86\n          ],\n          [\n            12,\n            18\n          ]\n        ],\n        \"semantic_type\": \"\",\n        \"description\": \"\"\n      }\n    },\n    {\n      \"column\": \"gold_type\",\n      \"properties\": {\n        \"dtype\": \"string\",\n        \"num_unique_values\": 13,\n        \"samples\": [\n          \"punct\",\n          \"nsubj\"\n        ],\n        \"semantic_type\": \"\",\n        \"description\": \"\"\n      }\n    },\n    {\n      \"column\": \"gold_pos\",\n      \"properties\": {\n        \"dtype\": \"string\",\n        \"num_unique_values\": 11,\n        \"samples\": [\n          \"AUX\",\n          \"ADV\"\n        ],\n        \"semantic_type\": \"\",\n        \"description\": \"\"\n      }\n    },\n    {\n      \"column\": \"gold_relation\",\n      \"properties\": {\n        \"dtype\": \"string\",\n        \"num_unique_values\": 13,\n        \"samples\": [\n          \"punct\",\n          \"nsubj\"\n        ],\n        \"semantic_type\": \"\",\n        \"description\": \"\"\n      }\n    },\n    {\n      \"column\": \"gold_depth\",\n      \"properties\": {\n        \"dtype\": \"number\",\n        \"std\": 1,\n        \"min\": 1,\n        \"max\": 4,\n        \"num_unique_values\": 4,\n        \"samples\": [\n          2,\n          4\n        ],\n        \"semantic_type\": \"\",\n        \"description\": \"\"\n      }\n    },\n    {\n      \"column\": \"gold_dep_len\",\n      \"properties\": {\n        \"dtype\": \"number\",\n        \"std\": 4.147997390662291,\n        \"min\": -4.0,\n        \"max\": 13.0,\n        \"num_unique_values\": 10,\n        \"samples\": [\n          5.0,\n          -2.0\n        ],\n        \"semantic_type\": \"\",\n        \"description\": \"\"\n      }\n    },\n    {\n      \"column\": \"natasha_parent\",\n      \"properties\": {\n        \"dtype\": \"string\",\n        \"num_unique_values\": 10,\n        \"samples\": [\n          [\n            81,\n            86\n          ],\n          [\n            29,\n            33\n          ]\n        ],\n        \"semantic_type\": \"\",\n        \"description\": \"\"\n      }\n    },\n    {\n      \"column\": \"natasha_type\",\n      \"properties\": {\n        \"dtype\": \"string\",\n        \"num_unique_values\": 13,\n        \"samples\": [\n          \"punct\",\n          \"nummod:gov\"\n        ],\n        \"semantic_type\": \"\",\n        \"description\": \"\"\n      }\n    },\n    {\n      \"column\": \"natasha_emb_unk\",\n      \"properties\": {\n        \"dtype\": \"category\",\n        \"num_unique_values\": 2,\n        \"samples\": [\n          true,\n          false\n        ],\n        \"semantic_type\": \"\",\n        \"description\": \"\"\n      }\n    }\n  ]\n}"
            }
          },
          "metadata": {},
          "execution_count": 38
        }
      ],
      "source": [
        "result_df['taiga'].head(20)"
      ]
    },
    {
      "cell_type": "code",
      "execution_count": 39,
      "metadata": {
        "id": "e82vqZ03HJms"
      },
      "outputs": [],
      "source": [
        "def f_parent(d):\n",
        "  #print(d, \"\\n\\n\")\n",
        "  right_amount = len(d[d['gold_parent'] == d['parser_parent']])\n",
        "  return (right_amount, right_amount / len(d), len(d))\n",
        "\n",
        "def f_parent_relation(d):\n",
        "  right_amount = len(d[(d['gold_parent'] == d['parser_parent']) & (d['gold_relation'] == d['parser_relation'])])\n",
        "  return (right_amount, right_amount / len(d), len(d))\n",
        "\n",
        "def create_property_stat(df, p, prop, labeled=False):\n",
        "    if labeled:\n",
        "      f = f_parent_relation\n",
        "    else:\n",
        "      f = f_parent\n",
        "    d = df.rename(columns={ f'{p}_parent': 'parser_parent',\n",
        "                            f'{p}_type': 'parser_relation'}).groupby(prop)[['gold_parent', 'parser_parent',\n",
        "                            'gold_relation', 'parser_relation']].apply(f).to_frame('group_stat')\n",
        "    d['right'] = d['group_stat'].apply(lambda x: x[0])\n",
        "    d['right_percent'] = d['group_stat'].apply(lambda x: x[1])\n",
        "    d['all'] = d['group_stat'].apply(lambda x: x[2])\n",
        "    d.drop('group_stat', axis=1, inplace=True)\n",
        "    return d"
      ]
    },
    {
      "cell_type": "code",
      "execution_count": 40,
      "metadata": {
        "id": "FWAskyxT1qkd",
        "colab": {
          "base_uri": "https://localhost:8080/"
        },
        "outputId": "7e4fa5d2-583c-42b3-8f48-ae7a9fa93bdd"
      },
      "outputs": [
        {
          "output_type": "stream",
          "name": "stdout",
          "text": [
            "taiga 10274\n",
            "poetry 10038\n",
            "gsd 11385\n",
            "pud 19355\n",
            "syntagrus 157718\n"
          ]
        }
      ],
      "source": [
        "for tr in treebank_names:\n",
        "  print(tr, len(result_df[tr]))"
      ]
    },
    {
      "cell_type": "markdown",
      "source": [
        "# Доля токенов с верным/неверным unk (вычисление по всем токенам)"
      ],
      "metadata": {
        "id": "AIS3R16ozRqI"
      }
    },
    {
      "cell_type": "code",
      "source": [
        "unk_stat = {}\n",
        "for tr in treebank_names:\n",
        "  unk_stat[tr] = pd.DataFrame({'uas': align_uas_f[tr]['natasha'], 'las': align_las_f[tr]['natasha']})\n",
        "  unk_stat[tr][f'uas_bins'] = pd.cut(unk_stat[tr]['uas'], include_lowest=True, right=False,\n",
        "                           bins=[0, 0.2, 0.4, 0.6, 0.8, 1.0, 1.1])\n",
        "  unk_stat[tr][f'las_bins'] = pd.cut(unk_stat[tr]['las'], include_lowest=True, right=False,\n",
        "                           bins=[0, 0.2, 0.4, 0.6, 0.8, 1.0, 1.1])\n",
        "  unk_stat[tr]['unk_amount'] = [ len([t for t in s.tokens if t.emb_unk]) for s in parser_res['natasha'][tr] ]\n",
        "  unk_stat[tr]['sent_len'] = [ len(s.tokens) for s in parser_res['natasha'][tr] ]\n",
        "  unk_stat[tr]['unk_proportion'] = unk_stat[tr]['unk_amount'] / unk_stat[tr]['sent_len']\n",
        "  unk_stat[tr]['unk_amount_bins'] = pd.cut(unk_stat[tr]['unk_amount'], include_lowest=True, right=False,\n",
        "                           bins=[0, 10, 20, 30, 40, 50, 1000])\n",
        "  unk_stat[tr]['unk_proportion_bins'] = pd.cut(unk_stat[tr]['unk_proportion'], include_lowest=True, right=False,\n",
        "                           bins=[0.0, 0.2, 0.4, 0.6, 0.8, 1.0, 1.1])\n",
        "  unk_stat[tr]['sent_len_bins'] = pd.cut(unk_stat[tr]['sent_len'], include_lowest=True, right=False,\n",
        "                           bins=[0, 10, 20, 30, 40, 50, 60, 70, 1000])"
      ],
      "metadata": {
        "id": "XGTekt409IHb"
      },
      "execution_count": 59,
      "outputs": []
    },
    {
      "cell_type": "code",
      "source": [
        "unk_stat[tr]"
      ],
      "metadata": {
        "colab": {
          "base_uri": "https://localhost:8080/",
          "height": 424
        },
        "id": "zUJLdk5r9zxI",
        "outputId": "aceb48eb-bbdc-406f-b433-71678abe5767"
      },
      "execution_count": 60,
      "outputs": [
        {
          "output_type": "execute_result",
          "data": {
            "text/plain": [
              "           uas       las    uas_bins    las_bins  unk_amount  sent_len  \\\n",
              "0     0.827586  0.689655  [0.8, 1.0)  [0.6, 0.8)           2        14   \n",
              "1     0.941176  0.882353  [0.8, 1.0)  [0.8, 1.0)           1        17   \n",
              "2     0.935484  0.903226  [0.8, 1.0)  [0.8, 1.0)           4        31   \n",
              "3     0.900000  0.866667  [0.8, 1.0)  [0.8, 1.0)           5        30   \n",
              "4     1.000000  1.000000  [1.0, 1.1)  [1.0, 1.1)           1         7   \n",
              "...        ...       ...         ...         ...         ...       ...   \n",
              "8795  0.857143  0.857143  [0.8, 1.0)  [0.8, 1.0)           5         7   \n",
              "8796  1.000000  1.000000  [1.0, 1.1)  [1.0, 1.1)           3         3   \n",
              "8797  0.800000  0.600000  [0.8, 1.0)  [0.6, 0.8)           4        10   \n",
              "8798  0.866667  0.733333  [0.8, 1.0)  [0.6, 0.8)           3        15   \n",
              "8799  1.000000  1.000000  [1.0, 1.1)  [1.0, 1.1)           5        14   \n",
              "\n",
              "      unk_proportion unk_amount_bins unk_proportion_bins sent_len_bins  \n",
              "0           0.142857         [0, 10)          [0.0, 0.2)      [10, 20)  \n",
              "1           0.058824         [0, 10)          [0.0, 0.2)      [10, 20)  \n",
              "2           0.129032         [0, 10)          [0.0, 0.2)      [30, 40)  \n",
              "3           0.166667         [0, 10)          [0.0, 0.2)      [30, 40)  \n",
              "4           0.142857         [0, 10)          [0.0, 0.2)       [0, 10)  \n",
              "...              ...             ...                 ...           ...  \n",
              "8795        0.714286         [0, 10)          [0.6, 0.8)       [0, 10)  \n",
              "8796        1.000000         [0, 10)          [1.0, 1.1)       [0, 10)  \n",
              "8797        0.400000         [0, 10)          [0.4, 0.6)      [10, 20)  \n",
              "8798        0.200000         [0, 10)          [0.2, 0.4)      [10, 20)  \n",
              "8799        0.357143         [0, 10)          [0.2, 0.4)      [10, 20)  \n",
              "\n",
              "[8800 rows x 10 columns]"
            ],
            "text/html": [
              "\n",
              "  <div id=\"df-150e82fb-3393-45fc-851e-45194f2ec389\" class=\"colab-df-container\">\n",
              "    <div>\n",
              "<style scoped>\n",
              "    .dataframe tbody tr th:only-of-type {\n",
              "        vertical-align: middle;\n",
              "    }\n",
              "\n",
              "    .dataframe tbody tr th {\n",
              "        vertical-align: top;\n",
              "    }\n",
              "\n",
              "    .dataframe thead th {\n",
              "        text-align: right;\n",
              "    }\n",
              "</style>\n",
              "<table border=\"1\" class=\"dataframe\">\n",
              "  <thead>\n",
              "    <tr style=\"text-align: right;\">\n",
              "      <th></th>\n",
              "      <th>uas</th>\n",
              "      <th>las</th>\n",
              "      <th>uas_bins</th>\n",
              "      <th>las_bins</th>\n",
              "      <th>unk_amount</th>\n",
              "      <th>sent_len</th>\n",
              "      <th>unk_proportion</th>\n",
              "      <th>unk_amount_bins</th>\n",
              "      <th>unk_proportion_bins</th>\n",
              "      <th>sent_len_bins</th>\n",
              "    </tr>\n",
              "  </thead>\n",
              "  <tbody>\n",
              "    <tr>\n",
              "      <th>0</th>\n",
              "      <td>0.827586</td>\n",
              "      <td>0.689655</td>\n",
              "      <td>[0.8, 1.0)</td>\n",
              "      <td>[0.6, 0.8)</td>\n",
              "      <td>2</td>\n",
              "      <td>14</td>\n",
              "      <td>0.142857</td>\n",
              "      <td>[0, 10)</td>\n",
              "      <td>[0.0, 0.2)</td>\n",
              "      <td>[10, 20)</td>\n",
              "    </tr>\n",
              "    <tr>\n",
              "      <th>1</th>\n",
              "      <td>0.941176</td>\n",
              "      <td>0.882353</td>\n",
              "      <td>[0.8, 1.0)</td>\n",
              "      <td>[0.8, 1.0)</td>\n",
              "      <td>1</td>\n",
              "      <td>17</td>\n",
              "      <td>0.058824</td>\n",
              "      <td>[0, 10)</td>\n",
              "      <td>[0.0, 0.2)</td>\n",
              "      <td>[10, 20)</td>\n",
              "    </tr>\n",
              "    <tr>\n",
              "      <th>2</th>\n",
              "      <td>0.935484</td>\n",
              "      <td>0.903226</td>\n",
              "      <td>[0.8, 1.0)</td>\n",
              "      <td>[0.8, 1.0)</td>\n",
              "      <td>4</td>\n",
              "      <td>31</td>\n",
              "      <td>0.129032</td>\n",
              "      <td>[0, 10)</td>\n",
              "      <td>[0.0, 0.2)</td>\n",
              "      <td>[30, 40)</td>\n",
              "    </tr>\n",
              "    <tr>\n",
              "      <th>3</th>\n",
              "      <td>0.900000</td>\n",
              "      <td>0.866667</td>\n",
              "      <td>[0.8, 1.0)</td>\n",
              "      <td>[0.8, 1.0)</td>\n",
              "      <td>5</td>\n",
              "      <td>30</td>\n",
              "      <td>0.166667</td>\n",
              "      <td>[0, 10)</td>\n",
              "      <td>[0.0, 0.2)</td>\n",
              "      <td>[30, 40)</td>\n",
              "    </tr>\n",
              "    <tr>\n",
              "      <th>4</th>\n",
              "      <td>1.000000</td>\n",
              "      <td>1.000000</td>\n",
              "      <td>[1.0, 1.1)</td>\n",
              "      <td>[1.0, 1.1)</td>\n",
              "      <td>1</td>\n",
              "      <td>7</td>\n",
              "      <td>0.142857</td>\n",
              "      <td>[0, 10)</td>\n",
              "      <td>[0.0, 0.2)</td>\n",
              "      <td>[0, 10)</td>\n",
              "    </tr>\n",
              "    <tr>\n",
              "      <th>...</th>\n",
              "      <td>...</td>\n",
              "      <td>...</td>\n",
              "      <td>...</td>\n",
              "      <td>...</td>\n",
              "      <td>...</td>\n",
              "      <td>...</td>\n",
              "      <td>...</td>\n",
              "      <td>...</td>\n",
              "      <td>...</td>\n",
              "      <td>...</td>\n",
              "    </tr>\n",
              "    <tr>\n",
              "      <th>8795</th>\n",
              "      <td>0.857143</td>\n",
              "      <td>0.857143</td>\n",
              "      <td>[0.8, 1.0)</td>\n",
              "      <td>[0.8, 1.0)</td>\n",
              "      <td>5</td>\n",
              "      <td>7</td>\n",
              "      <td>0.714286</td>\n",
              "      <td>[0, 10)</td>\n",
              "      <td>[0.6, 0.8)</td>\n",
              "      <td>[0, 10)</td>\n",
              "    </tr>\n",
              "    <tr>\n",
              "      <th>8796</th>\n",
              "      <td>1.000000</td>\n",
              "      <td>1.000000</td>\n",
              "      <td>[1.0, 1.1)</td>\n",
              "      <td>[1.0, 1.1)</td>\n",
              "      <td>3</td>\n",
              "      <td>3</td>\n",
              "      <td>1.000000</td>\n",
              "      <td>[0, 10)</td>\n",
              "      <td>[1.0, 1.1)</td>\n",
              "      <td>[0, 10)</td>\n",
              "    </tr>\n",
              "    <tr>\n",
              "      <th>8797</th>\n",
              "      <td>0.800000</td>\n",
              "      <td>0.600000</td>\n",
              "      <td>[0.8, 1.0)</td>\n",
              "      <td>[0.6, 0.8)</td>\n",
              "      <td>4</td>\n",
              "      <td>10</td>\n",
              "      <td>0.400000</td>\n",
              "      <td>[0, 10)</td>\n",
              "      <td>[0.4, 0.6)</td>\n",
              "      <td>[10, 20)</td>\n",
              "    </tr>\n",
              "    <tr>\n",
              "      <th>8798</th>\n",
              "      <td>0.866667</td>\n",
              "      <td>0.733333</td>\n",
              "      <td>[0.8, 1.0)</td>\n",
              "      <td>[0.6, 0.8)</td>\n",
              "      <td>3</td>\n",
              "      <td>15</td>\n",
              "      <td>0.200000</td>\n",
              "      <td>[0, 10)</td>\n",
              "      <td>[0.2, 0.4)</td>\n",
              "      <td>[10, 20)</td>\n",
              "    </tr>\n",
              "    <tr>\n",
              "      <th>8799</th>\n",
              "      <td>1.000000</td>\n",
              "      <td>1.000000</td>\n",
              "      <td>[1.0, 1.1)</td>\n",
              "      <td>[1.0, 1.1)</td>\n",
              "      <td>5</td>\n",
              "      <td>14</td>\n",
              "      <td>0.357143</td>\n",
              "      <td>[0, 10)</td>\n",
              "      <td>[0.2, 0.4)</td>\n",
              "      <td>[10, 20)</td>\n",
              "    </tr>\n",
              "  </tbody>\n",
              "</table>\n",
              "<p>8800 rows × 10 columns</p>\n",
              "</div>\n",
              "    <div class=\"colab-df-buttons\">\n",
              "\n",
              "  <div class=\"colab-df-container\">\n",
              "    <button class=\"colab-df-convert\" onclick=\"convertToInteractive('df-150e82fb-3393-45fc-851e-45194f2ec389')\"\n",
              "            title=\"Convert this dataframe to an interactive table.\"\n",
              "            style=\"display:none;\">\n",
              "\n",
              "  <svg xmlns=\"http://www.w3.org/2000/svg\" height=\"24px\" viewBox=\"0 -960 960 960\">\n",
              "    <path d=\"M120-120v-720h720v720H120Zm60-500h600v-160H180v160Zm220 220h160v-160H400v160Zm0 220h160v-160H400v160ZM180-400h160v-160H180v160Zm440 0h160v-160H620v160ZM180-180h160v-160H180v160Zm440 0h160v-160H620v160Z\"/>\n",
              "  </svg>\n",
              "    </button>\n",
              "\n",
              "  <style>\n",
              "    .colab-df-container {\n",
              "      display:flex;\n",
              "      gap: 12px;\n",
              "    }\n",
              "\n",
              "    .colab-df-convert {\n",
              "      background-color: #E8F0FE;\n",
              "      border: none;\n",
              "      border-radius: 50%;\n",
              "      cursor: pointer;\n",
              "      display: none;\n",
              "      fill: #1967D2;\n",
              "      height: 32px;\n",
              "      padding: 0 0 0 0;\n",
              "      width: 32px;\n",
              "    }\n",
              "\n",
              "    .colab-df-convert:hover {\n",
              "      background-color: #E2EBFA;\n",
              "      box-shadow: 0px 1px 2px rgba(60, 64, 67, 0.3), 0px 1px 3px 1px rgba(60, 64, 67, 0.15);\n",
              "      fill: #174EA6;\n",
              "    }\n",
              "\n",
              "    .colab-df-buttons div {\n",
              "      margin-bottom: 4px;\n",
              "    }\n",
              "\n",
              "    [theme=dark] .colab-df-convert {\n",
              "      background-color: #3B4455;\n",
              "      fill: #D2E3FC;\n",
              "    }\n",
              "\n",
              "    [theme=dark] .colab-df-convert:hover {\n",
              "      background-color: #434B5C;\n",
              "      box-shadow: 0px 1px 3px 1px rgba(0, 0, 0, 0.15);\n",
              "      filter: drop-shadow(0px 1px 2px rgba(0, 0, 0, 0.3));\n",
              "      fill: #FFFFFF;\n",
              "    }\n",
              "  </style>\n",
              "\n",
              "    <script>\n",
              "      const buttonEl =\n",
              "        document.querySelector('#df-150e82fb-3393-45fc-851e-45194f2ec389 button.colab-df-convert');\n",
              "      buttonEl.style.display =\n",
              "        google.colab.kernel.accessAllowed ? 'block' : 'none';\n",
              "\n",
              "      async function convertToInteractive(key) {\n",
              "        const element = document.querySelector('#df-150e82fb-3393-45fc-851e-45194f2ec389');\n",
              "        const dataTable =\n",
              "          await google.colab.kernel.invokeFunction('convertToInteractive',\n",
              "                                                    [key], {});\n",
              "        if (!dataTable) return;\n",
              "\n",
              "        const docLinkHtml = 'Like what you see? Visit the ' +\n",
              "          '<a target=\"_blank\" href=https://colab.research.google.com/notebooks/data_table.ipynb>data table notebook</a>'\n",
              "          + ' to learn more about interactive tables.';\n",
              "        element.innerHTML = '';\n",
              "        dataTable['output_type'] = 'display_data';\n",
              "        await google.colab.output.renderOutput(dataTable, element);\n",
              "        const docLink = document.createElement('div');\n",
              "        docLink.innerHTML = docLinkHtml;\n",
              "        element.appendChild(docLink);\n",
              "      }\n",
              "    </script>\n",
              "  </div>\n",
              "\n",
              "\n",
              "    <div id=\"df-e580d1ad-2d32-4bb5-9f5d-ef2570d6d5b5\">\n",
              "      <button class=\"colab-df-quickchart\" onclick=\"quickchart('df-e580d1ad-2d32-4bb5-9f5d-ef2570d6d5b5')\"\n",
              "                title=\"Suggest charts\"\n",
              "                style=\"display:none;\">\n",
              "\n",
              "<svg xmlns=\"http://www.w3.org/2000/svg\" height=\"24px\"viewBox=\"0 0 24 24\"\n",
              "     width=\"24px\">\n",
              "    <g>\n",
              "        <path d=\"M19 3H5c-1.1 0-2 .9-2 2v14c0 1.1.9 2 2 2h14c1.1 0 2-.9 2-2V5c0-1.1-.9-2-2-2zM9 17H7v-7h2v7zm4 0h-2V7h2v10zm4 0h-2v-4h2v4z\"/>\n",
              "    </g>\n",
              "</svg>\n",
              "      </button>\n",
              "\n",
              "<style>\n",
              "  .colab-df-quickchart {\n",
              "      --bg-color: #E8F0FE;\n",
              "      --fill-color: #1967D2;\n",
              "      --hover-bg-color: #E2EBFA;\n",
              "      --hover-fill-color: #174EA6;\n",
              "      --disabled-fill-color: #AAA;\n",
              "      --disabled-bg-color: #DDD;\n",
              "  }\n",
              "\n",
              "  [theme=dark] .colab-df-quickchart {\n",
              "      --bg-color: #3B4455;\n",
              "      --fill-color: #D2E3FC;\n",
              "      --hover-bg-color: #434B5C;\n",
              "      --hover-fill-color: #FFFFFF;\n",
              "      --disabled-bg-color: #3B4455;\n",
              "      --disabled-fill-color: #666;\n",
              "  }\n",
              "\n",
              "  .colab-df-quickchart {\n",
              "    background-color: var(--bg-color);\n",
              "    border: none;\n",
              "    border-radius: 50%;\n",
              "    cursor: pointer;\n",
              "    display: none;\n",
              "    fill: var(--fill-color);\n",
              "    height: 32px;\n",
              "    padding: 0;\n",
              "    width: 32px;\n",
              "  }\n",
              "\n",
              "  .colab-df-quickchart:hover {\n",
              "    background-color: var(--hover-bg-color);\n",
              "    box-shadow: 0 1px 2px rgba(60, 64, 67, 0.3), 0 1px 3px 1px rgba(60, 64, 67, 0.15);\n",
              "    fill: var(--button-hover-fill-color);\n",
              "  }\n",
              "\n",
              "  .colab-df-quickchart-complete:disabled,\n",
              "  .colab-df-quickchart-complete:disabled:hover {\n",
              "    background-color: var(--disabled-bg-color);\n",
              "    fill: var(--disabled-fill-color);\n",
              "    box-shadow: none;\n",
              "  }\n",
              "\n",
              "  .colab-df-spinner {\n",
              "    border: 2px solid var(--fill-color);\n",
              "    border-color: transparent;\n",
              "    border-bottom-color: var(--fill-color);\n",
              "    animation:\n",
              "      spin 1s steps(1) infinite;\n",
              "  }\n",
              "\n",
              "  @keyframes spin {\n",
              "    0% {\n",
              "      border-color: transparent;\n",
              "      border-bottom-color: var(--fill-color);\n",
              "      border-left-color: var(--fill-color);\n",
              "    }\n",
              "    20% {\n",
              "      border-color: transparent;\n",
              "      border-left-color: var(--fill-color);\n",
              "      border-top-color: var(--fill-color);\n",
              "    }\n",
              "    30% {\n",
              "      border-color: transparent;\n",
              "      border-left-color: var(--fill-color);\n",
              "      border-top-color: var(--fill-color);\n",
              "      border-right-color: var(--fill-color);\n",
              "    }\n",
              "    40% {\n",
              "      border-color: transparent;\n",
              "      border-right-color: var(--fill-color);\n",
              "      border-top-color: var(--fill-color);\n",
              "    }\n",
              "    60% {\n",
              "      border-color: transparent;\n",
              "      border-right-color: var(--fill-color);\n",
              "    }\n",
              "    80% {\n",
              "      border-color: transparent;\n",
              "      border-right-color: var(--fill-color);\n",
              "      border-bottom-color: var(--fill-color);\n",
              "    }\n",
              "    90% {\n",
              "      border-color: transparent;\n",
              "      border-bottom-color: var(--fill-color);\n",
              "    }\n",
              "  }\n",
              "</style>\n",
              "\n",
              "      <script>\n",
              "        async function quickchart(key) {\n",
              "          const quickchartButtonEl =\n",
              "            document.querySelector('#' + key + ' button');\n",
              "          quickchartButtonEl.disabled = true;  // To prevent multiple clicks.\n",
              "          quickchartButtonEl.classList.add('colab-df-spinner');\n",
              "          try {\n",
              "            const charts = await google.colab.kernel.invokeFunction(\n",
              "                'suggestCharts', [key], {});\n",
              "          } catch (error) {\n",
              "            console.error('Error during call to suggestCharts:', error);\n",
              "          }\n",
              "          quickchartButtonEl.classList.remove('colab-df-spinner');\n",
              "          quickchartButtonEl.classList.add('colab-df-quickchart-complete');\n",
              "        }\n",
              "        (() => {\n",
              "          let quickchartButtonEl =\n",
              "            document.querySelector('#df-e580d1ad-2d32-4bb5-9f5d-ef2570d6d5b5 button');\n",
              "          quickchartButtonEl.style.display =\n",
              "            google.colab.kernel.accessAllowed ? 'block' : 'none';\n",
              "        })();\n",
              "      </script>\n",
              "    </div>\n",
              "    </div>\n",
              "  </div>\n"
            ],
            "application/vnd.google.colaboratory.intrinsic+json": {
              "type": "dataframe",
              "summary": "{\n  \"name\": \"unk_stat[tr]\",\n  \"rows\": 8800,\n  \"fields\": [\n    {\n      \"column\": \"uas\",\n      \"properties\": {\n        \"dtype\": \"number\",\n        \"std\": 0.17143191593764248,\n        \"min\": 0.0,\n        \"max\": 1.0,\n        \"num_unique_values\": 629,\n        \"samples\": [\n          0.9142857142857143,\n          0.6774193548387096,\n          0.7446808510638298\n        ],\n        \"semantic_type\": \"\",\n        \"description\": \"\"\n      }\n    },\n    {\n      \"column\": \"las\",\n      \"properties\": {\n        \"dtype\": \"number\",\n        \"std\": 0.1791240770115982,\n        \"min\": 0.0,\n        \"max\": 1.0,\n        \"num_unique_values\": 640,\n        \"samples\": [\n          0.967741935483871,\n          0.8846153846153846,\n          0.33333333333333337\n        ],\n        \"semantic_type\": \"\",\n        \"description\": \"\"\n      }\n    },\n    {\n      \"column\": \"uas_bins\",\n      \"properties\": {\n        \"dtype\": \"category\",\n        \"num_unique_values\": 6,\n        \"samples\": [\n          \"[0.8, 1.0)\",\n          \"[1.0, 1.1)\",\n          \"[0.0, 0.2)\"\n        ],\n        \"semantic_type\": \"\",\n        \"description\": \"\"\n      }\n    },\n    {\n      \"column\": \"las_bins\",\n      \"properties\": {\n        \"dtype\": \"category\",\n        \"num_unique_values\": 6,\n        \"samples\": [\n          \"[0.6, 0.8)\",\n          \"[0.8, 1.0)\",\n          \"[0.0, 0.2)\"\n        ],\n        \"semantic_type\": \"\",\n        \"description\": \"\"\n      }\n    },\n    {\n      \"column\": \"unk_amount\",\n      \"properties\": {\n        \"dtype\": \"number\",\n        \"std\": 3,\n        \"min\": 1,\n        \"max\": 33,\n        \"num_unique_values\": 27,\n        \"samples\": [\n          7,\n          11,\n          14\n        ],\n        \"semantic_type\": \"\",\n        \"description\": \"\"\n      }\n    },\n    {\n      \"column\": \"sent_len\",\n      \"properties\": {\n        \"dtype\": \"number\",\n        \"std\": 11,\n        \"min\": 2,\n        \"max\": 127,\n        \"num_unique_values\": 79,\n        \"samples\": [\n          29,\n          14,\n          10\n        ],\n        \"semantic_type\": \"\",\n        \"description\": \"\"\n      }\n    },\n    {\n      \"column\": \"unk_proportion\",\n      \"properties\": {\n        \"dtype\": \"number\",\n        \"std\": 0.11974097490550048,\n        \"min\": 0.034482758620689655,\n        \"max\": 1.0,\n        \"num_unique_values\": 377,\n        \"samples\": [\n          0.20754716981132076,\n          0.3673469387755102,\n          0.38\n        ],\n        \"semantic_type\": \"\",\n        \"description\": \"\"\n      }\n    },\n    {\n      \"column\": \"unk_amount_bins\",\n      \"properties\": {\n        \"dtype\": \"category\",\n        \"num_unique_values\": 4,\n        \"samples\": [\n          \"[10, 20)\",\n          \"[20, 30)\",\n          \"[0, 10)\"\n        ],\n        \"semantic_type\": \"\",\n        \"description\": \"\"\n      }\n    },\n    {\n      \"column\": \"unk_proportion_bins\",\n      \"properties\": {\n        \"dtype\": \"category\",\n        \"num_unique_values\": 6,\n        \"samples\": [\n          \"[0.0, 0.2)\",\n          \"[0.2, 0.4)\",\n          \"[0.8, 1.0)\"\n        ],\n        \"semantic_type\": \"\",\n        \"description\": \"\"\n      }\n    },\n    {\n      \"column\": \"sent_len_bins\",\n      \"properties\": {\n        \"dtype\": \"category\",\n        \"num_unique_values\": 8,\n        \"samples\": [\n          \"[30, 40)\",\n          \"[50, 60)\",\n          \"[10, 20)\"\n        ],\n        \"semantic_type\": \"\",\n        \"description\": \"\"\n      }\n    }\n  ]\n}"
            }
          },
          "metadata": {},
          "execution_count": 60
        }
      ]
    },
    {
      "cell_type": "code",
      "source": [
        "import matplotlib.pyplot as plt\n"
      ],
      "metadata": {
        "id": "C68EzPM7UbWs"
      },
      "execution_count": 61,
      "outputs": []
    },
    {
      "cell_type": "code",
      "source": [
        "column_names = sorted(list(unk_stat['syntagrus']['unk_proportion_bins'].unique()))\n",
        "row_names = sorted(list(unk_stat['syntagrus']['uas_bins'].unique()))"
      ],
      "metadata": {
        "id": "pMp95CxslXBO"
      },
      "execution_count": 62,
      "outputs": []
    },
    {
      "cell_type": "code",
      "source": [
        "import seaborn as sns"
      ],
      "metadata": {
        "id": "fnzxE3N9RAZk"
      },
      "execution_count": 63,
      "outputs": []
    },
    {
      "cell_type": "code",
      "source": [
        "treebank_names_sorted = sorted(treebank_names, key=lambda tr: -len(align_uas_f[tr]['natasha']))\n",
        "treebank_names_sorted"
      ],
      "metadata": {
        "colab": {
          "base_uri": "https://localhost:8080/"
        },
        "id": "vU0AH-sDFqtV",
        "outputId": "ca0a0fd8-f028-43a3-bbd3-dcab75c1b4aa"
      },
      "execution_count": 64,
      "outputs": [
        {
          "output_type": "execute_result",
          "data": {
            "text/plain": [
              "['syntagrus', 'pud', 'taiga', 'poetry', 'gsd']"
            ]
          },
          "metadata": {},
          "execution_count": 64
        }
      ]
    },
    {
      "cell_type": "code",
      "source": [
        "f, axs = plt.subplots(len(treebank_names_sorted), 2, figsize=(10, 15), constrained_layout=True, sharey=True)\n",
        "#f.autofmt_xdate(rotation=75)\n",
        "\n",
        "x_dict = {'[0.0, 0.2)': 0.0,\n",
        "          '[0.2, 0.4)': 0.9,\n",
        "          '[0.4, 0.6)': 1.8,\n",
        "          '[0.6, 0.8)': 2.7,\n",
        "          '[0.8, 1.0)': 3.6,\n",
        "          '[1.0, 1.1)': 4.5}\n",
        "\n",
        "y_dict = {'[0.0, 0.2)': 0.0,\n",
        "          '[0.2, 0.4)': 0.8,\n",
        "          '[0.4, 0.6)': 1.6,\n",
        "          '[0.6, 0.8)': 2.4,\n",
        "          '[0.8, 1.0)': 3.2,\n",
        "          '[1.0, 1.1)': 4.0}\n",
        "\n",
        "x_step = 0.9\n",
        "y_step = 0.8\n",
        "\n",
        "for ax_r, tr in enumerate(treebank_names_sorted):\n",
        "  for ax_c, metric in enumerate(['uas', 'las']):\n",
        "    vc_stat_norm = unk_stat[tr][['unk_proportion_bins', f'{metric}_bins']].value_counts(normalize=True).sort_index()\n",
        "    vc_stat = unk_stat[tr][['unk_proportion_bins', f'{metric}_bins']].value_counts().sort_index()\n",
        "    x = []\n",
        "    y = []\n",
        "    s = []\n",
        "    labs = []\n",
        "    for pr, m in vc_stat.index:\n",
        "        #if pr.left == 1.0:\n",
        "        #  x.append('1.0')\n",
        "        #else:\n",
        "        x.append(str(pr))\n",
        "        #if m.left == 1.0:\n",
        "        #  y.append('1.0')\n",
        "        #else:\n",
        "        y.append(str(m))\n",
        "        s.append(vc_stat_norm[pr][m])\n",
        "        labs.append(vc_stat[pr][m])\n",
        "\n",
        "    axs[ax_r][ax_c].scatter([x_dict[x_lab] for x_lab in x], [y_dict[y_lab] for y_lab in y], [s_val * 3000 for s_val in s], alpha=0.5, color='grey', marker=8)\n",
        "    for i in range(len(x)):\n",
        "        axs[ax_r][ax_c].text(x_dict[x[i]], y_dict[y[i]], labs[i], ha='left', va='center', size=12)\n",
        "    if ax_r == len(treebank_names_sorted) - 1:\n",
        "      axs[ax_r][ax_c].set_xlabel('Доля \"зашумленных\" токенов')\n",
        "    axs[ax_r][ax_c].set_xticks(ticks=list(x_dict.values()), labels=list(x_dict.keys())[:-1] + ['1.0'], fontsize=10)\n",
        "    axs[ax_r][ax_c].set_yticks(ticks=list(y_dict.values()), labels=list(y_dict.keys())[:-1] + ['1.0'], fontsize=10)\n",
        "    axs[ax_r][ax_c].set_xlim(-0.5, 5.0)\n",
        "    axs[ax_r][ax_c].set_ylim(-0.5, 4.5)\n",
        "    axs[ax_r][ax_c].set_ylabel(metric)\n",
        "    axs[ax_r][ax_c].set_title(f'{tr}_{metric}', weight='bold')\n",
        "plt.savefig('relative_proportion_metric.pdf', bbox_inches='tight')\n",
        "plt.show()"
      ],
      "metadata": {
        "id": "AHwaGzn7FXMa",
        "outputId": "ef82665d-6de4-4864-ee1c-cc258eae0e15",
        "colab": {
          "base_uri": "https://localhost:8080/",
          "height": 1000
        }
      },
      "execution_count": 66,
      "outputs": [
        {
          "output_type": "display_data",
          "data": {
            "text/plain": [
              "<Figure size 1000x1500 with 10 Axes>"
            ],
            "image/png": "[encoded data removed]"
          },
          "metadata": {}
        }
      ]
    },
    {
      "cell_type": "markdown",
      "source": [
        "# Анализ зашумленных предложений с высокими значениями метрик"
      ],
      "metadata": {
        "id": "815q5W9A1EZ-"
      }
    },
    {
      "cell_type": "code",
      "source": [
        "sent_id_i_dict = {tr: {} for tr in treebank_names}\n",
        "for tr in treebank_names:\n",
        "  for i, s in enumerate(treebanks[tr]):\n",
        "    sent_id_i_dict[tr][s.sent_id] = i"
      ],
      "metadata": {
        "id": "cPFccK4ult3t"
      },
      "execution_count": 68,
      "outputs": []
    },
    {
      "cell_type": "code",
      "source": [
        "from collections import Counter\n",
        "\n",
        "def f(r):\n",
        "  return sorted(list(Counter([(float(r_v[0]), float(r_v[1])) for r_v in r.values]).items()))\n",
        "\n",
        "sent_len8_df = {}\n",
        "for tr in treebank_names:\n",
        "  stat_list = []\n",
        "  a = unk_stat[tr][unk_stat[tr]['unk_proportion'] >= 0.8].round(2).groupby('sent_len')[['unk_proportion', 'uas']].apply(f).to_dict()\n",
        "  for sent_len_key in a.keys():\n",
        "    for (unk_p, uas_m), amount in a[sent_len_key]:\n",
        "      stat_list.append((sent_len_key, unk_p, uas_m, amount))\n",
        "  sent_len8_df[tr] = pd.DataFrame(stat_list, columns=['sent_len', 'unk_proportion', 'uas', 'amount']).sort_values(by=['sent_len', 'unk_proportion', 'uas'])"
      ],
      "metadata": {
        "id": "HUbHUncS2WHl"
      },
      "execution_count": 71,
      "outputs": []
    },
    {
      "cell_type": "code",
      "source": [
        "for tr in treebank_names_sorted:\n",
        "  print(tr)\n",
        "  print(sent_len8_df[tr].round(2))\n",
        "  print()"
      ],
      "metadata": {
        "colab": {
          "base_uri": "https://localhost:8080/"
        },
        "id": "CcdTo2419W1P",
        "outputId": "d661c893-30a4-4a05-cbf8-22f80c6c21b6"
      },
      "execution_count": 103,
      "outputs": [
        {
          "output_type": "stream",
          "name": "stdout",
          "text": [
            "syntagrus\n",
            "   sent_len  unk_proportion   uas  amount\n",
            "0         2             1.0  0.00       1\n",
            "1         2             1.0  1.00      14\n",
            "2         3             1.0  0.00       1\n",
            "3         3             1.0  1.00       4\n",
            "4         5             0.8  0.14       1\n",
            "5         5             0.8  0.60       1\n",
            "\n",
            "pud\n",
            "Empty DataFrame\n",
            "Columns: [sent_len, unk_proportion, uas, amount]\n",
            "Index: []\n",
            "\n",
            "taiga\n",
            "    sent_len  unk_proportion   uas  amount\n",
            "0          1            1.00  0.00       2\n",
            "1          2            1.00  0.00       2\n",
            "2          2            1.00  1.00       7\n",
            "3          3            1.00  0.00       1\n",
            "4          5            0.80  0.20       1\n",
            "5          5            0.80  0.60       1\n",
            "6          5            0.80  1.00       1\n",
            "7          6            0.83  0.00       1\n",
            "8          6            0.83  0.18       1\n",
            "9          7            1.00  0.31       1\n",
            "10        10            0.80  0.24       1\n",
            "11        10            0.90  0.70       1\n",
            "12        15            0.87  0.08       1\n",
            "\n",
            "poetry\n",
            "   sent_len  unk_proportion  uas  amount\n",
            "0         1             1.0  0.0       6\n",
            "1         1             1.0  1.0       7\n",
            "2         2             1.0  1.0       2\n",
            "3         4             1.0  1.0       1\n",
            "4         5             1.0  1.0       1\n",
            "\n",
            "gsd\n",
            "   sent_len  unk_proportion   uas  amount\n",
            "0         5            0.80  0.20       1\n",
            "1        12            0.83  0.75       1\n",
            "2        54            0.87  0.18       1\n",
            "3        59            0.95  0.05       1\n",
            "4       305            0.83  0.17       1\n",
            "\n"
          ]
        }
      ]
    },
    {
      "cell_type": "code",
      "source": [
        "unk_stat['taiga'][(unk_stat['taiga']['sent_len'] > 7) & (unk_stat['taiga']['uas'] >= 0.7) & (unk_stat['taiga']['unk_proportion'] >= 0.8)]"
      ],
      "metadata": {
        "id": "sO3uMRXc6i_R",
        "colab": {
          "base_uri": "https://localhost:8080/",
          "height": 81
        },
        "outputId": "705351dd-80d8-492a-b09d-10ff2c1dd486"
      },
      "execution_count": 75,
      "outputs": [
        {
          "output_type": "execute_result",
          "data": {
            "text/plain": [
              "     uas  las    uas_bins    las_bins  unk_amount  sent_len  unk_proportion  \\\n",
              "680  0.7  0.7  [0.6, 0.8)  [0.6, 0.8)           9        10             0.9   \n",
              "\n",
              "    unk_amount_bins unk_proportion_bins sent_len_bins  \n",
              "680         [0, 10)          [0.8, 1.0)      [10, 20)  "
            ],
            "text/html": [
              "\n",
              "  <div id=\"df-5e0490ed-aa3d-4a84-a13a-17aa7388fef4\" class=\"colab-df-container\">\n",
              "    <div>\n",
              "<style scoped>\n",
              "    .dataframe tbody tr th:only-of-type {\n",
              "        vertical-align: middle;\n",
              "    }\n",
              "\n",
              "    .dataframe tbody tr th {\n",
              "        vertical-align: top;\n",
              "    }\n",
              "\n",
              "    .dataframe thead th {\n",
              "        text-align: right;\n",
              "    }\n",
              "</style>\n",
              "<table border=\"1\" class=\"dataframe\">\n",
              "  <thead>\n",
              "    <tr style=\"text-align: right;\">\n",
              "      <th></th>\n",
              "      <th>uas</th>\n",
              "      <th>las</th>\n",
              "      <th>uas_bins</th>\n",
              "      <th>las_bins</th>\n",
              "      <th>unk_amount</th>\n",
              "      <th>sent_len</th>\n",
              "      <th>unk_proportion</th>\n",
              "      <th>unk_amount_bins</th>\n",
              "      <th>unk_proportion_bins</th>\n",
              "      <th>sent_len_bins</th>\n",
              "    </tr>\n",
              "  </thead>\n",
              "  <tbody>\n",
              "    <tr>\n",
              "      <th>680</th>\n",
              "      <td>0.7</td>\n",
              "      <td>0.7</td>\n",
              "      <td>[0.6, 0.8)</td>\n",
              "      <td>[0.6, 0.8)</td>\n",
              "      <td>9</td>\n",
              "      <td>10</td>\n",
              "      <td>0.9</td>\n",
              "      <td>[0, 10)</td>\n",
              "      <td>[0.8, 1.0)</td>\n",
              "      <td>[10, 20)</td>\n",
              "    </tr>\n",
              "  </tbody>\n",
              "</table>\n",
              "</div>\n",
              "    <div class=\"colab-df-buttons\">\n",
              "\n",
              "  <div class=\"colab-df-container\">\n",
              "    <button class=\"colab-df-convert\" onclick=\"convertToInteractive('df-5e0490ed-aa3d-4a84-a13a-17aa7388fef4')\"\n",
              "            title=\"Convert this dataframe to an interactive table.\"\n",
              "            style=\"display:none;\">\n",
              "\n",
              "  <svg xmlns=\"http://www.w3.org/2000/svg\" height=\"24px\" viewBox=\"0 -960 960 960\">\n",
              "    <path d=\"M120-120v-720h720v720H120Zm60-500h600v-160H180v160Zm220 220h160v-160H400v160Zm0 220h160v-160H400v160ZM180-400h160v-160H180v160Zm440 0h160v-160H620v160ZM180-180h160v-160H180v160Zm440 0h160v-160H620v160Z\"/>\n",
              "  </svg>\n",
              "    </button>\n",
              "\n",
              "  <style>\n",
              "    .colab-df-container {\n",
              "      display:flex;\n",
              "      gap: 12px;\n",
              "    }\n",
              "\n",
              "    .colab-df-convert {\n",
              "      background-color: #E8F0FE;\n",
              "      border: none;\n",
              "      border-radius: 50%;\n",
              "      cursor: pointer;\n",
              "      display: none;\n",
              "      fill: #1967D2;\n",
              "      height: 32px;\n",
              "      padding: 0 0 0 0;\n",
              "      width: 32px;\n",
              "    }\n",
              "\n",
              "    .colab-df-convert:hover {\n",
              "      background-color: #E2EBFA;\n",
              "      box-shadow: 0px 1px 2px rgba(60, 64, 67, 0.3), 0px 1px 3px 1px rgba(60, 64, 67, 0.15);\n",
              "      fill: #174EA6;\n",
              "    }\n",
              "\n",
              "    .colab-df-buttons div {\n",
              "      margin-bottom: 4px;\n",
              "    }\n",
              "\n",
              "    [theme=dark] .colab-df-convert {\n",
              "      background-color: #3B4455;\n",
              "      fill: #D2E3FC;\n",
              "    }\n",
              "\n",
              "    [theme=dark] .colab-df-convert:hover {\n",
              "      background-color: #434B5C;\n",
              "      box-shadow: 0px 1px 3px 1px rgba(0, 0, 0, 0.15);\n",
              "      filter: drop-shadow(0px 1px 2px rgba(0, 0, 0, 0.3));\n",
              "      fill: #FFFFFF;\n",
              "    }\n",
              "  </style>\n",
              "\n",
              "    <script>\n",
              "      const buttonEl =\n",
              "        document.querySelector('#df-5e0490ed-aa3d-4a84-a13a-17aa7388fef4 button.colab-df-convert');\n",
              "      buttonEl.style.display =\n",
              "        google.colab.kernel.accessAllowed ? 'block' : 'none';\n",
              "\n",
              "      async function convertToInteractive(key) {\n",
              "        const element = document.querySelector('#df-5e0490ed-aa3d-4a84-a13a-17aa7388fef4');\n",
              "        const dataTable =\n",
              "          await google.colab.kernel.invokeFunction('convertToInteractive',\n",
              "                                                    [key], {});\n",
              "        if (!dataTable) return;\n",
              "\n",
              "        const docLinkHtml = 'Like what you see? Visit the ' +\n",
              "          '<a target=\"_blank\" href=https://colab.research.google.com/notebooks/data_table.ipynb>data table notebook</a>'\n",
              "          + ' to learn more about interactive tables.';\n",
              "        element.innerHTML = '';\n",
              "        dataTable['output_type'] = 'display_data';\n",
              "        await google.colab.output.renderOutput(dataTable, element);\n",
              "        const docLink = document.createElement('div');\n",
              "        docLink.innerHTML = docLinkHtml;\n",
              "        element.appendChild(docLink);\n",
              "      }\n",
              "    </script>\n",
              "  </div>\n",
              "\n",
              "    </div>\n",
              "  </div>\n"
            ],
            "application/vnd.google.colaboratory.intrinsic+json": {
              "type": "dataframe",
              "summary": "{\n  \"name\": \"unk_stat['taiga'][(unk_stat['taiga']['sent_len'] > 7) & (unk_stat['taiga']['uas'] >= 0\",\n  \"rows\": 1,\n  \"fields\": [\n    {\n      \"column\": \"uas\",\n      \"properties\": {\n        \"dtype\": \"number\",\n        \"std\": null,\n        \"min\": 0.7,\n        \"max\": 0.7,\n        \"num_unique_values\": 1,\n        \"samples\": [\n          0.7\n        ],\n        \"semantic_type\": \"\",\n        \"description\": \"\"\n      }\n    },\n    {\n      \"column\": \"las\",\n      \"properties\": {\n        \"dtype\": \"number\",\n        \"std\": null,\n        \"min\": 0.7,\n        \"max\": 0.7,\n        \"num_unique_values\": 1,\n        \"samples\": [\n          0.7\n        ],\n        \"semantic_type\": \"\",\n        \"description\": \"\"\n      }\n    },\n    {\n      \"column\": \"uas_bins\",\n      \"properties\": {\n        \"dtype\": \"category\",\n        \"num_unique_values\": 1,\n        \"samples\": [\n          \"[0.6, 0.8)\"\n        ],\n        \"semantic_type\": \"\",\n        \"description\": \"\"\n      }\n    },\n    {\n      \"column\": \"las_bins\",\n      \"properties\": {\n        \"dtype\": \"category\",\n        \"num_unique_values\": 1,\n        \"samples\": [\n          \"[0.6, 0.8)\"\n        ],\n        \"semantic_type\": \"\",\n        \"description\": \"\"\n      }\n    },\n    {\n      \"column\": \"unk_amount\",\n      \"properties\": {\n        \"dtype\": \"number\",\n        \"std\": null,\n        \"min\": 9,\n        \"max\": 9,\n        \"num_unique_values\": 1,\n        \"samples\": [\n          9\n        ],\n        \"semantic_type\": \"\",\n        \"description\": \"\"\n      }\n    },\n    {\n      \"column\": \"sent_len\",\n      \"properties\": {\n        \"dtype\": \"number\",\n        \"std\": null,\n        \"min\": 10,\n        \"max\": 10,\n        \"num_unique_values\": 1,\n        \"samples\": [\n          10\n        ],\n        \"semantic_type\": \"\",\n        \"description\": \"\"\n      }\n    },\n    {\n      \"column\": \"unk_proportion\",\n      \"properties\": {\n        \"dtype\": \"number\",\n        \"std\": null,\n        \"min\": 0.9,\n        \"max\": 0.9,\n        \"num_unique_values\": 1,\n        \"samples\": [\n          0.9\n        ],\n        \"semantic_type\": \"\",\n        \"description\": \"\"\n      }\n    },\n    {\n      \"column\": \"unk_amount_bins\",\n      \"properties\": {\n        \"dtype\": \"category\",\n        \"num_unique_values\": 1,\n        \"samples\": [\n          \"[0, 10)\"\n        ],\n        \"semantic_type\": \"\",\n        \"description\": \"\"\n      }\n    },\n    {\n      \"column\": \"unk_proportion_bins\",\n      \"properties\": {\n        \"dtype\": \"category\",\n        \"num_unique_values\": 1,\n        \"samples\": [\n          \"[0.8, 1.0)\"\n        ],\n        \"semantic_type\": \"\",\n        \"description\": \"\"\n      }\n    },\n    {\n      \"column\": \"sent_len_bins\",\n      \"properties\": {\n        \"dtype\": \"category\",\n        \"num_unique_values\": 1,\n        \"samples\": [\n          \"[10, 20)\"\n        ],\n        \"semantic_type\": \"\",\n        \"description\": \"\"\n      }\n    }\n  ]\n}"
            }
          },
          "metadata": {},
          "execution_count": 75
        }
      ]
    },
    {
      "cell_type": "code",
      "source": [
        "len(treebanks['taiga'][680].tokens), treebanks['taiga'][680].text"
      ],
      "metadata": {
        "colab": {
          "base_uri": "https://localhost:8080/"
        },
        "id": "UoC8p30X_VvW",
        "outputId": "50f282e6-44e7-40a5-e888-3530bb615f95"
      },
      "execution_count": 76,
      "outputs": [
        {
          "output_type": "execute_result",
          "data": {
            "text/plain": [
              "(10, 'Поцелуйте, обнимите, догоните, встретьтесь, скажите.')"
            ]
          },
          "metadata": {},
          "execution_count": 76
        }
      ]
    },
    {
      "cell_type": "code",
      "source": [
        "align_uas_f['taiga']['natasha'][680]"
      ],
      "metadata": {
        "colab": {
          "base_uri": "https://localhost:8080/"
        },
        "id": "NC3OuGp9BMqT",
        "outputId": "41bea881-2aca-43f8-8713-f98496429a41"
      },
      "execution_count": 77,
      "outputs": [
        {
          "output_type": "execute_result",
          "data": {
            "text/plain": [
              "np.float64(0.7)"
            ]
          },
          "metadata": {},
          "execution_count": 77
        }
      ]
    },
    {
      "cell_type": "code",
      "source": [
        "unk_stat['gsd'][(unk_stat['gsd']['sent_len'] > 7) & (unk_stat['gsd']['uas'] >= 0.7) & (unk_stat['gsd']['unk_proportion'] >= 0.8)]"
      ],
      "metadata": {
        "colab": {
          "base_uri": "https://localhost:8080/",
          "height": 81
        },
        "id": "l8afXo1eAAl-",
        "outputId": "d474fe12-7940-4c3c-966d-f32ed617941e"
      },
      "execution_count": 79,
      "outputs": [
        {
          "output_type": "execute_result",
          "data": {
            "text/plain": [
              "      uas       las    uas_bins    las_bins  unk_amount  sent_len  \\\n",
              "115  0.75  0.583333  [0.6, 0.8)  [0.4, 0.6)          10        12   \n",
              "\n",
              "     unk_proportion unk_amount_bins unk_proportion_bins sent_len_bins  \n",
              "115        0.833333        [10, 20)          [0.8, 1.0)      [10, 20)  "
            ],
            "text/html": [
              "\n",
              "  <div id=\"df-216e3aae-6240-4010-9129-6988622c7ac7\" class=\"colab-df-container\">\n",
              "    <div>\n",
              "<style scoped>\n",
              "    .dataframe tbody tr th:only-of-type {\n",
              "        vertical-align: middle;\n",
              "    }\n",
              "\n",
              "    .dataframe tbody tr th {\n",
              "        vertical-align: top;\n",
              "    }\n",
              "\n",
              "    .dataframe thead th {\n",
              "        text-align: right;\n",
              "    }\n",
              "</style>\n",
              "<table border=\"1\" class=\"dataframe\">\n",
              "  <thead>\n",
              "    <tr style=\"text-align: right;\">\n",
              "      <th></th>\n",
              "      <th>uas</th>\n",
              "      <th>las</th>\n",
              "      <th>uas_bins</th>\n",
              "      <th>las_bins</th>\n",
              "      <th>unk_amount</th>\n",
              "      <th>sent_len</th>\n",
              "      <th>unk_proportion</th>\n",
              "      <th>unk_amount_bins</th>\n",
              "      <th>unk_proportion_bins</th>\n",
              "      <th>sent_len_bins</th>\n",
              "    </tr>\n",
              "  </thead>\n",
              "  <tbody>\n",
              "    <tr>\n",
              "      <th>115</th>\n",
              "      <td>0.75</td>\n",
              "      <td>0.583333</td>\n",
              "      <td>[0.6, 0.8)</td>\n",
              "      <td>[0.4, 0.6)</td>\n",
              "      <td>10</td>\n",
              "      <td>12</td>\n",
              "      <td>0.833333</td>\n",
              "      <td>[10, 20)</td>\n",
              "      <td>[0.8, 1.0)</td>\n",
              "      <td>[10, 20)</td>\n",
              "    </tr>\n",
              "  </tbody>\n",
              "</table>\n",
              "</div>\n",
              "    <div class=\"colab-df-buttons\">\n",
              "\n",
              "  <div class=\"colab-df-container\">\n",
              "    <button class=\"colab-df-convert\" onclick=\"convertToInteractive('df-216e3aae-6240-4010-9129-6988622c7ac7')\"\n",
              "            title=\"Convert this dataframe to an interactive table.\"\n",
              "            style=\"display:none;\">\n",
              "\n",
              "  <svg xmlns=\"http://www.w3.org/2000/svg\" height=\"24px\" viewBox=\"0 -960 960 960\">\n",
              "    <path d=\"M120-120v-720h720v720H120Zm60-500h600v-160H180v160Zm220 220h160v-160H400v160Zm0 220h160v-160H400v160ZM180-400h160v-160H180v160Zm440 0h160v-160H620v160ZM180-180h160v-160H180v160Zm440 0h160v-160H620v160Z\"/>\n",
              "  </svg>\n",
              "    </button>\n",
              "\n",
              "  <style>\n",
              "    .colab-df-container {\n",
              "      display:flex;\n",
              "      gap: 12px;\n",
              "    }\n",
              "\n",
              "    .colab-df-convert {\n",
              "      background-color: #E8F0FE;\n",
              "      border: none;\n",
              "      border-radius: 50%;\n",
              "      cursor: pointer;\n",
              "      display: none;\n",
              "      fill: #1967D2;\n",
              "      height: 32px;\n",
              "      padding: 0 0 0 0;\n",
              "      width: 32px;\n",
              "    }\n",
              "\n",
              "    .colab-df-convert:hover {\n",
              "      background-color: #E2EBFA;\n",
              "      box-shadow: 0px 1px 2px rgba(60, 64, 67, 0.3), 0px 1px 3px 1px rgba(60, 64, 67, 0.15);\n",
              "      fill: #174EA6;\n",
              "    }\n",
              "\n",
              "    .colab-df-buttons div {\n",
              "      margin-bottom: 4px;\n",
              "    }\n",
              "\n",
              "    [theme=dark] .colab-df-convert {\n",
              "      background-color: #3B4455;\n",
              "      fill: #D2E3FC;\n",
              "    }\n",
              "\n",
              "    [theme=dark] .colab-df-convert:hover {\n",
              "      background-color: #434B5C;\n",
              "      box-shadow: 0px 1px 3px 1px rgba(0, 0, 0, 0.15);\n",
              "      filter: drop-shadow(0px 1px 2px rgba(0, 0, 0, 0.3));\n",
              "      fill: #FFFFFF;\n",
              "    }\n",
              "  </style>\n",
              "\n",
              "    <script>\n",
              "      const buttonEl =\n",
              "        document.querySelector('#df-216e3aae-6240-4010-9129-6988622c7ac7 button.colab-df-convert');\n",
              "      buttonEl.style.display =\n",
              "        google.colab.kernel.accessAllowed ? 'block' : 'none';\n",
              "\n",
              "      async function convertToInteractive(key) {\n",
              "        const element = document.querySelector('#df-216e3aae-6240-4010-9129-6988622c7ac7');\n",
              "        const dataTable =\n",
              "          await google.colab.kernel.invokeFunction('convertToInteractive',\n",
              "                                                    [key], {});\n",
              "        if (!dataTable) return;\n",
              "\n",
              "        const docLinkHtml = 'Like what you see? Visit the ' +\n",
              "          '<a target=\"_blank\" href=https://colab.research.google.com/notebooks/data_table.ipynb>data table notebook</a>'\n",
              "          + ' to learn more about interactive tables.';\n",
              "        element.innerHTML = '';\n",
              "        dataTable['output_type'] = 'display_data';\n",
              "        await google.colab.output.renderOutput(dataTable, element);\n",
              "        const docLink = document.createElement('div');\n",
              "        docLink.innerHTML = docLinkHtml;\n",
              "        element.appendChild(docLink);\n",
              "      }\n",
              "    </script>\n",
              "  </div>\n",
              "\n",
              "    </div>\n",
              "  </div>\n"
            ],
            "application/vnd.google.colaboratory.intrinsic+json": {
              "type": "dataframe",
              "summary": "{\n  \"name\": \"unk_stat['gsd'][(unk_stat['gsd']['sent_len'] > 7) & (unk_stat['gsd']['uas'] >= 0\",\n  \"rows\": 1,\n  \"fields\": [\n    {\n      \"column\": \"uas\",\n      \"properties\": {\n        \"dtype\": \"number\",\n        \"std\": null,\n        \"min\": 0.75,\n        \"max\": 0.75,\n        \"num_unique_values\": 1,\n        \"samples\": [\n          0.75\n        ],\n        \"semantic_type\": \"\",\n        \"description\": \"\"\n      }\n    },\n    {\n      \"column\": \"las\",\n      \"properties\": {\n        \"dtype\": \"number\",\n        \"std\": null,\n        \"min\": 0.5833333333333334,\n        \"max\": 0.5833333333333334,\n        \"num_unique_values\": 1,\n        \"samples\": [\n          0.5833333333333334\n        ],\n        \"semantic_type\": \"\",\n        \"description\": \"\"\n      }\n    },\n    {\n      \"column\": \"uas_bins\",\n      \"properties\": {\n        \"dtype\": \"category\",\n        \"num_unique_values\": 1,\n        \"samples\": [\n          \"[0.6, 0.8)\"\n        ],\n        \"semantic_type\": \"\",\n        \"description\": \"\"\n      }\n    },\n    {\n      \"column\": \"las_bins\",\n      \"properties\": {\n        \"dtype\": \"category\",\n        \"num_unique_values\": 1,\n        \"samples\": [\n          \"[0.4, 0.6)\"\n        ],\n        \"semantic_type\": \"\",\n        \"description\": \"\"\n      }\n    },\n    {\n      \"column\": \"unk_amount\",\n      \"properties\": {\n        \"dtype\": \"number\",\n        \"std\": null,\n        \"min\": 10,\n        \"max\": 10,\n        \"num_unique_values\": 1,\n        \"samples\": [\n          10\n        ],\n        \"semantic_type\": \"\",\n        \"description\": \"\"\n      }\n    },\n    {\n      \"column\": \"sent_len\",\n      \"properties\": {\n        \"dtype\": \"number\",\n        \"std\": null,\n        \"min\": 12,\n        \"max\": 12,\n        \"num_unique_values\": 1,\n        \"samples\": [\n          12\n        ],\n        \"semantic_type\": \"\",\n        \"description\": \"\"\n      }\n    },\n    {\n      \"column\": \"unk_proportion\",\n      \"properties\": {\n        \"dtype\": \"number\",\n        \"std\": null,\n        \"min\": 0.8333333333333334,\n        \"max\": 0.8333333333333334,\n        \"num_unique_values\": 1,\n        \"samples\": [\n          0.8333333333333334\n        ],\n        \"semantic_type\": \"\",\n        \"description\": \"\"\n      }\n    },\n    {\n      \"column\": \"unk_amount_bins\",\n      \"properties\": {\n        \"dtype\": \"category\",\n        \"num_unique_values\": 1,\n        \"samples\": [\n          \"[10, 20)\"\n        ],\n        \"semantic_type\": \"\",\n        \"description\": \"\"\n      }\n    },\n    {\n      \"column\": \"unk_proportion_bins\",\n      \"properties\": {\n        \"dtype\": \"category\",\n        \"num_unique_values\": 1,\n        \"samples\": [\n          \"[0.8, 1.0)\"\n        ],\n        \"semantic_type\": \"\",\n        \"description\": \"\"\n      }\n    },\n    {\n      \"column\": \"sent_len_bins\",\n      \"properties\": {\n        \"dtype\": \"category\",\n        \"num_unique_values\": 1,\n        \"samples\": [\n          \"[10, 20)\"\n        ],\n        \"semantic_type\": \"\",\n        \"description\": \"\"\n      }\n    }\n  ]\n}"
            }
          },
          "metadata": {},
          "execution_count": 79
        }
      ]
    },
    {
      "cell_type": "code",
      "source": [
        "align_uas_f['gsd']['natasha'][115]"
      ],
      "metadata": {
        "colab": {
          "base_uri": "https://localhost:8080/"
        },
        "id": "2FflsqB-BSec",
        "outputId": "5f096770-3621-42cd-9337-ca0fc1b5f557"
      },
      "execution_count": 80,
      "outputs": [
        {
          "output_type": "execute_result",
          "data": {
            "text/plain": [
              "np.float64(0.75)"
            ]
          },
          "metadata": {},
          "execution_count": 80
        }
      ]
    },
    {
      "cell_type": "code",
      "source": [
        "len(treebanks['gsd'][115].tokens), treebanks['gsd'][115].text"
      ],
      "metadata": {
        "colab": {
          "base_uri": "https://localhost:8080/"
        },
        "id": "0ylDkzP7AJQJ",
        "outputId": "2797e46e-9245-4838-f7ac-1810ea1797b3"
      },
      "execution_count": 81,
      "outputs": [
        {
          "output_type": "execute_result",
          "data": {
            "text/plain": [
              "(12, 'Алекса́ндр Илларио́нович Козло́в (1816 -- 1893) -- русский врач.')"
            ]
          },
          "metadata": {},
          "execution_count": 81
        }
      ]
    },
    {
      "cell_type": "code",
      "source": [],
      "metadata": {
        "id": "iQWeCP0I6jBx"
      },
      "execution_count": 81,
      "outputs": []
    },
    {
      "cell_type": "code",
      "source": [
        "tr = 'taiga'\n",
        "sent_len8_df[tr][sent_len8_df[tr]['sent_len'] > 6]"
      ],
      "metadata": {
        "colab": {
          "base_uri": "https://localhost:8080/",
          "height": 175
        },
        "id": "Tludl2gmpmzx",
        "outputId": "a473c1f3-f907-42e5-d80b-6a8c41972cc2"
      },
      "execution_count": 106,
      "outputs": [
        {
          "output_type": "execute_result",
          "data": {
            "text/plain": [
              "    sent_len  unk_proportion   uas  amount\n",
              "9          7            1.00  0.31       1\n",
              "10        10            0.80  0.24       1\n",
              "11        10            0.90  0.70       1\n",
              "12        15            0.87  0.08       1"
            ],
            "text/html": [
              "\n",
              "  <div id=\"df-a47f98ee-374f-4466-a9a8-33e261221faa\" class=\"colab-df-container\">\n",
              "    <div>\n",
              "<style scoped>\n",
              "    .dataframe tbody tr th:only-of-type {\n",
              "        vertical-align: middle;\n",
              "    }\n",
              "\n",
              "    .dataframe tbody tr th {\n",
              "        vertical-align: top;\n",
              "    }\n",
              "\n",
              "    .dataframe thead th {\n",
              "        text-align: right;\n",
              "    }\n",
              "</style>\n",
              "<table border=\"1\" class=\"dataframe\">\n",
              "  <thead>\n",
              "    <tr style=\"text-align: right;\">\n",
              "      <th></th>\n",
              "      <th>sent_len</th>\n",
              "      <th>unk_proportion</th>\n",
              "      <th>uas</th>\n",
              "      <th>amount</th>\n",
              "    </tr>\n",
              "  </thead>\n",
              "  <tbody>\n",
              "    <tr>\n",
              "      <th>9</th>\n",
              "      <td>7</td>\n",
              "      <td>1.00</td>\n",
              "      <td>0.31</td>\n",
              "      <td>1</td>\n",
              "    </tr>\n",
              "    <tr>\n",
              "      <th>10</th>\n",
              "      <td>10</td>\n",
              "      <td>0.80</td>\n",
              "      <td>0.24</td>\n",
              "      <td>1</td>\n",
              "    </tr>\n",
              "    <tr>\n",
              "      <th>11</th>\n",
              "      <td>10</td>\n",
              "      <td>0.90</td>\n",
              "      <td>0.70</td>\n",
              "      <td>1</td>\n",
              "    </tr>\n",
              "    <tr>\n",
              "      <th>12</th>\n",
              "      <td>15</td>\n",
              "      <td>0.87</td>\n",
              "      <td>0.08</td>\n",
              "      <td>1</td>\n",
              "    </tr>\n",
              "  </tbody>\n",
              "</table>\n",
              "</div>\n",
              "    <div class=\"colab-df-buttons\">\n",
              "\n",
              "  <div class=\"colab-df-container\">\n",
              "    <button class=\"colab-df-convert\" onclick=\"convertToInteractive('df-a47f98ee-374f-4466-a9a8-33e261221faa')\"\n",
              "            title=\"Convert this dataframe to an interactive table.\"\n",
              "            style=\"display:none;\">\n",
              "\n",
              "  <svg xmlns=\"http://www.w3.org/2000/svg\" height=\"24px\" viewBox=\"0 -960 960 960\">\n",
              "    <path d=\"M120-120v-720h720v720H120Zm60-500h600v-160H180v160Zm220 220h160v-160H400v160Zm0 220h160v-160H400v160ZM180-400h160v-160H180v160Zm440 0h160v-160H620v160ZM180-180h160v-160H180v160Zm440 0h160v-160H620v160Z\"/>\n",
              "  </svg>\n",
              "    </button>\n",
              "\n",
              "  <style>\n",
              "    .colab-df-container {\n",
              "      display:flex;\n",
              "      gap: 12px;\n",
              "    }\n",
              "\n",
              "    .colab-df-convert {\n",
              "      background-color: #E8F0FE;\n",
              "      border: none;\n",
              "      border-radius: 50%;\n",
              "      cursor: pointer;\n",
              "      display: none;\n",
              "      fill: #1967D2;\n",
              "      height: 32px;\n",
              "      padding: 0 0 0 0;\n",
              "      width: 32px;\n",
              "    }\n",
              "\n",
              "    .colab-df-convert:hover {\n",
              "      background-color: #E2EBFA;\n",
              "      box-shadow: 0px 1px 2px rgba(60, 64, 67, 0.3), 0px 1px 3px 1px rgba(60, 64, 67, 0.15);\n",
              "      fill: #174EA6;\n",
              "    }\n",
              "\n",
              "    .colab-df-buttons div {\n",
              "      margin-bottom: 4px;\n",
              "    }\n",
              "\n",
              "    [theme=dark] .colab-df-convert {\n",
              "      background-color: #3B4455;\n",
              "      fill: #D2E3FC;\n",
              "    }\n",
              "\n",
              "    [theme=dark] .colab-df-convert:hover {\n",
              "      background-color: #434B5C;\n",
              "      box-shadow: 0px 1px 3px 1px rgba(0, 0, 0, 0.15);\n",
              "      filter: drop-shadow(0px 1px 2px rgba(0, 0, 0, 0.3));\n",
              "      fill: #FFFFFF;\n",
              "    }\n",
              "  </style>\n",
              "\n",
              "    <script>\n",
              "      const buttonEl =\n",
              "        document.querySelector('#df-a47f98ee-374f-4466-a9a8-33e261221faa button.colab-df-convert');\n",
              "      buttonEl.style.display =\n",
              "        google.colab.kernel.accessAllowed ? 'block' : 'none';\n",
              "\n",
              "      async function convertToInteractive(key) {\n",
              "        const element = document.querySelector('#df-a47f98ee-374f-4466-a9a8-33e261221faa');\n",
              "        const dataTable =\n",
              "          await google.colab.kernel.invokeFunction('convertToInteractive',\n",
              "                                                    [key], {});\n",
              "        if (!dataTable) return;\n",
              "\n",
              "        const docLinkHtml = 'Like what you see? Visit the ' +\n",
              "          '<a target=\"_blank\" href=https://colab.research.google.com/notebooks/data_table.ipynb>data table notebook</a>'\n",
              "          + ' to learn more about interactive tables.';\n",
              "        element.innerHTML = '';\n",
              "        dataTable['output_type'] = 'display_data';\n",
              "        await google.colab.output.renderOutput(dataTable, element);\n",
              "        const docLink = document.createElement('div');\n",
              "        docLink.innerHTML = docLinkHtml;\n",
              "        element.appendChild(docLink);\n",
              "      }\n",
              "    </script>\n",
              "  </div>\n",
              "\n",
              "\n",
              "    <div id=\"df-e073e5f6-f1c9-4f46-8277-06ad69ba0133\">\n",
              "      <button class=\"colab-df-quickchart\" onclick=\"quickchart('df-e073e5f6-f1c9-4f46-8277-06ad69ba0133')\"\n",
              "                title=\"Suggest charts\"\n",
              "                style=\"display:none;\">\n",
              "\n",
              "<svg xmlns=\"http://www.w3.org/2000/svg\" height=\"24px\"viewBox=\"0 0 24 24\"\n",
              "     width=\"24px\">\n",
              "    <g>\n",
              "        <path d=\"M19 3H5c-1.1 0-2 .9-2 2v14c0 1.1.9 2 2 2h14c1.1 0 2-.9 2-2V5c0-1.1-.9-2-2-2zM9 17H7v-7h2v7zm4 0h-2V7h2v10zm4 0h-2v-4h2v4z\"/>\n",
              "    </g>\n",
              "</svg>\n",
              "      </button>\n",
              "\n",
              "<style>\n",
              "  .colab-df-quickchart {\n",
              "      --bg-color: #E8F0FE;\n",
              "      --fill-color: #1967D2;\n",
              "      --hover-bg-color: #E2EBFA;\n",
              "      --hover-fill-color: #174EA6;\n",
              "      --disabled-fill-color: #AAA;\n",
              "      --disabled-bg-color: #DDD;\n",
              "  }\n",
              "\n",
              "  [theme=dark] .colab-df-quickchart {\n",
              "      --bg-color: #3B4455;\n",
              "      --fill-color: #D2E3FC;\n",
              "      --hover-bg-color: #434B5C;\n",
              "      --hover-fill-color: #FFFFFF;\n",
              "      --disabled-bg-color: #3B4455;\n",
              "      --disabled-fill-color: #666;\n",
              "  }\n",
              "\n",
              "  .colab-df-quickchart {\n",
              "    background-color: var(--bg-color);\n",
              "    border: none;\n",
              "    border-radius: 50%;\n",
              "    cursor: pointer;\n",
              "    display: none;\n",
              "    fill: var(--fill-color);\n",
              "    height: 32px;\n",
              "    padding: 0;\n",
              "    width: 32px;\n",
              "  }\n",
              "\n",
              "  .colab-df-quickchart:hover {\n",
              "    background-color: var(--hover-bg-color);\n",
              "    box-shadow: 0 1px 2px rgba(60, 64, 67, 0.3), 0 1px 3px 1px rgba(60, 64, 67, 0.15);\n",
              "    fill: var(--button-hover-fill-color);\n",
              "  }\n",
              "\n",
              "  .colab-df-quickchart-complete:disabled,\n",
              "  .colab-df-quickchart-complete:disabled:hover {\n",
              "    background-color: var(--disabled-bg-color);\n",
              "    fill: var(--disabled-fill-color);\n",
              "    box-shadow: none;\n",
              "  }\n",
              "\n",
              "  .colab-df-spinner {\n",
              "    border: 2px solid var(--fill-color);\n",
              "    border-color: transparent;\n",
              "    border-bottom-color: var(--fill-color);\n",
              "    animation:\n",
              "      spin 1s steps(1) infinite;\n",
              "  }\n",
              "\n",
              "  @keyframes spin {\n",
              "    0% {\n",
              "      border-color: transparent;\n",
              "      border-bottom-color: var(--fill-color);\n",
              "      border-left-color: var(--fill-color);\n",
              "    }\n",
              "    20% {\n",
              "      border-color: transparent;\n",
              "      border-left-color: var(--fill-color);\n",
              "      border-top-color: var(--fill-color);\n",
              "    }\n",
              "    30% {\n",
              "      border-color: transparent;\n",
              "      border-left-color: var(--fill-color);\n",
              "      border-top-color: var(--fill-color);\n",
              "      border-right-color: var(--fill-color);\n",
              "    }\n",
              "    40% {\n",
              "      border-color: transparent;\n",
              "      border-right-color: var(--fill-color);\n",
              "      border-top-color: var(--fill-color);\n",
              "    }\n",
              "    60% {\n",
              "      border-color: transparent;\n",
              "      border-right-color: var(--fill-color);\n",
              "    }\n",
              "    80% {\n",
              "      border-color: transparent;\n",
              "      border-right-color: var(--fill-color);\n",
              "      border-bottom-color: var(--fill-color);\n",
              "    }\n",
              "    90% {\n",
              "      border-color: transparent;\n",
              "      border-bottom-color: var(--fill-color);\n",
              "    }\n",
              "  }\n",
              "</style>\n",
              "\n",
              "      <script>\n",
              "        async function quickchart(key) {\n",
              "          const quickchartButtonEl =\n",
              "            document.querySelector('#' + key + ' button');\n",
              "          quickchartButtonEl.disabled = true;  // To prevent multiple clicks.\n",
              "          quickchartButtonEl.classList.add('colab-df-spinner');\n",
              "          try {\n",
              "            const charts = await google.colab.kernel.invokeFunction(\n",
              "                'suggestCharts', [key], {});\n",
              "          } catch (error) {\n",
              "            console.error('Error during call to suggestCharts:', error);\n",
              "          }\n",
              "          quickchartButtonEl.classList.remove('colab-df-spinner');\n",
              "          quickchartButtonEl.classList.add('colab-df-quickchart-complete');\n",
              "        }\n",
              "        (() => {\n",
              "          let quickchartButtonEl =\n",
              "            document.querySelector('#df-e073e5f6-f1c9-4f46-8277-06ad69ba0133 button');\n",
              "          quickchartButtonEl.style.display =\n",
              "            google.colab.kernel.accessAllowed ? 'block' : 'none';\n",
              "        })();\n",
              "      </script>\n",
              "    </div>\n",
              "    </div>\n",
              "  </div>\n"
            ],
            "application/vnd.google.colaboratory.intrinsic+json": {
              "type": "dataframe",
              "summary": "{\n  \"name\": \"sent_len8_df[tr][sent_len8_df[tr]['sent_len'] > 6]\",\n  \"rows\": 4,\n  \"fields\": [\n    {\n      \"column\": \"sent_len\",\n      \"properties\": {\n        \"dtype\": \"number\",\n        \"std\": 3,\n        \"min\": 7,\n        \"max\": 15,\n        \"num_unique_values\": 3,\n        \"samples\": [\n          7,\n          10,\n          15\n        ],\n        \"semantic_type\": \"\",\n        \"description\": \"\"\n      }\n    },\n    {\n      \"column\": \"unk_proportion\",\n      \"properties\": {\n        \"dtype\": \"number\",\n        \"std\": 0.08301606270274847,\n        \"min\": 0.8,\n        \"max\": 1.0,\n        \"num_unique_values\": 4,\n        \"samples\": [\n          0.8,\n          0.87,\n          1.0\n        ],\n        \"semantic_type\": \"\",\n        \"description\": \"\"\n      }\n    },\n    {\n      \"column\": \"uas\",\n      \"properties\": {\n        \"dtype\": \"number\",\n        \"std\": 0.263233103288068,\n        \"min\": 0.08,\n        \"max\": 0.7,\n        \"num_unique_values\": 4,\n        \"samples\": [\n          0.24,\n          0.08,\n          0.31\n        ],\n        \"semantic_type\": \"\",\n        \"description\": \"\"\n      }\n    },\n    {\n      \"column\": \"amount\",\n      \"properties\": {\n        \"dtype\": \"number\",\n        \"std\": 0,\n        \"min\": 1,\n        \"max\": 1,\n        \"num_unique_values\": 1,\n        \"samples\": [\n          1\n        ],\n        \"semantic_type\": \"\",\n        \"description\": \"\"\n      }\n    }\n  ]\n}"
            }
          },
          "metadata": {},
          "execution_count": 106
        }
      ]
    },
    {
      "cell_type": "code",
      "source": [
        "tr = 'gsd'\n",
        "sent_len8_df[tr][sent_len8_df[tr]['sent_len'] > 6]"
      ],
      "metadata": {
        "id": "OgmGIbE6p5Ey",
        "colab": {
          "base_uri": "https://localhost:8080/",
          "height": 175
        },
        "outputId": "0afa1c47-df1a-4319-87b0-13873dc2b795"
      },
      "execution_count": 107,
      "outputs": [
        {
          "output_type": "execute_result",
          "data": {
            "text/plain": [
              "   sent_len  unk_proportion   uas  amount\n",
              "1        12            0.83  0.75       1\n",
              "2        54            0.87  0.18       1\n",
              "3        59            0.95  0.05       1\n",
              "4       305            0.83  0.17       1"
            ],
            "text/html": [
              "\n",
              "  <div id=\"df-94540f9a-2795-4c80-804e-40e590b2e022\" class=\"colab-df-container\">\n",
              "    <div>\n",
              "<style scoped>\n",
              "    .dataframe tbody tr th:only-of-type {\n",
              "        vertical-align: middle;\n",
              "    }\n",
              "\n",
              "    .dataframe tbody tr th {\n",
              "        vertical-align: top;\n",
              "    }\n",
              "\n",
              "    .dataframe thead th {\n",
              "        text-align: right;\n",
              "    }\n",
              "</style>\n",
              "<table border=\"1\" class=\"dataframe\">\n",
              "  <thead>\n",
              "    <tr style=\"text-align: right;\">\n",
              "      <th></th>\n",
              "      <th>sent_len</th>\n",
              "      <th>unk_proportion</th>\n",
              "      <th>uas</th>\n",
              "      <th>amount</th>\n",
              "    </tr>\n",
              "  </thead>\n",
              "  <tbody>\n",
              "    <tr>\n",
              "      <th>1</th>\n",
              "      <td>12</td>\n",
              "      <td>0.83</td>\n",
              "      <td>0.75</td>\n",
              "      <td>1</td>\n",
              "    </tr>\n",
              "    <tr>\n",
              "      <th>2</th>\n",
              "      <td>54</td>\n",
              "      <td>0.87</td>\n",
              "      <td>0.18</td>\n",
              "      <td>1</td>\n",
              "    </tr>\n",
              "    <tr>\n",
              "      <th>3</th>\n",
              "      <td>59</td>\n",
              "      <td>0.95</td>\n",
              "      <td>0.05</td>\n",
              "      <td>1</td>\n",
              "    </tr>\n",
              "    <tr>\n",
              "      <th>4</th>\n",
              "      <td>305</td>\n",
              "      <td>0.83</td>\n",
              "      <td>0.17</td>\n",
              "      <td>1</td>\n",
              "    </tr>\n",
              "  </tbody>\n",
              "</table>\n",
              "</div>\n",
              "    <div class=\"colab-df-buttons\">\n",
              "\n",
              "  <div class=\"colab-df-container\">\n",
              "    <button class=\"colab-df-convert\" onclick=\"convertToInteractive('df-94540f9a-2795-4c80-804e-40e590b2e022')\"\n",
              "            title=\"Convert this dataframe to an interactive table.\"\n",
              "            style=\"display:none;\">\n",
              "\n",
              "  <svg xmlns=\"http://www.w3.org/2000/svg\" height=\"24px\" viewBox=\"0 -960 960 960\">\n",
              "    <path d=\"M120-120v-720h720v720H120Zm60-500h600v-160H180v160Zm220 220h160v-160H400v160Zm0 220h160v-160H400v160ZM180-400h160v-160H180v160Zm440 0h160v-160H620v160ZM180-180h160v-160H180v160Zm440 0h160v-160H620v160Z\"/>\n",
              "  </svg>\n",
              "    </button>\n",
              "\n",
              "  <style>\n",
              "    .colab-df-container {\n",
              "      display:flex;\n",
              "      gap: 12px;\n",
              "    }\n",
              "\n",
              "    .colab-df-convert {\n",
              "      background-color: #E8F0FE;\n",
              "      border: none;\n",
              "      border-radius: 50%;\n",
              "      cursor: pointer;\n",
              "      display: none;\n",
              "      fill: #1967D2;\n",
              "      height: 32px;\n",
              "      padding: 0 0 0 0;\n",
              "      width: 32px;\n",
              "    }\n",
              "\n",
              "    .colab-df-convert:hover {\n",
              "      background-color: #E2EBFA;\n",
              "      box-shadow: 0px 1px 2px rgba(60, 64, 67, 0.3), 0px 1px 3px 1px rgba(60, 64, 67, 0.15);\n",
              "      fill: #174EA6;\n",
              "    }\n",
              "\n",
              "    .colab-df-buttons div {\n",
              "      margin-bottom: 4px;\n",
              "    }\n",
              "\n",
              "    [theme=dark] .colab-df-convert {\n",
              "      background-color: #3B4455;\n",
              "      fill: #D2E3FC;\n",
              "    }\n",
              "\n",
              "    [theme=dark] .colab-df-convert:hover {\n",
              "      background-color: #434B5C;\n",
              "      box-shadow: 0px 1px 3px 1px rgba(0, 0, 0, 0.15);\n",
              "      filter: drop-shadow(0px 1px 2px rgba(0, 0, 0, 0.3));\n",
              "      fill: #FFFFFF;\n",
              "    }\n",
              "  </style>\n",
              "\n",
              "    <script>\n",
              "      const buttonEl =\n",
              "        document.querySelector('#df-94540f9a-2795-4c80-804e-40e590b2e022 button.colab-df-convert');\n",
              "      buttonEl.style.display =\n",
              "        google.colab.kernel.accessAllowed ? 'block' : 'none';\n",
              "\n",
              "      async function convertToInteractive(key) {\n",
              "        const element = document.querySelector('#df-94540f9a-2795-4c80-804e-40e590b2e022');\n",
              "        const dataTable =\n",
              "          await google.colab.kernel.invokeFunction('convertToInteractive',\n",
              "                                                    [key], {});\n",
              "        if (!dataTable) return;\n",
              "\n",
              "        const docLinkHtml = 'Like what you see? Visit the ' +\n",
              "          '<a target=\"_blank\" href=https://colab.research.google.com/notebooks/data_table.ipynb>data table notebook</a>'\n",
              "          + ' to learn more about interactive tables.';\n",
              "        element.innerHTML = '';\n",
              "        dataTable['output_type'] = 'display_data';\n",
              "        await google.colab.output.renderOutput(dataTable, element);\n",
              "        const docLink = document.createElement('div');\n",
              "        docLink.innerHTML = docLinkHtml;\n",
              "        element.appendChild(docLink);\n",
              "      }\n",
              "    </script>\n",
              "  </div>\n",
              "\n",
              "\n",
              "    <div id=\"df-8cfab47a-2d19-4c6b-84fb-0260731044b0\">\n",
              "      <button class=\"colab-df-quickchart\" onclick=\"quickchart('df-8cfab47a-2d19-4c6b-84fb-0260731044b0')\"\n",
              "                title=\"Suggest charts\"\n",
              "                style=\"display:none;\">\n",
              "\n",
              "<svg xmlns=\"http://www.w3.org/2000/svg\" height=\"24px\"viewBox=\"0 0 24 24\"\n",
              "     width=\"24px\">\n",
              "    <g>\n",
              "        <path d=\"M19 3H5c-1.1 0-2 .9-2 2v14c0 1.1.9 2 2 2h14c1.1 0 2-.9 2-2V5c0-1.1-.9-2-2-2zM9 17H7v-7h2v7zm4 0h-2V7h2v10zm4 0h-2v-4h2v4z\"/>\n",
              "    </g>\n",
              "</svg>\n",
              "      </button>\n",
              "\n",
              "<style>\n",
              "  .colab-df-quickchart {\n",
              "      --bg-color: #E8F0FE;\n",
              "      --fill-color: #1967D2;\n",
              "      --hover-bg-color: #E2EBFA;\n",
              "      --hover-fill-color: #174EA6;\n",
              "      --disabled-fill-color: #AAA;\n",
              "      --disabled-bg-color: #DDD;\n",
              "  }\n",
              "\n",
              "  [theme=dark] .colab-df-quickchart {\n",
              "      --bg-color: #3B4455;\n",
              "      --fill-color: #D2E3FC;\n",
              "      --hover-bg-color: #434B5C;\n",
              "      --hover-fill-color: #FFFFFF;\n",
              "      --disabled-bg-color: #3B4455;\n",
              "      --disabled-fill-color: #666;\n",
              "  }\n",
              "\n",
              "  .colab-df-quickchart {\n",
              "    background-color: var(--bg-color);\n",
              "    border: none;\n",
              "    border-radius: 50%;\n",
              "    cursor: pointer;\n",
              "    display: none;\n",
              "    fill: var(--fill-color);\n",
              "    height: 32px;\n",
              "    padding: 0;\n",
              "    width: 32px;\n",
              "  }\n",
              "\n",
              "  .colab-df-quickchart:hover {\n",
              "    background-color: var(--hover-bg-color);\n",
              "    box-shadow: 0 1px 2px rgba(60, 64, 67, 0.3), 0 1px 3px 1px rgba(60, 64, 67, 0.15);\n",
              "    fill: var(--button-hover-fill-color);\n",
              "  }\n",
              "\n",
              "  .colab-df-quickchart-complete:disabled,\n",
              "  .colab-df-quickchart-complete:disabled:hover {\n",
              "    background-color: var(--disabled-bg-color);\n",
              "    fill: var(--disabled-fill-color);\n",
              "    box-shadow: none;\n",
              "  }\n",
              "\n",
              "  .colab-df-spinner {\n",
              "    border: 2px solid var(--fill-color);\n",
              "    border-color: transparent;\n",
              "    border-bottom-color: var(--fill-color);\n",
              "    animation:\n",
              "      spin 1s steps(1) infinite;\n",
              "  }\n",
              "\n",
              "  @keyframes spin {\n",
              "    0% {\n",
              "      border-color: transparent;\n",
              "      border-bottom-color: var(--fill-color);\n",
              "      border-left-color: var(--fill-color);\n",
              "    }\n",
              "    20% {\n",
              "      border-color: transparent;\n",
              "      border-left-color: var(--fill-color);\n",
              "      border-top-color: var(--fill-color);\n",
              "    }\n",
              "    30% {\n",
              "      border-color: transparent;\n",
              "      border-left-color: var(--fill-color);\n",
              "      border-top-color: var(--fill-color);\n",
              "      border-right-color: var(--fill-color);\n",
              "    }\n",
              "    40% {\n",
              "      border-color: transparent;\n",
              "      border-right-color: var(--fill-color);\n",
              "      border-top-color: var(--fill-color);\n",
              "    }\n",
              "    60% {\n",
              "      border-color: transparent;\n",
              "      border-right-color: var(--fill-color);\n",
              "    }\n",
              "    80% {\n",
              "      border-color: transparent;\n",
              "      border-right-color: var(--fill-color);\n",
              "      border-bottom-color: var(--fill-color);\n",
              "    }\n",
              "    90% {\n",
              "      border-color: transparent;\n",
              "      border-bottom-color: var(--fill-color);\n",
              "    }\n",
              "  }\n",
              "</style>\n",
              "\n",
              "      <script>\n",
              "        async function quickchart(key) {\n",
              "          const quickchartButtonEl =\n",
              "            document.querySelector('#' + key + ' button');\n",
              "          quickchartButtonEl.disabled = true;  // To prevent multiple clicks.\n",
              "          quickchartButtonEl.classList.add('colab-df-spinner');\n",
              "          try {\n",
              "            const charts = await google.colab.kernel.invokeFunction(\n",
              "                'suggestCharts', [key], {});\n",
              "          } catch (error) {\n",
              "            console.error('Error during call to suggestCharts:', error);\n",
              "          }\n",
              "          quickchartButtonEl.classList.remove('colab-df-spinner');\n",
              "          quickchartButtonEl.classList.add('colab-df-quickchart-complete');\n",
              "        }\n",
              "        (() => {\n",
              "          let quickchartButtonEl =\n",
              "            document.querySelector('#df-8cfab47a-2d19-4c6b-84fb-0260731044b0 button');\n",
              "          quickchartButtonEl.style.display =\n",
              "            google.colab.kernel.accessAllowed ? 'block' : 'none';\n",
              "        })();\n",
              "      </script>\n",
              "    </div>\n",
              "    </div>\n",
              "  </div>\n"
            ],
            "application/vnd.google.colaboratory.intrinsic+json": {
              "type": "dataframe",
              "summary": "{\n  \"name\": \"sent_len8_df[tr][sent_len8_df[tr]['sent_len'] > 6]\",\n  \"rows\": 4,\n  \"fields\": [\n    {\n      \"column\": \"sent_len\",\n      \"properties\": {\n        \"dtype\": \"number\",\n        \"std\": 133,\n        \"min\": 12,\n        \"max\": 305,\n        \"num_unique_values\": 4,\n        \"samples\": [\n          54,\n          305,\n          12\n        ],\n        \"semantic_type\": \"\",\n        \"description\": \"\"\n      }\n    },\n    {\n      \"column\": \"unk_proportion\",\n      \"properties\": {\n        \"dtype\": \"number\",\n        \"std\": 0.0565685424949238,\n        \"min\": 0.83,\n        \"max\": 0.95,\n        \"num_unique_values\": 3,\n        \"samples\": [\n          0.83,\n          0.87,\n          0.95\n        ],\n        \"semantic_type\": \"\",\n        \"description\": \"\"\n      }\n    },\n    {\n      \"column\": \"uas\",\n      \"properties\": {\n        \"dtype\": \"number\",\n        \"std\": 0.3139400155019002,\n        \"min\": 0.05,\n        \"max\": 0.75,\n        \"num_unique_values\": 4,\n        \"samples\": [\n          0.18,\n          0.17,\n          0.75\n        ],\n        \"semantic_type\": \"\",\n        \"description\": \"\"\n      }\n    },\n    {\n      \"column\": \"amount\",\n      \"properties\": {\n        \"dtype\": \"number\",\n        \"std\": 0,\n        \"min\": 1,\n        \"max\": 1,\n        \"num_unique_values\": 1,\n        \"samples\": [\n          1\n        ],\n        \"semantic_type\": \"\",\n        \"description\": \"\"\n      }\n    }\n  ]\n}"
            }
          },
          "metadata": {},
          "execution_count": 107
        }
      ]
    },
    {
      "cell_type": "code",
      "source": [],
      "metadata": {
        "id": "8V0SgQdrgIo4"
      },
      "execution_count": null,
      "outputs": []
    }
  ],
  "metadata": {
    "colab": {
      "provenance": [],
      "toc_visible": true,
      "include_colab_link": true
    },
    "kernelspec": {
      "display_name": "Python 3",
      "name": "python3"
    },
    "language_info": {
      "name": "python"
    }
  },
  "nbformat": 4,
  "nbformat_minor": 0
}