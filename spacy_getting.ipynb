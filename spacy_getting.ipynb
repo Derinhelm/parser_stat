{
  "nbformat": 4,
  "nbformat_minor": 0,
  "metadata": {
    "colab": {
      "provenance": [],
      "authorship_tag": "ABX9TyNejVr9FMsEYYqcP4u8F+IH",
      "include_colab_link": true
    },
    "kernelspec": {
      "name": "python3",
      "display_name": "Python 3"
    },
    "language_info": {
      "name": "python"
    }
  },
  "cells": [
    {
      "cell_type": "markdown",
      "metadata": {
        "id": "view-in-github",
        "colab_type": "text"
      },
      "source": [
        "<a href=\"https://colab.research.google.com/github/Derinhelm/parser_stat/blob/main/spacy_getting.ipynb\" target=\"_parent\"><img src=\"https://colab.research.google.com/assets/colab-badge.svg\" alt=\"Open In Colab\"/></a>"
      ]
    },
    {
      "cell_type": "markdown",
      "source": [
        "# SynTagRus loading (test part of dataset)"
      ],
      "metadata": {
        "id": "2DXe7qdnVZw_"
      }
    },
    {
      "cell_type": "code",
      "source": [
        "!wget -m https://raw.githubusercontent.com/UniversalDependencies/UD_Russian-SynTagRus/master/ru_syntagrus-ud-test.conllu\n",
        "!mv /content/raw.githubusercontent.com/UniversalDependencies/UD_Russian-SynTagRus/master/ru_syntagrus-ud-test.conllu /content/ru_syntagrus-ud-test.conllu\n",
        "!rm -r /content/raw.githubusercontent.com"
      ],
      "metadata": {
        "colab": {
          "base_uri": "https://localhost:8080/"
        },
        "id": "zSAXIYC1ehTd",
        "outputId": "3fc7f097-4e3d-4de0-fcb7-3afeab26dd42"
      },
      "execution_count": 1,
      "outputs": [
        {
          "output_type": "stream",
          "name": "stdout",
          "text": [
            "--2024-08-10 20:48:16--  https://raw.githubusercontent.com/UniversalDependencies/UD_Russian-SynTagRus/master/ru_syntagrus-ud-test.conllu\n",
            "Resolving raw.githubusercontent.com (raw.githubusercontent.com)... 185.199.108.133, 185.199.109.133, 185.199.110.133, ...\n",
            "Connecting to raw.githubusercontent.com (raw.githubusercontent.com)|185.199.108.133|:443... connected.\n",
            "HTTP request sent, awaiting response... 200 OK\n",
            "Length: 14970966 (14M) [text/plain]\n",
            "Saving to: ‘raw.githubusercontent.com/UniversalDependencies/UD_Russian-SynTagRus/master/ru_syntagrus-ud-test.conllu’\n",
            "\n",
            "raw.githubuserconte 100%[===================>]  14.28M  --.-KB/s    in 0.1s    \n",
            "\n",
            "Last-modified header missing -- time-stamps turned off.\n",
            "2024-08-10 20:48:17 (113 MB/s) - ‘raw.githubusercontent.com/UniversalDependencies/UD_Russian-SynTagRus/master/ru_syntagrus-ud-test.conllu’ saved [14970966/14970966]\n",
            "\n",
            "FINISHED --2024-08-10 20:48:17--\n",
            "Total wall clock time: 0.6s\n",
            "Downloaded: 1 files, 14M in 0.1s (113 MB/s)\n"
          ]
        }
      ]
    },
    {
      "cell_type": "markdown",
      "source": [
        "# SynTagRus data reading"
      ],
      "metadata": {
        "id": "92J7gA50e5hO"
      }
    },
    {
      "cell_type": "code",
      "source": [
        "class ConllEntry:\n",
        "    def __init__(self, id, form=None, lemma=None, pos=None, cpos=None, feats=None, \\\n",
        "                 parent_id=None, relation=None,deps=None, misc=None):\n",
        "        self.id = id\n",
        "        self.form = form\n",
        "        self.lemma = lemma\n",
        "        self.pos = pos\n",
        "        self.cpos = cpos\n",
        "        self.feats = feats\n",
        "        self.parent_id = parent_id\n",
        "        self.relation = relation\n",
        "        self.deps = deps\n",
        "        self.misc = misc"
      ],
      "metadata": {
        "id": "BALjxIyse4N5"
      },
      "execution_count": 2,
      "outputs": []
    },
    {
      "cell_type": "code",
      "source": [
        "class Sentence:\n",
        "    def __init__(self):\n",
        "        self.text = \"\"\n",
        "        self.sent_id = \"\"\n",
        "        self.tokens = []\n",
        "\n",
        "    def add_token(self, token):\n",
        "        self.tokens.append(token)\n",
        "\n",
        "    def set_sent_id(self, sent_id):\n",
        "        self.sent_id = sent_id\n",
        "\n",
        "    def set_text(self, text):\n",
        "        self.text = text\n",
        "\n",
        "    def is_not_empty(self):\n",
        "        return len(self.tokens) > 0"
      ],
      "metadata": {
        "id": "kmQv_k6Ie9mM"
      },
      "execution_count": 3,
      "outputs": []
    },
    {
      "cell_type": "code",
      "source": [
        "def get_dataset_sentences(dataset_path):\n",
        "    fh = open(dataset_path,'r',encoding='utf-8')\n",
        "    sents_read = 0\n",
        "    sents = []\n",
        "    comments = set()\n",
        "\n",
        "    sent = Sentence()\n",
        "    for line in fh:\n",
        "        tok = line.strip().split('\\t')\n",
        "        if not tok or line.strip() == '': # empty line, add sentence to list\n",
        "            if sent.is_not_empty:\n",
        "                sents_read += 1\n",
        "                sents.append(sent)\n",
        "            sent = Sentence()\n",
        "        else:\n",
        "            if line[0] == '#' or '-' in tok[0]: # a comment line\n",
        "                line = line.strip()\n",
        "                if line[:12] == \"# sent_id = \":\n",
        "                    sent.set_sent_id(line[12:])\n",
        "                elif line[:9] == \"# text = \":\n",
        "                    sent.set_text(line[9:])\n",
        "                else:\n",
        "                    comments.add(line)\n",
        "\n",
        "            else: # an actual ConllEntry, add to tokens\n",
        "                if tok[2] == \"_\":\n",
        "                    tok[2] = tok[1].lower()\n",
        "\n",
        "                word = ConllEntry(*tok)\n",
        "                sent.add_token(word)\n",
        "    fh.close()\n",
        "    return sents"
      ],
      "metadata": {
        "id": "8VKzeCc9e9or"
      },
      "execution_count": 4,
      "outputs": []
    },
    {
      "cell_type": "code",
      "source": [
        "sents = get_dataset_sentences(\"/content/ru_syntagrus-ud-test.conllu\")"
      ],
      "metadata": {
        "id": "ZFtnqaonSjto"
      },
      "execution_count": 5,
      "outputs": []
    },
    {
      "cell_type": "code",
      "source": [
        "len(sents)"
      ],
      "metadata": {
        "colab": {
          "base_uri": "https://localhost:8080/"
        },
        "id": "rgsBQMYefNpC",
        "outputId": "b26863b5-3af1-437a-b1eb-847386bedaaf"
      },
      "execution_count": 6,
      "outputs": [
        {
          "output_type": "execute_result",
          "data": {
            "text/plain": [
              "8800"
            ]
          },
          "metadata": {},
          "execution_count": 6
        }
      ]
    },
    {
      "cell_type": "markdown",
      "source": [
        "# Spacy"
      ],
      "metadata": {
        "id": "CPxl_WnTThRR"
      }
    },
    {
      "cell_type": "code",
      "source": [
        "from IPython.display import clear_output"
      ],
      "metadata": {
        "id": "RIetZPBOxyup"
      },
      "execution_count": 7,
      "outputs": []
    },
    {
      "cell_type": "code",
      "source": [
        "!pip install spacy==3.7.5\n",
        "clear_output()"
      ],
      "metadata": {
        "id": "9ZpicXnGS_m6"
      },
      "execution_count": 8,
      "outputs": []
    },
    {
      "cell_type": "code",
      "source": [
        "!python -m spacy download ru_core_news_lg\n",
        "clear_output()"
      ],
      "metadata": {
        "id": "lVuMtxnBg4ST"
      },
      "execution_count": 9,
      "outputs": []
    },
    {
      "cell_type": "code",
      "source": [
        "import spacy\n",
        "\n",
        "class SpacyParser:\n",
        "    def __init__(self):\n",
        "        self.nlp = spacy.load(\"ru_core_news_lg\")\n",
        "\n",
        "    def parse(self, sent):\n",
        "        parsing_res = self.nlp(sent)\n",
        "        res = []\n",
        "        for token in parsing_res:\n",
        "          if token.dep_ == \"ROOT\":\n",
        "            parent_id = 0\n",
        "            relation = \"root\"\n",
        "          else:\n",
        "            parent_id = token.head.i + 1\n",
        "            relation = token.dep_\n",
        "          t =  ConllEntry(str(token.i + 1), form=token.text, parent_id=str(parent_id), relation=relation)\n",
        "          res.append(t)\n",
        "        return res\n"
      ],
      "metadata": {
        "id": "hl71AqVkdUTq"
      },
      "execution_count": 10,
      "outputs": []
    },
    {
      "cell_type": "markdown",
      "source": [
        "# Parsing"
      ],
      "metadata": {
        "id": "_aHhmEQbx4uN"
      }
    },
    {
      "cell_type": "code",
      "source": [
        "parser = SpacyParser()\n",
        "parsing_res = []\n",
        "\n",
        "for i, sent in enumerate(sents):\n",
        "  if i % 100 == 0:\n",
        "      print(i)\n",
        "  token_list = parser.parse(sent.text)\n",
        "  cur_res = Sentence()\n",
        "  cur_res.set_sent_id(sent.sent_id)\n",
        "  cur_res.set_text(sent.text)\n",
        "  for t in token_list:\n",
        "    cur_res.add_token(t)\n",
        "  parsing_res.append(cur_res)"
      ],
      "metadata": {
        "colab": {
          "base_uri": "https://localhost:8080/"
        },
        "id": "Xn0kjJnwfDlI",
        "outputId": "d8246a6e-5d0d-4743-9644-0696c5c517f9"
      },
      "execution_count": 11,
      "outputs": [
        {
          "output_type": "stream",
          "name": "stdout",
          "text": [
            "0\n",
            "100\n",
            "200\n",
            "300\n",
            "400\n",
            "500\n",
            "600\n",
            "700\n",
            "800\n",
            "900\n",
            "1000\n",
            "1100\n",
            "1200\n",
            "1300\n",
            "1400\n",
            "1500\n",
            "1600\n",
            "1700\n",
            "1800\n",
            "1900\n",
            "2000\n",
            "2100\n",
            "2200\n",
            "2300\n",
            "2400\n",
            "2500\n",
            "2600\n",
            "2700\n",
            "2800\n",
            "2900\n",
            "3000\n",
            "3100\n",
            "3200\n",
            "3300\n",
            "3400\n",
            "3500\n",
            "3600\n",
            "3700\n",
            "3800\n",
            "3900\n",
            "4000\n",
            "4100\n",
            "4200\n",
            "4300\n",
            "4400\n",
            "4500\n",
            "4600\n",
            "4700\n",
            "4800\n",
            "4900\n",
            "5000\n",
            "5100\n",
            "5200\n",
            "5300\n",
            "5400\n",
            "5500\n",
            "5600\n",
            "5700\n",
            "5800\n",
            "5900\n",
            "6000\n",
            "6100\n",
            "6200\n",
            "6300\n",
            "6400\n",
            "6500\n",
            "6600\n",
            "6700\n",
            "6800\n",
            "6900\n",
            "7000\n",
            "7100\n",
            "7200\n",
            "7300\n",
            "7400\n",
            "7500\n",
            "7600\n",
            "7700\n",
            "7800\n",
            "7900\n",
            "8000\n",
            "8100\n",
            "8200\n",
            "8300\n",
            "8400\n",
            "8500\n",
            "8600\n",
            "8700\n"
          ]
        }
      ]
    },
    {
      "cell_type": "code",
      "source": [
        "parsing_res[0].tokens[0].__dict__"
      ],
      "metadata": {
        "colab": {
          "base_uri": "https://localhost:8080/"
        },
        "id": "f0FJ29HOfjGr",
        "outputId": "48ed161a-aca7-4fde-fb71-54bd41706478"
      },
      "execution_count": 13,
      "outputs": [
        {
          "output_type": "execute_result",
          "data": {
            "text/plain": [
              "{'id': '1',\n",
              " 'form': 'В',\n",
              " 'lemma': None,\n",
              " 'pos': None,\n",
              " 'cpos': None,\n",
              " 'feats': None,\n",
              " 'parent_id': '3',\n",
              " 'relation': 'case',\n",
              " 'deps': None,\n",
              " 'misc': None}"
            ]
          },
          "metadata": {},
          "execution_count": 13
        }
      ]
    },
    {
      "cell_type": "code",
      "source": [
        "sents[0].tokens[0].__dict__"
      ],
      "metadata": {
        "colab": {
          "base_uri": "https://localhost:8080/"
        },
        "id": "n72me00AhuAU",
        "outputId": "8849a5c8-5741-462e-d277-05a938aeb3c0"
      },
      "execution_count": 14,
      "outputs": [
        {
          "output_type": "execute_result",
          "data": {
            "text/plain": [
              "{'id': '1',\n",
              " 'form': 'В',\n",
              " 'lemma': 'в',\n",
              " 'pos': 'ADP',\n",
              " 'cpos': '_',\n",
              " 'feats': '_',\n",
              " 'parent_id': '3',\n",
              " 'relation': 'case',\n",
              " 'deps': '3:case',\n",
              " 'misc': '_'}"
            ]
          },
          "metadata": {},
          "execution_count": 14
        }
      ]
    },
    {
      "cell_type": "code",
      "source": [
        "[parsing_res[0].tokens[0].__dict__[f] == sents[0].tokens[0].__dict__[f] for f in ['id', 'form', 'parent_id', 'relation']]"
      ],
      "metadata": {
        "colab": {
          "base_uri": "https://localhost:8080/"
        },
        "id": "bog7qZx6fhyP",
        "outputId": "84cb0702-6c74-4439-9a58-7d920f024cf2"
      },
      "execution_count": 15,
      "outputs": [
        {
          "output_type": "execute_result",
          "data": {
            "text/plain": [
              "[True, True, True, True]"
            ]
          },
          "metadata": {},
          "execution_count": 15
        }
      ]
    },
    {
      "cell_type": "code",
      "source": [
        "import pickle\n",
        "with open('spacy_parsing.pickle', 'wb') as f:\n",
        "     pickle.dump(parsing_res, f)"
      ],
      "metadata": {
        "id": "UuoQffDDx8vN"
      },
      "execution_count": 16,
      "outputs": []
    },
    {
      "cell_type": "code",
      "source": [
        "from google.colab import files\n",
        "\n",
        "files.download(\"spacy_parsing.pickle\")"
      ],
      "metadata": {
        "id": "csjfZAWca7Ol",
        "colab": {
          "base_uri": "https://localhost:8080/",
          "height": 37
        },
        "outputId": "23a29016-5178-4bb3-f0dc-242d27b58e8f"
      },
      "execution_count": 17,
      "outputs": [
        {
          "output_type": "display_data",
          "data": {
            "text/plain": [
              "<IPython.core.display.Javascript object>"
            ],
            "application/javascript": [
              "\n",
              "    async function download(id, filename, size) {\n",
              "      if (!google.colab.kernel.accessAllowed) {\n",
              "        return;\n",
              "      }\n",
              "      const div = document.createElement('div');\n",
              "      const label = document.createElement('label');\n",
              "      label.textContent = `Downloading \"${filename}\": `;\n",
              "      div.appendChild(label);\n",
              "      const progress = document.createElement('progress');\n",
              "      progress.max = size;\n",
              "      div.appendChild(progress);\n",
              "      document.body.appendChild(div);\n",
              "\n",
              "      const buffers = [];\n",
              "      let downloaded = 0;\n",
              "\n",
              "      const channel = await google.colab.kernel.comms.open(id);\n",
              "      // Send a message to notify the kernel that we're ready.\n",
              "      channel.send({})\n",
              "\n",
              "      for await (const message of channel.messages) {\n",
              "        // Send a message to notify the kernel that we're ready.\n",
              "        channel.send({})\n",
              "        if (message.buffers) {\n",
              "          for (const buffer of message.buffers) {\n",
              "            buffers.push(buffer);\n",
              "            downloaded += buffer.byteLength;\n",
              "            progress.value = downloaded;\n",
              "          }\n",
              "        }\n",
              "      }\n",
              "      const blob = new Blob(buffers, {type: 'application/binary'});\n",
              "      const a = document.createElement('a');\n",
              "      a.href = window.URL.createObjectURL(blob);\n",
              "      a.download = filename;\n",
              "      div.appendChild(a);\n",
              "      a.click();\n",
              "      div.remove();\n",
              "    }\n",
              "  "
            ]
          },
          "metadata": {}
        },
        {
          "output_type": "display_data",
          "data": {
            "text/plain": [
              "<IPython.core.display.Javascript object>"
            ],
            "application/javascript": [
              "download(\"download_a3703ac1-8404-4151-8da7-d07b8121f7a6\", \"spacy_parsing.pickle\", 11744994)"
            ]
          },
          "metadata": {}
        }
      ]
    },
    {
      "cell_type": "code",
      "source": [],
      "metadata": {
        "id": "FKDzJtM2H5T3"
      },
      "execution_count": 17,
      "outputs": []
    }
  ]
}