{
  "cells": [
    {
      "cell_type": "markdown",
      "metadata": {
        "id": "view-in-github",
        "colab_type": "text"
      },
      "source": [
        "<a href=\"https://colab.research.google.com/github/Derinhelm/parser_stat/blob/tokenization_changing/parser_tokenization_running.ipynb\" target=\"_parent\"><img src=\"https://colab.research.google.com/assets/colab-badge.svg\" alt=\"Open In Colab\"/></a>"
      ]
    },
    {
      "cell_type": "markdown",
      "metadata": {
        "id": "vQpB65N5z79d"
      },
      "source": [
        "# Code downloading"
      ]
    },
    {
      "cell_type": "code",
      "execution_count": 1,
      "metadata": {
        "colab": {
          "base_uri": "https://localhost:8080/"
        },
        "id": "o_GSFZQ1rd9m",
        "outputId": "d65e9647-624c-4b44-b392-20939ca1d92a"
      },
      "outputs": [
        {
          "output_type": "stream",
          "name": "stdout",
          "text": [
            "Cloning into 'parser_stat'...\n",
            "remote: Enumerating objects: 156, done.\u001b[K\n",
            "remote: Counting objects: 100% (34/34), done.\u001b[K\n",
            "remote: Compressing objects: 100% (27/27), done.\u001b[K\n",
            "remote: Total 156 (delta 16), reused 15 (delta 7), pack-reused 122 (from 1)\u001b[K\n",
            "Receiving objects: 100% (156/156), 31.27 MiB | 7.26 MiB/s, done.\n",
            "Resolving deltas: 100% (76/76), done.\n",
            "Updating files: 100% (18/18), done.\n"
          ]
        }
      ],
      "source": [
        "!git clone https://github.com/Derinhelm/parser_stat.git"
      ]
    },
    {
      "cell_type": "code",
      "execution_count": 2,
      "metadata": {
        "id": "mwS2uPLzrp8l"
      },
      "outputs": [],
      "source": [
        "import sys\n",
        "sys.path.append('/content/parser_stat')"
      ]
    },
    {
      "cell_type": "markdown",
      "metadata": {
        "id": "3rCMCNnD0iDV"
      },
      "source": [
        "# Preparing"
      ]
    },
    {
      "cell_type": "code",
      "execution_count": 3,
      "metadata": {
        "id": "Jf-9gGT99CdG"
      },
      "outputs": [],
      "source": [
        "from IPython.display import clear_output"
      ]
    },
    {
      "cell_type": "code",
      "execution_count": 4,
      "metadata": {
        "id": "WF95eNWm9CWL"
      },
      "outputs": [],
      "source": [
        "from google.colab import files"
      ]
    },
    {
      "cell_type": "code",
      "execution_count": 5,
      "metadata": {
        "id": "4LpFrgGGT0TQ"
      },
      "outputs": [],
      "source": [
        "import time"
      ]
    },
    {
      "cell_type": "code",
      "execution_count": 6,
      "metadata": {
        "id": "dZZGZbmk0khj"
      },
      "outputs": [],
      "source": [
        "!apt install python3.10-venv\n",
        "clear_output()"
      ]
    },
    {
      "cell_type": "markdown",
      "metadata": {
        "id": "uZUulp-k5rlG"
      },
      "source": [
        "# UDPipe running"
      ]
    },
    {
      "cell_type": "code",
      "execution_count": 7,
      "metadata": {
        "id": "iy87eoje6BXS"
      },
      "outputs": [],
      "source": [
        "!python3 -m venv udpipe_env; source udpipe_env/bin/activate; pip install spacy-udpipe==1.0.0\n",
        "clear_output()"
      ]
    },
    {
      "cell_type": "code",
      "execution_count": 8,
      "metadata": {
        "colab": {
          "base_uri": "https://localhost:8080/"
        },
        "id": "ftgj-9fq68Nj",
        "outputId": "4c92b6d6-2950-4738-f962-1ad6248d6a3b"
      },
      "outputs": [
        {
          "output_type": "stream",
          "name": "stdout",
          "text": [
            "/bin/bash: line 1: /content/udpipe_env/bin/activate: No such file or directory\n",
            "/usr/local/bin/python\n",
            "/content/parser_stat/treebank_test_sets/treebank_data.pickle\n",
            "udpipe\n",
            "Downloaded pre-trained UDPipe model for 'ru' language\n",
            "\n",
            " gsd\n",
            "   0/601\n",
            " 100/601\n",
            " 200/601\n",
            " 300/601\n",
            " 400/601\n",
            " 500/601\n",
            " 600/601\n",
            "\n",
            " pud\n",
            "   0/1000\n",
            " 100/1000\n",
            " 200/1000\n",
            " 300/1000\n",
            " 400/1000\n",
            " 500/1000\n",
            " 600/1000\n",
            " 700/1000\n",
            " 800/1000\n",
            " 900/1000\n",
            "\n",
            " syntagrus\n",
            "   0/8800\n",
            " 100/8800\n",
            " 200/8800\n",
            " 300/8800\n",
            " 400/8800\n",
            " 500/8800\n",
            " 600/8800\n",
            " 700/8800\n",
            " 800/8800\n",
            " 900/8800\n",
            "1000/8800\n",
            "1100/8800\n",
            "1200/8800\n",
            "1300/8800\n",
            "1400/8800\n",
            "1500/8800\n",
            "1600/8800\n",
            "1700/8800\n",
            "1800/8800\n",
            "1900/8800\n",
            "2000/8800\n",
            "2100/8800\n",
            "2200/8800\n",
            "2300/8800\n",
            "2400/8800\n",
            "2500/8800\n",
            "2600/8800\n",
            "2700/8800\n",
            "2800/8800\n",
            "2900/8800\n",
            "3000/8800\n",
            "3100/8800\n",
            "3200/8800\n",
            "3300/8800\n",
            "3400/8800\n",
            "3500/8800\n",
            "3600/8800\n",
            "3700/8800\n",
            "3800/8800\n",
            "3900/8800\n",
            "4000/8800\n",
            "4100/8800\n",
            "4200/8800\n",
            "4300/8800\n",
            "4400/8800\n",
            "4500/8800\n",
            "4600/8800\n",
            "4700/8800\n",
            "4800/8800\n",
            "4900/8800\n",
            "5000/8800\n",
            "5100/8800\n",
            "5200/8800\n",
            "5300/8800\n",
            "5400/8800\n",
            "5500/8800\n",
            "5600/8800\n",
            "5700/8800\n",
            "5800/8800\n",
            "5900/8800\n",
            "6000/8800\n",
            "6100/8800\n",
            "6200/8800\n",
            "6300/8800\n",
            "6400/8800\n",
            "6500/8800\n",
            "6600/8800\n",
            "6700/8800\n",
            "6800/8800\n",
            "6900/8800\n",
            "7000/8800\n",
            "7100/8800\n",
            "7200/8800\n",
            "7300/8800\n",
            "7400/8800\n",
            "7500/8800\n",
            "7600/8800\n",
            "7700/8800\n",
            "7800/8800\n",
            "7900/8800\n",
            "8000/8800\n",
            "8100/8800\n",
            "8200/8800\n",
            "8300/8800\n",
            "8400/8800\n",
            "8500/8800\n",
            "8600/8800\n",
            "8700/8800\n",
            "\n",
            " poetry\n",
            "   0/728\n",
            " 100/728\n",
            " 200/728\n",
            " 300/728\n",
            " 400/728\n",
            " 500/728\n",
            " 600/728\n",
            " 700/728\n",
            "\n",
            " taiga\n",
            "   0/881\n",
            " 100/881\n",
            " 200/881\n",
            " 300/881\n",
            " 400/881\n",
            " 500/881\n",
            " 600/881\n",
            " 700/881\n",
            " 800/881\n",
            "\n",
            "time results (s):\n",
            "gsd       : 9.003 (s)\n",
            "pud       : 17.049 (s)\n",
            "syntagrus : 126.246 (s)\n",
            "poetry    : 7.330 (s)\n",
            "taiga     : 8.267 (s)\n"
          ]
        }
      ],
      "source": [
        "!source /content/udpipe_env/bin/activate; which python; \\\n",
        "    python3 /content/parser_stat/parser_running.py /content/parser_stat/treebank_test_sets/treebank_data.pickle udpipe"
      ]
    },
    {
      "cell_type": "code",
      "execution_count": 9,
      "metadata": {
        "colab": {
          "base_uri": "https://localhost:8080/",
          "height": 34
        },
        "id": "aHNcddoA6CH5",
        "outputId": "1cecce25-8985-4133-c293-17a24583591e"
      },
      "outputs": [
        {
          "output_type": "display_data",
          "data": {
            "text/plain": [
              "<IPython.core.display.Javascript object>"
            ],
            "application/javascript": [
              "\n",
              "    async function download(id, filename, size) {\n",
              "      if (!google.colab.kernel.accessAllowed) {\n",
              "        return;\n",
              "      }\n",
              "      const div = document.createElement('div');\n",
              "      const label = document.createElement('label');\n",
              "      label.textContent = `Downloading \"${filename}\": `;\n",
              "      div.appendChild(label);\n",
              "      const progress = document.createElement('progress');\n",
              "      progress.max = size;\n",
              "      div.appendChild(progress);\n",
              "      document.body.appendChild(div);\n",
              "\n",
              "      const buffers = [];\n",
              "      let downloaded = 0;\n",
              "\n",
              "      const channel = await google.colab.kernel.comms.open(id);\n",
              "      // Send a message to notify the kernel that we're ready.\n",
              "      channel.send({})\n",
              "\n",
              "      for await (const message of channel.messages) {\n",
              "        // Send a message to notify the kernel that we're ready.\n",
              "        channel.send({})\n",
              "        if (message.buffers) {\n",
              "          for (const buffer of message.buffers) {\n",
              "            buffers.push(buffer);\n",
              "            downloaded += buffer.byteLength;\n",
              "            progress.value = downloaded;\n",
              "          }\n",
              "        }\n",
              "      }\n",
              "      const blob = new Blob(buffers, {type: 'application/binary'});\n",
              "      const a = document.createElement('a');\n",
              "      a.href = window.URL.createObjectURL(blob);\n",
              "      a.download = filename;\n",
              "      div.appendChild(a);\n",
              "      a.click();\n",
              "      div.remove();\n",
              "    }\n",
              "  "
            ]
          },
          "metadata": {}
        },
        {
          "output_type": "display_data",
          "data": {
            "text/plain": [
              "<IPython.core.display.Javascript object>"
            ],
            "application/javascript": [
              "download(\"download_b3f0fc8c-5dff-443c-a8bc-2d515bf66dec\", \"udpipe.pickle\", 15452693)"
            ]
          },
          "metadata": {}
        }
      ],
      "source": [
        "files.download(\"/content/udpipe.pickle\")"
      ]
    },
    {
      "cell_type": "markdown",
      "metadata": {
        "id": "rd8A4DmY5rdK"
      },
      "source": [
        "# Stanza running"
      ]
    },
    {
      "cell_type": "code",
      "execution_count": 10,
      "metadata": {
        "id": "nZ9Q2cAu6LW4"
      },
      "outputs": [],
      "source": [
        "!python3 -m venv stanza_env; source stanza_env/bin/activate; \\\n",
        "    which python; pip install stanza==1.8.1; pip install torch==2.4.0 --upgrade\n",
        "clear_output()"
      ]
    },
    {
      "cell_type": "code",
      "execution_count": 11,
      "metadata": {
        "colab": {
          "base_uri": "https://localhost:8080/"
        },
        "id": "C1_5tZ_K7q9o",
        "outputId": "a94de1df-e08e-48f1-b617-af8049d0ae5c"
      },
      "outputs": [
        {
          "output_type": "stream",
          "name": "stdout",
          "text": [
            "/bin/bash: line 1: /content/stanza_env/bin/activate: No such file or directory\n",
            "/usr/local/bin/python\n",
            "/content/parser_stat/treebank_test_sets/treebank_data.pickle\n",
            "stanza\n",
            "2025-05-01 12:13:49 INFO: Checking for updates to resources.json in case models have been updated.  Note: this behavior can be turned off with download_method=None or download_method=DownloadMethod.REUSE_RESOURCES\n",
            "Downloading https://raw.githubusercontent.com/stanfordnlp/stanza-resources/main/resources_1.8.0.json: 386kB [00:00, 38.2MB/s]        \n",
            "2025-05-01 12:13:49 INFO: Downloaded file to /root/stanza_resources/resources.json\n",
            "Downloading https://huggingface.co/stanfordnlp/stanza-ru/resolve/v1.8.0/models/tokenize/syntagrus.pt: 100% 641k/641k [00:00<00:00, 10.2MB/s]\n",
            "Downloading https://huggingface.co/stanfordnlp/stanza-ru/resolve/v1.8.0/models/pos/syntagrus_charlm.pt: 100% 38.8M/38.8M [00:00<00:00, 170MB/s]\n",
            "Downloading https://huggingface.co/stanfordnlp/stanza-ru/resolve/v1.8.0/models/lemma/syntagrus_nocharlm.pt: 100% 13.5M/13.5M [00:00<00:00, 107MB/s] \n",
            "Downloading https://huggingface.co/stanfordnlp/stanza-ru/resolve/v1.8.0/models/depparse/syntagrus_charlm.pt: 100% 147M/147M [00:00<00:00, 220MB/s]\n",
            "Downloading https://huggingface.co/stanfordnlp/stanza-ru/resolve/v1.8.0/models/forward_charlm/newswiki.pt: 100% 20.0M/20.0M [00:00<00:00, 138MB/s] \n",
            "Downloading https://huggingface.co/stanfordnlp/stanza-ru/resolve/v1.8.0/models/pretrain/conll17.pt: 100% 109M/109M [00:00<00:00, 227MB/s] \n",
            "Downloading https://huggingface.co/stanfordnlp/stanza-ru/resolve/v1.8.0/models/backward_charlm/newswiki.pt: 100% 20.0M/20.0M [00:00<00:00, 115MB/s] \n",
            "2025-05-01 12:13:53 INFO: Loading these models for language: ru (Russian):\n",
            "==================================\n",
            "| Processor | Package            |\n",
            "----------------------------------\n",
            "| tokenize  | syntagrus          |\n",
            "| pos       | syntagrus_charlm   |\n",
            "| lemma     | syntagrus_nocharlm |\n",
            "| depparse  | syntagrus_charlm   |\n",
            "==================================\n",
            "\n",
            "2025-05-01 12:13:53 INFO: Using device: cpu\n",
            "2025-05-01 12:13:53 INFO: Loading: tokenize\n",
            "/usr/local/lib/python3.11/dist-packages/stanza/models/tokenization/trainer.py:82: FutureWarning: You are using `torch.load` with `weights_only=False` (the current default value), which uses the default pickle module implicitly. It is possible to construct malicious pickle data which will execute arbitrary code during unpickling (See https://github.com/pytorch/pytorch/blob/main/SECURITY.md#untrusted-models for more details). In a future release, the default value for `weights_only` will be flipped to `True`. This limits the functions that could be executed during unpickling. Arbitrary objects will no longer be allowed to be loaded via this mode unless they are explicitly allowlisted by the user via `torch.serialization.add_safe_globals`. We recommend you start setting `weights_only=True` for any use case where you don't have full control of the loaded file. Please open an issue on GitHub for any issues related to this experimental feature.\n",
            "  checkpoint = torch.load(filename, lambda storage, loc: storage)\n",
            "2025-05-01 12:13:58 INFO: Loading: pos\n",
            "/usr/local/lib/python3.11/dist-packages/stanza/models/pos/trainer.py:123: FutureWarning: You are using `torch.load` with `weights_only=False` (the current default value), which uses the default pickle module implicitly. It is possible to construct malicious pickle data which will execute arbitrary code during unpickling (See https://github.com/pytorch/pytorch/blob/main/SECURITY.md#untrusted-models for more details). In a future release, the default value for `weights_only` will be flipped to `True`. This limits the functions that could be executed during unpickling. Arbitrary objects will no longer be allowed to be loaded via this mode unless they are explicitly allowlisted by the user via `torch.serialization.add_safe_globals`. We recommend you start setting `weights_only=True` for any use case where you don't have full control of the loaded file. Please open an issue on GitHub for any issues related to this experimental feature.\n",
            "  checkpoint = torch.load(filename, lambda storage, loc: storage)\n",
            "/usr/local/lib/python3.11/dist-packages/stanza/models/common/pretrain.py:56: FutureWarning: You are using `torch.load` with `weights_only=False` (the current default value), which uses the default pickle module implicitly. It is possible to construct malicious pickle data which will execute arbitrary code during unpickling (See https://github.com/pytorch/pytorch/blob/main/SECURITY.md#untrusted-models for more details). In a future release, the default value for `weights_only` will be flipped to `True`. This limits the functions that could be executed during unpickling. Arbitrary objects will no longer be allowed to be loaded via this mode unless they are explicitly allowlisted by the user via `torch.serialization.add_safe_globals`. We recommend you start setting `weights_only=True` for any use case where you don't have full control of the loaded file. Please open an issue on GitHub for any issues related to this experimental feature.\n",
            "  data = torch.load(self.filename, lambda storage, loc: storage)\n",
            "/usr/local/lib/python3.11/dist-packages/stanza/models/common/char_model.py:271: FutureWarning: You are using `torch.load` with `weights_only=False` (the current default value), which uses the default pickle module implicitly. It is possible to construct malicious pickle data which will execute arbitrary code during unpickling (See https://github.com/pytorch/pytorch/blob/main/SECURITY.md#untrusted-models for more details). In a future release, the default value for `weights_only` will be flipped to `True`. This limits the functions that could be executed during unpickling. Arbitrary objects will no longer be allowed to be loaded via this mode unless they are explicitly allowlisted by the user via `torch.serialization.add_safe_globals`. We recommend you start setting `weights_only=True` for any use case where you don't have full control of the loaded file. Please open an issue on GitHub for any issues related to this experimental feature.\n",
            "  state = torch.load(filename, lambda storage, loc: storage)\n",
            "2025-05-01 12:13:58 INFO: Loading: lemma\n",
            "/usr/local/lib/python3.11/dist-packages/stanza/models/lemma/trainer.py:236: FutureWarning: You are using `torch.load` with `weights_only=False` (the current default value), which uses the default pickle module implicitly. It is possible to construct malicious pickle data which will execute arbitrary code during unpickling (See https://github.com/pytorch/pytorch/blob/main/SECURITY.md#untrusted-models for more details). In a future release, the default value for `weights_only` will be flipped to `True`. This limits the functions that could be executed during unpickling. Arbitrary objects will no longer be allowed to be loaded via this mode unless they are explicitly allowlisted by the user via `torch.serialization.add_safe_globals`. We recommend you start setting `weights_only=True` for any use case where you don't have full control of the loaded file. Please open an issue on GitHub for any issues related to this experimental feature.\n",
            "  checkpoint = torch.load(filename, lambda storage, loc: storage)\n",
            "2025-05-01 12:13:59 INFO: Loading: depparse\n",
            "/usr/local/lib/python3.11/dist-packages/stanza/models/depparse/trainer.py:186: FutureWarning: You are using `torch.load` with `weights_only=False` (the current default value), which uses the default pickle module implicitly. It is possible to construct malicious pickle data which will execute arbitrary code during unpickling (See https://github.com/pytorch/pytorch/blob/main/SECURITY.md#untrusted-models for more details). In a future release, the default value for `weights_only` will be flipped to `True`. This limits the functions that could be executed during unpickling. Arbitrary objects will no longer be allowed to be loaded via this mode unless they are explicitly allowlisted by the user via `torch.serialization.add_safe_globals`. We recommend you start setting `weights_only=True` for any use case where you don't have full control of the loaded file. Please open an issue on GitHub for any issues related to this experimental feature.\n",
            "  checkpoint = torch.load(filename, lambda storage, loc: storage)\n",
            "2025-05-01 12:13:59 INFO: Done loading processors!\n",
            "\n",
            " gsd\n",
            "   0/601\n",
            " 100/601\n",
            " 200/601\n",
            " 300/601\n",
            " 400/601\n",
            " 500/601\n",
            " 600/601\n",
            "\n",
            " pud\n",
            "   0/1000\n",
            " 100/1000\n",
            " 200/1000\n",
            " 300/1000\n",
            " 400/1000\n",
            " 500/1000\n",
            " 600/1000\n",
            " 700/1000\n",
            " 800/1000\n",
            " 900/1000\n",
            "\n",
            " syntagrus\n",
            "   0/8800\n",
            " 100/8800\n",
            " 200/8800\n",
            " 300/8800\n",
            " 400/8800\n",
            " 500/8800\n",
            " 600/8800\n",
            " 700/8800\n",
            " 800/8800\n",
            " 900/8800\n",
            "1000/8800\n",
            "1100/8800\n",
            "1200/8800\n",
            "1300/8800\n",
            "1400/8800\n",
            "1500/8800\n",
            "1600/8800\n",
            "1700/8800\n",
            "1800/8800\n",
            "1900/8800\n",
            "2000/8800\n",
            "2100/8800\n",
            "2200/8800\n",
            "2300/8800\n",
            "2400/8800\n",
            "2500/8800\n",
            "2600/8800\n",
            "2700/8800\n",
            "2800/8800\n",
            "2900/8800\n",
            "3000/8800\n",
            "3100/8800\n",
            "3200/8800\n",
            "3300/8800\n",
            "3400/8800\n",
            "3500/8800\n",
            "3600/8800\n",
            "3700/8800\n",
            "3800/8800\n",
            "3900/8800\n",
            "4000/8800\n",
            "4100/8800\n",
            "4200/8800\n",
            "4300/8800\n",
            "4400/8800\n",
            "4500/8800\n",
            "4600/8800\n",
            "4700/8800\n",
            "4800/8800\n",
            "4900/8800\n",
            "5000/8800\n",
            "5100/8800\n",
            "5200/8800\n",
            "5300/8800\n",
            "5400/8800\n",
            "5500/8800\n",
            "5600/8800\n",
            "5700/8800\n",
            "5800/8800\n",
            "5900/8800\n",
            "6000/8800\n",
            "6100/8800\n",
            "6200/8800\n",
            "6300/8800\n",
            "6400/8800\n",
            "6500/8800\n",
            "6600/8800\n",
            "6700/8800\n",
            "6800/8800\n",
            "6900/8800\n",
            "7000/8800\n",
            "7100/8800\n",
            "7200/8800\n",
            "7300/8800\n",
            "7400/8800\n",
            "7500/8800\n",
            "7600/8800\n",
            "7700/8800\n",
            "7800/8800\n",
            "7900/8800\n",
            "8000/8800\n",
            "8100/8800\n",
            "8200/8800\n",
            "8300/8800\n",
            "8400/8800\n",
            "8500/8800\n",
            "8600/8800\n",
            "8700/8800\n",
            "\n",
            " poetry\n",
            "   0/728\n",
            " 100/728\n",
            " 200/728\n",
            " 300/728\n",
            " 400/728\n",
            " 500/728\n",
            " 600/728\n",
            " 700/728\n",
            "\n",
            " taiga\n",
            "   0/881\n",
            " 100/881\n",
            " 200/881\n",
            " 300/881\n",
            " 400/881\n",
            " 500/881\n",
            " 600/881\n",
            " 700/881\n",
            " 800/881\n",
            "\n",
            "time results (s):\n",
            "gsd       : 458.973 (s)\n",
            "pud       : 721.535 (s)\n",
            "syntagrus : 6056.377 (s)\n",
            "poetry    : 393.949 (s)\n",
            "taiga     : 432.807 (s)\n"
          ]
        }
      ],
      "source": [
        "!source /content/stanza_env/bin/activate; which python;\\\n",
        "    python3 /content/parser_stat/parser_running.py /content/parser_stat/treebank_test_sets/treebank_data.pickle stanza"
      ]
    },
    {
      "cell_type": "code",
      "execution_count": 12,
      "metadata": {
        "id": "vXeRnp0p6LTb",
        "colab": {
          "base_uri": "https://localhost:8080/",
          "height": 17
        },
        "outputId": "9ee9c6ab-0338-4f4b-c445-13972ffc2fd4"
      },
      "outputs": [
        {
          "output_type": "display_data",
          "data": {
            "text/plain": [
              "<IPython.core.display.Javascript object>"
            ],
            "application/javascript": [
              "\n",
              "    async function download(id, filename, size) {\n",
              "      if (!google.colab.kernel.accessAllowed) {\n",
              "        return;\n",
              "      }\n",
              "      const div = document.createElement('div');\n",
              "      const label = document.createElement('label');\n",
              "      label.textContent = `Downloading \"${filename}\": `;\n",
              "      div.appendChild(label);\n",
              "      const progress = document.createElement('progress');\n",
              "      progress.max = size;\n",
              "      div.appendChild(progress);\n",
              "      document.body.appendChild(div);\n",
              "\n",
              "      const buffers = [];\n",
              "      let downloaded = 0;\n",
              "\n",
              "      const channel = await google.colab.kernel.comms.open(id);\n",
              "      // Send a message to notify the kernel that we're ready.\n",
              "      channel.send({})\n",
              "\n",
              "      for await (const message of channel.messages) {\n",
              "        // Send a message to notify the kernel that we're ready.\n",
              "        channel.send({})\n",
              "        if (message.buffers) {\n",
              "          for (const buffer of message.buffers) {\n",
              "            buffers.push(buffer);\n",
              "            downloaded += buffer.byteLength;\n",
              "            progress.value = downloaded;\n",
              "          }\n",
              "        }\n",
              "      }\n",
              "      const blob = new Blob(buffers, {type: 'application/binary'});\n",
              "      const a = document.createElement('a');\n",
              "      a.href = window.URL.createObjectURL(blob);\n",
              "      a.download = filename;\n",
              "      div.appendChild(a);\n",
              "      a.click();\n",
              "      div.remove();\n",
              "    }\n",
              "  "
            ]
          },
          "metadata": {}
        },
        {
          "output_type": "display_data",
          "data": {
            "text/plain": [
              "<IPython.core.display.Javascript object>"
            ],
            "application/javascript": [
              "download(\"download_ef47ade4-355b-49ea-bde8-1c9b080946e2\", \"stanza.pickle\", 15294166)"
            ]
          },
          "metadata": {}
        }
      ],
      "source": [
        "files.download(\"/content/stanza.pickle\")"
      ]
    },
    {
      "cell_type": "markdown",
      "metadata": {
        "id": "JeWxzx7K0BCg"
      },
      "source": [
        "# Natasha running"
      ]
    },
    {
      "cell_type": "code",
      "execution_count": 13,
      "metadata": {
        "id": "YRxPSi1Y0aLV"
      },
      "outputs": [],
      "source": [
        "!python3 -m venv natasha_env; source natasha_env/bin/activate; \\\n",
        "    which python; pip install natasha==1.6.0\n",
        "clear_output()"
      ]
    },
    {
      "cell_type": "code",
      "execution_count": null,
      "metadata": {
        "id": "5PN5LGlW70hY"
      },
      "outputs": [],
      "source": [
        "!source /content/natasha_env/bin/activate; which python; \\\n",
        "    python3 /content/parser_stat/parser_running.py /content/parser_stat/treebank_test_sets/treebank_data.pickle natasha"
      ]
    },
    {
      "cell_type": "code",
      "execution_count": null,
      "metadata": {
        "id": "xMFjXdWired5"
      },
      "outputs": [],
      "source": [
        "files.download(\"/content/natasha.pickle\")"
      ]
    },
    {
      "cell_type": "markdown",
      "metadata": {
        "id": "LGTB3YRt5xhd"
      },
      "source": [
        "# DeepPavlov running"
      ]
    },
    {
      "cell_type": "code",
      "execution_count": 16,
      "metadata": {
        "id": "YFgqP6rK6SQM"
      },
      "outputs": [],
      "source": [
        "!python3 -m venv deeppavlov_env; source deeppavlov_env/bin/activate; \\\n",
        "    which python; pip install deeppavlov==1.6.0\n",
        "clear_output()"
      ]
    },
    {
      "cell_type": "code",
      "execution_count": null,
      "metadata": {
        "id": "SO8eR3Lu7_t4"
      },
      "outputs": [],
      "source": [
        "!source /content/deeppavlov_env/bin/activate; which python; \\\n",
        "    python3 /content/parser_stat/parser_running.py /content/parser_stat/treebank_test_sets/treebank_data.pickle deeppavlov"
      ]
    },
    {
      "cell_type": "code",
      "execution_count": null,
      "metadata": {
        "id": "j0KhY2gq6SNk"
      },
      "outputs": [],
      "source": [
        "files.download(\"/content/deeppavlov.pickle\")"
      ]
    },
    {
      "cell_type": "markdown",
      "metadata": {
        "id": "o9nHzene5xdb"
      },
      "source": [
        "# spacy running"
      ]
    },
    {
      "cell_type": "code",
      "execution_count": null,
      "metadata": {
        "id": "hUOZLzR9sWUB"
      },
      "outputs": [],
      "source": [
        "!python3 -m venv spacy_env; source spacy_env/bin/activate; \\\n",
        "    which python; pip install spacy==3.7.5\n",
        "clear_output()"
      ]
    },
    {
      "cell_type": "code",
      "execution_count": null,
      "metadata": {
        "id": "rYy8Izwn8I-H"
      },
      "outputs": [],
      "source": [
        "!source /content/spacy_env/bin/activate; which python; python -m spacy download ru_core_news_lg; \\\n",
        "    python3 /content/parser_stat/parser_running.py /content/parser_stat/treebank_test_sets/treebank_data.pickle spacy"
      ]
    },
    {
      "cell_type": "code",
      "execution_count": null,
      "metadata": {
        "id": "LlLn_O3j6Z73"
      },
      "outputs": [],
      "source": [
        "files.download(\"/content/spacy.pickle\")"
      ]
    },
    {
      "cell_type": "code",
      "execution_count": null,
      "metadata": {
        "id": "0WC2MHEr7Pot"
      },
      "outputs": [],
      "source": []
    },
    {
      "cell_type": "code",
      "source": [],
      "metadata": {
        "id": "3_DRPK6CcA6U"
      },
      "execution_count": null,
      "outputs": []
    }
  ],
  "metadata": {
    "colab": {
      "provenance": [],
      "include_colab_link": true
    },
    "kernelspec": {
      "display_name": "Python 3",
      "name": "python3"
    },
    "language_info": {
      "name": "python"
    }
  },
  "nbformat": 4,
  "nbformat_minor": 0
}