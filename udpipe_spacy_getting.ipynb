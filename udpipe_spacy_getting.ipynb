{
  "nbformat": 4,
  "nbformat_minor": 0,
  "metadata": {
    "colab": {
      "provenance": [],
      "authorship_tag": "ABX9TyOXhG/8Zf2gAdhusKsEZ4Vu",
      "include_colab_link": true
    },
    "kernelspec": {
      "name": "python3",
      "display_name": "Python 3"
    },
    "language_info": {
      "name": "python"
    }
  },
  "cells": [
    {
      "cell_type": "markdown",
      "metadata": {
        "id": "view-in-github",
        "colab_type": "text"
      },
      "source": [
        "<a href=\"https://colab.research.google.com/github/Derinhelm/parser_stat/blob/main/udpipe_spacy_getting.ipynb\" target=\"_parent\"><img src=\"https://colab.research.google.com/assets/colab-badge.svg\" alt=\"Open In Colab\"/></a>"
      ]
    },
    {
      "cell_type": "markdown",
      "source": [
        "# SynTagRus loading (test part of dataset)"
      ],
      "metadata": {
        "id": "2DXe7qdnVZw_"
      }
    },
    {
      "cell_type": "code",
      "source": [
        "!wget -m https://raw.githubusercontent.com/UniversalDependencies/UD_Russian-SynTagRus/master/ru_syntagrus-ud-test.conllu\n",
        "!mv /content/raw.githubusercontent.com/UniversalDependencies/UD_Russian-SynTagRus/master/ru_syntagrus-ud-test.conllu /content/ru_syntagrus-ud-test.conllu\n",
        "!rm -r /content/raw.githubusercontent.com"
      ],
      "metadata": {
        "colab": {
          "base_uri": "https://localhost:8080/"
        },
        "id": "zSAXIYC1ehTd",
        "outputId": "b5af9b2a-6255-4870-e800-971233169630"
      },
      "execution_count": null,
      "outputs": [
        {
          "output_type": "stream",
          "name": "stdout",
          "text": [
            "--2024-07-31 20:57:59--  https://raw.githubusercontent.com/UniversalDependencies/UD_Russian-SynTagRus/master/ru_syntagrus-ud-test.conllu\n",
            "Resolving raw.githubusercontent.com (raw.githubusercontent.com)... 185.199.108.133, 185.199.109.133, 185.199.110.133, ...\n",
            "Connecting to raw.githubusercontent.com (raw.githubusercontent.com)|185.199.108.133|:443... connected.\n",
            "HTTP request sent, awaiting response... 200 OK\n",
            "Length: 14970966 (14M) [text/plain]\n",
            "Saving to: ‘raw.githubusercontent.com/UniversalDependencies/UD_Russian-SynTagRus/master/ru_syntagrus-ud-test.conllu’\n",
            "\n",
            "\r          raw.githu   0%[                    ]       0  --.-KB/s               \rraw.githubuserconte 100%[===================>]  14.28M  --.-KB/s    in 0.1s    \n",
            "\n",
            "Last-modified header missing -- time-stamps turned off.\n",
            "2024-07-31 20:57:59 (100 MB/s) - ‘raw.githubusercontent.com/UniversalDependencies/UD_Russian-SynTagRus/master/ru_syntagrus-ud-test.conllu’ saved [14970966/14970966]\n",
            "\n",
            "FINISHED --2024-07-31 20:57:59--\n",
            "Total wall clock time: 0.3s\n",
            "Downloaded: 1 files, 14M in 0.1s (100 MB/s)\n"
          ]
        }
      ]
    },
    {
      "cell_type": "markdown",
      "source": [
        "# SynTagRus data reading"
      ],
      "metadata": {
        "id": "92J7gA50e5hO"
      }
    },
    {
      "cell_type": "code",
      "source": [
        "class ConllEntry:\n",
        "    def __init__(self, id, form=None, lemma=None, pos=None, cpos=None, feats=None, \\\n",
        "                 parent_id=None, relation=None,deps=None, misc=None):\n",
        "        self.id = id\n",
        "        self.form = form\n",
        "        self.lemma = lemma\n",
        "        self.pos = pos\n",
        "        self.cpos = cpos\n",
        "        self.feats = feats\n",
        "        self.parent_id = parent_id\n",
        "        self.relation = relation\n",
        "        self.deps = deps\n",
        "        self.misc = misc"
      ],
      "metadata": {
        "id": "BALjxIyse4N5"
      },
      "execution_count": null,
      "outputs": []
    },
    {
      "cell_type": "code",
      "source": [
        "class Sentence:\n",
        "    def __init__(self):\n",
        "        self.text = \"\"\n",
        "        self.sent_id = \"\"\n",
        "        self.tokens = []\n",
        "\n",
        "    def add_token(self, token):\n",
        "        self.tokens.append(token)\n",
        "\n",
        "    def set_sent_id(self, sent_id):\n",
        "        self.sent_id = sent_id\n",
        "\n",
        "    def set_text(self, text):\n",
        "        self.text = text\n",
        "\n",
        "    def is_not_empty(self):\n",
        "        return len(self.tokens) > 0"
      ],
      "metadata": {
        "id": "kmQv_k6Ie9mM"
      },
      "execution_count": null,
      "outputs": []
    },
    {
      "cell_type": "code",
      "source": [
        "def get_dataset_sentences(dataset_path):\n",
        "    fh = open(dataset_path,'r',encoding='utf-8')\n",
        "    sents_read = 0\n",
        "    sents = []\n",
        "    comments = set()\n",
        "\n",
        "    sent = Sentence()\n",
        "    for line in fh:\n",
        "        tok = line.strip().split('\\t')\n",
        "        if not tok or line.strip() == '': # empty line, add sentence to list\n",
        "            if sent.is_not_empty:\n",
        "                sents_read += 1\n",
        "                sents.append(sent)\n",
        "            sent = Sentence()\n",
        "        else:\n",
        "            if line[0] == '#' or '-' in tok[0]: # a comment line\n",
        "                line = line.strip()\n",
        "                if line[:12] == \"# sent_id = \":\n",
        "                    sent.set_sent_id(line[12:])\n",
        "                elif line[:9] == \"# text = \":\n",
        "                    sent.set_text(line[9:])\n",
        "                else:\n",
        "                    comments.add(line)\n",
        "\n",
        "            else: # an actual ConllEntry, add to tokens\n",
        "                if tok[2] == \"_\":\n",
        "                    tok[2] = tok[1].lower()\n",
        "\n",
        "                word = ConllEntry(*tok)\n",
        "                sent.add_token(word)\n",
        "    fh.close()\n",
        "    return sents"
      ],
      "metadata": {
        "id": "8VKzeCc9e9or"
      },
      "execution_count": null,
      "outputs": []
    },
    {
      "cell_type": "code",
      "source": [
        "sents = get_dataset_sentences(\"/content/ru_syntagrus-ud-test.conllu\")"
      ],
      "metadata": {
        "id": "ZFtnqaonSjto"
      },
      "execution_count": null,
      "outputs": []
    },
    {
      "cell_type": "code",
      "source": [
        "len(sents)"
      ],
      "metadata": {
        "colab": {
          "base_uri": "https://localhost:8080/"
        },
        "id": "rgsBQMYefNpC",
        "outputId": "978df5a8-1e12-4f31-d631-1d8a5d3dd504"
      },
      "execution_count": null,
      "outputs": [
        {
          "output_type": "execute_result",
          "data": {
            "text/plain": [
              "8800"
            ]
          },
          "metadata": {},
          "execution_count": 6
        }
      ]
    },
    {
      "cell_type": "markdown",
      "source": [
        "# UDPipe (from spacy)"
      ],
      "metadata": {
        "id": "yYTmPMApS3zz"
      }
    },
    {
      "cell_type": "code",
      "source": [
        "from IPython.display import clear_output"
      ],
      "metadata": {
        "id": "XwTAMISfS3Ua"
      },
      "execution_count": null,
      "outputs": []
    },
    {
      "cell_type": "code",
      "source": [
        "!pip install spacy-udpipe==1.0.0\n",
        "clear_output()"
      ],
      "metadata": {
        "id": "WDpmJHnPS3XK"
      },
      "execution_count": null,
      "outputs": []
    },
    {
      "cell_type": "code",
      "source": [
        "import spacy_udpipe\n",
        "\n",
        "spacy_udpipe.download(\"ru\")\n",
        "\n",
        "class UDPipeSpacyParser:\n",
        "    def __init__(self):\n",
        "        self.udpipe_model = spacy_udpipe.load(\"ru\")\n",
        "\n",
        "    def parse(self, sent):\n",
        "        parsed = self.udpipe_model(sent)\n",
        "        res = []\n",
        "        for token in parsed:\n",
        "            if token.dep_ != 'ROOT':\n",
        "              parent_id = token.head.i+1\n",
        "              relation = token.dep_\n",
        "            else:\n",
        "              parent_id = 0\n",
        "              relation = 'root'\n",
        "            c = ConllEntry(str(token.i+1), form=token.text,\n",
        "                                   parent_id=str(parent_id), relation=relation)\n",
        "            res.append(c)\n",
        "        return res"
      ],
      "metadata": {
        "colab": {
          "base_uri": "https://localhost:8080/"
        },
        "id": "0osYq3O5S_kQ",
        "outputId": "717f4632-13e9-432b-a997-9c220000f1d5"
      },
      "execution_count": null,
      "outputs": [
        {
          "output_type": "stream",
          "name": "stdout",
          "text": [
            "Downloaded pre-trained UDPipe model for 'ru' language\n"
          ]
        }
      ]
    },
    {
      "cell_type": "markdown",
      "source": [
        "# Parsing"
      ],
      "metadata": {
        "id": "K9MuF8g4Uw66"
      }
    },
    {
      "cell_type": "code",
      "source": [
        "parser = UDPipeSpacyParser()\n",
        "\n",
        "parsing_res = []\n",
        "for i, sent in enumerate(sents):\n",
        "  if i % 100 == 0:\n",
        "      print(i)\n",
        "  token_list = parser.parse(sent.text)\n",
        "  cur_res = Sentence()\n",
        "  cur_res.set_sent_id(sent.sent_id)\n",
        "  cur_res.set_text(sent.text)\n",
        "  for t in token_list:\n",
        "    cur_res.add_token(t)\n",
        "  parsing_res.append(cur_res)"
      ],
      "metadata": {
        "colab": {
          "base_uri": "https://localhost:8080/"
        },
        "id": "FS5QEIacvg-y",
        "outputId": "d6d45bac-915f-49ba-f5f8-341731be22f1"
      },
      "execution_count": null,
      "outputs": [
        {
          "output_type": "stream",
          "name": "stdout",
          "text": [
            "0\n",
            "100\n",
            "200\n",
            "300\n",
            "400\n",
            "500\n",
            "600\n",
            "700\n",
            "800\n",
            "900\n",
            "1000\n",
            "1100\n",
            "1200\n",
            "1300\n",
            "1400\n",
            "1500\n",
            "1600\n",
            "1700\n",
            "1800\n",
            "1900\n",
            "2000\n",
            "2100\n",
            "2200\n",
            "2300\n",
            "2400\n",
            "2500\n",
            "2600\n",
            "2700\n",
            "2800\n",
            "2900\n",
            "3000\n",
            "3100\n",
            "3200\n",
            "3300\n",
            "3400\n",
            "3500\n",
            "3600\n",
            "3700\n",
            "3800\n",
            "3900\n",
            "4000\n",
            "4100\n",
            "4200\n",
            "4300\n",
            "4400\n",
            "4500\n",
            "4600\n",
            "4700\n",
            "4800\n",
            "4900\n",
            "5000\n",
            "5100\n",
            "5200\n",
            "5300\n",
            "5400\n",
            "5500\n",
            "5600\n",
            "5700\n",
            "5800\n",
            "5900\n",
            "6000\n",
            "6100\n",
            "6200\n",
            "6300\n",
            "6400\n",
            "6500\n",
            "6600\n",
            "6700\n",
            "6800\n",
            "6900\n",
            "7000\n",
            "7100\n",
            "7200\n",
            "7300\n",
            "7400\n",
            "7500\n",
            "7600\n",
            "7700\n",
            "7800\n",
            "7900\n",
            "8000\n",
            "8100\n",
            "8200\n",
            "8300\n",
            "8400\n",
            "8500\n",
            "8600\n",
            "8700\n"
          ]
        }
      ]
    },
    {
      "cell_type": "code",
      "source": [
        "[parsing_res[0].tokens[0].__dict__[f] == sents[0].tokens[0].__dict__[f] for f in ['id', 'form', 'parent_id', 'relation']]"
      ],
      "metadata": {
        "id": "6svxZ8tEvs1J",
        "colab": {
          "base_uri": "https://localhost:8080/"
        },
        "outputId": "41be50a8-b648-429c-db8e-a2dff0fba7f3"
      },
      "execution_count": null,
      "outputs": [
        {
          "output_type": "execute_result",
          "data": {
            "text/plain": [
              "[True, True, True, True]"
            ]
          },
          "metadata": {},
          "execution_count": 11
        }
      ]
    },
    {
      "cell_type": "code",
      "source": [
        "import pickle\n",
        "with open('udpipe_parsing.pickle', 'wb') as f:\n",
        "     pickle.dump(parsing_res, f)"
      ],
      "metadata": {
        "id": "oGxHjccjFUv4"
      },
      "execution_count": null,
      "outputs": []
    },
    {
      "cell_type": "code",
      "source": [
        "from google.colab import files\n",
        "\n",
        "files.download(\"udpipe_parsing.pickle\")"
      ],
      "metadata": {
        "id": "oZl5huHRF42I",
        "colab": {
          "base_uri": "https://localhost:8080/",
          "height": 37
        },
        "outputId": "662aaa0b-4786-4fc8-89c0-d20bb8eaf4e7"
      },
      "execution_count": null,
      "outputs": [
        {
          "output_type": "display_data",
          "data": {
            "text/plain": [
              "<IPython.core.display.Javascript object>"
            ],
            "application/javascript": [
              "\n",
              "    async function download(id, filename, size) {\n",
              "      if (!google.colab.kernel.accessAllowed) {\n",
              "        return;\n",
              "      }\n",
              "      const div = document.createElement('div');\n",
              "      const label = document.createElement('label');\n",
              "      label.textContent = `Downloading \"${filename}\": `;\n",
              "      div.appendChild(label);\n",
              "      const progress = document.createElement('progress');\n",
              "      progress.max = size;\n",
              "      div.appendChild(progress);\n",
              "      document.body.appendChild(div);\n",
              "\n",
              "      const buffers = [];\n",
              "      let downloaded = 0;\n",
              "\n",
              "      const channel = await google.colab.kernel.comms.open(id);\n",
              "      // Send a message to notify the kernel that we're ready.\n",
              "      channel.send({})\n",
              "\n",
              "      for await (const message of channel.messages) {\n",
              "        // Send a message to notify the kernel that we're ready.\n",
              "        channel.send({})\n",
              "        if (message.buffers) {\n",
              "          for (const buffer of message.buffers) {\n",
              "            buffers.push(buffer);\n",
              "            downloaded += buffer.byteLength;\n",
              "            progress.value = downloaded;\n",
              "          }\n",
              "        }\n",
              "      }\n",
              "      const blob = new Blob(buffers, {type: 'application/binary'});\n",
              "      const a = document.createElement('a');\n",
              "      a.href = window.URL.createObjectURL(blob);\n",
              "      a.download = filename;\n",
              "      div.appendChild(a);\n",
              "      a.click();\n",
              "      div.remove();\n",
              "    }\n",
              "  "
            ]
          },
          "metadata": {}
        },
        {
          "output_type": "display_data",
          "data": {
            "text/plain": [
              "<IPython.core.display.Javascript object>"
            ],
            "application/javascript": [
              "download(\"download_0ba37fa8-df6c-4ac7-a250-a6287473e7fd\", \"udpipe_parsing.pickle\", 11692354)"
            ]
          },
          "metadata": {}
        }
      ]
    },
    {
      "cell_type": "code",
      "source": [],
      "metadata": {
        "id": "WQ1oManX5ada"
      },
      "execution_count": null,
      "outputs": []
    }
  ]
}