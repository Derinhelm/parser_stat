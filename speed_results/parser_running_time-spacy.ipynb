{
 "cells": [
  {
   "cell_type": "code",
   "execution_count": 1,
   "metadata": {
    "execution": {
     "iopub.execute_input": "2025-06-20T22:40:29.589713Z",
     "iopub.status.busy": "2025-06-20T22:40:29.588758Z",
     "iopub.status.idle": "2025-06-20T22:40:29.627874Z",
     "shell.execute_reply": "2025-06-20T22:40:29.627089Z",
     "shell.execute_reply.started": "2025-06-20T22:40:29.589673Z"
    },
    "id": "mwS2uPLzrp8l",
    "tags": []
   },
   "outputs": [],
   "source": [
    "import sys\n",
    "sys.path.append('/home/jupyter/datasphere/project/parser_stat')\n",
    "sys.path.append('/home/jupyter/.local/lib/python3.11/site-packages')"
   ]
  },
  {
   "cell_type": "markdown",
   "metadata": {
    "id": "o9nHzene5xdb"
   },
   "source": [
    "# spacy running"
   ]
  },
  {
   "cell_type": "code",
   "execution_count": 7,
   "metadata": {
    "execution": {
     "iopub.execute_input": "2025-06-20T22:51:44.088602Z",
     "iopub.status.busy": "2025-06-20T22:51:44.087618Z",
     "iopub.status.idle": "2025-06-20T22:53:06.500023Z",
     "shell.execute_reply": "2025-06-20T22:53:06.499134Z",
     "shell.execute_reply.started": "2025-06-20T22:51:44.088562Z"
    },
    "tags": []
   },
   "outputs": [
    {
     "name": "stdout",
     "output_type": "stream",
     "text": [
      "Defaulting to user installation because normal site-packages is not writeable\n",
      "Collecting ru-core-news-lg==3.7.0\n",
      "  Downloading https://github.com/explosion/spacy-models/releases/download/ru_core_news_lg-3.7.0/ru_core_news_lg-3.7.0-py3-none-any.whl (513.4 MB)\n",
      "     ━━━━━━━━━━━━━━━━━━━━━━━━━━━━━━━━━━━━━━ 513.4/513.4 MB 14.4 MB/s eta 0:00:00\n",
      "Requirement already satisfied: spacy<3.8.0,>=3.7.0 in /home/jupyter/.local/lib/python3.11/site-packages (from ru-core-news-lg==3.7.0) (3.7.5)\n",
      "Collecting pymorphy3>=1.0.0 (from ru-core-news-lg==3.7.0)\n",
      "  Downloading pymorphy3-2.0.4-py3-none-any.whl.metadata (2.4 kB)\n",
      "Requirement already satisfied: spacy-legacy<3.1.0,>=3.0.11 in /home/jupyter/.local/lib/python3.11/site-packages (from spacy<3.8.0,>=3.7.0->ru-core-news-lg==3.7.0) (3.0.12)\n",
      "Requirement already satisfied: spacy-loggers<2.0.0,>=1.0.0 in /home/jupyter/.local/lib/python3.11/site-packages (from spacy<3.8.0,>=3.7.0->ru-core-news-lg==3.7.0) (1.0.5)\n",
      "Requirement already satisfied: murmurhash<1.1.0,>=0.28.0 in /home/jupyter/.local/lib/python3.11/site-packages (from spacy<3.8.0,>=3.7.0->ru-core-news-lg==3.7.0) (1.0.13)\n",
      "Requirement already satisfied: cymem<2.1.0,>=2.0.2 in /home/jupyter/.local/lib/python3.11/site-packages (from spacy<3.8.0,>=3.7.0->ru-core-news-lg==3.7.0) (2.0.11)\n",
      "Requirement already satisfied: preshed<3.1.0,>=3.0.2 in /home/jupyter/.local/lib/python3.11/site-packages (from spacy<3.8.0,>=3.7.0->ru-core-news-lg==3.7.0) (3.0.10)\n",
      "Requirement already satisfied: thinc<8.3.0,>=8.2.2 in /home/jupyter/.local/lib/python3.11/site-packages (from spacy<3.8.0,>=3.7.0->ru-core-news-lg==3.7.0) (8.2.5)\n",
      "Requirement already satisfied: wasabi<1.2.0,>=0.9.1 in /home/jupyter/.local/lib/python3.11/site-packages (from spacy<3.8.0,>=3.7.0->ru-core-news-lg==3.7.0) (1.1.3)\n",
      "Requirement already satisfied: srsly<3.0.0,>=2.4.3 in /home/jupyter/.local/lib/python3.11/site-packages (from spacy<3.8.0,>=3.7.0->ru-core-news-lg==3.7.0) (2.5.1)\n",
      "Requirement already satisfied: catalogue<2.1.0,>=2.0.6 in /home/jupyter/.local/lib/python3.11/site-packages (from spacy<3.8.0,>=3.7.0->ru-core-news-lg==3.7.0) (2.0.10)\n",
      "Requirement already satisfied: weasel<0.5.0,>=0.1.0 in /home/jupyter/.local/lib/python3.11/site-packages (from spacy<3.8.0,>=3.7.0->ru-core-news-lg==3.7.0) (0.4.1)\n",
      "Requirement already satisfied: typer<1.0.0,>=0.3.0 in /home/jupyter/.local/lib/python3.11/site-packages (from spacy<3.8.0,>=3.7.0->ru-core-news-lg==3.7.0) (0.16.0)\n",
      "Requirement already satisfied: tqdm<5.0.0,>=4.38.0 in /home/jupyter/.local/lib/python3.11/site-packages (from spacy<3.8.0,>=3.7.0->ru-core-news-lg==3.7.0) (4.67.1)\n",
      "Requirement already satisfied: requests<3.0.0,>=2.13.0 in /kernel/fallback/lib/python3.11/site-packages (from spacy<3.8.0,>=3.7.0->ru-core-news-lg==3.7.0) (2.31.0)\n",
      "Requirement already satisfied: pydantic!=1.8,!=1.8.1,<3.0.0,>=1.7.4 in /home/jupyter/.local/lib/python3.11/site-packages (from spacy<3.8.0,>=3.7.0->ru-core-news-lg==3.7.0) (2.11.7)\n",
      "Requirement already satisfied: jinja2 in /home/jupyter/.local/lib/python3.11/site-packages (from spacy<3.8.0,>=3.7.0->ru-core-news-lg==3.7.0) (3.1.6)\n",
      "Requirement already satisfied: setuptools in /kernel/lib/python3.11/site-packages (from spacy<3.8.0,>=3.7.0->ru-core-news-lg==3.7.0) (65.5.0)\n",
      "Requirement already satisfied: packaging>=20.0 in /home/jupyter/.local/lib/python3.11/site-packages (from spacy<3.8.0,>=3.7.0->ru-core-news-lg==3.7.0) (25.0)\n",
      "Requirement already satisfied: langcodes<4.0.0,>=3.2.0 in /home/jupyter/.local/lib/python3.11/site-packages (from spacy<3.8.0,>=3.7.0->ru-core-news-lg==3.7.0) (3.5.0)\n",
      "Requirement already satisfied: numpy>=1.19.0 in /home/jupyter/.local/lib/python3.11/site-packages (from spacy<3.8.0,>=3.7.0->ru-core-news-lg==3.7.0) (1.26.4)\n",
      "Requirement already satisfied: language-data>=1.2 in /home/jupyter/.local/lib/python3.11/site-packages (from langcodes<4.0.0,>=3.2.0->spacy<3.8.0,>=3.7.0->ru-core-news-lg==3.7.0) (1.3.0)\n",
      "Requirement already satisfied: annotated-types>=0.6.0 in /home/jupyter/.local/lib/python3.11/site-packages (from pydantic!=1.8,!=1.8.1,<3.0.0,>=1.7.4->spacy<3.8.0,>=3.7.0->ru-core-news-lg==3.7.0) (0.7.0)\n",
      "Requirement already satisfied: pydantic-core==2.33.2 in /home/jupyter/.local/lib/python3.11/site-packages (from pydantic!=1.8,!=1.8.1,<3.0.0,>=1.7.4->spacy<3.8.0,>=3.7.0->ru-core-news-lg==3.7.0) (2.33.2)\n",
      "Requirement already satisfied: typing-extensions>=4.12.2 in /home/jupyter/.local/lib/python3.11/site-packages (from pydantic!=1.8,!=1.8.1,<3.0.0,>=1.7.4->spacy<3.8.0,>=3.7.0->ru-core-news-lg==3.7.0) (4.14.0)\n",
      "Requirement already satisfied: typing-inspection>=0.4.0 in /home/jupyter/.local/lib/python3.11/site-packages (from pydantic!=1.8,!=1.8.1,<3.0.0,>=1.7.4->spacy<3.8.0,>=3.7.0->ru-core-news-lg==3.7.0) (0.4.1)\n",
      "Requirement already satisfied: charset-normalizer<4,>=2 in /kernel/fallback/lib/python3.11/site-packages (from requests<3.0.0,>=2.13.0->spacy<3.8.0,>=3.7.0->ru-core-news-lg==3.7.0) (3.4.2)\n",
      "Requirement already satisfied: idna<4,>=2.5 in /kernel/fallback/lib/python3.11/site-packages (from requests<3.0.0,>=2.13.0->spacy<3.8.0,>=3.7.0->ru-core-news-lg==3.7.0) (3.10)\n",
      "Requirement already satisfied: urllib3<3,>=1.21.1 in /kernel/fallback/lib/python3.11/site-packages (from requests<3.0.0,>=2.13.0->spacy<3.8.0,>=3.7.0->ru-core-news-lg==3.7.0) (1.25.11)\n",
      "Requirement already satisfied: certifi>=2017.4.17 in /kernel/fallback/lib/python3.11/site-packages (from requests<3.0.0,>=2.13.0->spacy<3.8.0,>=3.7.0->ru-core-news-lg==3.7.0) (2025.4.26)\n",
      "Requirement already satisfied: blis<0.8.0,>=0.7.8 in /home/jupyter/.local/lib/python3.11/site-packages (from thinc<8.3.0,>=8.2.2->spacy<3.8.0,>=3.7.0->ru-core-news-lg==3.7.0) (0.7.11)\n",
      "Requirement already satisfied: confection<1.0.0,>=0.0.1 in /home/jupyter/.local/lib/python3.11/site-packages (from thinc<8.3.0,>=8.2.2->spacy<3.8.0,>=3.7.0->ru-core-news-lg==3.7.0) (0.1.5)\n",
      "Requirement already satisfied: click>=8.0.0 in /home/jupyter/.local/lib/python3.11/site-packages (from typer<1.0.0,>=0.3.0->spacy<3.8.0,>=3.7.0->ru-core-news-lg==3.7.0) (8.2.1)\n",
      "Requirement already satisfied: shellingham>=1.3.0 in /home/jupyter/.local/lib/python3.11/site-packages (from typer<1.0.0,>=0.3.0->spacy<3.8.0,>=3.7.0->ru-core-news-lg==3.7.0) (1.5.4)\n",
      "Requirement already satisfied: rich>=10.11.0 in /home/jupyter/.local/lib/python3.11/site-packages (from typer<1.0.0,>=0.3.0->spacy<3.8.0,>=3.7.0->ru-core-news-lg==3.7.0) (14.0.0)\n",
      "Requirement already satisfied: cloudpathlib<1.0.0,>=0.7.0 in /home/jupyter/.local/lib/python3.11/site-packages (from weasel<0.5.0,>=0.1.0->spacy<3.8.0,>=3.7.0->ru-core-news-lg==3.7.0) (0.21.1)\n",
      "Requirement already satisfied: smart-open<8.0.0,>=5.2.1 in /home/jupyter/.local/lib/python3.11/site-packages (from weasel<0.5.0,>=0.1.0->spacy<3.8.0,>=3.7.0->ru-core-news-lg==3.7.0) (7.1.0)\n",
      "Requirement already satisfied: wrapt in /home/jupyter/.local/lib/python3.11/site-packages (from smart-open<8.0.0,>=5.2.1->weasel<0.5.0,>=0.1.0->spacy<3.8.0,>=3.7.0->ru-core-news-lg==3.7.0) (1.17.2)\n",
      "Requirement already satisfied: marisa-trie>=1.1.0 in /home/jupyter/.local/lib/python3.11/site-packages (from language-data>=1.2->langcodes<4.0.0,>=3.2.0->spacy<3.8.0,>=3.7.0->ru-core-news-lg==3.7.0) (1.2.1)\n",
      "Collecting dawg2-python>=0.8.0 (from pymorphy3>=1.0.0->ru-core-news-lg==3.7.0)\n",
      "  Downloading dawg2_python-0.9.0-py3-none-any.whl.metadata (7.5 kB)\n",
      "Collecting pymorphy3-dicts-ru (from pymorphy3>=1.0.0->ru-core-news-lg==3.7.0)\n",
      "  Downloading pymorphy3_dicts_ru-2.4.417150.4580142-py2.py3-none-any.whl.metadata (2.0 kB)\n",
      "Requirement already satisfied: markdown-it-py>=2.2.0 in /home/jupyter/.local/lib/python3.11/site-packages (from rich>=10.11.0->typer<1.0.0,>=0.3.0->spacy<3.8.0,>=3.7.0->ru-core-news-lg==3.7.0) (3.0.0)\n",
      "Requirement already satisfied: pygments<3.0.0,>=2.13.0 in /home/jupyter/.local/lib/python3.11/site-packages (from rich>=10.11.0->typer<1.0.0,>=0.3.0->spacy<3.8.0,>=3.7.0->ru-core-news-lg==3.7.0) (2.19.1)\n",
      "Requirement already satisfied: mdurl~=0.1 in /home/jupyter/.local/lib/python3.11/site-packages (from markdown-it-py>=2.2.0->rich>=10.11.0->typer<1.0.0,>=0.3.0->spacy<3.8.0,>=3.7.0->ru-core-news-lg==3.7.0) (0.1.2)\n",
      "Requirement already satisfied: MarkupSafe>=2.0 in /home/jupyter/.local/lib/python3.11/site-packages (from jinja2->spacy<3.8.0,>=3.7.0->ru-core-news-lg==3.7.0) (3.0.2)\n",
      "Downloading pymorphy3-2.0.4-py3-none-any.whl (54 kB)\n",
      "Downloading dawg2_python-0.9.0-py3-none-any.whl (9.3 kB)\n",
      "Downloading pymorphy3_dicts_ru-2.4.417150.4580142-py2.py3-none-any.whl (8.4 MB)\n",
      "   ━━━━━━━━━━━━━━━━━━━━━━━━━━━━━━━━━━━━━━━━ 8.4/8.4 MB 24.0 MB/s eta 0:00:00\n",
      "Installing collected packages: pymorphy3-dicts-ru, dawg2-python, pymorphy3, ru-core-news-lg\n",
      "\n",
      "Successfully installed dawg2-python-0.9.0 pymorphy3-2.0.4 pymorphy3-dicts-ru-2.4.417150.4580142 ru-core-news-lg-3.7.0\n",
      "\u001b[38;5;2m✔ Download and installation successful\u001b[0m\n",
      "You can now load the package via spacy.load('ru_core_news_lg')\n"
     ]
    },
    {
     "name": "stderr",
     "output_type": "stream",
     "text": [
      "WARNING: Ignoring invalid distribution -pacy (/home/jupyter/.local/lib/python3.11/site-packages)\n",
      "WARNING: Ignoring invalid distribution -pacy (/home/jupyter/.local/lib/python3.11/site-packages)\n",
      "  WARNING: The script pymorphy is installed in '/home/jupyter/.local/bin' which is not on PATH.\n",
      "  Consider adding this directory to PATH or, if you prefer to suppress this warning, use --no-warn-script-location.\n",
      "WARNING: Ignoring invalid distribution -pacy (/home/jupyter/.local/lib/python3.11/site-packages)\n",
      "\n",
      "[notice] A new release of pip is available: 24.0 -> 25.1.1\n",
      "[notice] To update, run: python3 -m pip install --upgrade pip\n"
     ]
    }
   ],
   "source": [
    "!python3 -m spacy download ru_core_news_lg"
   ]
  },
  {
   "cell_type": "code",
   "execution_count": 8,
   "metadata": {
    "execution": {
     "iopub.execute_input": "2025-06-20T22:53:06.512856Z",
     "iopub.status.busy": "2025-06-20T22:53:06.512078Z",
     "iopub.status.idle": "2025-06-20T22:53:08.144480Z",
     "shell.execute_reply": "2025-06-20T22:53:08.143416Z",
     "shell.execute_reply.started": "2025-06-20T22:53:06.512788Z"
    },
    "id": "hUOZLzR9sWUB",
    "tags": []
   },
   "outputs": [
    {
     "name": "stdout",
     "output_type": "stream",
     "text": [
      "Defaulting to user installation because normal site-packages is not writeable\n",
      "\u001b[33mWARNING: Ignoring invalid distribution -pacy (/home/jupyter/.local/lib/python3.11/site-packages)\u001b[0m\u001b[33m\n",
      "\u001b[0mRequirement already satisfied: spacy==3.7.5 in /home/jupyter/.local/lib/python3.11/site-packages (3.7.5)\n",
      "Requirement already satisfied: spacy-legacy<3.1.0,>=3.0.11 in /home/jupyter/.local/lib/python3.11/site-packages (from spacy==3.7.5) (3.0.12)\n",
      "Requirement already satisfied: spacy-loggers<2.0.0,>=1.0.0 in /home/jupyter/.local/lib/python3.11/site-packages (from spacy==3.7.5) (1.0.5)\n",
      "Requirement already satisfied: murmurhash<1.1.0,>=0.28.0 in /home/jupyter/.local/lib/python3.11/site-packages (from spacy==3.7.5) (1.0.13)\n",
      "Requirement already satisfied: cymem<2.1.0,>=2.0.2 in /home/jupyter/.local/lib/python3.11/site-packages (from spacy==3.7.5) (2.0.11)\n",
      "Requirement already satisfied: preshed<3.1.0,>=3.0.2 in /home/jupyter/.local/lib/python3.11/site-packages (from spacy==3.7.5) (3.0.10)\n",
      "Requirement already satisfied: thinc<8.3.0,>=8.2.2 in /home/jupyter/.local/lib/python3.11/site-packages (from spacy==3.7.5) (8.2.5)\n",
      "Requirement already satisfied: wasabi<1.2.0,>=0.9.1 in /home/jupyter/.local/lib/python3.11/site-packages (from spacy==3.7.5) (1.1.3)\n",
      "Requirement already satisfied: srsly<3.0.0,>=2.4.3 in /home/jupyter/.local/lib/python3.11/site-packages (from spacy==3.7.5) (2.5.1)\n",
      "Requirement already satisfied: catalogue<2.1.0,>=2.0.6 in /home/jupyter/.local/lib/python3.11/site-packages (from spacy==3.7.5) (2.0.10)\n",
      "Requirement already satisfied: weasel<0.5.0,>=0.1.0 in /home/jupyter/.local/lib/python3.11/site-packages (from spacy==3.7.5) (0.4.1)\n",
      "Requirement already satisfied: typer<1.0.0,>=0.3.0 in /home/jupyter/.local/lib/python3.11/site-packages (from spacy==3.7.5) (0.16.0)\n",
      "Requirement already satisfied: tqdm<5.0.0,>=4.38.0 in /home/jupyter/.local/lib/python3.11/site-packages (from spacy==3.7.5) (4.67.1)\n",
      "Requirement already satisfied: requests<3.0.0,>=2.13.0 in /kernel/fallback/lib/python3.11/site-packages (from spacy==3.7.5) (2.31.0)\n",
      "Requirement already satisfied: pydantic!=1.8,!=1.8.1,<3.0.0,>=1.7.4 in /home/jupyter/.local/lib/python3.11/site-packages (from spacy==3.7.5) (2.11.7)\n",
      "Requirement already satisfied: jinja2 in /home/jupyter/.local/lib/python3.11/site-packages (from spacy==3.7.5) (3.1.6)\n",
      "Requirement already satisfied: setuptools in /kernel/lib/python3.11/site-packages (from spacy==3.7.5) (65.5.0)\n",
      "Requirement already satisfied: packaging>=20.0 in /home/jupyter/.local/lib/python3.11/site-packages (from spacy==3.7.5) (25.0)\n",
      "Requirement already satisfied: langcodes<4.0.0,>=3.2.0 in /home/jupyter/.local/lib/python3.11/site-packages (from spacy==3.7.5) (3.5.0)\n",
      "Requirement already satisfied: numpy>=1.19.0 in /home/jupyter/.local/lib/python3.11/site-packages (from spacy==3.7.5) (1.26.4)\n",
      "Requirement already satisfied: language-data>=1.2 in /home/jupyter/.local/lib/python3.11/site-packages (from langcodes<4.0.0,>=3.2.0->spacy==3.7.5) (1.3.0)\n",
      "Requirement already satisfied: annotated-types>=0.6.0 in /home/jupyter/.local/lib/python3.11/site-packages (from pydantic!=1.8,!=1.8.1,<3.0.0,>=1.7.4->spacy==3.7.5) (0.7.0)\n",
      "Requirement already satisfied: pydantic-core==2.33.2 in /home/jupyter/.local/lib/python3.11/site-packages (from pydantic!=1.8,!=1.8.1,<3.0.0,>=1.7.4->spacy==3.7.5) (2.33.2)\n",
      "Requirement already satisfied: typing-extensions>=4.12.2 in /home/jupyter/.local/lib/python3.11/site-packages (from pydantic!=1.8,!=1.8.1,<3.0.0,>=1.7.4->spacy==3.7.5) (4.14.0)\n",
      "Requirement already satisfied: typing-inspection>=0.4.0 in /home/jupyter/.local/lib/python3.11/site-packages (from pydantic!=1.8,!=1.8.1,<3.0.0,>=1.7.4->spacy==3.7.5) (0.4.1)\n",
      "Requirement already satisfied: charset-normalizer<4,>=2 in /kernel/fallback/lib/python3.11/site-packages (from requests<3.0.0,>=2.13.0->spacy==3.7.5) (3.4.2)\n",
      "Requirement already satisfied: idna<4,>=2.5 in /kernel/fallback/lib/python3.11/site-packages (from requests<3.0.0,>=2.13.0->spacy==3.7.5) (3.10)\n",
      "Requirement already satisfied: urllib3<3,>=1.21.1 in /kernel/fallback/lib/python3.11/site-packages (from requests<3.0.0,>=2.13.0->spacy==3.7.5) (1.25.11)\n",
      "Requirement already satisfied: certifi>=2017.4.17 in /kernel/fallback/lib/python3.11/site-packages (from requests<3.0.0,>=2.13.0->spacy==3.7.5) (2025.4.26)\n",
      "Requirement already satisfied: blis<0.8.0,>=0.7.8 in /home/jupyter/.local/lib/python3.11/site-packages (from thinc<8.3.0,>=8.2.2->spacy==3.7.5) (0.7.11)\n",
      "Requirement already satisfied: confection<1.0.0,>=0.0.1 in /home/jupyter/.local/lib/python3.11/site-packages (from thinc<8.3.0,>=8.2.2->spacy==3.7.5) (0.1.5)\n",
      "Requirement already satisfied: click>=8.0.0 in /home/jupyter/.local/lib/python3.11/site-packages (from typer<1.0.0,>=0.3.0->spacy==3.7.5) (8.2.1)\n",
      "Requirement already satisfied: shellingham>=1.3.0 in /home/jupyter/.local/lib/python3.11/site-packages (from typer<1.0.0,>=0.3.0->spacy==3.7.5) (1.5.4)\n",
      "Requirement already satisfied: rich>=10.11.0 in /home/jupyter/.local/lib/python3.11/site-packages (from typer<1.0.0,>=0.3.0->spacy==3.7.5) (14.0.0)\n",
      "Requirement already satisfied: cloudpathlib<1.0.0,>=0.7.0 in /home/jupyter/.local/lib/python3.11/site-packages (from weasel<0.5.0,>=0.1.0->spacy==3.7.5) (0.21.1)\n",
      "Requirement already satisfied: smart-open<8.0.0,>=5.2.1 in /home/jupyter/.local/lib/python3.11/site-packages (from weasel<0.5.0,>=0.1.0->spacy==3.7.5) (7.1.0)\n",
      "Requirement already satisfied: wrapt in /home/jupyter/.local/lib/python3.11/site-packages (from smart-open<8.0.0,>=5.2.1->weasel<0.5.0,>=0.1.0->spacy==3.7.5) (1.17.2)\n",
      "Requirement already satisfied: marisa-trie>=1.1.0 in /home/jupyter/.local/lib/python3.11/site-packages (from language-data>=1.2->langcodes<4.0.0,>=3.2.0->spacy==3.7.5) (1.2.1)\n",
      "Requirement already satisfied: markdown-it-py>=2.2.0 in /home/jupyter/.local/lib/python3.11/site-packages (from rich>=10.11.0->typer<1.0.0,>=0.3.0->spacy==3.7.5) (3.0.0)\n",
      "Requirement already satisfied: pygments<3.0.0,>=2.13.0 in /home/jupyter/.local/lib/python3.11/site-packages (from rich>=10.11.0->typer<1.0.0,>=0.3.0->spacy==3.7.5) (2.19.1)\n",
      "Requirement already satisfied: mdurl~=0.1 in /home/jupyter/.local/lib/python3.11/site-packages (from markdown-it-py>=2.2.0->rich>=10.11.0->typer<1.0.0,>=0.3.0->spacy==3.7.5) (0.1.2)\n",
      "Requirement already satisfied: MarkupSafe>=2.0 in /home/jupyter/.local/lib/python3.11/site-packages (from jinja2->spacy==3.7.5) (3.0.2)\n",
      "\u001b[33mWARNING: Ignoring invalid distribution -pacy (/home/jupyter/.local/lib/python3.11/site-packages)\u001b[0m\u001b[33m\n",
      "\u001b[0m\u001b[33mWARNING: Ignoring invalid distribution -pacy (/home/jupyter/.local/lib/python3.11/site-packages)\u001b[0m\u001b[33m\n",
      "\u001b[0m\n",
      "\u001b[1m[\u001b[0m\u001b[34;49mnotice\u001b[0m\u001b[1;39;49m]\u001b[0m\u001b[39;49m A new release of pip is available: \u001b[0m\u001b[31;49m24.0\u001b[0m\u001b[39;49m -> \u001b[0m\u001b[32;49m25.1.1\u001b[0m\n",
      "\u001b[1m[\u001b[0m\u001b[34;49mnotice\u001b[0m\u001b[1;39;49m]\u001b[0m\u001b[39;49m To update, run: \u001b[0m\u001b[32;49mpython3 -m pip install --upgrade pip\u001b[0m\n"
     ]
    }
   ],
   "source": [
    "%pip install spacy==3.7.5\n",
    "#clear_output()"
   ]
  },
  {
   "cell_type": "code",
   "execution_count": 9,
   "metadata": {
    "colab": {
     "base_uri": "https://localhost:8080/"
    },
    "execution": {
     "iopub.execute_input": "2025-06-20T22:53:08.147962Z",
     "iopub.status.busy": "2025-06-20T22:53:08.147084Z",
     "iopub.status.idle": "2025-06-20T22:59:37.772724Z",
     "shell.execute_reply": "2025-06-20T22:59:37.771860Z",
     "shell.execute_reply.started": "2025-06-20T22:53:08.147917Z"
    },
    "id": "mUaNCWfQk7nF",
    "outputId": "260b230f-fe3f-4e9e-d797-a45119936894",
    "tags": []
   },
   "outputs": [
    {
     "name": "stdout",
     "output_type": "stream",
     "text": [
      "out_spacy1.txt\n",
      "out_spacy2.txt\n",
      "out_spacy3.txt\n"
     ]
    }
   ],
   "source": [
    "!for i in 1 2 3; do export FP=\"out_spacy$i.txt\"; echo $FP; \\\n",
    "        python3 /home/jupyter/datasphere/project/parser_stat/parser_running.py /home/jupyter/datasphere/project/parser_stat/treebank_test_sets/treebank_data.pickle spacy > $FP; done"
   ]
  },
  {
   "cell_type": "code",
   "execution_count": null,
   "metadata": {
    "id": "Dxpzmt1Kgbm-"
   },
   "outputs": [],
   "source": []
  }
 ],
 "metadata": {
  "colab": {
   "provenance": []
  },
  "kernelspec": {
   "display_name": "DataSphere Kernel",
   "language": "python",
   "name": "python3"
  },
  "language_info": {
   "codemirror_mode": {
    "name": "ipython",
    "version": 3
   },
   "file_extension": ".py",
   "mimetype": "text/x-python",
   "name": "python",
   "nbconvert_exporter": "python",
   "pygments_lexer": "ipython3",
   "version": "3.10.12"
  }
 },
 "nbformat": 4,
 "nbformat_minor": 4
}
