{
 "cells": [
  {
   "cell_type": "code",
   "execution_count": 2,
   "metadata": {
    "execution": {
     "iopub.execute_input": "2025-06-21T21:20:05.228655Z",
     "iopub.status.busy": "2025-06-21T21:20:05.227266Z",
     "iopub.status.idle": "2025-06-21T21:20:05.253752Z",
     "shell.execute_reply": "2025-06-21T21:20:05.252708Z",
     "shell.execute_reply.started": "2025-06-21T21:20:05.228610Z"
    },
    "id": "mwS2uPLzrp8l",
    "tags": []
   },
   "outputs": [],
   "source": [
    "import sys\n",
    "sys.path.append('/home/jupyter/datasphere/project/parser_stat')\n",
    "sys.path.append('/home/jupyter/.local/lib/python3.11/site-packages')"
   ]
  },
  {
   "cell_type": "markdown",
   "metadata": {
    "id": "OeHyuU6ciCmV"
   },
   "source": [
    "# Вычисление среднего времени"
   ]
  },
  {
   "cell_type": "code",
   "execution_count": 3,
   "metadata": {
    "execution": {
     "iopub.execute_input": "2025-06-21T21:20:05.264700Z",
     "iopub.status.busy": "2025-06-21T21:20:05.263312Z",
     "iopub.status.idle": "2025-06-21T21:20:05.288063Z",
     "shell.execute_reply": "2025-06-21T21:20:05.286847Z",
     "shell.execute_reply.started": "2025-06-21T21:20:05.264643Z"
    },
    "id": "RNQqaM5lizCO",
    "tags": []
   },
   "outputs": [],
   "source": [
    "treebank_names = ['taiga', 'poetry', 'gsd', 'pud', 'syntagrus']\n",
    "parser_names = [\"natasha\", \"udpipe\", \"spacy\", \"deeppavlov\", \"stanza\"]"
   ]
  },
  {
   "cell_type": "code",
   "execution_count": 4,
   "metadata": {
    "execution": {
     "iopub.execute_input": "2025-06-21T21:20:05.294915Z",
     "iopub.status.busy": "2025-06-21T21:20:05.293878Z",
     "iopub.status.idle": "2025-06-21T21:20:05.323199Z",
     "shell.execute_reply": "2025-06-21T21:20:05.322203Z",
     "shell.execute_reply.started": "2025-06-21T21:20:05.294860Z"
    },
    "id": "hdhklIIvj026",
    "tags": []
   },
   "outputs": [],
   "source": [
    "experiment_amount = 3"
   ]
  },
  {
   "cell_type": "code",
   "execution_count": 5,
   "metadata": {
    "colab": {
     "base_uri": "https://localhost:8080/"
    },
    "execution": {
     "iopub.execute_input": "2025-06-21T21:20:05.325718Z",
     "iopub.status.busy": "2025-06-21T21:20:05.324684Z",
     "iopub.status.idle": "2025-06-21T21:20:05.390925Z",
     "shell.execute_reply": "2025-06-21T21:20:05.389951Z",
     "shell.execute_reply.started": "2025-06-21T21:20:05.325686Z"
    },
    "id": "F_wOfNVh96cA",
    "outputId": "022f5d41-e25b-47b8-8528-6b5aae9ca902",
    "tags": []
   },
   "outputs": [],
   "source": [
    "from collections import defaultdict\n",
    "time_dict = defaultdict(dict)\n",
    "\n",
    "for p in parser_names:\n",
    "    for i in range(1, experiment_amount + 1):\n",
    "        with open(f'/home/jupyter/datasphere/project/out_{p}{i}.txt', 'r', encoding='utf-8') as f:\n",
    "            for s in f.readlines()[-5:]:\n",
    "                d = s.split(\":\")[0].strip()\n",
    "                t = float(s.split(\":\")[1].split('(')[0].strip())\n",
    "                time_dict[d][p] = t\n",
    "                #print(d, p, t)"
   ]
  },
  {
   "cell_type": "code",
   "execution_count": 6,
   "metadata": {
    "execution": {
     "iopub.execute_input": "2025-06-21T21:20:05.394323Z",
     "iopub.status.busy": "2025-06-21T21:20:05.392037Z",
     "iopub.status.idle": "2025-06-21T21:20:05.436015Z",
     "shell.execute_reply": "2025-06-21T21:20:05.434973Z",
     "shell.execute_reply.started": "2025-06-21T21:20:05.394281Z"
    },
    "id": "zUH7RtAokBwl",
    "tags": []
   },
   "outputs": [],
   "source": [
    "treebank_lens = \\\n",
    "{ \"gsd\": 601, \"pud\": 1000,\n",
    "  \"syntagrus\": 8800,\n",
    "  \"poetry\": 728, \"taiga\": 881\n",
    "}"
   ]
  },
  {
   "cell_type": "code",
   "execution_count": 7,
   "metadata": {
    "execution": {
     "iopub.execute_input": "2025-06-21T21:20:05.438800Z",
     "iopub.status.busy": "2025-06-21T21:20:05.436982Z",
     "iopub.status.idle": "2025-06-21T21:20:05.489307Z",
     "shell.execute_reply": "2025-06-21T21:20:05.488251Z",
     "shell.execute_reply.started": "2025-06-21T21:20:05.438765Z"
    },
    "id": "KvuQ__5mjogn",
    "tags": []
   },
   "outputs": [],
   "source": [
    "for d in time_dict.keys():\n",
    "  for p in time_dict[d].keys():\n",
    "    time_dict[d][p] = time_dict[d][p] / experiment_amount / treebank_lens[d]"
   ]
  },
  {
   "cell_type": "code",
   "execution_count": 8,
   "metadata": {
    "colab": {
     "base_uri": "https://localhost:8080/"
    },
    "execution": {
     "iopub.execute_input": "2025-06-21T21:20:05.492219Z",
     "iopub.status.busy": "2025-06-21T21:20:05.491005Z",
     "iopub.status.idle": "2025-06-21T21:20:05.649689Z",
     "shell.execute_reply": "2025-06-21T21:20:05.648801Z",
     "shell.execute_reply.started": "2025-06-21T21:20:05.492181Z"
    },
    "id": "6436aBCMj7cv",
    "outputId": "ee689402-bfd6-4450-fbcf-ea2630ce2a92",
    "tags": []
   },
   "outputs": [
    {
     "data": {
      "text/plain": [
       "defaultdict(dict,\n",
       "            {'gsd': {'natasha': 0.0010504714364947309,\n",
       "              'udpipe': 0.004405990016638935,\n",
       "              'spacy': 0.0036417082640044372,\n",
       "              'deeppavlov': 0.028598447032723243,\n",
       "              'stanza': 0.12387576261785914},\n",
       "             'pud': {'natasha': 0.0009363333333333334,\n",
       "              'udpipe': 0.004465666666666666,\n",
       "              'spacy': 0.003689,\n",
       "              'deeppavlov': 0.02759566666666667,\n",
       "              'stanza': 0.12397633333333333},\n",
       "             'syntagrus': {'natasha': 0.0009035606060606061,\n",
       "              'udpipe': 0.003757462121212121,\n",
       "              'spacy': 0.003382765151515152,\n",
       "              'deeppavlov': 0.027284621212121208,\n",
       "              'stanza': 0.11218670454545454},\n",
       "             'poetry': {'natasha': 0.0008063186813186813,\n",
       "              'udpipe': 0.002649267399267399,\n",
       "              'spacy': 0.002921245421245421,\n",
       "              'deeppavlov': 0.026283882783882787,\n",
       "              'stanza': 0.08184020146520146},\n",
       "             'taiga': {'natasha': 0.0007514188422247446,\n",
       "              'udpipe': 0.002306848278471434,\n",
       "              'spacy': 0.002706772606886114,\n",
       "              'deeppavlov': 0.025578130911842602,\n",
       "              'stanza': 0.07643889519485432}})"
      ]
     },
     "execution_count": 8,
     "metadata": {},
     "output_type": "execute_result"
    }
   ],
   "source": [
    "time_dict"
   ]
  },
  {
   "cell_type": "code",
   "execution_count": 9,
   "metadata": {
    "execution": {
     "iopub.execute_input": "2025-06-21T21:20:05.651563Z",
     "iopub.status.busy": "2025-06-21T21:20:05.650591Z",
     "iopub.status.idle": "2025-06-21T21:20:05.677077Z",
     "shell.execute_reply": "2025-06-21T21:20:05.676247Z",
     "shell.execute_reply.started": "2025-06-21T21:20:05.651513Z"
    },
    "id": "sP3NVjV7ghan",
    "tags": []
   },
   "outputs": [],
   "source": [
    "import pandas as pd"
   ]
  },
  {
   "cell_type": "code",
   "execution_count": 10,
   "metadata": {
    "colab": {
     "base_uri": "https://localhost:8080/",
     "height": 287
    },
    "execution": {
     "iopub.execute_input": "2025-06-21T21:20:05.679208Z",
     "iopub.status.busy": "2025-06-21T21:20:05.678042Z",
     "iopub.status.idle": "2025-06-21T21:20:05.700612Z",
     "shell.execute_reply": "2025-06-21T21:20:05.699664Z",
     "shell.execute_reply.started": "2025-06-21T21:20:05.679170Z"
    },
    "id": "PV9qR2UKgbh8",
    "outputId": "48e52df1-e40d-4b10-cb33-115229ff0518",
    "tags": []
   },
   "outputs": [],
   "source": [
    "time_df = pd.DataFrame([[time_dict[treebank][p]\n",
    "                          for treebank in treebank_names] for p in parser_names],\n",
    "                        index=parser_names, columns=treebank_names)"
   ]
  },
  {
   "cell_type": "code",
   "execution_count": 11,
   "metadata": {
    "execution": {
     "iopub.execute_input": "2025-06-21T21:20:05.704609Z",
     "iopub.status.busy": "2025-06-21T21:20:05.701590Z",
     "iopub.status.idle": "2025-06-21T21:20:05.750642Z",
     "shell.execute_reply": "2025-06-21T21:20:05.749813Z",
     "shell.execute_reply.started": "2025-06-21T21:20:05.704573Z"
    },
    "tags": []
   },
   "outputs": [],
   "source": [
    "time_df['mean'] = time_df.mean(axis=1)"
   ]
  },
  {
   "cell_type": "code",
   "execution_count": 12,
   "metadata": {
    "execution": {
     "iopub.execute_input": "2025-06-21T21:20:05.752795Z",
     "iopub.status.busy": "2025-06-21T21:20:05.751804Z",
     "iopub.status.idle": "2025-06-21T21:20:05.810583Z",
     "shell.execute_reply": "2025-06-21T21:20:05.809529Z",
     "shell.execute_reply.started": "2025-06-21T21:20:05.752766Z"
    },
    "id": "2bXLT90MgbkK",
    "tags": []
   },
   "outputs": [
    {
     "data": {
      "text/html": [
       "<div>\n",
       "<style scoped>\n",
       "    .dataframe tbody tr th:only-of-type {\n",
       "        vertical-align: middle;\n",
       "    }\n",
       "\n",
       "    .dataframe tbody tr th {\n",
       "        vertical-align: top;\n",
       "    }\n",
       "\n",
       "    .dataframe thead th {\n",
       "        text-align: right;\n",
       "    }\n",
       "</style>\n",
       "<table border=\"1\" class=\"dataframe\">\n",
       "  <thead>\n",
       "    <tr style=\"text-align: right;\">\n",
       "      <th></th>\n",
       "      <th>taiga</th>\n",
       "      <th>poetry</th>\n",
       "      <th>gsd</th>\n",
       "      <th>pud</th>\n",
       "      <th>syntagrus</th>\n",
       "      <th>mean</th>\n",
       "    </tr>\n",
       "  </thead>\n",
       "  <tbody>\n",
       "    <tr>\n",
       "      <th>natasha</th>\n",
       "      <td>0.00075</td>\n",
       "      <td>0.00081</td>\n",
       "      <td>0.00105</td>\n",
       "      <td>0.00094</td>\n",
       "      <td>0.00090</td>\n",
       "      <td>0.00089</td>\n",
       "    </tr>\n",
       "    <tr>\n",
       "      <th>udpipe</th>\n",
       "      <td>0.00231</td>\n",
       "      <td>0.00265</td>\n",
       "      <td>0.00441</td>\n",
       "      <td>0.00447</td>\n",
       "      <td>0.00376</td>\n",
       "      <td>0.00352</td>\n",
       "    </tr>\n",
       "    <tr>\n",
       "      <th>spacy</th>\n",
       "      <td>0.00271</td>\n",
       "      <td>0.00292</td>\n",
       "      <td>0.00364</td>\n",
       "      <td>0.00369</td>\n",
       "      <td>0.00338</td>\n",
       "      <td>0.00327</td>\n",
       "    </tr>\n",
       "    <tr>\n",
       "      <th>deeppavlov</th>\n",
       "      <td>0.02558</td>\n",
       "      <td>0.02628</td>\n",
       "      <td>0.02860</td>\n",
       "      <td>0.02760</td>\n",
       "      <td>0.02728</td>\n",
       "      <td>0.02707</td>\n",
       "    </tr>\n",
       "    <tr>\n",
       "      <th>stanza</th>\n",
       "      <td>0.07644</td>\n",
       "      <td>0.08184</td>\n",
       "      <td>0.12388</td>\n",
       "      <td>0.12398</td>\n",
       "      <td>0.11219</td>\n",
       "      <td>0.10366</td>\n",
       "    </tr>\n",
       "  </tbody>\n",
       "</table>\n",
       "</div>"
      ],
      "text/plain": [
       "              taiga   poetry      gsd      pud  syntagrus     mean\n",
       "natasha     0.00075  0.00081  0.00105  0.00094    0.00090  0.00089\n",
       "udpipe      0.00231  0.00265  0.00441  0.00447    0.00376  0.00352\n",
       "spacy       0.00271  0.00292  0.00364  0.00369    0.00338  0.00327\n",
       "deeppavlov  0.02558  0.02628  0.02860  0.02760    0.02728  0.02707\n",
       "stanza      0.07644  0.08184  0.12388  0.12398    0.11219  0.10366"
      ]
     },
     "execution_count": 12,
     "metadata": {},
     "output_type": "execute_result"
    }
   ],
   "source": [
    "time_df.round(5)"
   ]
  },
  {
   "cell_type": "code",
   "execution_count": 13,
   "metadata": {
    "execution": {
     "iopub.execute_input": "2025-06-21T21:20:05.813455Z",
     "iopub.status.busy": "2025-06-21T21:20:05.812284Z",
     "iopub.status.idle": "2025-06-21T21:20:05.857011Z",
     "shell.execute_reply": "2025-06-21T21:20:05.856265Z",
     "shell.execute_reply.started": "2025-06-21T21:20:05.813421Z"
    },
    "id": "Dxpzmt1Kgbm-",
    "tags": []
   },
   "outputs": [
    {
     "data": {
      "text/html": [
       "<div>\n",
       "<style scoped>\n",
       "    .dataframe tbody tr th:only-of-type {\n",
       "        vertical-align: middle;\n",
       "    }\n",
       "\n",
       "    .dataframe tbody tr th {\n",
       "        vertical-align: top;\n",
       "    }\n",
       "\n",
       "    .dataframe thead th {\n",
       "        text-align: right;\n",
       "    }\n",
       "</style>\n",
       "<table border=\"1\" class=\"dataframe\">\n",
       "  <thead>\n",
       "    <tr style=\"text-align: right;\">\n",
       "      <th></th>\n",
       "      <th>taiga</th>\n",
       "      <th>poetry</th>\n",
       "      <th>gsd</th>\n",
       "      <th>pud</th>\n",
       "      <th>syntagrus</th>\n",
       "      <th>mean</th>\n",
       "    </tr>\n",
       "  </thead>\n",
       "  <tbody>\n",
       "    <tr>\n",
       "      <th>natasha</th>\n",
       "      <td>0.0008</td>\n",
       "      <td>0.0008</td>\n",
       "      <td>0.0011</td>\n",
       "      <td>0.0009</td>\n",
       "      <td>0.0009</td>\n",
       "      <td>0.0009</td>\n",
       "    </tr>\n",
       "    <tr>\n",
       "      <th>udpipe</th>\n",
       "      <td>0.0023</td>\n",
       "      <td>0.0026</td>\n",
       "      <td>0.0044</td>\n",
       "      <td>0.0045</td>\n",
       "      <td>0.0038</td>\n",
       "      <td>0.0035</td>\n",
       "    </tr>\n",
       "    <tr>\n",
       "      <th>spacy</th>\n",
       "      <td>0.0027</td>\n",
       "      <td>0.0029</td>\n",
       "      <td>0.0036</td>\n",
       "      <td>0.0037</td>\n",
       "      <td>0.0034</td>\n",
       "      <td>0.0033</td>\n",
       "    </tr>\n",
       "    <tr>\n",
       "      <th>deeppavlov</th>\n",
       "      <td>0.0256</td>\n",
       "      <td>0.0263</td>\n",
       "      <td>0.0286</td>\n",
       "      <td>0.0276</td>\n",
       "      <td>0.0273</td>\n",
       "      <td>0.0271</td>\n",
       "    </tr>\n",
       "    <tr>\n",
       "      <th>stanza</th>\n",
       "      <td>0.0764</td>\n",
       "      <td>0.0818</td>\n",
       "      <td>0.1239</td>\n",
       "      <td>0.1240</td>\n",
       "      <td>0.1122</td>\n",
       "      <td>0.1037</td>\n",
       "    </tr>\n",
       "  </tbody>\n",
       "</table>\n",
       "</div>"
      ],
      "text/plain": [
       "             taiga  poetry     gsd     pud  syntagrus    mean\n",
       "natasha     0.0008  0.0008  0.0011  0.0009     0.0009  0.0009\n",
       "udpipe      0.0023  0.0026  0.0044  0.0045     0.0038  0.0035\n",
       "spacy       0.0027  0.0029  0.0036  0.0037     0.0034  0.0033\n",
       "deeppavlov  0.0256  0.0263  0.0286  0.0276     0.0273  0.0271\n",
       "stanza      0.0764  0.0818  0.1239  0.1240     0.1122  0.1037"
      ]
     },
     "execution_count": 13,
     "metadata": {},
     "output_type": "execute_result"
    }
   ],
   "source": [
    "time_df.round(4)"
   ]
  },
  {
   "cell_type": "code",
   "execution_count": null,
   "metadata": {},
   "outputs": [],
   "source": []
  }
 ],
 "metadata": {
  "colab": {
   "provenance": []
  },
  "kernelspec": {
   "display_name": "DataSphere Kernel",
   "language": "python",
   "name": "python3"
  },
  "language_info": {
   "codemirror_mode": {
    "name": "ipython",
    "version": 3
   },
   "file_extension": ".py",
   "mimetype": "text/x-python",
   "name": "python",
   "nbconvert_exporter": "python",
   "pygments_lexer": "ipython3",
   "version": "3.10.12"
  }
 },
 "nbformat": 4,
 "nbformat_minor": 4
}
