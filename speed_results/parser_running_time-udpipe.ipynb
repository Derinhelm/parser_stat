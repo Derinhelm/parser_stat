{
 "cells": [
  {
   "cell_type": "markdown",
   "metadata": {
    "id": "vQpB65N5z79d"
   },
   "source": [
    "# Code downloading"
   ]
  },
  {
   "cell_type": "code",
   "execution_count": 1,
   "metadata": {
    "execution": {
     "iopub.execute_input": "2025-06-21T20:43:53.517542Z",
     "iopub.status.busy": "2025-06-21T20:43:53.516218Z",
     "iopub.status.idle": "2025-06-21T20:43:53.532732Z",
     "shell.execute_reply": "2025-06-21T20:43:53.531935Z",
     "shell.execute_reply.started": "2025-06-21T20:43:53.517504Z"
    },
    "id": "mwS2uPLzrp8l",
    "tags": []
   },
   "outputs": [],
   "source": [
    "import sys\n",
    "sys.path.append('/home/jupyter/datasphere/project/parser_stat')\n",
    "sys.path.append('/home/jupyter/.local/lib/python3.11/site-packages')"
   ]
  },
  {
   "cell_type": "markdown",
   "metadata": {
    "id": "uZUulp-k5rlG"
   },
   "source": [
    "# UDPipe running"
   ]
  },
  {
   "cell_type": "code",
   "execution_count": 2,
   "metadata": {
    "execution": {
     "iopub.execute_input": "2025-06-21T20:43:53.626737Z",
     "iopub.status.busy": "2025-06-21T20:43:53.625569Z",
     "iopub.status.idle": "2025-06-21T20:43:59.249417Z",
     "shell.execute_reply": "2025-06-21T20:43:59.248425Z",
     "shell.execute_reply.started": "2025-06-21T20:43:53.626695Z"
    },
    "id": "iy87eoje6BXS",
    "tags": []
   },
   "outputs": [
    {
     "name": "stdout",
     "output_type": "stream",
     "text": [
      "Defaulting to user installation because normal site-packages is not writeable\n",
      "\u001b[33mWARNING: Ignoring invalid distribution -pacy (/home/jupyter/.local/lib/python3.11/site-packages)\u001b[0m\u001b[33m\n",
      "\u001b[0mRequirement already satisfied: spacy-udpipe==1.0.0 in /home/jupyter/.local/lib/python3.11/site-packages (1.0.0)\n",
      "Requirement already satisfied: spacy<4.0.0,>=3.0.0 in /home/jupyter/.local/lib/python3.11/site-packages (from spacy-udpipe==1.0.0) (3.7.5)\n",
      "Requirement already satisfied: ufal.udpipe>=1.2.0 in /home/jupyter/.local/lib/python3.11/site-packages (from spacy-udpipe==1.0.0) (1.3.1.1)\n",
      "Requirement already satisfied: spacy-legacy<3.1.0,>=3.0.11 in /home/jupyter/.local/lib/python3.11/site-packages (from spacy<4.0.0,>=3.0.0->spacy-udpipe==1.0.0) (3.0.12)\n",
      "Requirement already satisfied: spacy-loggers<2.0.0,>=1.0.0 in /home/jupyter/.local/lib/python3.11/site-packages (from spacy<4.0.0,>=3.0.0->spacy-udpipe==1.0.0) (1.0.5)\n",
      "Requirement already satisfied: murmurhash<1.1.0,>=0.28.0 in /home/jupyter/.local/lib/python3.11/site-packages (from spacy<4.0.0,>=3.0.0->spacy-udpipe==1.0.0) (1.0.13)\n",
      "Requirement already satisfied: cymem<2.1.0,>=2.0.2 in /home/jupyter/.local/lib/python3.11/site-packages (from spacy<4.0.0,>=3.0.0->spacy-udpipe==1.0.0) (2.0.11)\n",
      "Requirement already satisfied: preshed<3.1.0,>=3.0.2 in /home/jupyter/.local/lib/python3.11/site-packages (from spacy<4.0.0,>=3.0.0->spacy-udpipe==1.0.0) (3.0.10)\n",
      "Requirement already satisfied: thinc<8.3.0,>=8.2.2 in /home/jupyter/.local/lib/python3.11/site-packages (from spacy<4.0.0,>=3.0.0->spacy-udpipe==1.0.0) (8.2.5)\n",
      "Requirement already satisfied: wasabi<1.2.0,>=0.9.1 in /home/jupyter/.local/lib/python3.11/site-packages (from spacy<4.0.0,>=3.0.0->spacy-udpipe==1.0.0) (1.1.3)\n",
      "Requirement already satisfied: srsly<3.0.0,>=2.4.3 in /home/jupyter/.local/lib/python3.11/site-packages (from spacy<4.0.0,>=3.0.0->spacy-udpipe==1.0.0) (2.5.1)\n",
      "Requirement already satisfied: catalogue<2.1.0,>=2.0.6 in /home/jupyter/.local/lib/python3.11/site-packages (from spacy<4.0.0,>=3.0.0->spacy-udpipe==1.0.0) (2.0.10)\n",
      "Requirement already satisfied: weasel<0.5.0,>=0.1.0 in /home/jupyter/.local/lib/python3.11/site-packages (from spacy<4.0.0,>=3.0.0->spacy-udpipe==1.0.0) (0.4.1)\n",
      "Requirement already satisfied: typer<1.0.0,>=0.3.0 in /home/jupyter/.local/lib/python3.11/site-packages (from spacy<4.0.0,>=3.0.0->spacy-udpipe==1.0.0) (0.16.0)\n",
      "Requirement already satisfied: tqdm<5.0.0,>=4.38.0 in /home/jupyter/.local/lib/python3.11/site-packages (from spacy<4.0.0,>=3.0.0->spacy-udpipe==1.0.0) (4.64.1)\n",
      "Requirement already satisfied: requests<3.0.0,>=2.13.0 in /kernel/fallback/lib/python3.11/site-packages (from spacy<4.0.0,>=3.0.0->spacy-udpipe==1.0.0) (2.31.0)\n",
      "Requirement already satisfied: pydantic!=1.8,!=1.8.1,<3.0.0,>=1.7.4 in /home/jupyter/.local/lib/python3.11/site-packages (from spacy<4.0.0,>=3.0.0->spacy-udpipe==1.0.0) (1.10.22)\n",
      "Requirement already satisfied: jinja2 in /home/jupyter/.local/lib/python3.11/site-packages (from spacy<4.0.0,>=3.0.0->spacy-udpipe==1.0.0) (3.1.6)\n",
      "Requirement already satisfied: setuptools in /kernel/lib/python3.11/site-packages (from spacy<4.0.0,>=3.0.0->spacy-udpipe==1.0.0) (65.5.0)\n",
      "Requirement already satisfied: packaging>=20.0 in /home/jupyter/.local/lib/python3.11/site-packages (from spacy<4.0.0,>=3.0.0->spacy-udpipe==1.0.0) (25.0)\n",
      "Requirement already satisfied: langcodes<4.0.0,>=3.2.0 in /home/jupyter/.local/lib/python3.11/site-packages (from spacy<4.0.0,>=3.0.0->spacy-udpipe==1.0.0) (3.5.0)\n",
      "Requirement already satisfied: numpy>=1.19.0 in /home/jupyter/.local/lib/python3.11/site-packages (from spacy<4.0.0,>=3.0.0->spacy-udpipe==1.0.0) (1.23.5)\n",
      "Requirement already satisfied: language-data>=1.2 in /home/jupyter/.local/lib/python3.11/site-packages (from langcodes<4.0.0,>=3.2.0->spacy<4.0.0,>=3.0.0->spacy-udpipe==1.0.0) (1.3.0)\n",
      "Requirement already satisfied: typing-extensions>=4.2.0 in /home/jupyter/.local/lib/python3.11/site-packages (from pydantic!=1.8,!=1.8.1,<3.0.0,>=1.7.4->spacy<4.0.0,>=3.0.0->spacy-udpipe==1.0.0) (4.14.0)\n",
      "Requirement already satisfied: charset-normalizer<4,>=2 in /kernel/fallback/lib/python3.11/site-packages (from requests<3.0.0,>=2.13.0->spacy<4.0.0,>=3.0.0->spacy-udpipe==1.0.0) (3.4.2)\n",
      "Requirement already satisfied: idna<4,>=2.5 in /kernel/fallback/lib/python3.11/site-packages (from requests<3.0.0,>=2.13.0->spacy<4.0.0,>=3.0.0->spacy-udpipe==1.0.0) (3.10)\n",
      "Requirement already satisfied: urllib3<3,>=1.21.1 in /kernel/fallback/lib/python3.11/site-packages (from requests<3.0.0,>=2.13.0->spacy<4.0.0,>=3.0.0->spacy-udpipe==1.0.0) (1.25.11)\n",
      "Requirement already satisfied: certifi>=2017.4.17 in /kernel/fallback/lib/python3.11/site-packages (from requests<3.0.0,>=2.13.0->spacy<4.0.0,>=3.0.0->spacy-udpipe==1.0.0) (2025.4.26)\n",
      "Requirement already satisfied: blis<0.8.0,>=0.7.8 in /home/jupyter/.local/lib/python3.11/site-packages (from thinc<8.3.0,>=8.2.2->spacy<4.0.0,>=3.0.0->spacy-udpipe==1.0.0) (0.7.11)\n",
      "Requirement already satisfied: confection<1.0.0,>=0.0.1 in /home/jupyter/.local/lib/python3.11/site-packages (from thinc<8.3.0,>=8.2.2->spacy<4.0.0,>=3.0.0->spacy-udpipe==1.0.0) (0.1.5)\n",
      "Requirement already satisfied: click>=8.0.0 in /home/jupyter/.local/lib/python3.11/site-packages (from typer<1.0.0,>=0.3.0->spacy<4.0.0,>=3.0.0->spacy-udpipe==1.0.0) (8.2.1)\n",
      "Requirement already satisfied: shellingham>=1.3.0 in /home/jupyter/.local/lib/python3.11/site-packages (from typer<1.0.0,>=0.3.0->spacy<4.0.0,>=3.0.0->spacy-udpipe==1.0.0) (1.5.4)\n",
      "Requirement already satisfied: rich>=10.11.0 in /home/jupyter/.local/lib/python3.11/site-packages (from typer<1.0.0,>=0.3.0->spacy<4.0.0,>=3.0.0->spacy-udpipe==1.0.0) (14.0.0)\n",
      "Requirement already satisfied: cloudpathlib<1.0.0,>=0.7.0 in /home/jupyter/.local/lib/python3.11/site-packages (from weasel<0.5.0,>=0.1.0->spacy<4.0.0,>=3.0.0->spacy-udpipe==1.0.0) (0.21.1)\n",
      "Requirement already satisfied: smart-open<8.0.0,>=5.2.1 in /home/jupyter/.local/lib/python3.11/site-packages (from weasel<0.5.0,>=0.1.0->spacy<4.0.0,>=3.0.0->spacy-udpipe==1.0.0) (7.1.0)\n",
      "Requirement already satisfied: wrapt in /home/jupyter/.local/lib/python3.11/site-packages (from smart-open<8.0.0,>=5.2.1->weasel<0.5.0,>=0.1.0->spacy<4.0.0,>=3.0.0->spacy-udpipe==1.0.0) (1.17.2)\n",
      "Requirement already satisfied: marisa-trie>=1.1.0 in /home/jupyter/.local/lib/python3.11/site-packages (from language-data>=1.2->langcodes<4.0.0,>=3.2.0->spacy<4.0.0,>=3.0.0->spacy-udpipe==1.0.0) (1.2.1)\n",
      "Requirement already satisfied: markdown-it-py>=2.2.0 in /home/jupyter/.local/lib/python3.11/site-packages (from rich>=10.11.0->typer<1.0.0,>=0.3.0->spacy<4.0.0,>=3.0.0->spacy-udpipe==1.0.0) (3.0.0)\n",
      "Requirement already satisfied: pygments<3.0.0,>=2.13.0 in /home/jupyter/.local/lib/python3.11/site-packages (from rich>=10.11.0->typer<1.0.0,>=0.3.0->spacy<4.0.0,>=3.0.0->spacy-udpipe==1.0.0) (2.19.1)\n",
      "Requirement already satisfied: mdurl~=0.1 in /home/jupyter/.local/lib/python3.11/site-packages (from markdown-it-py>=2.2.0->rich>=10.11.0->typer<1.0.0,>=0.3.0->spacy<4.0.0,>=3.0.0->spacy-udpipe==1.0.0) (0.1.2)\n",
      "Requirement already satisfied: MarkupSafe>=2.0 in /home/jupyter/.local/lib/python3.11/site-packages (from jinja2->spacy<4.0.0,>=3.0.0->spacy-udpipe==1.0.0) (3.0.2)\n",
      "\u001b[33mWARNING: Ignoring invalid distribution -pacy (/home/jupyter/.local/lib/python3.11/site-packages)\u001b[0m\u001b[33m\n",
      "\u001b[0m\u001b[33mWARNING: Ignoring invalid distribution -pacy (/home/jupyter/.local/lib/python3.11/site-packages)\u001b[0m\u001b[33m\n",
      "\u001b[0m\n",
      "\u001b[1m[\u001b[0m\u001b[34;49mnotice\u001b[0m\u001b[1;39;49m]\u001b[0m\u001b[39;49m A new release of pip is available: \u001b[0m\u001b[31;49m24.0\u001b[0m\u001b[39;49m -> \u001b[0m\u001b[32;49m25.1.1\u001b[0m\n",
      "\u001b[1m[\u001b[0m\u001b[34;49mnotice\u001b[0m\u001b[1;39;49m]\u001b[0m\u001b[39;49m To update, run: \u001b[0m\u001b[32;49mpython3 -m pip install --upgrade pip\u001b[0m\n"
     ]
    }
   ],
   "source": [
    "%pip install spacy-udpipe==1.0.0"
   ]
  },
  {
   "cell_type": "markdown",
   "metadata": {},
   "source": [
    "В `parser_stat/parser_running.py` убрать `spacy_udpipe.download(\"ru\")` и заменить `self.udpipe_model = spacy_udpipe.load(\"ru\")` на \n",
    "`self.udpipe_model = spacy_udpipe.load_from_path(lang=\"ru\",\n",
    "    path=\"/home/jupyter/datasphere/project/russian-syntagrus-ud-2.5-191206.udpipe/home/jupyter/datasphere/project/russian-syntagrus-ud-2.5-191206.udpipe\")`\n"
   ]
  },
  {
   "cell_type": "code",
   "execution_count": 47,
   "metadata": {
    "colab": {
     "base_uri": "https://localhost:8080/"
    },
    "execution": {
     "iopub.execute_input": "2025-06-21T21:04:45.107591Z",
     "iopub.status.busy": "2025-06-21T21:04:45.106409Z",
     "iopub.status.idle": "2025-06-21T21:12:04.087947Z",
     "shell.execute_reply": "2025-06-21T21:12:04.087066Z",
     "shell.execute_reply.started": "2025-06-21T21:04:45.107558Z"
    },
    "id": "I_vTZkjelYQS",
    "outputId": "67918d1a-3f04-46b2-c767-5892480b1db9",
    "tags": []
   },
   "outputs": [
    {
     "name": "stdout",
     "output_type": "stream",
     "text": [
      "out_udpipe1.txt\n",
      "out_udpipe2.txt\n",
      "out_udpipe3.txt\n"
     ]
    }
   ],
   "source": [
    "!for i in 1 2 3; do export FP=\"out_udpipe$i.txt\"; echo $FP; \\\n",
    "        python3 /home/jupyter/datasphere/project/parser_stat/parser_running.py /home/jupyter/datasphere/project/parser_stat/treebank_test_sets/treebank_data.pickle udpipe > $FP; done"
   ]
  },
  {
   "cell_type": "code",
   "execution_count": null,
   "metadata": {},
   "outputs": [],
   "source": []
  }
 ],
 "metadata": {
  "colab": {
   "provenance": []
  },
  "kernelspec": {
   "display_name": "DataSphere Kernel",
   "language": "python",
   "name": "python3"
  },
  "language_info": {
   "codemirror_mode": {
    "name": "ipython",
    "version": 3
   },
   "file_extension": ".py",
   "mimetype": "text/x-python",
   "name": "python",
   "nbconvert_exporter": "python",
   "pygments_lexer": "ipython3",
   "version": "3.10.12"
  }
 },
 "nbformat": 4,
 "nbformat_minor": 4
}
