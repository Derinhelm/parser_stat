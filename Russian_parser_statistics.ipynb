{
  "nbformat": 4,
  "nbformat_minor": 0,
  "metadata": {
    "colab": {
      "provenance": [],
      "authorship_tag": "ABX9TyMT05WnJ/DEqB/SW0k31MpN",
      "include_colab_link": true
    },
    "kernelspec": {
      "name": "python3",
      "display_name": "Python 3"
    },
    "language_info": {
      "name": "python"
    }
  },
  "cells": [
    {
      "cell_type": "markdown",
      "metadata": {
        "id": "view-in-github",
        "colab_type": "text"
      },
      "source": [
        "<a href=\"https://colab.research.google.com/github/Derinhelm/parser_stat/blob/main/Russian_parser_statistics.ipynb\" target=\"_parent\"><img src=\"https://colab.research.google.com/assets/colab-badge.svg\" alt=\"Open In Colab\"/></a>"
      ]
    },
    {
      "cell_type": "markdown",
      "source": [
        "# Скачивание SynTagRus (тестовая часть)"
      ],
      "metadata": {
        "id": "2DXe7qdnVZw_"
      }
    },
    {
      "cell_type": "code",
      "source": [
        "!wget -m https://raw.githubusercontent.com/UniversalDependencies/UD_Russian-SynTagRus/master/ru_syntagrus-ud-test.conllu\n",
        "!mv /content/raw.githubusercontent.com/UniversalDependencies/UD_Russian-SynTagRus/master/ru_syntagrus-ud-test.conllu /content/ru_syntagrus-ud-test.conllu\n",
        "!rm -r /content/raw.githubusercontent.com"
      ],
      "metadata": {
        "colab": {
          "base_uri": "https://localhost:8080/"
        },
        "id": "zSAXIYC1ehTd",
        "outputId": "19cbeddf-3375-4694-8fba-dcda43c2e5c5"
      },
      "execution_count": 1,
      "outputs": [
        {
          "output_type": "stream",
          "name": "stdout",
          "text": [
            "--2024-08-15 15:10:33--  https://raw.githubusercontent.com/UniversalDependencies/UD_Russian-SynTagRus/master/ru_syntagrus-ud-test.conllu\n",
            "Resolving raw.githubusercontent.com (raw.githubusercontent.com)... 185.199.109.133, 185.199.110.133, 185.199.108.133, ...\n",
            "Connecting to raw.githubusercontent.com (raw.githubusercontent.com)|185.199.109.133|:443... connected.\n",
            "HTTP request sent, awaiting response... 200 OK\n",
            "Length: 14970966 (14M) [text/plain]\n",
            "Saving to: ‘raw.githubusercontent.com/UniversalDependencies/UD_Russian-SynTagRus/master/ru_syntagrus-ud-test.conllu’\n",
            "\n",
            "raw.githubuserconte 100%[===================>]  14.28M  35.6MB/s    in 0.4s    \n",
            "\n",
            "Last-modified header missing -- time-stamps turned off.\n",
            "2024-08-15 15:10:35 (35.6 MB/s) - ‘raw.githubusercontent.com/UniversalDependencies/UD_Russian-SynTagRus/master/ru_syntagrus-ud-test.conllu’ saved [14970966/14970966]\n",
            "\n",
            "FINISHED --2024-08-15 15:10:35--\n",
            "Total wall clock time: 2.1s\n",
            "Downloaded: 1 files, 14M in 0.4s (35.6 MB/s)\n"
          ]
        }
      ]
    },
    {
      "cell_type": "markdown",
      "source": [
        "# Получение информации из SynTagRus"
      ],
      "metadata": {
        "id": "92J7gA50e5hO"
      }
    },
    {
      "cell_type": "code",
      "source": [
        "class ConllEntry:\n",
        "    def __init__(self, id, form=None, lemma=None, pos=None, cpos=None, feats=None, \\\n",
        "                 parent_id=None, relation=None,deps=None, misc=None):\n",
        "        self.id = id\n",
        "        self.form = form\n",
        "        self.lemma = lemma\n",
        "        self.pos = pos\n",
        "        self.cpos = cpos\n",
        "        self.feats = feats\n",
        "        self.parent_id = parent_id\n",
        "        self.relation = relation\n",
        "        self.deps = deps\n",
        "        self.misc = misc"
      ],
      "metadata": {
        "id": "BALjxIyse4N5"
      },
      "execution_count": 2,
      "outputs": []
    },
    {
      "cell_type": "code",
      "source": [
        "class Sentence:\n",
        "    def __init__(self):\n",
        "        self.text = \"\"\n",
        "        self.sent_id = \"\"\n",
        "        self.tokens = []\n",
        "\n",
        "    def add_token(self, token):\n",
        "        self.tokens.append(token)\n",
        "\n",
        "    def set_sent_id(self, sent_id):\n",
        "        self.sent_id = sent_id\n",
        "\n",
        "    def set_text(self, text):\n",
        "        self.text = text\n",
        "\n",
        "    def is_not_empty(self):\n",
        "        return len(self.tokens) > 0"
      ],
      "metadata": {
        "id": "kmQv_k6Ie9mM"
      },
      "execution_count": 3,
      "outputs": []
    },
    {
      "cell_type": "code",
      "source": [
        "def get_dataset_sentences(dataset_path):\n",
        "    fh = open(dataset_path,'r',encoding='utf-8')\n",
        "    sents_read = 0\n",
        "    sents = []\n",
        "    comments = set()\n",
        "\n",
        "    sent = Sentence()\n",
        "    for line in fh:\n",
        "        tok = line.strip().split('\\t')\n",
        "        if not tok or line.strip() == '': # empty line, add sentence to list\n",
        "            if sent.is_not_empty:\n",
        "                sents_read += 1\n",
        "                sents.append(sent)\n",
        "            sent = Sentence()\n",
        "        else:\n",
        "            if line[0] == '#' or '-' in tok[0]: # a comment line\n",
        "                line = line.strip()\n",
        "                if line[:12] == \"# sent_id = \":\n",
        "                    sent.set_sent_id(line[12:])\n",
        "                elif line[:9] == \"# text = \":\n",
        "                    sent.set_text(line[9:])\n",
        "                else:\n",
        "                    comments.add(line)\n",
        "\n",
        "            else: # an actual ConllEntry, add to tokens\n",
        "                if tok[2] == \"_\":\n",
        "                    tok[2] = tok[1].lower()\n",
        "                if not \".\" in tok[0]:\n",
        "                    token = ConllEntry(*tok)\n",
        "                    sent.add_token(token)\n",
        "    fh.close()\n",
        "    return sents"
      ],
      "metadata": {
        "id": "8VKzeCc9e9or"
      },
      "execution_count": 4,
      "outputs": []
    },
    {
      "cell_type": "code",
      "source": [
        "all_sents = get_dataset_sentences(\"/content/ru_syntagrus-ud-test.conllu\")"
      ],
      "metadata": {
        "id": "ZFtnqaonSjto"
      },
      "execution_count": 5,
      "outputs": []
    },
    {
      "cell_type": "code",
      "source": [
        "len(all_sents)"
      ],
      "metadata": {
        "colab": {
          "base_uri": "https://localhost:8080/"
        },
        "id": "rgsBQMYefNpC",
        "outputId": "979353fd-ff2d-4ed2-c185-b7b9f06c8962"
      },
      "execution_count": 6,
      "outputs": [
        {
          "output_type": "execute_result",
          "data": {
            "text/plain": [
              "8800"
            ]
          },
          "metadata": {},
          "execution_count": 6
        }
      ]
    },
    {
      "cell_type": "markdown",
      "source": [
        "Проверка, что все sent_id в тестовой выборке датасета разные."
      ],
      "metadata": {
        "id": "FhjDHv_R0P6z"
      }
    },
    {
      "cell_type": "code",
      "source": [
        "len({s.sent_id for s in all_sents}) == len(all_sents)"
      ],
      "metadata": {
        "colab": {
          "base_uri": "https://localhost:8080/"
        },
        "id": "TcyBAWJX0M3X",
        "outputId": "6546a360-cccf-4c7c-81d9-cd18bdefccc1"
      },
      "execution_count": 7,
      "outputs": [
        {
          "output_type": "execute_result",
          "data": {
            "text/plain": [
              "True"
            ]
          },
          "metadata": {},
          "execution_count": 7
        }
      ]
    },
    {
      "cell_type": "code",
      "source": [
        "from collections import OrderedDict\n",
        "sents = OrderedDict()\n",
        "for s in all_sents:\n",
        "  sents[s.sent_id] = s"
      ],
      "metadata": {
        "id": "yFR7KHkT0wpL"
      },
      "execution_count": 8,
      "outputs": []
    },
    {
      "cell_type": "code",
      "source": [
        "len(sents)"
      ],
      "metadata": {
        "colab": {
          "base_uri": "https://localhost:8080/"
        },
        "id": "MnGCi0Jd0wr6",
        "outputId": "02c929c4-3d53-4a6b-82dd-78d17d253389"
      },
      "execution_count": 9,
      "outputs": [
        {
          "output_type": "execute_result",
          "data": {
            "text/plain": [
              "8800"
            ]
          },
          "metadata": {},
          "execution_count": 9
        }
      ]
    },
    {
      "cell_type": "markdown",
      "source": [
        "# Загрузка результатов"
      ],
      "metadata": {
        "id": "K9MuF8g4Uw66"
      }
    },
    {
      "cell_type": "code",
      "source": [
        "parser_names = [\"udpipe\", \"stanza\", \"natasha\", \"deeppavlov\", \"spacy\"]"
      ],
      "metadata": {
        "id": "c-iuC5SR2Av3"
      },
      "execution_count": 10,
      "outputs": []
    },
    {
      "cell_type": "code",
      "source": [
        "res = {}"
      ],
      "metadata": {
        "id": "wTpe1zFUYXGo"
      },
      "execution_count": 11,
      "outputs": []
    },
    {
      "cell_type": "code",
      "source": [
        "import pickle"
      ],
      "metadata": {
        "id": "MYGSOec6a4HX"
      },
      "execution_count": 12,
      "outputs": []
    },
    {
      "cell_type": "code",
      "source": [
        "pickle_res = {}\n",
        "for p in parser_names:\n",
        "    with open(p + '_parsing.pickle', 'rb') as f:\n",
        "       pickle_res[p] = pickle.load(f)"
      ],
      "metadata": {
        "id": "c5dxXY0f75M9"
      },
      "execution_count": 13,
      "outputs": []
    },
    {
      "cell_type": "code",
      "source": [
        "res = {p: OrderedDict() for p in parser_names}\n",
        "for p in parser_names:\n",
        "  for s in pickle_res[p]:\n",
        "      res[p][s.sent_id] = s"
      ],
      "metadata": {
        "id": "oC7_LZOtyCil"
      },
      "execution_count": 14,
      "outputs": []
    },
    {
      "cell_type": "code",
      "source": [
        "for p in parser_names:\n",
        "  print(p, len(res[p]))"
      ],
      "metadata": {
        "colab": {
          "base_uri": "https://localhost:8080/"
        },
        "id": "MgUCbvuzhHyl",
        "outputId": "3f81db24-79ec-432e-d9e5-6cefa3cdfbda"
      },
      "execution_count": 15,
      "outputs": [
        {
          "output_type": "stream",
          "name": "stdout",
          "text": [
            "udpipe 8800\n",
            "stanza 8800\n",
            "natasha 8800\n",
            "deeppavlov 8800\n",
            "spacy 8800\n"
          ]
        }
      ]
    },
    {
      "cell_type": "markdown",
      "source": [
        "# Creating token start-end pairs"
      ],
      "metadata": {
        "id": "jZT08SOtAktK"
      }
    },
    {
      "cell_type": "code",
      "source": [
        "def create_begin_end_list(sent_text_dict, token_sent_dict):\n",
        "  token_begin_end_dict = {}\n",
        "  for sent_id, sent_text_val in sent_text_dict.items():\n",
        "    token_begin_end = []\n",
        "    sent_text = sent_text_val.lower()\n",
        "    del_prefix_len = 0\n",
        "    tokens = token_sent_dict[sent_id]\n",
        "    for t_i, t in enumerate(tokens):\n",
        "      token_text = t.lower().replace('``', '\"').replace(\"''\", '\"')\n",
        "      t_start = sent_text.find(token_text)\n",
        "      if t_start == -1:\n",
        "        print(\"Error:\", sent_id, f\"sent_text:{sent_text}, t:{token_text}\", t_i)\n",
        "      else:\n",
        "        token_begin_end.append((del_prefix_len + t_start,\n",
        "                              del_prefix_len + t_start + len(token_text)))\n",
        "        del_prefix_len += t_start + len(token_text)\n",
        "        sent_text = sent_text[t_start + len(token_text):]\n",
        "    for i, (b, f) in enumerate(token_begin_end):\n",
        "      assert sent_text_val[b:f].lower() == tokens[i].lower().replace('``', '\"').replace(\"''\", '\"')\n",
        "    token_begin_end_dict[sent_id] = token_begin_end\n",
        "  assert len(token_begin_end_dict) == len(sent_text_dict)\n",
        "  assert len(token_begin_end_dict) == len(token_sent_dict)\n",
        "  return token_begin_end_dict"
      ],
      "metadata": {
        "id": "iXwkxS5Ec8W4"
      },
      "execution_count": 16,
      "outputs": []
    },
    {
      "cell_type": "code",
      "source": [
        "sent_id_list = list(sents.keys())\n",
        "\n",
        "syntagrus_begin_end_list = create_begin_end_list({sent_id: sents[sent_id].text for sent_id in sent_id_list},\n",
        "                                                 {sent_id:[w.form for w in sents[sent_id].tokens] for sent_id in sent_id_list})\n",
        "print(len(syntagrus_begin_end_list))"
      ],
      "metadata": {
        "colab": {
          "base_uri": "https://localhost:8080/"
        },
        "id": "JYhgbMzWCOAS",
        "outputId": "6e466002-2f5a-451e-ca94-ef329636d544"
      },
      "execution_count": 17,
      "outputs": [
        {
          "output_type": "stream",
          "name": "stdout",
          "text": [
            "8800\n"
          ]
        }
      ]
    },
    {
      "cell_type": "code",
      "source": [
        "syntagrus_begin_end_list['2003Armeniya.xml_11']"
      ],
      "metadata": {
        "colab": {
          "base_uri": "https://localhost:8080/"
        },
        "id": "izbK58fvlqHO",
        "outputId": "0f886df4-b1d4-4ec0-c24f-ca4ba17c6c54"
      },
      "execution_count": 18,
      "outputs": [
        {
          "output_type": "execute_result",
          "data": {
            "text/plain": [
              "[(0, 1),\n",
              " (2, 9),\n",
              " (10, 21),\n",
              " (22, 27),\n",
              " (27, 28),\n",
              " (29, 39),\n",
              " (40, 52),\n",
              " (53, 64),\n",
              " (64, 65)]"
            ]
          },
          "metadata": {},
          "execution_count": 18
        }
      ]
    },
    {
      "cell_type": "code",
      "source": [
        "res_begin_end_list = {}\n",
        "for p in parser_names:\n",
        "  res_begin_end_list[p] = create_begin_end_list({sent_id:sents[sent_id].text for sent_id in sent_id_list},\n",
        "                                                 {sent_id: [w.form for w in res[p][sent_id].tokens]\n",
        "                                                    for sent_id in sent_id_list})\n",
        "  print(p, len(res_begin_end_list[p]))"
      ],
      "metadata": {
        "colab": {
          "base_uri": "https://localhost:8080/"
        },
        "id": "kaISIw0bGSXM",
        "outputId": "40f51062-372d-4543-83d2-33ae83fca78e"
      },
      "execution_count": 19,
      "outputs": [
        {
          "output_type": "stream",
          "name": "stdout",
          "text": [
            "udpipe 8800\n",
            "stanza 8800\n",
            "natasha 8800\n",
            "deeppavlov 8800\n",
            "spacy 8800\n"
          ]
        }
      ]
    },
    {
      "cell_type": "code",
      "source": [
        "be_res = {p: {} for p in parser_names}\n",
        "for p in parser_names:\n",
        "  for sent_id in sent_id_list:\n",
        "    sent_be_res = OrderedDict()\n",
        "    for t_i, t in enumerate(res[p][sent_id].tokens):\n",
        "      child_be = res_begin_end_list[p][sent_id][t_i]\n",
        "      parent = t.parent_id\n",
        "      if parent == '0': # root\n",
        "        parent_be = (-1, -1)\n",
        "      else:\n",
        "        parent_be = res_begin_end_list[p][sent_id][int(parent) - 1]\n",
        "      sent_be_res[child_be] = (parent_be, t.relation)\n",
        "    be_res[p][sent_id] = sent_be_res\n",
        "    assert len(be_res[p][sent_id]) == len(res[p][sent_id].tokens)\n",
        "  assert len(be_res[p]) == len(res[p])"
      ],
      "metadata": {
        "id": "ct4cSlBiJV4p"
      },
      "execution_count": 20,
      "outputs": []
    },
    {
      "cell_type": "code",
      "source": [
        "be_syntagrus = {}\n",
        "for sent_id in sent_id_list:\n",
        "  sent_be_syntagrus = OrderedDict()\n",
        "  for t_i, t in enumerate(sents[sent_id].tokens):\n",
        "    child_be = syntagrus_begin_end_list[sent_id][t_i]\n",
        "    parent = t.parent_id\n",
        "    if parent == '0': # root\n",
        "      parent_be = (-1, -1)\n",
        "    else:\n",
        "      parent_be = syntagrus_begin_end_list[sent_id][int(parent) - 1]\n",
        "    sent_be_syntagrus[child_be] = (parent_be, t.relation)\n",
        "  be_syntagrus[sent_id] = sent_be_syntagrus\n",
        "  assert len(be_syntagrus[sent_id]) == len(sents[sent_id].tokens)\n",
        "assert len(be_syntagrus) == len(sents)"
      ],
      "metadata": {
        "id": "HmRlu2I3L7rT"
      },
      "execution_count": 21,
      "outputs": []
    },
    {
      "cell_type": "code",
      "source": [
        "be_syntagrus['2003Artist_mimansa.xml_130']"
      ],
      "metadata": {
        "colab": {
          "base_uri": "https://localhost:8080/"
        },
        "id": "4TbiDAP6ZN9v",
        "outputId": "a8513fd6-a6b7-430b-e8f0-994b12b1eedf"
      },
      "execution_count": 22,
      "outputs": [
        {
          "output_type": "execute_result",
          "data": {
            "text/plain": [
              "OrderedDict([((0, 2), ((16, 20), 'nsubj')),\n",
              "             ((3, 15), ((16, 20), 'advmod')),\n",
              "             ((16, 20), ((-1, -1), 'root')),\n",
              "             ((21, 24), ((25, 34), 'det')),\n",
              "             ((25, 34), ((16, 20), 'obj')),\n",
              "             ((35, 43), ((16, 20), 'advmod')),\n",
              "             ((43, 44), ((16, 20), 'punct'))])"
            ]
          },
          "metadata": {},
          "execution_count": 22
        }
      ]
    },
    {
      "cell_type": "code",
      "source": [
        "be_res['stanza']['2003Artist_mimansa.xml_130']"
      ],
      "metadata": {
        "colab": {
          "base_uri": "https://localhost:8080/"
        },
        "id": "yxfNEy2CZOKd",
        "outputId": "f33480aa-26c7-4055-c82d-1cbef369404e"
      },
      "execution_count": 23,
      "outputs": [
        {
          "output_type": "execute_result",
          "data": {
            "text/plain": [
              "OrderedDict([((0, 2), ((16, 20), 'nsubj')),\n",
              "             ((3, 9), ((16, 20), 'obl')),\n",
              "             ((9, 10), ((10, 15), 'punct')),\n",
              "             ((10, 15), ((3, 9), 'conj')),\n",
              "             ((16, 20), ((-1, -1), 'root')),\n",
              "             ((21, 24), ((25, 34), 'det')),\n",
              "             ((25, 34), ((16, 20), 'obj')),\n",
              "             ((35, 43), ((16, 20), 'advmod')),\n",
              "             ((43, 44), ((16, 20), 'punct'))])"
            ]
          },
          "metadata": {},
          "execution_count": 23
        }
      ]
    },
    {
      "cell_type": "markdown",
      "source": [
        "# Sentences with token set, not equal to SynTagRus token set for the sentence"
      ],
      "metadata": {
        "id": "QWefJO9ZAymw"
      }
    },
    {
      "cell_type": "code",
      "source": [
        "sent_id = '2003Artist_mimansa.xml_130'\n",
        "p = 'stanza'"
      ],
      "metadata": {
        "id": "mof5xeoUB9tY"
      },
      "execution_count": 24,
      "outputs": []
    },
    {
      "cell_type": "code",
      "source": [
        "wrong_token_amount = {}\n",
        "for p in parser_names:\n",
        "  wrong_token_amount[p] = set()\n",
        "  for sent_id in sent_id_list:\n",
        "    if set(be_syntagrus[sent_id].keys()) != set(be_res[p][sent_id].keys()):\n",
        "      wrong_token_amount[p].add(sent_id)\n",
        "for p in parser_names:\n",
        "  print(p, len(wrong_token_amount[p]), f\"{len(wrong_token_amount[p]) / len(sents):.2f}\")"
      ],
      "metadata": {
        "colab": {
          "base_uri": "https://localhost:8080/"
        },
        "id": "wULXOHGHBj88",
        "outputId": "0ac904f8-85d8-4f75-fdac-fb1f0c34cb29"
      },
      "execution_count": 25,
      "outputs": [
        {
          "output_type": "stream",
          "name": "stdout",
          "text": [
            "udpipe 274 0.03\n",
            "stanza 216 0.02\n",
            "natasha 722 0.08\n",
            "deeppavlov 694 0.08\n",
            "spacy 1103 0.13\n"
          ]
        }
      ]
    },
    {
      "cell_type": "code",
      "source": [
        "any_wrong_token_amount = set()\n",
        "for p in parser_names:\n",
        "  any_wrong_token_amount |= set(wrong_token_amount[p])\n",
        "print(len(any_wrong_token_amount), len(any_wrong_token_amount) / len(sents))"
      ],
      "metadata": {
        "colab": {
          "base_uri": "https://localhost:8080/"
        },
        "id": "AcKe4x7uDMD2",
        "outputId": "07ecaeef-0c6c-4ff3-9395-720298b85509"
      },
      "execution_count": 26,
      "outputs": [
        {
          "output_type": "stream",
          "name": "stdout",
          "text": [
            "1569 0.17829545454545453\n"
          ]
        }
      ]
    },
    {
      "cell_type": "code",
      "source": [
        "[(t.id + \"_\" + t.form, t.parent_id) for t in sents['2003Artist_mimansa.xml_130'].tokens]"
      ],
      "metadata": {
        "colab": {
          "base_uri": "https://localhost:8080/"
        },
        "id": "yNIHy9IZBSFw",
        "outputId": "bbb35c5c-4760-4197-ff6a-ca5ba95802dd"
      },
      "execution_count": 27,
      "outputs": [
        {
          "output_type": "execute_result",
          "data": {
            "text/plain": [
              "[('1_Он', '3'),\n",
              " ('2_давным-давно', '3'),\n",
              " ('3_знал', '0'),\n",
              " ('4_всю', '5'),\n",
              " ('5_партитуру', '3'),\n",
              " ('6_наизусть', '3'),\n",
              " ('7_.', '3')]"
            ]
          },
          "metadata": {},
          "execution_count": 27
        }
      ]
    },
    {
      "cell_type": "code",
      "source": [
        "[(t.id + \"_\" + t.form, t.parent_id) for t in res[\"stanza\"]['2003Artist_mimansa.xml_130'].tokens]"
      ],
      "metadata": {
        "colab": {
          "base_uri": "https://localhost:8080/"
        },
        "id": "60Axd8t3BSIU",
        "outputId": "42439b1b-7eb6-4409-a9d8-37ef2fd9d12f"
      },
      "execution_count": 28,
      "outputs": [
        {
          "output_type": "execute_result",
          "data": {
            "text/plain": [
              "[('1_Он', '5'),\n",
              " ('2_давным', '5'),\n",
              " ('3_-', '4'),\n",
              " ('4_давно', '2'),\n",
              " ('5_знал', '0'),\n",
              " ('6_всю', '7'),\n",
              " ('7_партитуру', '5'),\n",
              " ('8_наизусть', '5'),\n",
              " ('9_.', '5')]"
            ]
          },
          "metadata": {},
          "execution_count": 28
        }
      ]
    },
    {
      "cell_type": "markdown",
      "source": [
        "# Sentence statistics"
      ],
      "metadata": {
        "id": "kt5G6hkPAfN7"
      }
    },
    {
      "cell_type": "code",
      "source": [
        "import pandas as pd\n",
        "\n",
        "stat = {}\n",
        "for p in parser_names:\n",
        "  stat_list = []\n",
        "  for sent_id in be_syntagrus:\n",
        "    extra_syntagrus = len(be_syntagrus[sent_id].keys() - be_res[p][sent_id].keys())\n",
        "    extra_parser = len(be_res[p][sent_id].keys() - be_syntagrus[sent_id].keys())\n",
        "    tokenisation_matched = len({t_be for t_be in be_res[p][sent_id].keys() & be_syntagrus[sent_id].keys()})\n",
        "    parent_matched = len({t_be for t_be in be_res[p][sent_id].keys() & be_syntagrus[sent_id].keys()\n",
        "      if be_res[p][sent_id][t_be][0] == be_syntagrus[sent_id][t_be][0]})\n",
        "    relation_matched = len({t_be for t_be in be_res[p][sent_id].keys() & be_syntagrus[sent_id].keys()\n",
        "      if be_res[p][sent_id][t_be] == be_syntagrus[sent_id][t_be]})\n",
        "    stat_list.append((sent_id, extra_syntagrus, extra_parser, tokenisation_matched,\n",
        "                      parent_matched, relation_matched, len(sents[sent_id].tokens)))\n",
        "  stat[p] = pd.DataFrame(stat_list, columns=['sent_id', 'extra_syntagrus', 'extra_parser', 'tokenisation_matched',\n",
        "                                             'parent_matched', 'relation_matched', 'token_length'])"
      ],
      "metadata": {
        "id": "OsT1-Y2GAzYv"
      },
      "execution_count": 29,
      "outputs": []
    },
    {
      "cell_type": "code",
      "source": [
        "from collections import Counter"
      ],
      "metadata": {
        "id": "Pm4sUdVrAzbW"
      },
      "execution_count": 30,
      "outputs": []
    },
    {
      "cell_type": "code",
      "source": [
        "for p in parser_names:\n",
        "  print(f\"{p}.\", f\"syntagrus>parser:{sum((stat[p]['extra_syntagrus'] > stat[p]['extra_parser']))}, \"\n",
        "         , f\"syntagrus<parser:{sum((stat[p]['extra_syntagrus'] < stat[p]['extra_parser']))}, \"\n",
        "         , f\"syntagrus<parser:{sum((stat[p]['extra_syntagrus'] == stat[p]['extra_parser']) & (stat[p]['extra_parser'] > 0))}\")"
      ],
      "metadata": {
        "colab": {
          "base_uri": "https://localhost:8080/"
        },
        "id": "hRGHjplGA674",
        "outputId": "aa2f252d-bb08-408d-8c47-c602be848c28"
      },
      "execution_count": 31,
      "outputs": [
        {
          "output_type": "stream",
          "name": "stdout",
          "text": [
            "udpipe. syntagrus>parser:121,  syntagrus<parser:151,  syntagrus<parser:2\n",
            "stanza. syntagrus>parser:125,  syntagrus<parser:89,  syntagrus<parser:2\n",
            "natasha. syntagrus>parser:448,  syntagrus<parser:255,  syntagrus<parser:19\n",
            "deeppavlov. syntagrus>parser:633,  syntagrus<parser:49,  syntagrus<parser:12\n",
            "spacy. syntagrus>parser:272,  syntagrus<parser:797,  syntagrus<parser:34\n"
          ]
        }
      ]
    },
    {
      "cell_type": "code",
      "source": [
        "align_uas_precision = {}\n",
        "align_uas_recall = {}\n",
        "align_las_precision = {}\n",
        "align_las_recall = {}\n",
        "align_uas_f = {}\n",
        "align_las_f = {}\n",
        "for p in parser_names:\n",
        "  align_uas_precision[p] = stat[p]['parent_matched'] / (stat[p]['extra_parser'] + stat[p]['tokenisation_matched'])\n",
        "  align_uas_recall[p] = stat[p]['parent_matched'] / (stat[p]['extra_syntagrus'] + stat[p]['tokenisation_matched'])\n",
        "  align_las_precision[p] = stat[p]['relation_matched'] / (stat[p]['extra_parser'] + stat[p]['tokenisation_matched'])\n",
        "  align_las_recall[p] = stat[p]['relation_matched'] / (stat[p]['extra_syntagrus'] + stat[p]['tokenisation_matched'])\n",
        "  align_uas_f[p] = ((2 * align_uas_precision[p] * align_uas_recall[p]) / (align_uas_precision[p] + align_uas_recall[p])).fillna(0.0)\n",
        "  align_las_f[p] = ((2 * align_las_precision[p] * align_las_recall[p]) / (align_las_precision[p] + align_las_recall[p])).fillna(0.0)\n",
        "align_res = {\"uas_precision\": align_uas_precision,\n",
        "             \"uas_recall\": align_uas_recall,\n",
        "             \"uas_f\": align_uas_f,\n",
        "             \"las_precision\": align_las_precision,\n",
        "             \"las_recall\": align_las_recall,\n",
        "             \"las_f\": align_las_f}"
      ],
      "metadata": {
        "id": "Da5XxHrIA6-1"
      },
      "execution_count": 32,
      "outputs": []
    },
    {
      "cell_type": "code",
      "source": [
        "for p in parser_names:\n",
        "  print(p, end = \". \")\n",
        "  for a_res in align_res:\n",
        "    print(f\"{a_res}:{align_res[a_res][p].mean():.2f}\", end = \", \")\n",
        "  print()"
      ],
      "metadata": {
        "colab": {
          "base_uri": "https://localhost:8080/"
        },
        "id": "yhvyomOeBbx0",
        "outputId": "f8719941-f633-4c17-9a1e-35622ac16670"
      },
      "execution_count": 33,
      "outputs": [
        {
          "output_type": "stream",
          "name": "stdout",
          "text": [
            "udpipe. uas_precision:0.88, uas_recall:0.88, uas_f:0.88, las_precision:0.84, las_recall:0.84, las_f:0.84, \n",
            "stanza. uas_precision:0.92, uas_recall:0.92, uas_f:0.92, las_precision:0.90, las_recall:0.90, las_f:0.90, \n",
            "natasha. uas_precision:0.83, uas_recall:0.83, uas_f:0.83, las_precision:0.79, las_recall:0.78, las_f:0.78, \n",
            "deeppavlov. uas_precision:0.93, uas_recall:0.92, uas_f:0.92, las_precision:0.90, las_recall:0.89, las_f:0.89, \n",
            "spacy. uas_precision:0.87, uas_recall:0.87, uas_f:0.87, las_precision:0.82, las_recall:0.82, las_f:0.82, \n"
          ]
        }
      ]
    },
    {
      "cell_type": "markdown",
      "source": [
        "## All sentences (f-score)"
      ],
      "metadata": {
        "id": "ADmjIACTvcHq"
      }
    },
    {
      "cell_type": "markdown",
      "source": [
        "Mean values of sentence f-score"
      ],
      "metadata": {
        "id": "G4Z0q0eOvwof"
      }
    },
    {
      "cell_type": "code",
      "source": [
        "for p in parser_names:\n",
        "  p1 = p + \".\"\n",
        "  print(f\"{p1:11}\", end = \" \")\n",
        "  for score_dict, title in [(align_uas_f, 'uas_f'), (align_las_f, 'las_f')]:\n",
        "    print(f\"{title}:{score_dict[p].mean():.2f}\", end = \", \")\n",
        "  print()"
      ],
      "metadata": {
        "colab": {
          "base_uri": "https://localhost:8080/"
        },
        "id": "oYv1fATovpbs",
        "outputId": "bf0a28c6-c606-4ed3-c29e-0316d4b52d0d"
      },
      "execution_count": 34,
      "outputs": [
        {
          "output_type": "stream",
          "name": "stdout",
          "text": [
            "udpipe.     uas_f:0.88, las_f:0.84, \n",
            "stanza.     uas_f:0.92, las_f:0.90, \n",
            "natasha.    uas_f:0.83, las_f:0.78, \n",
            "deeppavlov. uas_f:0.92, las_f:0.89, \n",
            "spacy.      uas_f:0.87, las_f:0.82, \n"
          ]
        }
      ]
    },
    {
      "cell_type": "markdown",
      "source": [
        "Std values of sentence f-score"
      ],
      "metadata": {
        "id": "E4AI6Ec9G-fo"
      }
    },
    {
      "cell_type": "code",
      "source": [
        "for p in parser_names:\n",
        "  p1 = p + \".\"\n",
        "  print(f\"{p1:11}\", end = \" \")\n",
        "  for score_dict, title in [(align_uas_f, 'uas_f'), (align_las_f, 'las_f')]:\n",
        "    print(f\"{title}:{score_dict[p].std():.2f}\", end = \", \")\n",
        "  print()"
      ],
      "metadata": {
        "colab": {
          "base_uri": "https://localhost:8080/"
        },
        "id": "BvPhKtylHBiE",
        "outputId": "c11304f5-6ef1-4b74-8933-3e58cd7fac90"
      },
      "execution_count": 35,
      "outputs": [
        {
          "output_type": "stream",
          "name": "stdout",
          "text": [
            "udpipe.     uas_f:0.16, las_f:0.17, \n",
            "stanza.     uas_f:0.16, las_f:0.17, \n",
            "natasha.    uas_f:0.17, las_f:0.18, \n",
            "deeppavlov. uas_f:0.13, las_f:0.14, \n",
            "spacy.      uas_f:0.17, las_f:0.18, \n"
          ]
        }
      ]
    },
    {
      "cell_type": "markdown",
      "source": [
        "Minimal uas/las"
      ],
      "metadata": {
        "id": "zE90925sbPjD"
      }
    },
    {
      "cell_type": "code",
      "source": [
        "for p in parser_names:\n",
        "  print(p, round(align_uas_f[p].min(), 2), round(align_las_f[p].min(), 2))"
      ],
      "metadata": {
        "colab": {
          "base_uri": "https://localhost:8080/"
        },
        "id": "8KMZ392Ga0TW",
        "outputId": "176a416a-36e6-42dd-a65f-dbc98b246c8b"
      },
      "execution_count": 36,
      "outputs": [
        {
          "output_type": "stream",
          "name": "stdout",
          "text": [
            "udpipe 0.0 0.0\n",
            "stanza 0.0 0.0\n",
            "natasha 0.0 0.0\n",
            "deeppavlov 0.0 0.0\n",
            "spacy 0.0 0.0\n"
          ]
        }
      ]
    },
    {
      "cell_type": "markdown",
      "source": [
        "100% UAS/LAS"
      ],
      "metadata": {
        "id": "WEC3Uhh1bsb_"
      }
    },
    {
      "cell_type": "code",
      "source": [
        "for p in parser_names:\n",
        "  print(p, round(sum(align_uas_f[p] == 1.0) / len(sents), 2))"
      ],
      "metadata": {
        "colab": {
          "base_uri": "https://localhost:8080/"
        },
        "id": "nuNhuHpux-Li",
        "outputId": "63b717eb-d0f8-4ab3-9d47-d2aea2de1865"
      },
      "execution_count": 37,
      "outputs": [
        {
          "output_type": "stream",
          "name": "stdout",
          "text": [
            "udpipe 0.38\n",
            "stanza 0.54\n",
            "natasha 0.27\n",
            "deeppavlov 0.51\n",
            "spacy 0.36\n"
          ]
        }
      ]
    },
    {
      "cell_type": "code",
      "source": [
        "for p in parser_names:\n",
        "  print(p, round(sum(align_las_f[p] == 1.0) / len(sents), 2))"
      ],
      "metadata": {
        "colab": {
          "base_uri": "https://localhost:8080/"
        },
        "id": "AdJ4ETa4YLHU",
        "outputId": "740a528c-669e-4a54-d0e6-c3ef74360c8e"
      },
      "execution_count": 38,
      "outputs": [
        {
          "output_type": "stream",
          "name": "stdout",
          "text": [
            "udpipe 0.26\n",
            "stanza 0.41\n",
            "natasha 0.18\n",
            "deeppavlov 0.37\n",
            "spacy 0.22\n"
          ]
        }
      ]
    },
    {
      "cell_type": "markdown",
      "source": [
        "UAS/LAS distributions without UAS/LAS, which are equal to 1.0"
      ],
      "metadata": {
        "id": "GX5ppaN4Z_Ny"
      }
    },
    {
      "cell_type": "code",
      "source": [
        "import matplotlib.pyplot as plt\n",
        "\n",
        "fig, ax = plt.subplots(nrows=2, ncols= len(parser_names), figsize = (18,8), sharey=True)\n",
        "fig.suptitle('aligned uas/aligned las (f-score)')\n",
        "\n",
        "for parser_i, p in enumerate(parser_names):\n",
        "    ax[0, parser_i].hist([r for r in align_uas_f[p] if r != 1.0], bins=100)\n",
        "    ax[0, parser_i].title.set_text(p + \"_uas\")\n",
        "    ax[1, parser_i].hist([r for r in align_las_f[p] if r != 1.0], bins=100)\n",
        "    ax[1, parser_i].title.set_text(p + \"_las\")\n",
        "\n",
        "plt.savefig('uas_las_distributions.png')\n",
        "plt.show()"
      ],
      "metadata": {
        "colab": {
          "base_uri": "https://localhost:8080/",
          "height": 687
        },
        "id": "R4XSVB2TaH0p",
        "outputId": "97f8820a-e9d3-4ece-83f7-f5a9386fa0af"
      },
      "execution_count": 39,
      "outputs": [
        {
          "output_type": "display_data",
          "data": {
            "text/plain": [
              "<Figure size 1800x800 with 10 Axes>"
            ],
            "image/png": "[encoded data removed]"
          },
          "metadata": {}
        }
      ]
    },
    {
      "cell_type": "markdown",
      "source": [
        "UAS/LAS quantilies"
      ],
      "metadata": {
        "id": "6A1JD23oc84J"
      }
    },
    {
      "cell_type": "code",
      "source": [
        "for p in parser_names:\n",
        "  print(p, round(align_uas_f[p].quantile(0.25), 2),\n",
        "        round(align_uas_f[p].quantile(0.5), 2),\n",
        "        round(align_uas_f[p].quantile(0.75), 2))"
      ],
      "metadata": {
        "colab": {
          "base_uri": "https://localhost:8080/"
        },
        "id": "jLWT-2Fwx_hw",
        "outputId": "57d16dbe-666c-48b8-ac5a-809af6aa0acb"
      },
      "execution_count": 40,
      "outputs": [
        {
          "output_type": "stream",
          "name": "stdout",
          "text": [
            "udpipe 0.82 0.93 1.0\n",
            "stanza 0.92 1.0 1.0\n",
            "natasha 0.73 0.86 1.0\n",
            "deeppavlov 0.9 1.0 1.0\n",
            "spacy 0.8 0.92 1.0\n"
          ]
        }
      ]
    },
    {
      "cell_type": "code",
      "source": [
        "for p in parser_names:\n",
        "  print(p, round(align_las_f[p].quantile(0.25), 2),\n",
        "        round(align_las_f[p].quantile(0.5), 2),\n",
        "        round(align_las_f[p].quantile(0.75), 2))"
      ],
      "metadata": {
        "colab": {
          "base_uri": "https://localhost:8080/"
        },
        "id": "_Y8_3ay3FJB-",
        "outputId": "903cd3f9-5e5b-4538-91b8-13cb0ed9dfdb"
      },
      "execution_count": 41,
      "outputs": [
        {
          "output_type": "stream",
          "name": "stdout",
          "text": [
            "udpipe 0.76 0.88 1.0\n",
            "stanza 0.87 0.95 1.0\n",
            "natasha 0.67 0.81 0.92\n",
            "deeppavlov 0.85 0.93 1.0\n",
            "spacy 0.74 0.86 0.95\n"
          ]
        }
      ]
    },
    {
      "cell_type": "markdown",
      "source": [
        "Distribution boxplot"
      ],
      "metadata": {
        "id": "KKUveUKEc_ni"
      }
    },
    {
      "cell_type": "code",
      "source": [
        "import matplotlib.pyplot as plt\n",
        "\n",
        "fig, ax = plt.subplots(nrows=2, ncols=len(parser_names), figsize = (18,8), sharey=True)\n",
        "fig.suptitle('aligned uas/aligned las (f-score)')\n",
        "\n",
        "for col_i, p in enumerate(parser_names):\n",
        "    ax[0][col_i].boxplot(x=align_uas_f[p], showfliers=False,showcaps=True,showmeans=True)\n",
        "    ax[0][col_i].title.set_text(p + \"_uas\")\n",
        "    ax[0][col_i].set_ylim([0.0, 1.0])\n",
        "    ax[0][col_i].set(xticklabels=[])\n",
        "    ax[1][col_i].boxplot(x=align_las_f[p], showfliers=False,showcaps=True,showmeans=True)\n",
        "    ax[1][col_i].title.set_text(p + \"_las\")\n",
        "    ax[1][col_i].set_ylim([0.0, 1.0])\n",
        "    ax[1][col_i].set(xticklabels=[])\n",
        "\n",
        "plt.show()"
      ],
      "metadata": {
        "colab": {
          "base_uri": "https://localhost:8080/",
          "height": 679
        },
        "id": "39VtAhNLyMzU",
        "outputId": "a6985922-b552-4a2a-af73-101ec91c8e4f"
      },
      "execution_count": 82,
      "outputs": [
        {
          "output_type": "display_data",
          "data": {
            "text/plain": [
              "<Figure size 1800x800 with 10 Axes>"
            ],
            "image/png": "[encoded data removed]"
          },
          "metadata": {}
        }
      ]
    },
    {
      "cell_type": "code",
      "source": [
        "import matplotlib.pyplot as plt\n",
        "\n",
        "fig, ax = plt.subplots(nrows=1, ncols=len(parser_names) * 2, figsize = (18,8), sharey=True)\n",
        "fig.suptitle('aligned uas/aligned las (f-score)')\n",
        "\n",
        "for col_i, p in enumerate(parser_names):\n",
        "    ax[2 * col_i].boxplot(x=align_uas_f[p], showfliers=False,showcaps=True,showmeans=True)\n",
        "    ax[2 * col_i].title.set_text(p + \"_uas\")\n",
        "    ax[2 * col_i].set_ylim([0.0, 1.0])\n",
        "    ax[2 * col_i + 1].boxplot(x=align_las_f[p], showfliers=False,showcaps=True,showmeans=True)\n",
        "    ax[2 * col_i + 1].title.set_text(p + \"_las\")\n",
        "    ax[2 * col_i + 1].set_ylim([0.0, 1.0])\n",
        "\n",
        "\n",
        "plt.show()"
      ],
      "metadata": {
        "colab": {
          "base_uri": "https://localhost:8080/",
          "height": 693
        },
        "id": "HpE2IHnQvh6N",
        "outputId": "eff952f9-2ac6-4975-acef-856e4f5254cd"
      },
      "execution_count": 79,
      "outputs": [
        {
          "output_type": "display_data",
          "data": {
            "text/plain": [
              "<Figure size 1800x800 with 10 Axes>"
            ],
            "image/png": "[encoded data removed]"
          },
          "metadata": {}
        }
      ]
    },
    {
      "cell_type": "markdown",
      "source": [
        "# Token statistics"
      ],
      "metadata": {
        "id": "UXHKyiUy6dbq"
      }
    },
    {
      "cell_type": "code",
      "source": [
        "syntagrus_token_amount = len([t for sent_id in be_syntagrus for t in be_syntagrus[sent_id]])"
      ],
      "metadata": {
        "id": "XLKDGMN6NR6C"
      },
      "execution_count": 43,
      "outputs": []
    },
    {
      "cell_type": "code",
      "source": [
        "print(f\"syntagrus token amount: {syntagrus_token_amount}\")"
      ],
      "metadata": {
        "colab": {
          "base_uri": "https://localhost:8080/"
        },
        "id": "UduA1HdxGZ_C",
        "outputId": "7c7611da-ec88-488d-9e81-95fe13b40491"
      },
      "execution_count": 44,
      "outputs": [
        {
          "output_type": "stream",
          "name": "stdout",
          "text": [
            "syntagrus token amount: 157718\n"
          ]
        }
      ]
    },
    {
      "cell_type": "code",
      "source": [
        "for p in parser_names:\n",
        "  print(f\"{p} token amount: {len([t for sent_id in be_res[p] for t in be_res[p][sent_id]])}\")"
      ],
      "metadata": {
        "colab": {
          "base_uri": "https://localhost:8080/"
        },
        "id": "NaeQteuJ7CVL",
        "outputId": "3066260f-cb23-44ee-9e7d-e9e9bb3d6e42"
      },
      "execution_count": 45,
      "outputs": [
        {
          "output_type": "stream",
          "name": "stdout",
          "text": [
            "udpipe token amount: 157791\n",
            "stanza token amount: 157678\n",
            "natasha token amount: 157194\n",
            "deeppavlov token amount: 156404\n",
            "spacy token amount: 158969\n"
          ]
        }
      ]
    },
    {
      "cell_type": "markdown",
      "source": [
        "## SynTagRus token statistics"
      ],
      "metadata": {
        "id": "tyMDp9XxGSIM"
      }
    },
    {
      "cell_type": "code",
      "source": [
        "import pandas as pd"
      ],
      "metadata": {
        "id": "tZu_Y90n4OjY"
      },
      "execution_count": 46,
      "outputs": []
    },
    {
      "cell_type": "code",
      "source": [
        "token_syntagrus_stat = {}\n",
        "for p in parser_names:\n",
        "  token_stat_list = []\n",
        "  for sent_id in sents:\n",
        "    sent_be = list(be_syntagrus[sent_id].items())\n",
        "    for token_i, t in enumerate(sents[sent_id].tokens):\n",
        "      token_be = sent_be[token_i][0]\n",
        "      synt_parent, synt_relation = sent_be[token_i][1]\n",
        "      if token_be in be_res[p][sent_id]:\n",
        "        parser_parent, parser_relation = be_res[p][sent_id][token_be]\n",
        "        token_stat_list.append((t.form, t.pos, synt_parent==parser_parent,\n",
        "                          synt_relation==parser_relation, t.relation))\n",
        "      else:\n",
        "        token_stat_list.append((t.form, t.pos, None, None, t.relation))\n",
        "\n",
        "  token_syntagrus_stat[p] = pd.DataFrame(token_stat_list, columns=['form', 'pos', 'parent_match', 'relation_match', \"relation\"])"
      ],
      "metadata": {
        "id": "F-ZqlpzXIB8t"
      },
      "execution_count": 47,
      "outputs": []
    },
    {
      "cell_type": "code",
      "source": [
        "extra_syntagrus_any_parsers = set()\n",
        "for p in parser_names:\n",
        "  p_extra_syntagrus = set(token_syntagrus_stat[p][token_syntagrus_stat[p]['parent_match'].isnull()].index.values)\n",
        "  extra_syntagrus_len = len(p_extra_syntagrus)\n",
        "  extra_syntagrus_any_parsers.update(p_extra_syntagrus)\n",
        "  print(p, extra_syntagrus_len, round(extra_syntagrus_len / len(token_syntagrus_stat[p]), 3))"
      ],
      "metadata": {
        "colab": {
          "base_uri": "https://localhost:8080/"
        },
        "id": "llt8mUlB_o-P",
        "outputId": "997944ea-b85c-4541-d526-57a310ad29b3"
      },
      "execution_count": 48,
      "outputs": [
        {
          "output_type": "stream",
          "name": "stdout",
          "text": [
            "udpipe 483 0.003\n",
            "stanza 437 0.003\n",
            "natasha 2256 0.014\n",
            "deeppavlov 2270 0.014\n",
            "spacy 1968 0.012\n"
          ]
        }
      ]
    },
    {
      "cell_type": "code",
      "source": [
        "len(extra_syntagrus_any_parsers), round(len(extra_syntagrus_any_parsers) / len(token_syntagrus_stat[p]), 3)"
      ],
      "metadata": {
        "colab": {
          "base_uri": "https://localhost:8080/"
        },
        "id": "4edtWJoXAjZr",
        "outputId": "b7748616-30ad-4367-c795-1c8a7f0fdfda"
      },
      "execution_count": 49,
      "outputs": [
        {
          "output_type": "execute_result",
          "data": {
            "text/plain": [
              "(3699, 0.023)"
            ]
          },
          "metadata": {},
          "execution_count": 49
        }
      ]
    },
    {
      "cell_type": "code",
      "source": [
        "token_syntagrus_stat['stanza']"
      ],
      "metadata": {
        "id": "74xXRKwbmRLR",
        "outputId": "fa1f9c6f-e212-4133-9cf0-8b300bd0ffde",
        "colab": {
          "base_uri": "https://localhost:8080/",
          "height": 444
        }
      },
      "execution_count": 50,
      "outputs": [
        {
          "output_type": "execute_result",
          "data": {
            "text/plain": [
              "              form    pos parent_match relation_match relation\n",
              "0                В    ADP         True           True     case\n",
              "1        советский    ADJ         True           True     amod\n",
              "2           период   NOUN         True           True      obl\n",
              "3          времени   NOUN         True           True     nmod\n",
              "4            число   NOUN         True          False      obj\n",
              "...            ...    ...          ...            ...      ...\n",
              "157713         она   PRON         True           True    nsubj\n",
              "157714           и  CCONJ         True           True       cc\n",
              "157715  застенчиво    ADV         True           True   advmod\n",
              "157716  улыбнулась   VERB         True           True     conj\n",
              "157717           .  PUNCT         True           True    punct\n",
              "\n",
              "[157718 rows x 5 columns]"
            ],
            "text/html": [
              "\n",
              "  <div id=\"df-d25036b8-e032-41a3-9e62-256eab2fae6f\" class=\"colab-df-container\">\n",
              "    <div>\n",
              "<style scoped>\n",
              "    .dataframe tbody tr th:only-of-type {\n",
              "        vertical-align: middle;\n",
              "    }\n",
              "\n",
              "    .dataframe tbody tr th {\n",
              "        vertical-align: top;\n",
              "    }\n",
              "\n",
              "    .dataframe thead th {\n",
              "        text-align: right;\n",
              "    }\n",
              "</style>\n",
              "<table border=\"1\" class=\"dataframe\">\n",
              "  <thead>\n",
              "    <tr style=\"text-align: right;\">\n",
              "      <th></th>\n",
              "      <th>form</th>\n",
              "      <th>pos</th>\n",
              "      <th>parent_match</th>\n",
              "      <th>relation_match</th>\n",
              "      <th>relation</th>\n",
              "    </tr>\n",
              "  </thead>\n",
              "  <tbody>\n",
              "    <tr>\n",
              "      <th>0</th>\n",
              "      <td>В</td>\n",
              "      <td>ADP</td>\n",
              "      <td>True</td>\n",
              "      <td>True</td>\n",
              "      <td>case</td>\n",
              "    </tr>\n",
              "    <tr>\n",
              "      <th>1</th>\n",
              "      <td>советский</td>\n",
              "      <td>ADJ</td>\n",
              "      <td>True</td>\n",
              "      <td>True</td>\n",
              "      <td>amod</td>\n",
              "    </tr>\n",
              "    <tr>\n",
              "      <th>2</th>\n",
              "      <td>период</td>\n",
              "      <td>NOUN</td>\n",
              "      <td>True</td>\n",
              "      <td>True</td>\n",
              "      <td>obl</td>\n",
              "    </tr>\n",
              "    <tr>\n",
              "      <th>3</th>\n",
              "      <td>времени</td>\n",
              "      <td>NOUN</td>\n",
              "      <td>True</td>\n",
              "      <td>True</td>\n",
              "      <td>nmod</td>\n",
              "    </tr>\n",
              "    <tr>\n",
              "      <th>4</th>\n",
              "      <td>число</td>\n",
              "      <td>NOUN</td>\n",
              "      <td>True</td>\n",
              "      <td>False</td>\n",
              "      <td>obj</td>\n",
              "    </tr>\n",
              "    <tr>\n",
              "      <th>...</th>\n",
              "      <td>...</td>\n",
              "      <td>...</td>\n",
              "      <td>...</td>\n",
              "      <td>...</td>\n",
              "      <td>...</td>\n",
              "    </tr>\n",
              "    <tr>\n",
              "      <th>157713</th>\n",
              "      <td>она</td>\n",
              "      <td>PRON</td>\n",
              "      <td>True</td>\n",
              "      <td>True</td>\n",
              "      <td>nsubj</td>\n",
              "    </tr>\n",
              "    <tr>\n",
              "      <th>157714</th>\n",
              "      <td>и</td>\n",
              "      <td>CCONJ</td>\n",
              "      <td>True</td>\n",
              "      <td>True</td>\n",
              "      <td>cc</td>\n",
              "    </tr>\n",
              "    <tr>\n",
              "      <th>157715</th>\n",
              "      <td>застенчиво</td>\n",
              "      <td>ADV</td>\n",
              "      <td>True</td>\n",
              "      <td>True</td>\n",
              "      <td>advmod</td>\n",
              "    </tr>\n",
              "    <tr>\n",
              "      <th>157716</th>\n",
              "      <td>улыбнулась</td>\n",
              "      <td>VERB</td>\n",
              "      <td>True</td>\n",
              "      <td>True</td>\n",
              "      <td>conj</td>\n",
              "    </tr>\n",
              "    <tr>\n",
              "      <th>157717</th>\n",
              "      <td>.</td>\n",
              "      <td>PUNCT</td>\n",
              "      <td>True</td>\n",
              "      <td>True</td>\n",
              "      <td>punct</td>\n",
              "    </tr>\n",
              "  </tbody>\n",
              "</table>\n",
              "<p>157718 rows × 5 columns</p>\n",
              "</div>\n",
              "    <div class=\"colab-df-buttons\">\n",
              "\n",
              "  <div class=\"colab-df-container\">\n",
              "    <button class=\"colab-df-convert\" onclick=\"convertToInteractive('df-d25036b8-e032-41a3-9e62-256eab2fae6f')\"\n",
              "            title=\"Convert this dataframe to an interactive table.\"\n",
              "            style=\"display:none;\">\n",
              "\n",
              "  <svg xmlns=\"http://www.w3.org/2000/svg\" height=\"24px\" viewBox=\"0 -960 960 960\">\n",
              "    <path d=\"M120-120v-720h720v720H120Zm60-500h600v-160H180v160Zm220 220h160v-160H400v160Zm0 220h160v-160H400v160ZM180-400h160v-160H180v160Zm440 0h160v-160H620v160ZM180-180h160v-160H180v160Zm440 0h160v-160H620v160Z\"/>\n",
              "  </svg>\n",
              "    </button>\n",
              "\n",
              "  <style>\n",
              "    .colab-df-container {\n",
              "      display:flex;\n",
              "      gap: 12px;\n",
              "    }\n",
              "\n",
              "    .colab-df-convert {\n",
              "      background-color: #E8F0FE;\n",
              "      border: none;\n",
              "      border-radius: 50%;\n",
              "      cursor: pointer;\n",
              "      display: none;\n",
              "      fill: #1967D2;\n",
              "      height: 32px;\n",
              "      padding: 0 0 0 0;\n",
              "      width: 32px;\n",
              "    }\n",
              "\n",
              "    .colab-df-convert:hover {\n",
              "      background-color: #E2EBFA;\n",
              "      box-shadow: 0px 1px 2px rgba(60, 64, 67, 0.3), 0px 1px 3px 1px rgba(60, 64, 67, 0.15);\n",
              "      fill: #174EA6;\n",
              "    }\n",
              "\n",
              "    .colab-df-buttons div {\n",
              "      margin-bottom: 4px;\n",
              "    }\n",
              "\n",
              "    [theme=dark] .colab-df-convert {\n",
              "      background-color: #3B4455;\n",
              "      fill: #D2E3FC;\n",
              "    }\n",
              "\n",
              "    [theme=dark] .colab-df-convert:hover {\n",
              "      background-color: #434B5C;\n",
              "      box-shadow: 0px 1px 3px 1px rgba(0, 0, 0, 0.15);\n",
              "      filter: drop-shadow(0px 1px 2px rgba(0, 0, 0, 0.3));\n",
              "      fill: #FFFFFF;\n",
              "    }\n",
              "  </style>\n",
              "\n",
              "    <script>\n",
              "      const buttonEl =\n",
              "        document.querySelector('#df-d25036b8-e032-41a3-9e62-256eab2fae6f button.colab-df-convert');\n",
              "      buttonEl.style.display =\n",
              "        google.colab.kernel.accessAllowed ? 'block' : 'none';\n",
              "\n",
              "      async function convertToInteractive(key) {\n",
              "        const element = document.querySelector('#df-d25036b8-e032-41a3-9e62-256eab2fae6f');\n",
              "        const dataTable =\n",
              "          await google.colab.kernel.invokeFunction('convertToInteractive',\n",
              "                                                    [key], {});\n",
              "        if (!dataTable) return;\n",
              "\n",
              "        const docLinkHtml = 'Like what you see? Visit the ' +\n",
              "          '<a target=\"_blank\" href=https://colab.research.google.com/notebooks/data_table.ipynb>data table notebook</a>'\n",
              "          + ' to learn more about interactive tables.';\n",
              "        element.innerHTML = '';\n",
              "        dataTable['output_type'] = 'display_data';\n",
              "        await google.colab.output.renderOutput(dataTable, element);\n",
              "        const docLink = document.createElement('div');\n",
              "        docLink.innerHTML = docLinkHtml;\n",
              "        element.appendChild(docLink);\n",
              "      }\n",
              "    </script>\n",
              "  </div>\n",
              "\n",
              "\n",
              "<div id=\"df-5639c98a-9e58-4e21-8591-32e17b9f7d4b\">\n",
              "  <button class=\"colab-df-quickchart\" onclick=\"quickchart('df-5639c98a-9e58-4e21-8591-32e17b9f7d4b')\"\n",
              "            title=\"Suggest charts\"\n",
              "            style=\"display:none;\">\n",
              "\n",
              "<svg xmlns=\"http://www.w3.org/2000/svg\" height=\"24px\"viewBox=\"0 0 24 24\"\n",
              "     width=\"24px\">\n",
              "    <g>\n",
              "        <path d=\"M19 3H5c-1.1 0-2 .9-2 2v14c0 1.1.9 2 2 2h14c1.1 0 2-.9 2-2V5c0-1.1-.9-2-2-2zM9 17H7v-7h2v7zm4 0h-2V7h2v10zm4 0h-2v-4h2v4z\"/>\n",
              "    </g>\n",
              "</svg>\n",
              "  </button>\n",
              "\n",
              "<style>\n",
              "  .colab-df-quickchart {\n",
              "      --bg-color: #E8F0FE;\n",
              "      --fill-color: #1967D2;\n",
              "      --hover-bg-color: #E2EBFA;\n",
              "      --hover-fill-color: #174EA6;\n",
              "      --disabled-fill-color: #AAA;\n",
              "      --disabled-bg-color: #DDD;\n",
              "  }\n",
              "\n",
              "  [theme=dark] .colab-df-quickchart {\n",
              "      --bg-color: #3B4455;\n",
              "      --fill-color: #D2E3FC;\n",
              "      --hover-bg-color: #434B5C;\n",
              "      --hover-fill-color: #FFFFFF;\n",
              "      --disabled-bg-color: #3B4455;\n",
              "      --disabled-fill-color: #666;\n",
              "  }\n",
              "\n",
              "  .colab-df-quickchart {\n",
              "    background-color: var(--bg-color);\n",
              "    border: none;\n",
              "    border-radius: 50%;\n",
              "    cursor: pointer;\n",
              "    display: none;\n",
              "    fill: var(--fill-color);\n",
              "    height: 32px;\n",
              "    padding: 0;\n",
              "    width: 32px;\n",
              "  }\n",
              "\n",
              "  .colab-df-quickchart:hover {\n",
              "    background-color: var(--hover-bg-color);\n",
              "    box-shadow: 0 1px 2px rgba(60, 64, 67, 0.3), 0 1px 3px 1px rgba(60, 64, 67, 0.15);\n",
              "    fill: var(--button-hover-fill-color);\n",
              "  }\n",
              "\n",
              "  .colab-df-quickchart-complete:disabled,\n",
              "  .colab-df-quickchart-complete:disabled:hover {\n",
              "    background-color: var(--disabled-bg-color);\n",
              "    fill: var(--disabled-fill-color);\n",
              "    box-shadow: none;\n",
              "  }\n",
              "\n",
              "  .colab-df-spinner {\n",
              "    border: 2px solid var(--fill-color);\n",
              "    border-color: transparent;\n",
              "    border-bottom-color: var(--fill-color);\n",
              "    animation:\n",
              "      spin 1s steps(1) infinite;\n",
              "  }\n",
              "\n",
              "  @keyframes spin {\n",
              "    0% {\n",
              "      border-color: transparent;\n",
              "      border-bottom-color: var(--fill-color);\n",
              "      border-left-color: var(--fill-color);\n",
              "    }\n",
              "    20% {\n",
              "      border-color: transparent;\n",
              "      border-left-color: var(--fill-color);\n",
              "      border-top-color: var(--fill-color);\n",
              "    }\n",
              "    30% {\n",
              "      border-color: transparent;\n",
              "      border-left-color: var(--fill-color);\n",
              "      border-top-color: var(--fill-color);\n",
              "      border-right-color: var(--fill-color);\n",
              "    }\n",
              "    40% {\n",
              "      border-color: transparent;\n",
              "      border-right-color: var(--fill-color);\n",
              "      border-top-color: var(--fill-color);\n",
              "    }\n",
              "    60% {\n",
              "      border-color: transparent;\n",
              "      border-right-color: var(--fill-color);\n",
              "    }\n",
              "    80% {\n",
              "      border-color: transparent;\n",
              "      border-right-color: var(--fill-color);\n",
              "      border-bottom-color: var(--fill-color);\n",
              "    }\n",
              "    90% {\n",
              "      border-color: transparent;\n",
              "      border-bottom-color: var(--fill-color);\n",
              "    }\n",
              "  }\n",
              "</style>\n",
              "\n",
              "  <script>\n",
              "    async function quickchart(key) {\n",
              "      const quickchartButtonEl =\n",
              "        document.querySelector('#' + key + ' button');\n",
              "      quickchartButtonEl.disabled = true;  // To prevent multiple clicks.\n",
              "      quickchartButtonEl.classList.add('colab-df-spinner');\n",
              "      try {\n",
              "        const charts = await google.colab.kernel.invokeFunction(\n",
              "            'suggestCharts', [key], {});\n",
              "      } catch (error) {\n",
              "        console.error('Error during call to suggestCharts:', error);\n",
              "      }\n",
              "      quickchartButtonEl.classList.remove('colab-df-spinner');\n",
              "      quickchartButtonEl.classList.add('colab-df-quickchart-complete');\n",
              "    }\n",
              "    (() => {\n",
              "      let quickchartButtonEl =\n",
              "        document.querySelector('#df-5639c98a-9e58-4e21-8591-32e17b9f7d4b button');\n",
              "      quickchartButtonEl.style.display =\n",
              "        google.colab.kernel.accessAllowed ? 'block' : 'none';\n",
              "    })();\n",
              "  </script>\n",
              "</div>\n",
              "    </div>\n",
              "  </div>\n"
            ],
            "application/vnd.google.colaboratory.intrinsic+json": {
              "type": "dataframe"
            }
          },
          "metadata": {},
          "execution_count": 50
        }
      ]
    },
    {
      "cell_type": "markdown",
      "source": [
        "### Pos grouping (tokenization by SynTagRus)"
      ],
      "metadata": {
        "id": "-7d177XGtK1P"
      }
    },
    {
      "cell_type": "code",
      "source": [
        "from collections import Counter"
      ],
      "metadata": {
        "id": "kc_XPF2YNGP-"
      },
      "execution_count": 51,
      "outputs": []
    },
    {
      "cell_type": "code",
      "source": [
        "pos_syntagrus_rate = Counter(t.pos for s in sents.values() for t in s.tokens)"
      ],
      "metadata": {
        "id": "fOjk8YuDQtoK"
      },
      "execution_count": 52,
      "outputs": []
    },
    {
      "cell_type": "code",
      "source": [
        "[(p, abs_rate, round(abs_rate / syntagrus_token_amount, 2))\n",
        "    for (p, abs_rate) in pos_syntagrus_rate.most_common()]"
      ],
      "metadata": {
        "colab": {
          "base_uri": "https://localhost:8080/"
        },
        "id": "IBocKbnpNDc2",
        "outputId": "977f7d95-f7e1-4838-8827-c18b168991f2"
      },
      "execution_count": 53,
      "outputs": [
        {
          "output_type": "execute_result",
          "data": {
            "text/plain": [
              "[('NOUN', 36568, 0.23),\n",
              " ('PUNCT', 29463, 0.19),\n",
              " ('VERB', 18146, 0.12),\n",
              " ('ADP', 15062, 0.1),\n",
              " ('ADJ', 14471, 0.09),\n",
              " ('ADV', 8085, 0.05),\n",
              " ('PRON', 8015, 0.05),\n",
              " ('PROPN', 5883, 0.04),\n",
              " ('CCONJ', 5736, 0.04),\n",
              " ('PART', 4921, 0.03),\n",
              " ('DET', 4094, 0.03),\n",
              " ('SCONJ', 2992, 0.02),\n",
              " ('NUM', 2528, 0.02),\n",
              " ('AUX', 1518, 0.01),\n",
              " ('SYM', 165, 0.0),\n",
              " ('X', 48, 0.0),\n",
              " ('INTJ', 23, 0.0)]"
            ]
          },
          "metadata": {},
          "execution_count": 53
        }
      ]
    },
    {
      "cell_type": "code",
      "source": [
        "pos_list = list(map(lambda x: x[0], pos_syntagrus_rate.most_common()))"
      ],
      "metadata": {
        "id": "fAiiRzzLM4SF"
      },
      "execution_count": 54,
      "outputs": []
    },
    {
      "cell_type": "code",
      "source": [
        "pos_syntagrus_list = []\n",
        "\n",
        "for pos in pos_list:\n",
        "  pos_res = []\n",
        "  for p in parser_names:\n",
        "    wrong_tokenization_rate = round(sum(token_syntagrus_stat[p]['parent_match'].isnull() & \\\n",
        "                      (token_syntagrus_stat[p]['pos'] == pos)) / pos_syntagrus_rate[pos] * 100)\n",
        "    right_tokenization_rate = round(sum((token_syntagrus_stat[p]['parent_match'] == False) & \\\n",
        "                      (token_syntagrus_stat[p]['pos'] == pos)) / pos_syntagrus_rate[pos] * 100)\n",
        "    parent_rate = round(sum(token_syntagrus_stat[p]['parent_match'] & \\\n",
        "                      (token_syntagrus_stat[p]['relation_match'] == False) & \\\n",
        "                      (token_syntagrus_stat[p]['pos'] == pos)) / pos_syntagrus_rate[pos] * 100)\n",
        "    relation_rate = round(sum(token_syntagrus_stat[p]['relation_match'] & \\\n",
        "                        token_syntagrus_stat[p]['parent_match'] & \\\n",
        "                       (token_syntagrus_stat[p]['pos'] == pos)) / pos_syntagrus_rate[pos] * 100)\n",
        "    pos_res.append(f\"{wrong_tokenization_rate}, {right_tokenization_rate}, {parent_rate}, {relation_rate}\")\n",
        "  pos_res.append(pos_syntagrus_rate[pos])\n",
        "  pos_syntagrus_list.append(pos_res)\n",
        "\n",
        "pos_res = []\n",
        "token_amount = pos_syntagrus_rate.total()\n",
        "for p in parser_names:\n",
        "  wrong_tokenization_rate = round(sum(token_syntagrus_stat[p]['parent_match'].isnull()) \\\n",
        "                                  / token_amount * 100)\n",
        "  right_tokenization_rate = round(sum((token_syntagrus_stat[p]['parent_match'] == False)) \\\n",
        "                                  / token_amount * 100)\n",
        "  parent_rate = round(sum(token_syntagrus_stat[p]['parent_match'] & \\\n",
        "                    (token_syntagrus_stat[p]['relation_match'] == False)) \\\n",
        "                          / token_amount * 100)\n",
        "  relation_rate = round(sum(token_syntagrus_stat[p]['relation_match'] & \\\n",
        "                      token_syntagrus_stat[p]['parent_match']) \\\n",
        "                         / token_amount * 100)\n",
        "  pos_res.append(f\"{wrong_tokenization_rate}, {right_tokenization_rate}, {parent_rate}, {relation_rate}\")\n",
        "pos_res.append(pos_syntagrus_rate.total())\n",
        "pos_syntagrus_list.append(pos_res)\n",
        "\n",
        "pos_syntagrus = pd.DataFrame(pos_syntagrus_list,\n",
        "                             index=pos_list + [\"all pos tags\"],\n",
        "                             columns=[f\"{p} (%)\" for p in parser_names] + [\"all token amount\"])"
      ],
      "metadata": {
        "id": "IYySDlzXIPQG"
      },
      "execution_count": 55,
      "outputs": []
    },
    {
      "cell_type": "markdown",
      "source": [
        "Every cell is formatted as (wrong token amount, right token amount, right parent amount, right relation amount)"
      ],
      "metadata": {
        "id": "8cGc_EHOJkmI"
      }
    },
    {
      "cell_type": "code",
      "source": [
        "pos_syntagrus"
      ],
      "metadata": {
        "colab": {
          "base_uri": "https://localhost:8080/",
          "height": 634
        },
        "id": "zMinQ_fsIpOE",
        "outputId": "3f0e488e-ea0f-4282-da88-c8960211c776"
      },
      "execution_count": 56,
      "outputs": [
        {
          "output_type": "execute_result",
          "data": {
            "text/plain": [
              "                  udpipe (%)     stanza (%)     natasha (%)  deeppavlov (%)  \\\n",
              "NOUN            0, 15, 6, 78    0, 8, 4, 87    1, 22, 6, 71     1, 7, 3, 89   \n",
              "PUNCT           0, 19, 0, 81   0, 11, 0, 89    2, 25, 0, 73    3, 13, 0, 85   \n",
              "VERB            0, 16, 3, 81    0, 8, 2, 90    0, 27, 3, 69     0, 6, 2, 91   \n",
              "ADP              0, 2, 0, 97    0, 2, 0, 98     0, 5, 0, 95     0, 2, 0, 98   \n",
              "ADJ              0, 7, 6, 86    0, 4, 2, 93    1, 13, 4, 82     1, 3, 6, 90   \n",
              "ADV             0, 15, 8, 77    0, 9, 7, 83   0, 21, 14, 65     0, 9, 8, 83   \n",
              "PRON            0, 10, 8, 82    0, 8, 5, 87    0, 15, 6, 79     0, 5, 6, 89   \n",
              "PROPN           1, 15, 8, 76    1, 8, 4, 87   10, 18, 6, 66     7, 6, 4, 83   \n",
              "CCONJ           0, 10, 1, 89    0, 5, 1, 94    0, 19, 1, 80     0, 4, 1, 95   \n",
              "PART            0, 12, 7, 81   0, 12, 3, 85    1, 17, 4, 79    1, 10, 5, 85   \n",
              "DET              0, 7, 7, 86    0, 5, 6, 89    0, 11, 7, 82     0, 3, 6, 90   \n",
              "SCONJ            0, 8, 6, 86    0, 5, 5, 90   0, 17, 13, 70     0, 4, 5, 91   \n",
              "NUM            1, 16, 33, 50   2, 10, 8, 81  18, 13, 14, 54   19, 7, 24, 49   \n",
              "AUX             0, 13, 3, 85    0, 8, 1, 91    0, 16, 3, 81     0, 9, 1, 89   \n",
              "SYM             1, 35, 7, 57   0, 17, 7, 76   0, 34, 18, 48    1, 22, 5, 72   \n",
              "X             12, 40, 17, 31  12, 8, 15, 65  21, 38, 15, 27  23, 23, 12, 42   \n",
              "INTJ           4, 39, 17, 39  0, 13, 26, 61    0, 48, 4, 48   0, 13, 22, 65   \n",
              "all pos tags    0, 13, 5, 82    0, 8, 3, 89    1, 19, 4, 75     1, 7, 3, 88   \n",
              "\n",
              "                   spacy (%)  all token amount  \n",
              "NOUN            1, 12, 6, 81             36568  \n",
              "PUNCT           1, 20, 3, 76             29463  \n",
              "VERB            0, 13, 3, 84             18146  \n",
              "ADP              0, 3, 0, 96             15062  \n",
              "ADJ              1, 7, 4, 89             14471  \n",
              "ADV            3, 13, 14, 70              8085  \n",
              "PRON             2, 9, 6, 82              8015  \n",
              "PROPN           7, 13, 7, 74              5883  \n",
              "CCONJ           0, 10, 2, 88              5736  \n",
              "PART            1, 15, 4, 80              4921  \n",
              "DET              3, 7, 7, 84              4094  \n",
              "SCONJ           0, 8, 11, 81              2992  \n",
              "NUM            9, 18, 16, 57              2528  \n",
              "AUX             0, 10, 2, 88              1518  \n",
              "SYM            0, 24, 27, 50               165  \n",
              "X              8, 40, 19, 33                48  \n",
              "INTJ          13, 35, 17, 35                23  \n",
              "all pos tags    1, 12, 5, 82            157718  "
            ],
            "text/html": [
              "\n",
              "  <div id=\"df-4883f900-faaa-403c-9e62-0ae0c91e3097\" class=\"colab-df-container\">\n",
              "    <div>\n",
              "<style scoped>\n",
              "    .dataframe tbody tr th:only-of-type {\n",
              "        vertical-align: middle;\n",
              "    }\n",
              "\n",
              "    .dataframe tbody tr th {\n",
              "        vertical-align: top;\n",
              "    }\n",
              "\n",
              "    .dataframe thead th {\n",
              "        text-align: right;\n",
              "    }\n",
              "</style>\n",
              "<table border=\"1\" class=\"dataframe\">\n",
              "  <thead>\n",
              "    <tr style=\"text-align: right;\">\n",
              "      <th></th>\n",
              "      <th>udpipe (%)</th>\n",
              "      <th>stanza (%)</th>\n",
              "      <th>natasha (%)</th>\n",
              "      <th>deeppavlov (%)</th>\n",
              "      <th>spacy (%)</th>\n",
              "      <th>all token amount</th>\n",
              "    </tr>\n",
              "  </thead>\n",
              "  <tbody>\n",
              "    <tr>\n",
              "      <th>NOUN</th>\n",
              "      <td>0, 15, 6, 78</td>\n",
              "      <td>0, 8, 4, 87</td>\n",
              "      <td>1, 22, 6, 71</td>\n",
              "      <td>1, 7, 3, 89</td>\n",
              "      <td>1, 12, 6, 81</td>\n",
              "      <td>36568</td>\n",
              "    </tr>\n",
              "    <tr>\n",
              "      <th>PUNCT</th>\n",
              "      <td>0, 19, 0, 81</td>\n",
              "      <td>0, 11, 0, 89</td>\n",
              "      <td>2, 25, 0, 73</td>\n",
              "      <td>3, 13, 0, 85</td>\n",
              "      <td>1, 20, 3, 76</td>\n",
              "      <td>29463</td>\n",
              "    </tr>\n",
              "    <tr>\n",
              "      <th>VERB</th>\n",
              "      <td>0, 16, 3, 81</td>\n",
              "      <td>0, 8, 2, 90</td>\n",
              "      <td>0, 27, 3, 69</td>\n",
              "      <td>0, 6, 2, 91</td>\n",
              "      <td>0, 13, 3, 84</td>\n",
              "      <td>18146</td>\n",
              "    </tr>\n",
              "    <tr>\n",
              "      <th>ADP</th>\n",
              "      <td>0, 2, 0, 97</td>\n",
              "      <td>0, 2, 0, 98</td>\n",
              "      <td>0, 5, 0, 95</td>\n",
              "      <td>0, 2, 0, 98</td>\n",
              "      <td>0, 3, 0, 96</td>\n",
              "      <td>15062</td>\n",
              "    </tr>\n",
              "    <tr>\n",
              "      <th>ADJ</th>\n",
              "      <td>0, 7, 6, 86</td>\n",
              "      <td>0, 4, 2, 93</td>\n",
              "      <td>1, 13, 4, 82</td>\n",
              "      <td>1, 3, 6, 90</td>\n",
              "      <td>1, 7, 4, 89</td>\n",
              "      <td>14471</td>\n",
              "    </tr>\n",
              "    <tr>\n",
              "      <th>ADV</th>\n",
              "      <td>0, 15, 8, 77</td>\n",
              "      <td>0, 9, 7, 83</td>\n",
              "      <td>0, 21, 14, 65</td>\n",
              "      <td>0, 9, 8, 83</td>\n",
              "      <td>3, 13, 14, 70</td>\n",
              "      <td>8085</td>\n",
              "    </tr>\n",
              "    <tr>\n",
              "      <th>PRON</th>\n",
              "      <td>0, 10, 8, 82</td>\n",
              "      <td>0, 8, 5, 87</td>\n",
              "      <td>0, 15, 6, 79</td>\n",
              "      <td>0, 5, 6, 89</td>\n",
              "      <td>2, 9, 6, 82</td>\n",
              "      <td>8015</td>\n",
              "    </tr>\n",
              "    <tr>\n",
              "      <th>PROPN</th>\n",
              "      <td>1, 15, 8, 76</td>\n",
              "      <td>1, 8, 4, 87</td>\n",
              "      <td>10, 18, 6, 66</td>\n",
              "      <td>7, 6, 4, 83</td>\n",
              "      <td>7, 13, 7, 74</td>\n",
              "      <td>5883</td>\n",
              "    </tr>\n",
              "    <tr>\n",
              "      <th>CCONJ</th>\n",
              "      <td>0, 10, 1, 89</td>\n",
              "      <td>0, 5, 1, 94</td>\n",
              "      <td>0, 19, 1, 80</td>\n",
              "      <td>0, 4, 1, 95</td>\n",
              "      <td>0, 10, 2, 88</td>\n",
              "      <td>5736</td>\n",
              "    </tr>\n",
              "    <tr>\n",
              "      <th>PART</th>\n",
              "      <td>0, 12, 7, 81</td>\n",
              "      <td>0, 12, 3, 85</td>\n",
              "      <td>1, 17, 4, 79</td>\n",
              "      <td>1, 10, 5, 85</td>\n",
              "      <td>1, 15, 4, 80</td>\n",
              "      <td>4921</td>\n",
              "    </tr>\n",
              "    <tr>\n",
              "      <th>DET</th>\n",
              "      <td>0, 7, 7, 86</td>\n",
              "      <td>0, 5, 6, 89</td>\n",
              "      <td>0, 11, 7, 82</td>\n",
              "      <td>0, 3, 6, 90</td>\n",
              "      <td>3, 7, 7, 84</td>\n",
              "      <td>4094</td>\n",
              "    </tr>\n",
              "    <tr>\n",
              "      <th>SCONJ</th>\n",
              "      <td>0, 8, 6, 86</td>\n",
              "      <td>0, 5, 5, 90</td>\n",
              "      <td>0, 17, 13, 70</td>\n",
              "      <td>0, 4, 5, 91</td>\n",
              "      <td>0, 8, 11, 81</td>\n",
              "      <td>2992</td>\n",
              "    </tr>\n",
              "    <tr>\n",
              "      <th>NUM</th>\n",
              "      <td>1, 16, 33, 50</td>\n",
              "      <td>2, 10, 8, 81</td>\n",
              "      <td>18, 13, 14, 54</td>\n",
              "      <td>19, 7, 24, 49</td>\n",
              "      <td>9, 18, 16, 57</td>\n",
              "      <td>2528</td>\n",
              "    </tr>\n",
              "    <tr>\n",
              "      <th>AUX</th>\n",
              "      <td>0, 13, 3, 85</td>\n",
              "      <td>0, 8, 1, 91</td>\n",
              "      <td>0, 16, 3, 81</td>\n",
              "      <td>0, 9, 1, 89</td>\n",
              "      <td>0, 10, 2, 88</td>\n",
              "      <td>1518</td>\n",
              "    </tr>\n",
              "    <tr>\n",
              "      <th>SYM</th>\n",
              "      <td>1, 35, 7, 57</td>\n",
              "      <td>0, 17, 7, 76</td>\n",
              "      <td>0, 34, 18, 48</td>\n",
              "      <td>1, 22, 5, 72</td>\n",
              "      <td>0, 24, 27, 50</td>\n",
              "      <td>165</td>\n",
              "    </tr>\n",
              "    <tr>\n",
              "      <th>X</th>\n",
              "      <td>12, 40, 17, 31</td>\n",
              "      <td>12, 8, 15, 65</td>\n",
              "      <td>21, 38, 15, 27</td>\n",
              "      <td>23, 23, 12, 42</td>\n",
              "      <td>8, 40, 19, 33</td>\n",
              "      <td>48</td>\n",
              "    </tr>\n",
              "    <tr>\n",
              "      <th>INTJ</th>\n",
              "      <td>4, 39, 17, 39</td>\n",
              "      <td>0, 13, 26, 61</td>\n",
              "      <td>0, 48, 4, 48</td>\n",
              "      <td>0, 13, 22, 65</td>\n",
              "      <td>13, 35, 17, 35</td>\n",
              "      <td>23</td>\n",
              "    </tr>\n",
              "    <tr>\n",
              "      <th>all pos tags</th>\n",
              "      <td>0, 13, 5, 82</td>\n",
              "      <td>0, 8, 3, 89</td>\n",
              "      <td>1, 19, 4, 75</td>\n",
              "      <td>1, 7, 3, 88</td>\n",
              "      <td>1, 12, 5, 82</td>\n",
              "      <td>157718</td>\n",
              "    </tr>\n",
              "  </tbody>\n",
              "</table>\n",
              "</div>\n",
              "    <div class=\"colab-df-buttons\">\n",
              "\n",
              "  <div class=\"colab-df-container\">\n",
              "    <button class=\"colab-df-convert\" onclick=\"convertToInteractive('df-4883f900-faaa-403c-9e62-0ae0c91e3097')\"\n",
              "            title=\"Convert this dataframe to an interactive table.\"\n",
              "            style=\"display:none;\">\n",
              "\n",
              "  <svg xmlns=\"http://www.w3.org/2000/svg\" height=\"24px\" viewBox=\"0 -960 960 960\">\n",
              "    <path d=\"M120-120v-720h720v720H120Zm60-500h600v-160H180v160Zm220 220h160v-160H400v160Zm0 220h160v-160H400v160ZM180-400h160v-160H180v160Zm440 0h160v-160H620v160ZM180-180h160v-160H180v160Zm440 0h160v-160H620v160Z\"/>\n",
              "  </svg>\n",
              "    </button>\n",
              "\n",
              "  <style>\n",
              "    .colab-df-container {\n",
              "      display:flex;\n",
              "      gap: 12px;\n",
              "    }\n",
              "\n",
              "    .colab-df-convert {\n",
              "      background-color: #E8F0FE;\n",
              "      border: none;\n",
              "      border-radius: 50%;\n",
              "      cursor: pointer;\n",
              "      display: none;\n",
              "      fill: #1967D2;\n",
              "      height: 32px;\n",
              "      padding: 0 0 0 0;\n",
              "      width: 32px;\n",
              "    }\n",
              "\n",
              "    .colab-df-convert:hover {\n",
              "      background-color: #E2EBFA;\n",
              "      box-shadow: 0px 1px 2px rgba(60, 64, 67, 0.3), 0px 1px 3px 1px rgba(60, 64, 67, 0.15);\n",
              "      fill: #174EA6;\n",
              "    }\n",
              "\n",
              "    .colab-df-buttons div {\n",
              "      margin-bottom: 4px;\n",
              "    }\n",
              "\n",
              "    [theme=dark] .colab-df-convert {\n",
              "      background-color: #3B4455;\n",
              "      fill: #D2E3FC;\n",
              "    }\n",
              "\n",
              "    [theme=dark] .colab-df-convert:hover {\n",
              "      background-color: #434B5C;\n",
              "      box-shadow: 0px 1px 3px 1px rgba(0, 0, 0, 0.15);\n",
              "      filter: drop-shadow(0px 1px 2px rgba(0, 0, 0, 0.3));\n",
              "      fill: #FFFFFF;\n",
              "    }\n",
              "  </style>\n",
              "\n",
              "    <script>\n",
              "      const buttonEl =\n",
              "        document.querySelector('#df-4883f900-faaa-403c-9e62-0ae0c91e3097 button.colab-df-convert');\n",
              "      buttonEl.style.display =\n",
              "        google.colab.kernel.accessAllowed ? 'block' : 'none';\n",
              "\n",
              "      async function convertToInteractive(key) {\n",
              "        const element = document.querySelector('#df-4883f900-faaa-403c-9e62-0ae0c91e3097');\n",
              "        const dataTable =\n",
              "          await google.colab.kernel.invokeFunction('convertToInteractive',\n",
              "                                                    [key], {});\n",
              "        if (!dataTable) return;\n",
              "\n",
              "        const docLinkHtml = 'Like what you see? Visit the ' +\n",
              "          '<a target=\"_blank\" href=https://colab.research.google.com/notebooks/data_table.ipynb>data table notebook</a>'\n",
              "          + ' to learn more about interactive tables.';\n",
              "        element.innerHTML = '';\n",
              "        dataTable['output_type'] = 'display_data';\n",
              "        await google.colab.output.renderOutput(dataTable, element);\n",
              "        const docLink = document.createElement('div');\n",
              "        docLink.innerHTML = docLinkHtml;\n",
              "        element.appendChild(docLink);\n",
              "      }\n",
              "    </script>\n",
              "  </div>\n",
              "\n",
              "\n",
              "<div id=\"df-b3813661-05f7-4499-afb6-6a5b55c1d3ec\">\n",
              "  <button class=\"colab-df-quickchart\" onclick=\"quickchart('df-b3813661-05f7-4499-afb6-6a5b55c1d3ec')\"\n",
              "            title=\"Suggest charts\"\n",
              "            style=\"display:none;\">\n",
              "\n",
              "<svg xmlns=\"http://www.w3.org/2000/svg\" height=\"24px\"viewBox=\"0 0 24 24\"\n",
              "     width=\"24px\">\n",
              "    <g>\n",
              "        <path d=\"M19 3H5c-1.1 0-2 .9-2 2v14c0 1.1.9 2 2 2h14c1.1 0 2-.9 2-2V5c0-1.1-.9-2-2-2zM9 17H7v-7h2v7zm4 0h-2V7h2v10zm4 0h-2v-4h2v4z\"/>\n",
              "    </g>\n",
              "</svg>\n",
              "  </button>\n",
              "\n",
              "<style>\n",
              "  .colab-df-quickchart {\n",
              "      --bg-color: #E8F0FE;\n",
              "      --fill-color: #1967D2;\n",
              "      --hover-bg-color: #E2EBFA;\n",
              "      --hover-fill-color: #174EA6;\n",
              "      --disabled-fill-color: #AAA;\n",
              "      --disabled-bg-color: #DDD;\n",
              "  }\n",
              "\n",
              "  [theme=dark] .colab-df-quickchart {\n",
              "      --bg-color: #3B4455;\n",
              "      --fill-color: #D2E3FC;\n",
              "      --hover-bg-color: #434B5C;\n",
              "      --hover-fill-color: #FFFFFF;\n",
              "      --disabled-bg-color: #3B4455;\n",
              "      --disabled-fill-color: #666;\n",
              "  }\n",
              "\n",
              "  .colab-df-quickchart {\n",
              "    background-color: var(--bg-color);\n",
              "    border: none;\n",
              "    border-radius: 50%;\n",
              "    cursor: pointer;\n",
              "    display: none;\n",
              "    fill: var(--fill-color);\n",
              "    height: 32px;\n",
              "    padding: 0;\n",
              "    width: 32px;\n",
              "  }\n",
              "\n",
              "  .colab-df-quickchart:hover {\n",
              "    background-color: var(--hover-bg-color);\n",
              "    box-shadow: 0 1px 2px rgba(60, 64, 67, 0.3), 0 1px 3px 1px rgba(60, 64, 67, 0.15);\n",
              "    fill: var(--button-hover-fill-color);\n",
              "  }\n",
              "\n",
              "  .colab-df-quickchart-complete:disabled,\n",
              "  .colab-df-quickchart-complete:disabled:hover {\n",
              "    background-color: var(--disabled-bg-color);\n",
              "    fill: var(--disabled-fill-color);\n",
              "    box-shadow: none;\n",
              "  }\n",
              "\n",
              "  .colab-df-spinner {\n",
              "    border: 2px solid var(--fill-color);\n",
              "    border-color: transparent;\n",
              "    border-bottom-color: var(--fill-color);\n",
              "    animation:\n",
              "      spin 1s steps(1) infinite;\n",
              "  }\n",
              "\n",
              "  @keyframes spin {\n",
              "    0% {\n",
              "      border-color: transparent;\n",
              "      border-bottom-color: var(--fill-color);\n",
              "      border-left-color: var(--fill-color);\n",
              "    }\n",
              "    20% {\n",
              "      border-color: transparent;\n",
              "      border-left-color: var(--fill-color);\n",
              "      border-top-color: var(--fill-color);\n",
              "    }\n",
              "    30% {\n",
              "      border-color: transparent;\n",
              "      border-left-color: var(--fill-color);\n",
              "      border-top-color: var(--fill-color);\n",
              "      border-right-color: var(--fill-color);\n",
              "    }\n",
              "    40% {\n",
              "      border-color: transparent;\n",
              "      border-right-color: var(--fill-color);\n",
              "      border-top-color: var(--fill-color);\n",
              "    }\n",
              "    60% {\n",
              "      border-color: transparent;\n",
              "      border-right-color: var(--fill-color);\n",
              "    }\n",
              "    80% {\n",
              "      border-color: transparent;\n",
              "      border-right-color: var(--fill-color);\n",
              "      border-bottom-color: var(--fill-color);\n",
              "    }\n",
              "    90% {\n",
              "      border-color: transparent;\n",
              "      border-bottom-color: var(--fill-color);\n",
              "    }\n",
              "  }\n",
              "</style>\n",
              "\n",
              "  <script>\n",
              "    async function quickchart(key) {\n",
              "      const quickchartButtonEl =\n",
              "        document.querySelector('#' + key + ' button');\n",
              "      quickchartButtonEl.disabled = true;  // To prevent multiple clicks.\n",
              "      quickchartButtonEl.classList.add('colab-df-spinner');\n",
              "      try {\n",
              "        const charts = await google.colab.kernel.invokeFunction(\n",
              "            'suggestCharts', [key], {});\n",
              "      } catch (error) {\n",
              "        console.error('Error during call to suggestCharts:', error);\n",
              "      }\n",
              "      quickchartButtonEl.classList.remove('colab-df-spinner');\n",
              "      quickchartButtonEl.classList.add('colab-df-quickchart-complete');\n",
              "    }\n",
              "    (() => {\n",
              "      let quickchartButtonEl =\n",
              "        document.querySelector('#df-b3813661-05f7-4499-afb6-6a5b55c1d3ec button');\n",
              "      quickchartButtonEl.style.display =\n",
              "        google.colab.kernel.accessAllowed ? 'block' : 'none';\n",
              "    })();\n",
              "  </script>\n",
              "</div>\n",
              "    </div>\n",
              "  </div>\n"
            ],
            "application/vnd.google.colaboratory.intrinsic+json": {
              "type": "dataframe",
              "variable_name": "pos_syntagrus",
              "summary": "{\n  \"name\": \"pos_syntagrus\",\n  \"rows\": 18,\n  \"fields\": [\n    {\n      \"column\": \"udpipe (%)\",\n      \"properties\": {\n        \"dtype\": \"string\",\n        \"num_unique_values\": 18,\n        \"samples\": [\n          \"0, 15, 6, 78\",\n          \"0, 19, 0, 81\",\n          \"0, 10, 1, 89\"\n        ],\n        \"semantic_type\": \"\",\n        \"description\": \"\"\n      }\n    },\n    {\n      \"column\": \"stanza (%)\",\n      \"properties\": {\n        \"dtype\": \"string\",\n        \"num_unique_values\": 18,\n        \"samples\": [\n          \"0, 8, 4, 87\",\n          \"0, 11, 0, 89\",\n          \"0, 5, 1, 94\"\n        ],\n        \"semantic_type\": \"\",\n        \"description\": \"\"\n      }\n    },\n    {\n      \"column\": \"natasha (%)\",\n      \"properties\": {\n        \"dtype\": \"string\",\n        \"num_unique_values\": 18,\n        \"samples\": [\n          \"1, 22, 6, 71\",\n          \"2, 25, 0, 73\",\n          \"0, 19, 1, 80\"\n        ],\n        \"semantic_type\": \"\",\n        \"description\": \"\"\n      }\n    },\n    {\n      \"column\": \"deeppavlov (%)\",\n      \"properties\": {\n        \"dtype\": \"string\",\n        \"num_unique_values\": 18,\n        \"samples\": [\n          \"1, 7, 3, 89\",\n          \"3, 13, 0, 85\",\n          \"0, 4, 1, 95\"\n        ],\n        \"semantic_type\": \"\",\n        \"description\": \"\"\n      }\n    },\n    {\n      \"column\": \"spacy (%)\",\n      \"properties\": {\n        \"dtype\": \"string\",\n        \"num_unique_values\": 17,\n        \"samples\": [\n          \"1, 12, 6, 81\",\n          \"1, 20, 3, 76\",\n          \"3, 13, 14, 70\"\n        ],\n        \"semantic_type\": \"\",\n        \"description\": \"\"\n      }\n    },\n    {\n      \"column\": \"all token amount\",\n      \"properties\": {\n        \"dtype\": \"number\",\n        \"std\": 36439,\n        \"min\": 23,\n        \"max\": 157718,\n        \"num_unique_values\": 18,\n        \"samples\": [\n          36568,\n          29463,\n          5736\n        ],\n        \"semantic_type\": \"\",\n        \"description\": \"\"\n      }\n    }\n  ]\n}"
            }
          },
          "metadata": {},
          "execution_count": 56
        }
      ]
    },
    {
      "cell_type": "code",
      "source": [
        "token_syntagrus_stat[p][token_syntagrus_stat[p]['parent_match'].isnull() &\n",
        "                       (token_syntagrus_stat[p]['pos'] == 'PROPN')]"
      ],
      "metadata": {
        "colab": {
          "base_uri": "https://localhost:8080/",
          "height": 444
        },
        "id": "XnrTPGFMKI9C",
        "outputId": "7d247f6c-befd-4124-ee1e-9ca9ad5f1d37"
      },
      "execution_count": 57,
      "outputs": [
        {
          "output_type": "execute_result",
          "data": {
            "text/plain": [
              "                         form    pos parent_match relation_match   relation\n",
              "5                          ИТ  PROPN         None           None   compound\n",
              "2398                       ИТ  PROPN         None           None   compound\n",
              "2654                       ИТ  PROPN         None           None   compound\n",
              "5812    Мельникова-Печерского  PROPN         None           None  flat:name\n",
              "10728                 Чио-Сан  PROPN         None           None        obl\n",
              "...                       ...    ...          ...            ...        ...\n",
              "137574               Сен-Мало  PROPN         None           None       nmod\n",
              "137619         Мон-Сен-Мишель  PROPN         None           None      nsubj\n",
              "137651         Мон-Сен-Мишеля  PROPN         None           None        obl\n",
              "137787               Сен-Мало  PROPN         None           None        obl\n",
              "146946              Нью-Йорка  PROPN         None           None       nmod\n",
              "\n",
              "[422 rows x 5 columns]"
            ],
            "text/html": [
              "\n",
              "  <div id=\"df-ee169a8b-df8e-4e5f-addc-31f60bed5790\" class=\"colab-df-container\">\n",
              "    <div>\n",
              "<style scoped>\n",
              "    .dataframe tbody tr th:only-of-type {\n",
              "        vertical-align: middle;\n",
              "    }\n",
              "\n",
              "    .dataframe tbody tr th {\n",
              "        vertical-align: top;\n",
              "    }\n",
              "\n",
              "    .dataframe thead th {\n",
              "        text-align: right;\n",
              "    }\n",
              "</style>\n",
              "<table border=\"1\" class=\"dataframe\">\n",
              "  <thead>\n",
              "    <tr style=\"text-align: right;\">\n",
              "      <th></th>\n",
              "      <th>form</th>\n",
              "      <th>pos</th>\n",
              "      <th>parent_match</th>\n",
              "      <th>relation_match</th>\n",
              "      <th>relation</th>\n",
              "    </tr>\n",
              "  </thead>\n",
              "  <tbody>\n",
              "    <tr>\n",
              "      <th>5</th>\n",
              "      <td>ИТ</td>\n",
              "      <td>PROPN</td>\n",
              "      <td>None</td>\n",
              "      <td>None</td>\n",
              "      <td>compound</td>\n",
              "    </tr>\n",
              "    <tr>\n",
              "      <th>2398</th>\n",
              "      <td>ИТ</td>\n",
              "      <td>PROPN</td>\n",
              "      <td>None</td>\n",
              "      <td>None</td>\n",
              "      <td>compound</td>\n",
              "    </tr>\n",
              "    <tr>\n",
              "      <th>2654</th>\n",
              "      <td>ИТ</td>\n",
              "      <td>PROPN</td>\n",
              "      <td>None</td>\n",
              "      <td>None</td>\n",
              "      <td>compound</td>\n",
              "    </tr>\n",
              "    <tr>\n",
              "      <th>5812</th>\n",
              "      <td>Мельникова-Печерского</td>\n",
              "      <td>PROPN</td>\n",
              "      <td>None</td>\n",
              "      <td>None</td>\n",
              "      <td>flat:name</td>\n",
              "    </tr>\n",
              "    <tr>\n",
              "      <th>10728</th>\n",
              "      <td>Чио-Сан</td>\n",
              "      <td>PROPN</td>\n",
              "      <td>None</td>\n",
              "      <td>None</td>\n",
              "      <td>obl</td>\n",
              "    </tr>\n",
              "    <tr>\n",
              "      <th>...</th>\n",
              "      <td>...</td>\n",
              "      <td>...</td>\n",
              "      <td>...</td>\n",
              "      <td>...</td>\n",
              "      <td>...</td>\n",
              "    </tr>\n",
              "    <tr>\n",
              "      <th>137574</th>\n",
              "      <td>Сен-Мало</td>\n",
              "      <td>PROPN</td>\n",
              "      <td>None</td>\n",
              "      <td>None</td>\n",
              "      <td>nmod</td>\n",
              "    </tr>\n",
              "    <tr>\n",
              "      <th>137619</th>\n",
              "      <td>Мон-Сен-Мишель</td>\n",
              "      <td>PROPN</td>\n",
              "      <td>None</td>\n",
              "      <td>None</td>\n",
              "      <td>nsubj</td>\n",
              "    </tr>\n",
              "    <tr>\n",
              "      <th>137651</th>\n",
              "      <td>Мон-Сен-Мишеля</td>\n",
              "      <td>PROPN</td>\n",
              "      <td>None</td>\n",
              "      <td>None</td>\n",
              "      <td>obl</td>\n",
              "    </tr>\n",
              "    <tr>\n",
              "      <th>137787</th>\n",
              "      <td>Сен-Мало</td>\n",
              "      <td>PROPN</td>\n",
              "      <td>None</td>\n",
              "      <td>None</td>\n",
              "      <td>obl</td>\n",
              "    </tr>\n",
              "    <tr>\n",
              "      <th>146946</th>\n",
              "      <td>Нью-Йорка</td>\n",
              "      <td>PROPN</td>\n",
              "      <td>None</td>\n",
              "      <td>None</td>\n",
              "      <td>nmod</td>\n",
              "    </tr>\n",
              "  </tbody>\n",
              "</table>\n",
              "<p>422 rows × 5 columns</p>\n",
              "</div>\n",
              "    <div class=\"colab-df-buttons\">\n",
              "\n",
              "  <div class=\"colab-df-container\">\n",
              "    <button class=\"colab-df-convert\" onclick=\"convertToInteractive('df-ee169a8b-df8e-4e5f-addc-31f60bed5790')\"\n",
              "            title=\"Convert this dataframe to an interactive table.\"\n",
              "            style=\"display:none;\">\n",
              "\n",
              "  <svg xmlns=\"http://www.w3.org/2000/svg\" height=\"24px\" viewBox=\"0 -960 960 960\">\n",
              "    <path d=\"M120-120v-720h720v720H120Zm60-500h600v-160H180v160Zm220 220h160v-160H400v160Zm0 220h160v-160H400v160ZM180-400h160v-160H180v160Zm440 0h160v-160H620v160ZM180-180h160v-160H180v160Zm440 0h160v-160H620v160Z\"/>\n",
              "  </svg>\n",
              "    </button>\n",
              "\n",
              "  <style>\n",
              "    .colab-df-container {\n",
              "      display:flex;\n",
              "      gap: 12px;\n",
              "    }\n",
              "\n",
              "    .colab-df-convert {\n",
              "      background-color: #E8F0FE;\n",
              "      border: none;\n",
              "      border-radius: 50%;\n",
              "      cursor: pointer;\n",
              "      display: none;\n",
              "      fill: #1967D2;\n",
              "      height: 32px;\n",
              "      padding: 0 0 0 0;\n",
              "      width: 32px;\n",
              "    }\n",
              "\n",
              "    .colab-df-convert:hover {\n",
              "      background-color: #E2EBFA;\n",
              "      box-shadow: 0px 1px 2px rgba(60, 64, 67, 0.3), 0px 1px 3px 1px rgba(60, 64, 67, 0.15);\n",
              "      fill: #174EA6;\n",
              "    }\n",
              "\n",
              "    .colab-df-buttons div {\n",
              "      margin-bottom: 4px;\n",
              "    }\n",
              "\n",
              "    [theme=dark] .colab-df-convert {\n",
              "      background-color: #3B4455;\n",
              "      fill: #D2E3FC;\n",
              "    }\n",
              "\n",
              "    [theme=dark] .colab-df-convert:hover {\n",
              "      background-color: #434B5C;\n",
              "      box-shadow: 0px 1px 3px 1px rgba(0, 0, 0, 0.15);\n",
              "      filter: drop-shadow(0px 1px 2px rgba(0, 0, 0, 0.3));\n",
              "      fill: #FFFFFF;\n",
              "    }\n",
              "  </style>\n",
              "\n",
              "    <script>\n",
              "      const buttonEl =\n",
              "        document.querySelector('#df-ee169a8b-df8e-4e5f-addc-31f60bed5790 button.colab-df-convert');\n",
              "      buttonEl.style.display =\n",
              "        google.colab.kernel.accessAllowed ? 'block' : 'none';\n",
              "\n",
              "      async function convertToInteractive(key) {\n",
              "        const element = document.querySelector('#df-ee169a8b-df8e-4e5f-addc-31f60bed5790');\n",
              "        const dataTable =\n",
              "          await google.colab.kernel.invokeFunction('convertToInteractive',\n",
              "                                                    [key], {});\n",
              "        if (!dataTable) return;\n",
              "\n",
              "        const docLinkHtml = 'Like what you see? Visit the ' +\n",
              "          '<a target=\"_blank\" href=https://colab.research.google.com/notebooks/data_table.ipynb>data table notebook</a>'\n",
              "          + ' to learn more about interactive tables.';\n",
              "        element.innerHTML = '';\n",
              "        dataTable['output_type'] = 'display_data';\n",
              "        await google.colab.output.renderOutput(dataTable, element);\n",
              "        const docLink = document.createElement('div');\n",
              "        docLink.innerHTML = docLinkHtml;\n",
              "        element.appendChild(docLink);\n",
              "      }\n",
              "    </script>\n",
              "  </div>\n",
              "\n",
              "\n",
              "<div id=\"df-9cbbbceb-6cb3-406d-9846-804830651c8d\">\n",
              "  <button class=\"colab-df-quickchart\" onclick=\"quickchart('df-9cbbbceb-6cb3-406d-9846-804830651c8d')\"\n",
              "            title=\"Suggest charts\"\n",
              "            style=\"display:none;\">\n",
              "\n",
              "<svg xmlns=\"http://www.w3.org/2000/svg\" height=\"24px\"viewBox=\"0 0 24 24\"\n",
              "     width=\"24px\">\n",
              "    <g>\n",
              "        <path d=\"M19 3H5c-1.1 0-2 .9-2 2v14c0 1.1.9 2 2 2h14c1.1 0 2-.9 2-2V5c0-1.1-.9-2-2-2zM9 17H7v-7h2v7zm4 0h-2V7h2v10zm4 0h-2v-4h2v4z\"/>\n",
              "    </g>\n",
              "</svg>\n",
              "  </button>\n",
              "\n",
              "<style>\n",
              "  .colab-df-quickchart {\n",
              "      --bg-color: #E8F0FE;\n",
              "      --fill-color: #1967D2;\n",
              "      --hover-bg-color: #E2EBFA;\n",
              "      --hover-fill-color: #174EA6;\n",
              "      --disabled-fill-color: #AAA;\n",
              "      --disabled-bg-color: #DDD;\n",
              "  }\n",
              "\n",
              "  [theme=dark] .colab-df-quickchart {\n",
              "      --bg-color: #3B4455;\n",
              "      --fill-color: #D2E3FC;\n",
              "      --hover-bg-color: #434B5C;\n",
              "      --hover-fill-color: #FFFFFF;\n",
              "      --disabled-bg-color: #3B4455;\n",
              "      --disabled-fill-color: #666;\n",
              "  }\n",
              "\n",
              "  .colab-df-quickchart {\n",
              "    background-color: var(--bg-color);\n",
              "    border: none;\n",
              "    border-radius: 50%;\n",
              "    cursor: pointer;\n",
              "    display: none;\n",
              "    fill: var(--fill-color);\n",
              "    height: 32px;\n",
              "    padding: 0;\n",
              "    width: 32px;\n",
              "  }\n",
              "\n",
              "  .colab-df-quickchart:hover {\n",
              "    background-color: var(--hover-bg-color);\n",
              "    box-shadow: 0 1px 2px rgba(60, 64, 67, 0.3), 0 1px 3px 1px rgba(60, 64, 67, 0.15);\n",
              "    fill: var(--button-hover-fill-color);\n",
              "  }\n",
              "\n",
              "  .colab-df-quickchart-complete:disabled,\n",
              "  .colab-df-quickchart-complete:disabled:hover {\n",
              "    background-color: var(--disabled-bg-color);\n",
              "    fill: var(--disabled-fill-color);\n",
              "    box-shadow: none;\n",
              "  }\n",
              "\n",
              "  .colab-df-spinner {\n",
              "    border: 2px solid var(--fill-color);\n",
              "    border-color: transparent;\n",
              "    border-bottom-color: var(--fill-color);\n",
              "    animation:\n",
              "      spin 1s steps(1) infinite;\n",
              "  }\n",
              "\n",
              "  @keyframes spin {\n",
              "    0% {\n",
              "      border-color: transparent;\n",
              "      border-bottom-color: var(--fill-color);\n",
              "      border-left-color: var(--fill-color);\n",
              "    }\n",
              "    20% {\n",
              "      border-color: transparent;\n",
              "      border-left-color: var(--fill-color);\n",
              "      border-top-color: var(--fill-color);\n",
              "    }\n",
              "    30% {\n",
              "      border-color: transparent;\n",
              "      border-left-color: var(--fill-color);\n",
              "      border-top-color: var(--fill-color);\n",
              "      border-right-color: var(--fill-color);\n",
              "    }\n",
              "    40% {\n",
              "      border-color: transparent;\n",
              "      border-right-color: var(--fill-color);\n",
              "      border-top-color: var(--fill-color);\n",
              "    }\n",
              "    60% {\n",
              "      border-color: transparent;\n",
              "      border-right-color: var(--fill-color);\n",
              "    }\n",
              "    80% {\n",
              "      border-color: transparent;\n",
              "      border-right-color: var(--fill-color);\n",
              "      border-bottom-color: var(--fill-color);\n",
              "    }\n",
              "    90% {\n",
              "      border-color: transparent;\n",
              "      border-bottom-color: var(--fill-color);\n",
              "    }\n",
              "  }\n",
              "</style>\n",
              "\n",
              "  <script>\n",
              "    async function quickchart(key) {\n",
              "      const quickchartButtonEl =\n",
              "        document.querySelector('#' + key + ' button');\n",
              "      quickchartButtonEl.disabled = true;  // To prevent multiple clicks.\n",
              "      quickchartButtonEl.classList.add('colab-df-spinner');\n",
              "      try {\n",
              "        const charts = await google.colab.kernel.invokeFunction(\n",
              "            'suggestCharts', [key], {});\n",
              "      } catch (error) {\n",
              "        console.error('Error during call to suggestCharts:', error);\n",
              "      }\n",
              "      quickchartButtonEl.classList.remove('colab-df-spinner');\n",
              "      quickchartButtonEl.classList.add('colab-df-quickchart-complete');\n",
              "    }\n",
              "    (() => {\n",
              "      let quickchartButtonEl =\n",
              "        document.querySelector('#df-9cbbbceb-6cb3-406d-9846-804830651c8d button');\n",
              "      quickchartButtonEl.style.display =\n",
              "        google.colab.kernel.accessAllowed ? 'block' : 'none';\n",
              "    })();\n",
              "  </script>\n",
              "</div>\n",
              "    </div>\n",
              "  </div>\n"
            ],
            "application/vnd.google.colaboratory.intrinsic+json": {
              "type": "dataframe",
              "repr_error": "0"
            }
          },
          "metadata": {},
          "execution_count": 57
        }
      ]
    },
    {
      "cell_type": "markdown",
      "source": [
        "### Relation grouping (tokenization by SynTagRus)"
      ],
      "metadata": {
        "id": "JXSNQP5ZtDvA"
      }
    },
    {
      "cell_type": "code",
      "source": [
        "relation_syntagrus_rate = Counter(t.relation for s in sents.values() for t in s.tokens)\n",
        "relation_list = list(map(lambda x: x[0], relation_syntagrus_rate.most_common()))"
      ],
      "metadata": {
        "id": "KeGxIDZGT75q"
      },
      "execution_count": 58,
      "outputs": []
    },
    {
      "cell_type": "code",
      "source": [
        "[(p, abs_rate, round(abs_rate / syntagrus_token_amount, 2))\n",
        "    for (p, abs_rate) in relation_syntagrus_rate.most_common()]"
      ],
      "metadata": {
        "colab": {
          "base_uri": "https://localhost:8080/"
        },
        "id": "o8dGbK3rT8Ad",
        "outputId": "69a4bbeb-c7ca-4c9b-84a9-bc9b6f2ef85f"
      },
      "execution_count": 59,
      "outputs": [
        {
          "output_type": "execute_result",
          "data": {
            "text/plain": [
              "[('punct', 29463, 0.19),\n",
              " ('case', 14943, 0.09),\n",
              " ('obl', 13272, 0.08),\n",
              " ('nmod', 12179, 0.08),\n",
              " ('amod', 11954, 0.08),\n",
              " ('nsubj', 10416, 0.07),\n",
              " ('advmod', 9860, 0.06),\n",
              " ('root', 8800, 0.06),\n",
              " ('conj', 7640, 0.05),\n",
              " ('cc', 5869, 0.04),\n",
              " ('obj', 5124, 0.03),\n",
              " ('det', 3752, 0.02),\n",
              " ('parataxis', 3285, 0.02),\n",
              " ('mark', 2804, 0.02),\n",
              " ('advcl', 1810, 0.01),\n",
              " ('xcomp', 1615, 0.01),\n",
              " ('acl', 1581, 0.01),\n",
              " ('fixed', 1445, 0.01),\n",
              " ('iobj', 1425, 0.01),\n",
              " ('appos', 1371, 0.01),\n",
              " ('nummod', 1185, 0.01),\n",
              " ('nsubj:pass', 1129, 0.01),\n",
              " ('acl:relcl', 1012, 0.01),\n",
              " ('flat:name', 976, 0.01),\n",
              " ('ccomp', 865, 0.01),\n",
              " ('csubj', 863, 0.01),\n",
              " ('cop', 729, 0.0),\n",
              " ('aux:pass', 476, 0.0),\n",
              " ('nummod:gov', 380, 0.0),\n",
              " ('aux', 312, 0.0),\n",
              " ('flat:foreign', 234, 0.0),\n",
              " ('orphan', 171, 0.0),\n",
              " ('flat', 164, 0.0),\n",
              " ('compound', 141, 0.0),\n",
              " ('discourse', 116, 0.0),\n",
              " ('expl', 100, 0.0),\n",
              " ('obl:tmod', 76, 0.0),\n",
              " ('nummod:entity', 57, 0.0),\n",
              " ('obl:agent', 56, 0.0),\n",
              " ('csubj:pass', 34, 0.0),\n",
              " ('vocative', 32, 0.0),\n",
              " ('nsubj:outer', 1, 0.0),\n",
              " ('dep', 1, 0.0)]"
            ]
          },
          "metadata": {},
          "execution_count": 59
        }
      ]
    },
    {
      "cell_type": "code",
      "source": [
        "relation_extra_syntagrus_list = []\n",
        "for relation in relation_list:\n",
        "  rel_res = []\n",
        "  for p in parser_names:\n",
        "    wrong_tokenization_rate = round(sum(token_syntagrus_stat[p]['parent_match'].isnull() & \\\n",
        "                      (token_syntagrus_stat[p]['relation'] == relation)) / relation_syntagrus_rate[relation] * 100)\n",
        "    right_tokenization_rate = round(sum((token_syntagrus_stat[p]['parent_match'] == False) & \\\n",
        "                      (token_syntagrus_stat[p]['relation'] == relation)) / relation_syntagrus_rate[relation] * 100)\n",
        "    parent_rate = round(sum(token_syntagrus_stat[p]['parent_match'] & \\\n",
        "                      (token_syntagrus_stat[p]['relation_match'] == False) & \\\n",
        "                      (token_syntagrus_stat[p]['relation'] == relation)) / relation_syntagrus_rate[relation] * 100)\n",
        "    relation_rate = round(sum(token_syntagrus_stat[p]['relation_match'] & \\\n",
        "                        token_syntagrus_stat[p]['parent_match'] & \\\n",
        "                       (token_syntagrus_stat[p]['relation'] == relation)) / relation_syntagrus_rate[relation] * 100)\n",
        "    rel_res.append(f\"{wrong_tokenization_rate}, {right_tokenization_rate}, {parent_rate}, {relation_rate}\")\n",
        "  rel_res.append(relation_syntagrus_rate[relation])\n",
        "  relation_extra_syntagrus_list.append(rel_res)\n",
        "\n",
        "rel_res = []\n",
        "token_amount = relation_syntagrus_rate.total()\n",
        "for p in parser_names:\n",
        "  wrong_tokenization_rate = round(sum(token_syntagrus_stat[p]['parent_match'].isnull()) \\\n",
        "                                  / token_amount * 100)\n",
        "  right_tokenization_rate = round(sum((token_syntagrus_stat[p]['parent_match'] == False)) \\\n",
        "                                  / token_amount * 100)\n",
        "  parent_rate = round(sum(token_syntagrus_stat[p]['parent_match'] & \\\n",
        "                    (token_syntagrus_stat[p]['relation_match'] == False)) \\\n",
        "                          / token_amount * 100)\n",
        "  relation_rate = round(sum(token_syntagrus_stat[p]['relation_match'] & \\\n",
        "                      token_syntagrus_stat[p]['parent_match']) \\\n",
        "                         / token_amount * 100)\n",
        "  rel_res.append(f\"{wrong_tokenization_rate}, {right_tokenization_rate}, {parent_rate}, {relation_rate}\")\n",
        "rel_res.append(token_amount)\n",
        "relation_extra_syntagrus_list.append(rel_res)\n",
        "\n",
        "rel_syntagrus = pd.DataFrame(relation_extra_syntagrus_list,\n",
        "                             index=relation_list + [\"all relations\"],\n",
        "                             columns=[f\"{p} (%)\" for p in parser_names] + [\"relation token amount\"])"
      ],
      "metadata": {
        "id": "c8kj4Ou7T0zF"
      },
      "execution_count": 60,
      "outputs": []
    },
    {
      "cell_type": "code",
      "source": [
        "rel_syntagrus"
      ],
      "metadata": {
        "colab": {
          "base_uri": "https://localhost:8080/",
          "height": 1000
        },
        "id": "o6AP_KfHNQWL",
        "outputId": "d547db90-20db-40c5-bd95-ffc2592e7796"
      },
      "execution_count": 61,
      "outputs": [
        {
          "output_type": "execute_result",
          "data": {
            "text/plain": [
              "                   udpipe (%)     stanza (%)     natasha (%)  deeppavlov (%)  \\\n",
              "punct            0, 19, 0, 81   0, 11, 0, 89    2, 25, 0, 73    3, 13, 0, 85   \n",
              "case              0, 2, 1, 97    0, 2, 1, 97     0, 5, 0, 95     0, 2, 1, 98   \n",
              "obl              0, 14, 5, 80    0, 9, 4, 87   1, 20, 18, 61     1, 6, 4, 89   \n",
              "nmod             1, 14, 5, 81    0, 9, 3, 88    3, 17, 3, 77     3, 6, 3, 88   \n",
              "amod              0, 3, 5, 91    0, 3, 1, 96     1, 8, 1, 90     1, 2, 5, 93   \n",
              "nsubj            0, 10, 6, 84    0, 5, 2, 93    1, 16, 5, 78     0, 4, 2, 94   \n",
              "advmod           0, 11, 7, 82    0, 9, 6, 85    0, 17, 4, 79     0, 8, 5, 87   \n",
              "root             0, 10, 0, 90    0, 4, 0, 96    0, 15, 0, 85     1, 4, 0, 95   \n",
              "conj             0, 30, 2, 68   0, 14, 1, 85    1, 44, 3, 52    1, 12, 2, 86   \n",
              "cc               0, 10, 2, 87    0, 6, 1, 94    0, 19, 2, 79     0, 5, 2, 93   \n",
              "obj              0, 7, 15, 78    0, 4, 6, 90    0, 14, 5, 82     0, 2, 6, 92   \n",
              "det               0, 5, 6, 89    0, 4, 5, 91     0, 9, 6, 85     0, 3, 5, 92   \n",
              "parataxis        0, 36, 8, 55   0, 25, 5, 69    1, 48, 9, 42    1, 22, 8, 69   \n",
              "mark              0, 8, 3, 89    0, 4, 3, 92   0, 18, 12, 70     0, 3, 2, 95   \n",
              "advcl            0, 26, 5, 69   0, 14, 3, 83   0, 48, 10, 42    0, 13, 4, 83   \n",
              "xcomp            0, 5, 11, 85   0, 4, 11, 86     0, 9, 5, 87    0, 1, 11, 88   \n",
              "acl              0, 25, 8, 67   0, 12, 9, 80    0, 37, 8, 55    0, 9, 10, 81   \n",
              "fixed            0, 10, 6, 83    0, 8, 1, 90    1, 12, 3, 84    1, 11, 6, 82   \n",
              "iobj            0, 14, 18, 67  0, 11, 14, 74   0, 21, 11, 68    0, 5, 15, 79   \n",
              "appos           3, 23, 26, 48  2, 11, 16, 72   25, 20, 9, 45    20, 9, 9, 62   \n",
              "nummod          1, 11, 19, 68    1, 5, 2, 92   6, 10, 14, 70   7, 10, 19, 65   \n",
              "nsubj:pass       0, 7, 18, 74   0, 2, 13, 85   1, 15, 17, 67    1, 2, 10, 88   \n",
              "acl:relcl        0, 25, 4, 72   0, 17, 2, 81    0, 40, 2, 58    0, 10, 2, 88   \n",
              "flat:name         0, 7, 6, 86    1, 3, 3, 93   17, 23, 4, 55    12, 3, 5, 80   \n",
              "ccomp            0, 13, 8, 79    0, 6, 3, 90    0, 26, 5, 69     0, 4, 5, 90   \n",
              "csubj            0, 13, 5, 82    0, 6, 3, 90    0, 16, 5, 78     0, 5, 4, 91   \n",
              "cop              0, 21, 1, 78   0, 13, 1, 87    0, 25, 3, 71    0, 17, 2, 82   \n",
              "aux:pass          0, 2, 6, 92    0, 1, 2, 96     0, 5, 2, 93     0, 2, 1, 97   \n",
              "nummod:gov      0, 16, 14, 69   1, 9, 23, 67   4, 10, 16, 70   4, 12, 11, 73   \n",
              "aux               0, 8, 1, 90    0, 5, 1, 94    0, 11, 3, 86     0, 4, 1, 95   \n",
              "flat:foreign     6, 33, 7, 55   5, 21, 2, 72    9, 49, 37, 4   9, 23, 10, 58   \n",
              "orphan          1, 55, 31, 13  1, 37, 32, 30   1, 63, 16, 20   1, 37, 25, 37   \n",
              "flat              1, 6, 2, 91    1, 4, 2, 92     1, 7, 3, 89     1, 4, 1, 94   \n",
              "compound       21, 21, 16, 42  18, 13, 4, 65  62, 13, 13, 11  62, 11, 16, 12   \n",
              "discourse       2, 25, 17, 56  3, 19, 11, 67  15, 36, 10, 39  15, 19, 18, 48   \n",
              "expl             0, 12, 88, 0   0, 16, 9, 75   0, 13, 17, 70    0, 11, 88, 1   \n",
              "obl:tmod         0, 22, 78, 0   1, 12, 80, 7    1, 21, 78, 0     1, 8, 91, 0   \n",
              "nummod:entity    4, 16, 72, 9  0, 11, 32, 58   39, 11, 44, 7    37, 5, 49, 9   \n",
              "obl:agent        0, 18, 82, 0    0, 7, 93, 0   2, 20, 64, 14     2, 4, 95, 0   \n",
              "csubj:pass       0, 6, 21, 74   0, 15, 6, 79   0, 15, 15, 71    0, 3, 15, 82   \n",
              "vocative         0, 47, 53, 0  0, 22, 31, 47    0, 53, 47, 0    0, 44, 56, 0   \n",
              "nsubj:outer      0, 0, 100, 0   0, 0, 100, 0    0, 100, 0, 0    0, 0, 100, 0   \n",
              "dep              0, 0, 100, 0   0, 0, 100, 0    0, 100, 0, 0    0, 100, 0, 0   \n",
              "all relations    0, 13, 5, 82    0, 8, 3, 89    1, 19, 4, 75     1, 7, 3, 88   \n",
              "\n",
              "                    spacy (%)  relation token amount  \n",
              "punct            1, 20, 3, 76                  29463  \n",
              "case              0, 3, 0, 97                  14943  \n",
              "obl             1, 10, 18, 70                  13272  \n",
              "nmod             2, 12, 3, 83                  12179  \n",
              "amod              1, 3, 1, 95                  11954  \n",
              "nsubj             1, 8, 3, 88                  10416  \n",
              "advmod           2, 11, 4, 83                   9860  \n",
              "root              0, 9, 0, 91                   8800  \n",
              "conj             1, 23, 3, 74                   7640  \n",
              "cc               0, 10, 3, 87                   5869  \n",
              "obj               1, 7, 4, 88                   5124  \n",
              "det               3, 6, 6, 86                   3752  \n",
              "parataxis       2, 38, 12, 48                   3285  \n",
              "mark             0, 7, 10, 82                   2804  \n",
              "advcl            0, 22, 8, 70                   1810  \n",
              "xcomp             0, 3, 3, 94                   1615  \n",
              "acl              0, 19, 8, 73                   1581  \n",
              "fixed            1, 11, 2, 87                   1445  \n",
              "iobj            1, 11, 12, 76                   1425  \n",
              "appos           16, 22, 9, 53                   1371  \n",
              "nummod           2, 8, 17, 73                   1185  \n",
              "nsubj:pass       1, 5, 15, 79                   1129  \n",
              "acl:relcl        0, 22, 2, 76                   1012  \n",
              "flat:name        12, 7, 5, 75                    976  \n",
              "ccomp            0, 11, 6, 83                    865  \n",
              "csubj            0, 10, 5, 85                    863  \n",
              "cop              0, 18, 2, 81                    729  \n",
              "aux:pass          0, 1, 2, 97                    476  \n",
              "nummod:gov       1, 9, 15, 75                    380  \n",
              "aux               0, 7, 1, 92                    312  \n",
              "flat:foreign     4, 53, 39, 3                    234  \n",
              "orphan           4, 60, 32, 4                    171  \n",
              "flat              1, 4, 2, 93                    164  \n",
              "compound       12, 60, 16, 12                    141  \n",
              "discourse       1, 44, 14, 41                    116  \n",
              "expl             0, 26, 69, 5                    100  \n",
              "obl:tmod         1, 12, 87, 0                     76  \n",
              "nummod:entity   32, 7, 51, 11                     57  \n",
              "obl:agent        2, 9, 59, 30                     56  \n",
              "csubj:pass      0, 12, 18, 71                     34  \n",
              "vocative         0, 50, 50, 0                     32  \n",
              "nsubj:outer      0, 0, 100, 0                      1  \n",
              "dep              0, 100, 0, 0                      1  \n",
              "all relations    1, 12, 5, 82                 157718  "
            ],
            "text/html": [
              "\n",
              "  <div id=\"df-7e2c51e4-87d1-4a93-953c-bb106cc5faf8\" class=\"colab-df-container\">\n",
              "    <div>\n",
              "<style scoped>\n",
              "    .dataframe tbody tr th:only-of-type {\n",
              "        vertical-align: middle;\n",
              "    }\n",
              "\n",
              "    .dataframe tbody tr th {\n",
              "        vertical-align: top;\n",
              "    }\n",
              "\n",
              "    .dataframe thead th {\n",
              "        text-align: right;\n",
              "    }\n",
              "</style>\n",
              "<table border=\"1\" class=\"dataframe\">\n",
              "  <thead>\n",
              "    <tr style=\"text-align: right;\">\n",
              "      <th></th>\n",
              "      <th>udpipe (%)</th>\n",
              "      <th>stanza (%)</th>\n",
              "      <th>natasha (%)</th>\n",
              "      <th>deeppavlov (%)</th>\n",
              "      <th>spacy (%)</th>\n",
              "      <th>relation token amount</th>\n",
              "    </tr>\n",
              "  </thead>\n",
              "  <tbody>\n",
              "    <tr>\n",
              "      <th>punct</th>\n",
              "      <td>0, 19, 0, 81</td>\n",
              "      <td>0, 11, 0, 89</td>\n",
              "      <td>2, 25, 0, 73</td>\n",
              "      <td>3, 13, 0, 85</td>\n",
              "      <td>1, 20, 3, 76</td>\n",
              "      <td>29463</td>\n",
              "    </tr>\n",
              "    <tr>\n",
              "      <th>case</th>\n",
              "      <td>0, 2, 1, 97</td>\n",
              "      <td>0, 2, 1, 97</td>\n",
              "      <td>0, 5, 0, 95</td>\n",
              "      <td>0, 2, 1, 98</td>\n",
              "      <td>0, 3, 0, 97</td>\n",
              "      <td>14943</td>\n",
              "    </tr>\n",
              "    <tr>\n",
              "      <th>obl</th>\n",
              "      <td>0, 14, 5, 80</td>\n",
              "      <td>0, 9, 4, 87</td>\n",
              "      <td>1, 20, 18, 61</td>\n",
              "      <td>1, 6, 4, 89</td>\n",
              "      <td>1, 10, 18, 70</td>\n",
              "      <td>13272</td>\n",
              "    </tr>\n",
              "    <tr>\n",
              "      <th>nmod</th>\n",
              "      <td>1, 14, 5, 81</td>\n",
              "      <td>0, 9, 3, 88</td>\n",
              "      <td>3, 17, 3, 77</td>\n",
              "      <td>3, 6, 3, 88</td>\n",
              "      <td>2, 12, 3, 83</td>\n",
              "      <td>12179</td>\n",
              "    </tr>\n",
              "    <tr>\n",
              "      <th>amod</th>\n",
              "      <td>0, 3, 5, 91</td>\n",
              "      <td>0, 3, 1, 96</td>\n",
              "      <td>1, 8, 1, 90</td>\n",
              "      <td>1, 2, 5, 93</td>\n",
              "      <td>1, 3, 1, 95</td>\n",
              "      <td>11954</td>\n",
              "    </tr>\n",
              "    <tr>\n",
              "      <th>nsubj</th>\n",
              "      <td>0, 10, 6, 84</td>\n",
              "      <td>0, 5, 2, 93</td>\n",
              "      <td>1, 16, 5, 78</td>\n",
              "      <td>0, 4, 2, 94</td>\n",
              "      <td>1, 8, 3, 88</td>\n",
              "      <td>10416</td>\n",
              "    </tr>\n",
              "    <tr>\n",
              "      <th>advmod</th>\n",
              "      <td>0, 11, 7, 82</td>\n",
              "      <td>0, 9, 6, 85</td>\n",
              "      <td>0, 17, 4, 79</td>\n",
              "      <td>0, 8, 5, 87</td>\n",
              "      <td>2, 11, 4, 83</td>\n",
              "      <td>9860</td>\n",
              "    </tr>\n",
              "    <tr>\n",
              "      <th>root</th>\n",
              "      <td>0, 10, 0, 90</td>\n",
              "      <td>0, 4, 0, 96</td>\n",
              "      <td>0, 15, 0, 85</td>\n",
              "      <td>1, 4, 0, 95</td>\n",
              "      <td>0, 9, 0, 91</td>\n",
              "      <td>8800</td>\n",
              "    </tr>\n",
              "    <tr>\n",
              "      <th>conj</th>\n",
              "      <td>0, 30, 2, 68</td>\n",
              "      <td>0, 14, 1, 85</td>\n",
              "      <td>1, 44, 3, 52</td>\n",
              "      <td>1, 12, 2, 86</td>\n",
              "      <td>1, 23, 3, 74</td>\n",
              "      <td>7640</td>\n",
              "    </tr>\n",
              "    <tr>\n",
              "      <th>cc</th>\n",
              "      <td>0, 10, 2, 87</td>\n",
              "      <td>0, 6, 1, 94</td>\n",
              "      <td>0, 19, 2, 79</td>\n",
              "      <td>0, 5, 2, 93</td>\n",
              "      <td>0, 10, 3, 87</td>\n",
              "      <td>5869</td>\n",
              "    </tr>\n",
              "    <tr>\n",
              "      <th>obj</th>\n",
              "      <td>0, 7, 15, 78</td>\n",
              "      <td>0, 4, 6, 90</td>\n",
              "      <td>0, 14, 5, 82</td>\n",
              "      <td>0, 2, 6, 92</td>\n",
              "      <td>1, 7, 4, 88</td>\n",
              "      <td>5124</td>\n",
              "    </tr>\n",
              "    <tr>\n",
              "      <th>det</th>\n",
              "      <td>0, 5, 6, 89</td>\n",
              "      <td>0, 4, 5, 91</td>\n",
              "      <td>0, 9, 6, 85</td>\n",
              "      <td>0, 3, 5, 92</td>\n",
              "      <td>3, 6, 6, 86</td>\n",
              "      <td>3752</td>\n",
              "    </tr>\n",
              "    <tr>\n",
              "      <th>parataxis</th>\n",
              "      <td>0, 36, 8, 55</td>\n",
              "      <td>0, 25, 5, 69</td>\n",
              "      <td>1, 48, 9, 42</td>\n",
              "      <td>1, 22, 8, 69</td>\n",
              "      <td>2, 38, 12, 48</td>\n",
              "      <td>3285</td>\n",
              "    </tr>\n",
              "    <tr>\n",
              "      <th>mark</th>\n",
              "      <td>0, 8, 3, 89</td>\n",
              "      <td>0, 4, 3, 92</td>\n",
              "      <td>0, 18, 12, 70</td>\n",
              "      <td>0, 3, 2, 95</td>\n",
              "      <td>0, 7, 10, 82</td>\n",
              "      <td>2804</td>\n",
              "    </tr>\n",
              "    <tr>\n",
              "      <th>advcl</th>\n",
              "      <td>0, 26, 5, 69</td>\n",
              "      <td>0, 14, 3, 83</td>\n",
              "      <td>0, 48, 10, 42</td>\n",
              "      <td>0, 13, 4, 83</td>\n",
              "      <td>0, 22, 8, 70</td>\n",
              "      <td>1810</td>\n",
              "    </tr>\n",
              "    <tr>\n",
              "      <th>xcomp</th>\n",
              "      <td>0, 5, 11, 85</td>\n",
              "      <td>0, 4, 11, 86</td>\n",
              "      <td>0, 9, 5, 87</td>\n",
              "      <td>0, 1, 11, 88</td>\n",
              "      <td>0, 3, 3, 94</td>\n",
              "      <td>1615</td>\n",
              "    </tr>\n",
              "    <tr>\n",
              "      <th>acl</th>\n",
              "      <td>0, 25, 8, 67</td>\n",
              "      <td>0, 12, 9, 80</td>\n",
              "      <td>0, 37, 8, 55</td>\n",
              "      <td>0, 9, 10, 81</td>\n",
              "      <td>0, 19, 8, 73</td>\n",
              "      <td>1581</td>\n",
              "    </tr>\n",
              "    <tr>\n",
              "      <th>fixed</th>\n",
              "      <td>0, 10, 6, 83</td>\n",
              "      <td>0, 8, 1, 90</td>\n",
              "      <td>1, 12, 3, 84</td>\n",
              "      <td>1, 11, 6, 82</td>\n",
              "      <td>1, 11, 2, 87</td>\n",
              "      <td>1445</td>\n",
              "    </tr>\n",
              "    <tr>\n",
              "      <th>iobj</th>\n",
              "      <td>0, 14, 18, 67</td>\n",
              "      <td>0, 11, 14, 74</td>\n",
              "      <td>0, 21, 11, 68</td>\n",
              "      <td>0, 5, 15, 79</td>\n",
              "      <td>1, 11, 12, 76</td>\n",
              "      <td>1425</td>\n",
              "    </tr>\n",
              "    <tr>\n",
              "      <th>appos</th>\n",
              "      <td>3, 23, 26, 48</td>\n",
              "      <td>2, 11, 16, 72</td>\n",
              "      <td>25, 20, 9, 45</td>\n",
              "      <td>20, 9, 9, 62</td>\n",
              "      <td>16, 22, 9, 53</td>\n",
              "      <td>1371</td>\n",
              "    </tr>\n",
              "    <tr>\n",
              "      <th>nummod</th>\n",
              "      <td>1, 11, 19, 68</td>\n",
              "      <td>1, 5, 2, 92</td>\n",
              "      <td>6, 10, 14, 70</td>\n",
              "      <td>7, 10, 19, 65</td>\n",
              "      <td>2, 8, 17, 73</td>\n",
              "      <td>1185</td>\n",
              "    </tr>\n",
              "    <tr>\n",
              "      <th>nsubj:pass</th>\n",
              "      <td>0, 7, 18, 74</td>\n",
              "      <td>0, 2, 13, 85</td>\n",
              "      <td>1, 15, 17, 67</td>\n",
              "      <td>1, 2, 10, 88</td>\n",
              "      <td>1, 5, 15, 79</td>\n",
              "      <td>1129</td>\n",
              "    </tr>\n",
              "    <tr>\n",
              "      <th>acl:relcl</th>\n",
              "      <td>0, 25, 4, 72</td>\n",
              "      <td>0, 17, 2, 81</td>\n",
              "      <td>0, 40, 2, 58</td>\n",
              "      <td>0, 10, 2, 88</td>\n",
              "      <td>0, 22, 2, 76</td>\n",
              "      <td>1012</td>\n",
              "    </tr>\n",
              "    <tr>\n",
              "      <th>flat:name</th>\n",
              "      <td>0, 7, 6, 86</td>\n",
              "      <td>1, 3, 3, 93</td>\n",
              "      <td>17, 23, 4, 55</td>\n",
              "      <td>12, 3, 5, 80</td>\n",
              "      <td>12, 7, 5, 75</td>\n",
              "      <td>976</td>\n",
              "    </tr>\n",
              "    <tr>\n",
              "      <th>ccomp</th>\n",
              "      <td>0, 13, 8, 79</td>\n",
              "      <td>0, 6, 3, 90</td>\n",
              "      <td>0, 26, 5, 69</td>\n",
              "      <td>0, 4, 5, 90</td>\n",
              "      <td>0, 11, 6, 83</td>\n",
              "      <td>865</td>\n",
              "    </tr>\n",
              "    <tr>\n",
              "      <th>csubj</th>\n",
              "      <td>0, 13, 5, 82</td>\n",
              "      <td>0, 6, 3, 90</td>\n",
              "      <td>0, 16, 5, 78</td>\n",
              "      <td>0, 5, 4, 91</td>\n",
              "      <td>0, 10, 5, 85</td>\n",
              "      <td>863</td>\n",
              "    </tr>\n",
              "    <tr>\n",
              "      <th>cop</th>\n",
              "      <td>0, 21, 1, 78</td>\n",
              "      <td>0, 13, 1, 87</td>\n",
              "      <td>0, 25, 3, 71</td>\n",
              "      <td>0, 17, 2, 82</td>\n",
              "      <td>0, 18, 2, 81</td>\n",
              "      <td>729</td>\n",
              "    </tr>\n",
              "    <tr>\n",
              "      <th>aux:pass</th>\n",
              "      <td>0, 2, 6, 92</td>\n",
              "      <td>0, 1, 2, 96</td>\n",
              "      <td>0, 5, 2, 93</td>\n",
              "      <td>0, 2, 1, 97</td>\n",
              "      <td>0, 1, 2, 97</td>\n",
              "      <td>476</td>\n",
              "    </tr>\n",
              "    <tr>\n",
              "      <th>nummod:gov</th>\n",
              "      <td>0, 16, 14, 69</td>\n",
              "      <td>1, 9, 23, 67</td>\n",
              "      <td>4, 10, 16, 70</td>\n",
              "      <td>4, 12, 11, 73</td>\n",
              "      <td>1, 9, 15, 75</td>\n",
              "      <td>380</td>\n",
              "    </tr>\n",
              "    <tr>\n",
              "      <th>aux</th>\n",
              "      <td>0, 8, 1, 90</td>\n",
              "      <td>0, 5, 1, 94</td>\n",
              "      <td>0, 11, 3, 86</td>\n",
              "      <td>0, 4, 1, 95</td>\n",
              "      <td>0, 7, 1, 92</td>\n",
              "      <td>312</td>\n",
              "    </tr>\n",
              "    <tr>\n",
              "      <th>flat:foreign</th>\n",
              "      <td>6, 33, 7, 55</td>\n",
              "      <td>5, 21, 2, 72</td>\n",
              "      <td>9, 49, 37, 4</td>\n",
              "      <td>9, 23, 10, 58</td>\n",
              "      <td>4, 53, 39, 3</td>\n",
              "      <td>234</td>\n",
              "    </tr>\n",
              "    <tr>\n",
              "      <th>orphan</th>\n",
              "      <td>1, 55, 31, 13</td>\n",
              "      <td>1, 37, 32, 30</td>\n",
              "      <td>1, 63, 16, 20</td>\n",
              "      <td>1, 37, 25, 37</td>\n",
              "      <td>4, 60, 32, 4</td>\n",
              "      <td>171</td>\n",
              "    </tr>\n",
              "    <tr>\n",
              "      <th>flat</th>\n",
              "      <td>1, 6, 2, 91</td>\n",
              "      <td>1, 4, 2, 92</td>\n",
              "      <td>1, 7, 3, 89</td>\n",
              "      <td>1, 4, 1, 94</td>\n",
              "      <td>1, 4, 2, 93</td>\n",
              "      <td>164</td>\n",
              "    </tr>\n",
              "    <tr>\n",
              "      <th>compound</th>\n",
              "      <td>21, 21, 16, 42</td>\n",
              "      <td>18, 13, 4, 65</td>\n",
              "      <td>62, 13, 13, 11</td>\n",
              "      <td>62, 11, 16, 12</td>\n",
              "      <td>12, 60, 16, 12</td>\n",
              "      <td>141</td>\n",
              "    </tr>\n",
              "    <tr>\n",
              "      <th>discourse</th>\n",
              "      <td>2, 25, 17, 56</td>\n",
              "      <td>3, 19, 11, 67</td>\n",
              "      <td>15, 36, 10, 39</td>\n",
              "      <td>15, 19, 18, 48</td>\n",
              "      <td>1, 44, 14, 41</td>\n",
              "      <td>116</td>\n",
              "    </tr>\n",
              "    <tr>\n",
              "      <th>expl</th>\n",
              "      <td>0, 12, 88, 0</td>\n",
              "      <td>0, 16, 9, 75</td>\n",
              "      <td>0, 13, 17, 70</td>\n",
              "      <td>0, 11, 88, 1</td>\n",
              "      <td>0, 26, 69, 5</td>\n",
              "      <td>100</td>\n",
              "    </tr>\n",
              "    <tr>\n",
              "      <th>obl:tmod</th>\n",
              "      <td>0, 22, 78, 0</td>\n",
              "      <td>1, 12, 80, 7</td>\n",
              "      <td>1, 21, 78, 0</td>\n",
              "      <td>1, 8, 91, 0</td>\n",
              "      <td>1, 12, 87, 0</td>\n",
              "      <td>76</td>\n",
              "    </tr>\n",
              "    <tr>\n",
              "      <th>nummod:entity</th>\n",
              "      <td>4, 16, 72, 9</td>\n",
              "      <td>0, 11, 32, 58</td>\n",
              "      <td>39, 11, 44, 7</td>\n",
              "      <td>37, 5, 49, 9</td>\n",
              "      <td>32, 7, 51, 11</td>\n",
              "      <td>57</td>\n",
              "    </tr>\n",
              "    <tr>\n",
              "      <th>obl:agent</th>\n",
              "      <td>0, 18, 82, 0</td>\n",
              "      <td>0, 7, 93, 0</td>\n",
              "      <td>2, 20, 64, 14</td>\n",
              "      <td>2, 4, 95, 0</td>\n",
              "      <td>2, 9, 59, 30</td>\n",
              "      <td>56</td>\n",
              "    </tr>\n",
              "    <tr>\n",
              "      <th>csubj:pass</th>\n",
              "      <td>0, 6, 21, 74</td>\n",
              "      <td>0, 15, 6, 79</td>\n",
              "      <td>0, 15, 15, 71</td>\n",
              "      <td>0, 3, 15, 82</td>\n",
              "      <td>0, 12, 18, 71</td>\n",
              "      <td>34</td>\n",
              "    </tr>\n",
              "    <tr>\n",
              "      <th>vocative</th>\n",
              "      <td>0, 47, 53, 0</td>\n",
              "      <td>0, 22, 31, 47</td>\n",
              "      <td>0, 53, 47, 0</td>\n",
              "      <td>0, 44, 56, 0</td>\n",
              "      <td>0, 50, 50, 0</td>\n",
              "      <td>32</td>\n",
              "    </tr>\n",
              "    <tr>\n",
              "      <th>nsubj:outer</th>\n",
              "      <td>0, 0, 100, 0</td>\n",
              "      <td>0, 0, 100, 0</td>\n",
              "      <td>0, 100, 0, 0</td>\n",
              "      <td>0, 0, 100, 0</td>\n",
              "      <td>0, 0, 100, 0</td>\n",
              "      <td>1</td>\n",
              "    </tr>\n",
              "    <tr>\n",
              "      <th>dep</th>\n",
              "      <td>0, 0, 100, 0</td>\n",
              "      <td>0, 0, 100, 0</td>\n",
              "      <td>0, 100, 0, 0</td>\n",
              "      <td>0, 100, 0, 0</td>\n",
              "      <td>0, 100, 0, 0</td>\n",
              "      <td>1</td>\n",
              "    </tr>\n",
              "    <tr>\n",
              "      <th>all relations</th>\n",
              "      <td>0, 13, 5, 82</td>\n",
              "      <td>0, 8, 3, 89</td>\n",
              "      <td>1, 19, 4, 75</td>\n",
              "      <td>1, 7, 3, 88</td>\n",
              "      <td>1, 12, 5, 82</td>\n",
              "      <td>157718</td>\n",
              "    </tr>\n",
              "  </tbody>\n",
              "</table>\n",
              "</div>\n",
              "    <div class=\"colab-df-buttons\">\n",
              "\n",
              "  <div class=\"colab-df-container\">\n",
              "    <button class=\"colab-df-convert\" onclick=\"convertToInteractive('df-7e2c51e4-87d1-4a93-953c-bb106cc5faf8')\"\n",
              "            title=\"Convert this dataframe to an interactive table.\"\n",
              "            style=\"display:none;\">\n",
              "\n",
              "  <svg xmlns=\"http://www.w3.org/2000/svg\" height=\"24px\" viewBox=\"0 -960 960 960\">\n",
              "    <path d=\"M120-120v-720h720v720H120Zm60-500h600v-160H180v160Zm220 220h160v-160H400v160Zm0 220h160v-160H400v160ZM180-400h160v-160H180v160Zm440 0h160v-160H620v160ZM180-180h160v-160H180v160Zm440 0h160v-160H620v160Z\"/>\n",
              "  </svg>\n",
              "    </button>\n",
              "\n",
              "  <style>\n",
              "    .colab-df-container {\n",
              "      display:flex;\n",
              "      gap: 12px;\n",
              "    }\n",
              "\n",
              "    .colab-df-convert {\n",
              "      background-color: #E8F0FE;\n",
              "      border: none;\n",
              "      border-radius: 50%;\n",
              "      cursor: pointer;\n",
              "      display: none;\n",
              "      fill: #1967D2;\n",
              "      height: 32px;\n",
              "      padding: 0 0 0 0;\n",
              "      width: 32px;\n",
              "    }\n",
              "\n",
              "    .colab-df-convert:hover {\n",
              "      background-color: #E2EBFA;\n",
              "      box-shadow: 0px 1px 2px rgba(60, 64, 67, 0.3), 0px 1px 3px 1px rgba(60, 64, 67, 0.15);\n",
              "      fill: #174EA6;\n",
              "    }\n",
              "\n",
              "    .colab-df-buttons div {\n",
              "      margin-bottom: 4px;\n",
              "    }\n",
              "\n",
              "    [theme=dark] .colab-df-convert {\n",
              "      background-color: #3B4455;\n",
              "      fill: #D2E3FC;\n",
              "    }\n",
              "\n",
              "    [theme=dark] .colab-df-convert:hover {\n",
              "      background-color: #434B5C;\n",
              "      box-shadow: 0px 1px 3px 1px rgba(0, 0, 0, 0.15);\n",
              "      filter: drop-shadow(0px 1px 2px rgba(0, 0, 0, 0.3));\n",
              "      fill: #FFFFFF;\n",
              "    }\n",
              "  </style>\n",
              "\n",
              "    <script>\n",
              "      const buttonEl =\n",
              "        document.querySelector('#df-7e2c51e4-87d1-4a93-953c-bb106cc5faf8 button.colab-df-convert');\n",
              "      buttonEl.style.display =\n",
              "        google.colab.kernel.accessAllowed ? 'block' : 'none';\n",
              "\n",
              "      async function convertToInteractive(key) {\n",
              "        const element = document.querySelector('#df-7e2c51e4-87d1-4a93-953c-bb106cc5faf8');\n",
              "        const dataTable =\n",
              "          await google.colab.kernel.invokeFunction('convertToInteractive',\n",
              "                                                    [key], {});\n",
              "        if (!dataTable) return;\n",
              "\n",
              "        const docLinkHtml = 'Like what you see? Visit the ' +\n",
              "          '<a target=\"_blank\" href=https://colab.research.google.com/notebooks/data_table.ipynb>data table notebook</a>'\n",
              "          + ' to learn more about interactive tables.';\n",
              "        element.innerHTML = '';\n",
              "        dataTable['output_type'] = 'display_data';\n",
              "        await google.colab.output.renderOutput(dataTable, element);\n",
              "        const docLink = document.createElement('div');\n",
              "        docLink.innerHTML = docLinkHtml;\n",
              "        element.appendChild(docLink);\n",
              "      }\n",
              "    </script>\n",
              "  </div>\n",
              "\n",
              "\n",
              "<div id=\"df-1d4576ed-2582-4610-aa7d-5a9674a462a9\">\n",
              "  <button class=\"colab-df-quickchart\" onclick=\"quickchart('df-1d4576ed-2582-4610-aa7d-5a9674a462a9')\"\n",
              "            title=\"Suggest charts\"\n",
              "            style=\"display:none;\">\n",
              "\n",
              "<svg xmlns=\"http://www.w3.org/2000/svg\" height=\"24px\"viewBox=\"0 0 24 24\"\n",
              "     width=\"24px\">\n",
              "    <g>\n",
              "        <path d=\"M19 3H5c-1.1 0-2 .9-2 2v14c0 1.1.9 2 2 2h14c1.1 0 2-.9 2-2V5c0-1.1-.9-2-2-2zM9 17H7v-7h2v7zm4 0h-2V7h2v10zm4 0h-2v-4h2v4z\"/>\n",
              "    </g>\n",
              "</svg>\n",
              "  </button>\n",
              "\n",
              "<style>\n",
              "  .colab-df-quickchart {\n",
              "      --bg-color: #E8F0FE;\n",
              "      --fill-color: #1967D2;\n",
              "      --hover-bg-color: #E2EBFA;\n",
              "      --hover-fill-color: #174EA6;\n",
              "      --disabled-fill-color: #AAA;\n",
              "      --disabled-bg-color: #DDD;\n",
              "  }\n",
              "\n",
              "  [theme=dark] .colab-df-quickchart {\n",
              "      --bg-color: #3B4455;\n",
              "      --fill-color: #D2E3FC;\n",
              "      --hover-bg-color: #434B5C;\n",
              "      --hover-fill-color: #FFFFFF;\n",
              "      --disabled-bg-color: #3B4455;\n",
              "      --disabled-fill-color: #666;\n",
              "  }\n",
              "\n",
              "  .colab-df-quickchart {\n",
              "    background-color: var(--bg-color);\n",
              "    border: none;\n",
              "    border-radius: 50%;\n",
              "    cursor: pointer;\n",
              "    display: none;\n",
              "    fill: var(--fill-color);\n",
              "    height: 32px;\n",
              "    padding: 0;\n",
              "    width: 32px;\n",
              "  }\n",
              "\n",
              "  .colab-df-quickchart:hover {\n",
              "    background-color: var(--hover-bg-color);\n",
              "    box-shadow: 0 1px 2px rgba(60, 64, 67, 0.3), 0 1px 3px 1px rgba(60, 64, 67, 0.15);\n",
              "    fill: var(--button-hover-fill-color);\n",
              "  }\n",
              "\n",
              "  .colab-df-quickchart-complete:disabled,\n",
              "  .colab-df-quickchart-complete:disabled:hover {\n",
              "    background-color: var(--disabled-bg-color);\n",
              "    fill: var(--disabled-fill-color);\n",
              "    box-shadow: none;\n",
              "  }\n",
              "\n",
              "  .colab-df-spinner {\n",
              "    border: 2px solid var(--fill-color);\n",
              "    border-color: transparent;\n",
              "    border-bottom-color: var(--fill-color);\n",
              "    animation:\n",
              "      spin 1s steps(1) infinite;\n",
              "  }\n",
              "\n",
              "  @keyframes spin {\n",
              "    0% {\n",
              "      border-color: transparent;\n",
              "      border-bottom-color: var(--fill-color);\n",
              "      border-left-color: var(--fill-color);\n",
              "    }\n",
              "    20% {\n",
              "      border-color: transparent;\n",
              "      border-left-color: var(--fill-color);\n",
              "      border-top-color: var(--fill-color);\n",
              "    }\n",
              "    30% {\n",
              "      border-color: transparent;\n",
              "      border-left-color: var(--fill-color);\n",
              "      border-top-color: var(--fill-color);\n",
              "      border-right-color: var(--fill-color);\n",
              "    }\n",
              "    40% {\n",
              "      border-color: transparent;\n",
              "      border-right-color: var(--fill-color);\n",
              "      border-top-color: var(--fill-color);\n",
              "    }\n",
              "    60% {\n",
              "      border-color: transparent;\n",
              "      border-right-color: var(--fill-color);\n",
              "    }\n",
              "    80% {\n",
              "      border-color: transparent;\n",
              "      border-right-color: var(--fill-color);\n",
              "      border-bottom-color: var(--fill-color);\n",
              "    }\n",
              "    90% {\n",
              "      border-color: transparent;\n",
              "      border-bottom-color: var(--fill-color);\n",
              "    }\n",
              "  }\n",
              "</style>\n",
              "\n",
              "  <script>\n",
              "    async function quickchart(key) {\n",
              "      const quickchartButtonEl =\n",
              "        document.querySelector('#' + key + ' button');\n",
              "      quickchartButtonEl.disabled = true;  // To prevent multiple clicks.\n",
              "      quickchartButtonEl.classList.add('colab-df-spinner');\n",
              "      try {\n",
              "        const charts = await google.colab.kernel.invokeFunction(\n",
              "            'suggestCharts', [key], {});\n",
              "      } catch (error) {\n",
              "        console.error('Error during call to suggestCharts:', error);\n",
              "      }\n",
              "      quickchartButtonEl.classList.remove('colab-df-spinner');\n",
              "      quickchartButtonEl.classList.add('colab-df-quickchart-complete');\n",
              "    }\n",
              "    (() => {\n",
              "      let quickchartButtonEl =\n",
              "        document.querySelector('#df-1d4576ed-2582-4610-aa7d-5a9674a462a9 button');\n",
              "      quickchartButtonEl.style.display =\n",
              "        google.colab.kernel.accessAllowed ? 'block' : 'none';\n",
              "    })();\n",
              "  </script>\n",
              "</div>\n",
              "    </div>\n",
              "  </div>\n"
            ],
            "application/vnd.google.colaboratory.intrinsic+json": {
              "type": "dataframe",
              "variable_name": "rel_syntagrus",
              "summary": "{\n  \"name\": \"rel_syntagrus\",\n  \"rows\": 44,\n  \"fields\": [\n    {\n      \"column\": \"udpipe (%)\",\n      \"properties\": {\n        \"dtype\": \"string\",\n        \"num_unique_values\": 42,\n        \"samples\": [\n          \"0, 13, 5, 82\",\n          \"0, 8, 3, 89\",\n          \"0, 30, 2, 68\"\n        ],\n        \"semantic_type\": \"\",\n        \"description\": \"\"\n      }\n    },\n    {\n      \"column\": \"stanza (%)\",\n      \"properties\": {\n        \"dtype\": \"string\",\n        \"num_unique_values\": 42,\n        \"samples\": [\n          \"0, 13, 1, 87\",\n          \"0, 4, 3, 92\",\n          \"0, 14, 1, 85\"\n        ],\n        \"semantic_type\": \"\",\n        \"description\": \"\"\n      }\n    },\n    {\n      \"column\": \"natasha (%)\",\n      \"properties\": {\n        \"dtype\": \"string\",\n        \"num_unique_values\": 43,\n        \"samples\": [\n          \"39, 11, 44, 7\",\n          \"0, 26, 5, 69\",\n          \"0, 16, 5, 78\"\n        ],\n        \"semantic_type\": \"\",\n        \"description\": \"\"\n      }\n    },\n    {\n      \"column\": \"deeppavlov (%)\",\n      \"properties\": {\n        \"dtype\": \"string\",\n        \"num_unique_values\": 44,\n        \"samples\": [\n          \"37, 5, 49, 9\",\n          \"0, 4, 5, 90\",\n          \"0, 5, 4, 91\"\n        ],\n        \"semantic_type\": \"\",\n        \"description\": \"\"\n      }\n    },\n    {\n      \"column\": \"spacy (%)\",\n      \"properties\": {\n        \"dtype\": \"string\",\n        \"num_unique_values\": 44,\n        \"samples\": [\n          \"32, 7, 51, 11\",\n          \"0, 11, 6, 83\",\n          \"0, 10, 5, 85\"\n        ],\n        \"semantic_type\": \"\",\n        \"description\": \"\"\n      }\n    },\n    {\n      \"column\": \"relation token amount\",\n      \"properties\": {\n        \"dtype\": \"number\",\n        \"std\": 23932,\n        \"min\": 1,\n        \"max\": 157718,\n        \"num_unique_values\": 43,\n        \"samples\": [\n          57,\n          865,\n          863\n        ],\n        \"semantic_type\": \"\",\n        \"description\": \"\"\n      }\n    }\n  ]\n}"
            }
          },
          "metadata": {},
          "execution_count": 61
        }
      ]
    },
    {
      "cell_type": "code",
      "source": [
        "token_syntagrus_stat[\"spacy\"][((token_syntagrus_stat[\"spacy\"][\"relation\"] == \"flat:name\") &\n",
        "                               token_syntagrus_stat[\"spacy\"][\"parent_match\"].isnull())]"
      ],
      "metadata": {
        "colab": {
          "base_uri": "https://localhost:8080/",
          "height": 444
        },
        "id": "WBxHrWkmWKNB",
        "outputId": "e85c3429-d2d2-4f7f-b2ae-634616d2a00e"
      },
      "execution_count": 62,
      "outputs": [
        {
          "output_type": "execute_result",
          "data": {
            "text/plain": [
              "                         form    pos parent_match relation_match   relation\n",
              "5812    Мельникова-Печерского  PROPN         None           None  flat:name\n",
              "11028                      М.  PROPN         None           None  flat:name\n",
              "11199                      В.  PROPN         None           None  flat:name\n",
              "34363                Матросов  PROPN         None           None  flat:name\n",
              "41108                      А.  PROPN         None           None  flat:name\n",
              "...                       ...    ...          ...            ...        ...\n",
              "132918               Апресяна  PROPN         None           None  flat:name\n",
              "132921                     М.  PROPN         None           None  flat:name\n",
              "132922          Богуславского  PROPN         None           None  flat:name\n",
              "132925                     Л.  PROPN         None           None  flat:name\n",
              "132926                Иомдина  PROPN         None           None  flat:name\n",
              "\n",
              "[115 rows x 5 columns]"
            ],
            "text/html": [
              "\n",
              "  <div id=\"df-61bf2bbc-182a-4424-b449-8f847464f0b6\" class=\"colab-df-container\">\n",
              "    <div>\n",
              "<style scoped>\n",
              "    .dataframe tbody tr th:only-of-type {\n",
              "        vertical-align: middle;\n",
              "    }\n",
              "\n",
              "    .dataframe tbody tr th {\n",
              "        vertical-align: top;\n",
              "    }\n",
              "\n",
              "    .dataframe thead th {\n",
              "        text-align: right;\n",
              "    }\n",
              "</style>\n",
              "<table border=\"1\" class=\"dataframe\">\n",
              "  <thead>\n",
              "    <tr style=\"text-align: right;\">\n",
              "      <th></th>\n",
              "      <th>form</th>\n",
              "      <th>pos</th>\n",
              "      <th>parent_match</th>\n",
              "      <th>relation_match</th>\n",
              "      <th>relation</th>\n",
              "    </tr>\n",
              "  </thead>\n",
              "  <tbody>\n",
              "    <tr>\n",
              "      <th>5812</th>\n",
              "      <td>Мельникова-Печерского</td>\n",
              "      <td>PROPN</td>\n",
              "      <td>None</td>\n",
              "      <td>None</td>\n",
              "      <td>flat:name</td>\n",
              "    </tr>\n",
              "    <tr>\n",
              "      <th>11028</th>\n",
              "      <td>М.</td>\n",
              "      <td>PROPN</td>\n",
              "      <td>None</td>\n",
              "      <td>None</td>\n",
              "      <td>flat:name</td>\n",
              "    </tr>\n",
              "    <tr>\n",
              "      <th>11199</th>\n",
              "      <td>В.</td>\n",
              "      <td>PROPN</td>\n",
              "      <td>None</td>\n",
              "      <td>None</td>\n",
              "      <td>flat:name</td>\n",
              "    </tr>\n",
              "    <tr>\n",
              "      <th>34363</th>\n",
              "      <td>Матросов</td>\n",
              "      <td>PROPN</td>\n",
              "      <td>None</td>\n",
              "      <td>None</td>\n",
              "      <td>flat:name</td>\n",
              "    </tr>\n",
              "    <tr>\n",
              "      <th>41108</th>\n",
              "      <td>А.</td>\n",
              "      <td>PROPN</td>\n",
              "      <td>None</td>\n",
              "      <td>None</td>\n",
              "      <td>flat:name</td>\n",
              "    </tr>\n",
              "    <tr>\n",
              "      <th>...</th>\n",
              "      <td>...</td>\n",
              "      <td>...</td>\n",
              "      <td>...</td>\n",
              "      <td>...</td>\n",
              "      <td>...</td>\n",
              "    </tr>\n",
              "    <tr>\n",
              "      <th>132918</th>\n",
              "      <td>Апресяна</td>\n",
              "      <td>PROPN</td>\n",
              "      <td>None</td>\n",
              "      <td>None</td>\n",
              "      <td>flat:name</td>\n",
              "    </tr>\n",
              "    <tr>\n",
              "      <th>132921</th>\n",
              "      <td>М.</td>\n",
              "      <td>PROPN</td>\n",
              "      <td>None</td>\n",
              "      <td>None</td>\n",
              "      <td>flat:name</td>\n",
              "    </tr>\n",
              "    <tr>\n",
              "      <th>132922</th>\n",
              "      <td>Богуславского</td>\n",
              "      <td>PROPN</td>\n",
              "      <td>None</td>\n",
              "      <td>None</td>\n",
              "      <td>flat:name</td>\n",
              "    </tr>\n",
              "    <tr>\n",
              "      <th>132925</th>\n",
              "      <td>Л.</td>\n",
              "      <td>PROPN</td>\n",
              "      <td>None</td>\n",
              "      <td>None</td>\n",
              "      <td>flat:name</td>\n",
              "    </tr>\n",
              "    <tr>\n",
              "      <th>132926</th>\n",
              "      <td>Иомдина</td>\n",
              "      <td>PROPN</td>\n",
              "      <td>None</td>\n",
              "      <td>None</td>\n",
              "      <td>flat:name</td>\n",
              "    </tr>\n",
              "  </tbody>\n",
              "</table>\n",
              "<p>115 rows × 5 columns</p>\n",
              "</div>\n",
              "    <div class=\"colab-df-buttons\">\n",
              "\n",
              "  <div class=\"colab-df-container\">\n",
              "    <button class=\"colab-df-convert\" onclick=\"convertToInteractive('df-61bf2bbc-182a-4424-b449-8f847464f0b6')\"\n",
              "            title=\"Convert this dataframe to an interactive table.\"\n",
              "            style=\"display:none;\">\n",
              "\n",
              "  <svg xmlns=\"http://www.w3.org/2000/svg\" height=\"24px\" viewBox=\"0 -960 960 960\">\n",
              "    <path d=\"M120-120v-720h720v720H120Zm60-500h600v-160H180v160Zm220 220h160v-160H400v160Zm0 220h160v-160H400v160ZM180-400h160v-160H180v160Zm440 0h160v-160H620v160ZM180-180h160v-160H180v160Zm440 0h160v-160H620v160Z\"/>\n",
              "  </svg>\n",
              "    </button>\n",
              "\n",
              "  <style>\n",
              "    .colab-df-container {\n",
              "      display:flex;\n",
              "      gap: 12px;\n",
              "    }\n",
              "\n",
              "    .colab-df-convert {\n",
              "      background-color: #E8F0FE;\n",
              "      border: none;\n",
              "      border-radius: 50%;\n",
              "      cursor: pointer;\n",
              "      display: none;\n",
              "      fill: #1967D2;\n",
              "      height: 32px;\n",
              "      padding: 0 0 0 0;\n",
              "      width: 32px;\n",
              "    }\n",
              "\n",
              "    .colab-df-convert:hover {\n",
              "      background-color: #E2EBFA;\n",
              "      box-shadow: 0px 1px 2px rgba(60, 64, 67, 0.3), 0px 1px 3px 1px rgba(60, 64, 67, 0.15);\n",
              "      fill: #174EA6;\n",
              "    }\n",
              "\n",
              "    .colab-df-buttons div {\n",
              "      margin-bottom: 4px;\n",
              "    }\n",
              "\n",
              "    [theme=dark] .colab-df-convert {\n",
              "      background-color: #3B4455;\n",
              "      fill: #D2E3FC;\n",
              "    }\n",
              "\n",
              "    [theme=dark] .colab-df-convert:hover {\n",
              "      background-color: #434B5C;\n",
              "      box-shadow: 0px 1px 3px 1px rgba(0, 0, 0, 0.15);\n",
              "      filter: drop-shadow(0px 1px 2px rgba(0, 0, 0, 0.3));\n",
              "      fill: #FFFFFF;\n",
              "    }\n",
              "  </style>\n",
              "\n",
              "    <script>\n",
              "      const buttonEl =\n",
              "        document.querySelector('#df-61bf2bbc-182a-4424-b449-8f847464f0b6 button.colab-df-convert');\n",
              "      buttonEl.style.display =\n",
              "        google.colab.kernel.accessAllowed ? 'block' : 'none';\n",
              "\n",
              "      async function convertToInteractive(key) {\n",
              "        const element = document.querySelector('#df-61bf2bbc-182a-4424-b449-8f847464f0b6');\n",
              "        const dataTable =\n",
              "          await google.colab.kernel.invokeFunction('convertToInteractive',\n",
              "                                                    [key], {});\n",
              "        if (!dataTable) return;\n",
              "\n",
              "        const docLinkHtml = 'Like what you see? Visit the ' +\n",
              "          '<a target=\"_blank\" href=https://colab.research.google.com/notebooks/data_table.ipynb>data table notebook</a>'\n",
              "          + ' to learn more about interactive tables.';\n",
              "        element.innerHTML = '';\n",
              "        dataTable['output_type'] = 'display_data';\n",
              "        await google.colab.output.renderOutput(dataTable, element);\n",
              "        const docLink = document.createElement('div');\n",
              "        docLink.innerHTML = docLinkHtml;\n",
              "        element.appendChild(docLink);\n",
              "      }\n",
              "    </script>\n",
              "  </div>\n",
              "\n",
              "\n",
              "<div id=\"df-23ff18fd-1578-47fe-8eb5-2ed7606442f4\">\n",
              "  <button class=\"colab-df-quickchart\" onclick=\"quickchart('df-23ff18fd-1578-47fe-8eb5-2ed7606442f4')\"\n",
              "            title=\"Suggest charts\"\n",
              "            style=\"display:none;\">\n",
              "\n",
              "<svg xmlns=\"http://www.w3.org/2000/svg\" height=\"24px\"viewBox=\"0 0 24 24\"\n",
              "     width=\"24px\">\n",
              "    <g>\n",
              "        <path d=\"M19 3H5c-1.1 0-2 .9-2 2v14c0 1.1.9 2 2 2h14c1.1 0 2-.9 2-2V5c0-1.1-.9-2-2-2zM9 17H7v-7h2v7zm4 0h-2V7h2v10zm4 0h-2v-4h2v4z\"/>\n",
              "    </g>\n",
              "</svg>\n",
              "  </button>\n",
              "\n",
              "<style>\n",
              "  .colab-df-quickchart {\n",
              "      --bg-color: #E8F0FE;\n",
              "      --fill-color: #1967D2;\n",
              "      --hover-bg-color: #E2EBFA;\n",
              "      --hover-fill-color: #174EA6;\n",
              "      --disabled-fill-color: #AAA;\n",
              "      --disabled-bg-color: #DDD;\n",
              "  }\n",
              "\n",
              "  [theme=dark] .colab-df-quickchart {\n",
              "      --bg-color: #3B4455;\n",
              "      --fill-color: #D2E3FC;\n",
              "      --hover-bg-color: #434B5C;\n",
              "      --hover-fill-color: #FFFFFF;\n",
              "      --disabled-bg-color: #3B4455;\n",
              "      --disabled-fill-color: #666;\n",
              "  }\n",
              "\n",
              "  .colab-df-quickchart {\n",
              "    background-color: var(--bg-color);\n",
              "    border: none;\n",
              "    border-radius: 50%;\n",
              "    cursor: pointer;\n",
              "    display: none;\n",
              "    fill: var(--fill-color);\n",
              "    height: 32px;\n",
              "    padding: 0;\n",
              "    width: 32px;\n",
              "  }\n",
              "\n",
              "  .colab-df-quickchart:hover {\n",
              "    background-color: var(--hover-bg-color);\n",
              "    box-shadow: 0 1px 2px rgba(60, 64, 67, 0.3), 0 1px 3px 1px rgba(60, 64, 67, 0.15);\n",
              "    fill: var(--button-hover-fill-color);\n",
              "  }\n",
              "\n",
              "  .colab-df-quickchart-complete:disabled,\n",
              "  .colab-df-quickchart-complete:disabled:hover {\n",
              "    background-color: var(--disabled-bg-color);\n",
              "    fill: var(--disabled-fill-color);\n",
              "    box-shadow: none;\n",
              "  }\n",
              "\n",
              "  .colab-df-spinner {\n",
              "    border: 2px solid var(--fill-color);\n",
              "    border-color: transparent;\n",
              "    border-bottom-color: var(--fill-color);\n",
              "    animation:\n",
              "      spin 1s steps(1) infinite;\n",
              "  }\n",
              "\n",
              "  @keyframes spin {\n",
              "    0% {\n",
              "      border-color: transparent;\n",
              "      border-bottom-color: var(--fill-color);\n",
              "      border-left-color: var(--fill-color);\n",
              "    }\n",
              "    20% {\n",
              "      border-color: transparent;\n",
              "      border-left-color: var(--fill-color);\n",
              "      border-top-color: var(--fill-color);\n",
              "    }\n",
              "    30% {\n",
              "      border-color: transparent;\n",
              "      border-left-color: var(--fill-color);\n",
              "      border-top-color: var(--fill-color);\n",
              "      border-right-color: var(--fill-color);\n",
              "    }\n",
              "    40% {\n",
              "      border-color: transparent;\n",
              "      border-right-color: var(--fill-color);\n",
              "      border-top-color: var(--fill-color);\n",
              "    }\n",
              "    60% {\n",
              "      border-color: transparent;\n",
              "      border-right-color: var(--fill-color);\n",
              "    }\n",
              "    80% {\n",
              "      border-color: transparent;\n",
              "      border-right-color: var(--fill-color);\n",
              "      border-bottom-color: var(--fill-color);\n",
              "    }\n",
              "    90% {\n",
              "      border-color: transparent;\n",
              "      border-bottom-color: var(--fill-color);\n",
              "    }\n",
              "  }\n",
              "</style>\n",
              "\n",
              "  <script>\n",
              "    async function quickchart(key) {\n",
              "      const quickchartButtonEl =\n",
              "        document.querySelector('#' + key + ' button');\n",
              "      quickchartButtonEl.disabled = true;  // To prevent multiple clicks.\n",
              "      quickchartButtonEl.classList.add('colab-df-spinner');\n",
              "      try {\n",
              "        const charts = await google.colab.kernel.invokeFunction(\n",
              "            'suggestCharts', [key], {});\n",
              "      } catch (error) {\n",
              "        console.error('Error during call to suggestCharts:', error);\n",
              "      }\n",
              "      quickchartButtonEl.classList.remove('colab-df-spinner');\n",
              "      quickchartButtonEl.classList.add('colab-df-quickchart-complete');\n",
              "    }\n",
              "    (() => {\n",
              "      let quickchartButtonEl =\n",
              "        document.querySelector('#df-23ff18fd-1578-47fe-8eb5-2ed7606442f4 button');\n",
              "      quickchartButtonEl.style.display =\n",
              "        google.colab.kernel.accessAllowed ? 'block' : 'none';\n",
              "    })();\n",
              "  </script>\n",
              "</div>\n",
              "    </div>\n",
              "  </div>\n"
            ],
            "application/vnd.google.colaboratory.intrinsic+json": {
              "type": "dataframe",
              "repr_error": "0"
            }
          },
          "metadata": {},
          "execution_count": 62
        }
      ]
    },
    {
      "cell_type": "code",
      "source": [
        "Counter(token_syntagrus_stat[p][token_syntagrus_stat[p]['parent_match'].isnull()].pos)"
      ],
      "metadata": {
        "colab": {
          "base_uri": "https://localhost:8080/"
        },
        "id": "nUyZfOA9MNPH",
        "outputId": "2cd36d5f-fc71-4172-8819-fec49affbc54"
      },
      "execution_count": 63,
      "outputs": [
        {
          "output_type": "execute_result",
          "data": {
            "text/plain": [
              "Counter({'PROPN': 422,\n",
              "         'PUNCT': 319,\n",
              "         'NUM': 218,\n",
              "         'ADP': 62,\n",
              "         'X': 4,\n",
              "         'ADJ': 77,\n",
              "         'NOUN': 279,\n",
              "         'VERB': 17,\n",
              "         'PRON': 170,\n",
              "         'ADV': 239,\n",
              "         'PART': 38,\n",
              "         'DET': 114,\n",
              "         'INTJ': 3,\n",
              "         'SCONJ': 1,\n",
              "         'CCONJ': 5})"
            ]
          },
          "metadata": {},
          "execution_count": 63
        }
      ]
    },
    {
      "cell_type": "code",
      "source": [
        "for p in parser_names:\n",
        "  differ_tokenisation = token_syntagrus_stat[p][token_syntagrus_stat[p]['parent_match'].isnull()]\n",
        "  print(p, [(t, round(r / len(differ_tokenisation), 2)) for t, r in Counter(differ_tokenisation.pos).most_common()])"
      ],
      "metadata": {
        "colab": {
          "base_uri": "https://localhost:8080/"
        },
        "id": "tO28VvdXM9-Y",
        "outputId": "d960a740-58ab-4f6c-a47c-14f2a96f8ce6"
      },
      "execution_count": 64,
      "outputs": [
        {
          "output_type": "stream",
          "name": "stdout",
          "text": [
            "udpipe [('NOUN', 0.28), ('PUNCT', 0.23), ('PROPN', 0.18), ('ADJ', 0.14), ('NUM', 0.07), ('ADV', 0.03), ('VERB', 0.02), ('PRON', 0.02), ('X', 0.01), ('PART', 0.01), ('DET', 0.01), ('ADP', 0.0), ('SYM', 0.0), ('INTJ', 0.0)]\n",
            "stanza [('NOUN', 0.27), ('PUNCT', 0.26), ('ADJ', 0.15), ('PROPN', 0.09), ('NUM', 0.09), ('ADV', 0.05), ('VERB', 0.02), ('PRON', 0.02), ('PART', 0.02), ('X', 0.01), ('CCONJ', 0.01), ('DET', 0.0), ('ADP', 0.0)]\n",
            "natasha [('PUNCT', 0.27), ('PROPN', 0.26), ('NUM', 0.21), ('NOUN', 0.14), ('ADJ', 0.07), ('ADV', 0.02), ('VERB', 0.01), ('PART', 0.01), ('PRON', 0.01), ('X', 0.0), ('CCONJ', 0.0), ('DET', 0.0), ('ADP', 0.0)]\n",
            "deeppavlov [('PUNCT', 0.33), ('NUM', 0.21), ('PROPN', 0.18), ('NOUN', 0.14), ('ADJ', 0.07), ('VERB', 0.02), ('ADV', 0.02), ('PART', 0.01), ('PRON', 0.01), ('CCONJ', 0.01), ('X', 0.0), ('DET', 0.0), ('ADP', 0.0), ('SCONJ', 0.0), ('SYM', 0.0)]\n",
            "spacy [('PROPN', 0.21), ('PUNCT', 0.16), ('NOUN', 0.14), ('ADV', 0.12), ('NUM', 0.11), ('PRON', 0.09), ('DET', 0.06), ('ADJ', 0.04), ('ADP', 0.03), ('PART', 0.02), ('VERB', 0.01), ('CCONJ', 0.0), ('X', 0.0), ('INTJ', 0.0), ('SCONJ', 0.0)]\n"
          ]
        }
      ]
    },
    {
      "cell_type": "code",
      "source": [],
      "metadata": {
        "id": "OH1mX6NRF5lJ"
      },
      "execution_count": 64,
      "outputs": []
    },
    {
      "cell_type": "markdown",
      "source": [
        "## Parser token statistics"
      ],
      "metadata": {
        "id": "AXdEhC-lF53Z"
      }
    },
    {
      "cell_type": "code",
      "source": [
        "token_parser_stat = {}\n",
        "for p in parser_names:\n",
        "  token_stat_list = []\n",
        "  for sent_id in res[p]:\n",
        "    parser_sent_be = list(be_res[p][sent_id].items())\n",
        "    for token_i, t in enumerate(res[p][sent_id].tokens):\n",
        "      token_be = parser_sent_be[token_i][0]\n",
        "      parser_parent, parser_relation = parser_sent_be[token_i][1]\n",
        "      if token_be in be_syntagrus[sent_id]:\n",
        "        synt_parent, synt_relation = be_syntagrus[sent_id][token_be]\n",
        "        token_stat_list.append((sent_id, token_i, synt_parent==parser_parent,\n",
        "                          synt_relation==parser_relation))\n",
        "      else:\n",
        "        token_stat_list.append((sent_id, token_i, None, None))\n",
        "\n",
        "  token_parser_stat[p] = pd.DataFrame(token_stat_list, columns=['sent_id', 'token_i', 'parent_match', 'relation_match'])"
      ],
      "metadata": {
        "id": "skUKV0rv8CBU"
      },
      "execution_count": 65,
      "outputs": []
    },
    {
      "cell_type": "code",
      "source": [
        "token_parser_stat['stanza']"
      ],
      "metadata": {
        "colab": {
          "base_uri": "https://localhost:8080/",
          "height": 444
        },
        "id": "1V__tCzn7mvx",
        "outputId": "fee28340-aac7-4489-b009-f00f5c7dd587"
      },
      "execution_count": 66,
      "outputs": [
        {
          "output_type": "execute_result",
          "data": {
            "text/plain": [
              "                             sent_id  token_i parent_match relation_match\n",
              "0                 2003Armeniya.xml_1        0         True           True\n",
              "1                 2003Armeniya.xml_1        1         True           True\n",
              "2                 2003Armeniya.xml_1        2         True           True\n",
              "3                 2003Armeniya.xml_1        3         True           True\n",
              "4                 2003Armeniya.xml_1        4         True          False\n",
              "...                              ...      ...          ...            ...\n",
              "157673  2020_RFFIMoskva_2042.xml_742        9         True           True\n",
              "157674  2020_RFFIMoskva_2042.xml_742       10         True           True\n",
              "157675  2020_RFFIMoskva_2042.xml_742       11         True           True\n",
              "157676  2020_RFFIMoskva_2042.xml_742       12         True           True\n",
              "157677  2020_RFFIMoskva_2042.xml_742       13         True           True\n",
              "\n",
              "[157678 rows x 4 columns]"
            ],
            "text/html": [
              "\n",
              "  <div id=\"df-49455303-c58b-4ba3-bdec-55f2c97648c4\" class=\"colab-df-container\">\n",
              "    <div>\n",
              "<style scoped>\n",
              "    .dataframe tbody tr th:only-of-type {\n",
              "        vertical-align: middle;\n",
              "    }\n",
              "\n",
              "    .dataframe tbody tr th {\n",
              "        vertical-align: top;\n",
              "    }\n",
              "\n",
              "    .dataframe thead th {\n",
              "        text-align: right;\n",
              "    }\n",
              "</style>\n",
              "<table border=\"1\" class=\"dataframe\">\n",
              "  <thead>\n",
              "    <tr style=\"text-align: right;\">\n",
              "      <th></th>\n",
              "      <th>sent_id</th>\n",
              "      <th>token_i</th>\n",
              "      <th>parent_match</th>\n",
              "      <th>relation_match</th>\n",
              "    </tr>\n",
              "  </thead>\n",
              "  <tbody>\n",
              "    <tr>\n",
              "      <th>0</th>\n",
              "      <td>2003Armeniya.xml_1</td>\n",
              "      <td>0</td>\n",
              "      <td>True</td>\n",
              "      <td>True</td>\n",
              "    </tr>\n",
              "    <tr>\n",
              "      <th>1</th>\n",
              "      <td>2003Armeniya.xml_1</td>\n",
              "      <td>1</td>\n",
              "      <td>True</td>\n",
              "      <td>True</td>\n",
              "    </tr>\n",
              "    <tr>\n",
              "      <th>2</th>\n",
              "      <td>2003Armeniya.xml_1</td>\n",
              "      <td>2</td>\n",
              "      <td>True</td>\n",
              "      <td>True</td>\n",
              "    </tr>\n",
              "    <tr>\n",
              "      <th>3</th>\n",
              "      <td>2003Armeniya.xml_1</td>\n",
              "      <td>3</td>\n",
              "      <td>True</td>\n",
              "      <td>True</td>\n",
              "    </tr>\n",
              "    <tr>\n",
              "      <th>4</th>\n",
              "      <td>2003Armeniya.xml_1</td>\n",
              "      <td>4</td>\n",
              "      <td>True</td>\n",
              "      <td>False</td>\n",
              "    </tr>\n",
              "    <tr>\n",
              "      <th>...</th>\n",
              "      <td>...</td>\n",
              "      <td>...</td>\n",
              "      <td>...</td>\n",
              "      <td>...</td>\n",
              "    </tr>\n",
              "    <tr>\n",
              "      <th>157673</th>\n",
              "      <td>2020_RFFIMoskva_2042.xml_742</td>\n",
              "      <td>9</td>\n",
              "      <td>True</td>\n",
              "      <td>True</td>\n",
              "    </tr>\n",
              "    <tr>\n",
              "      <th>157674</th>\n",
              "      <td>2020_RFFIMoskva_2042.xml_742</td>\n",
              "      <td>10</td>\n",
              "      <td>True</td>\n",
              "      <td>True</td>\n",
              "    </tr>\n",
              "    <tr>\n",
              "      <th>157675</th>\n",
              "      <td>2020_RFFIMoskva_2042.xml_742</td>\n",
              "      <td>11</td>\n",
              "      <td>True</td>\n",
              "      <td>True</td>\n",
              "    </tr>\n",
              "    <tr>\n",
              "      <th>157676</th>\n",
              "      <td>2020_RFFIMoskva_2042.xml_742</td>\n",
              "      <td>12</td>\n",
              "      <td>True</td>\n",
              "      <td>True</td>\n",
              "    </tr>\n",
              "    <tr>\n",
              "      <th>157677</th>\n",
              "      <td>2020_RFFIMoskva_2042.xml_742</td>\n",
              "      <td>13</td>\n",
              "      <td>True</td>\n",
              "      <td>True</td>\n",
              "    </tr>\n",
              "  </tbody>\n",
              "</table>\n",
              "<p>157678 rows × 4 columns</p>\n",
              "</div>\n",
              "    <div class=\"colab-df-buttons\">\n",
              "\n",
              "  <div class=\"colab-df-container\">\n",
              "    <button class=\"colab-df-convert\" onclick=\"convertToInteractive('df-49455303-c58b-4ba3-bdec-55f2c97648c4')\"\n",
              "            title=\"Convert this dataframe to an interactive table.\"\n",
              "            style=\"display:none;\">\n",
              "\n",
              "  <svg xmlns=\"http://www.w3.org/2000/svg\" height=\"24px\" viewBox=\"0 -960 960 960\">\n",
              "    <path d=\"M120-120v-720h720v720H120Zm60-500h600v-160H180v160Zm220 220h160v-160H400v160Zm0 220h160v-160H400v160ZM180-400h160v-160H180v160Zm440 0h160v-160H620v160ZM180-180h160v-160H180v160Zm440 0h160v-160H620v160Z\"/>\n",
              "  </svg>\n",
              "    </button>\n",
              "\n",
              "  <style>\n",
              "    .colab-df-container {\n",
              "      display:flex;\n",
              "      gap: 12px;\n",
              "    }\n",
              "\n",
              "    .colab-df-convert {\n",
              "      background-color: #E8F0FE;\n",
              "      border: none;\n",
              "      border-radius: 50%;\n",
              "      cursor: pointer;\n",
              "      display: none;\n",
              "      fill: #1967D2;\n",
              "      height: 32px;\n",
              "      padding: 0 0 0 0;\n",
              "      width: 32px;\n",
              "    }\n",
              "\n",
              "    .colab-df-convert:hover {\n",
              "      background-color: #E2EBFA;\n",
              "      box-shadow: 0px 1px 2px rgba(60, 64, 67, 0.3), 0px 1px 3px 1px rgba(60, 64, 67, 0.15);\n",
              "      fill: #174EA6;\n",
              "    }\n",
              "\n",
              "    .colab-df-buttons div {\n",
              "      margin-bottom: 4px;\n",
              "    }\n",
              "\n",
              "    [theme=dark] .colab-df-convert {\n",
              "      background-color: #3B4455;\n",
              "      fill: #D2E3FC;\n",
              "    }\n",
              "\n",
              "    [theme=dark] .colab-df-convert:hover {\n",
              "      background-color: #434B5C;\n",
              "      box-shadow: 0px 1px 3px 1px rgba(0, 0, 0, 0.15);\n",
              "      filter: drop-shadow(0px 1px 2px rgba(0, 0, 0, 0.3));\n",
              "      fill: #FFFFFF;\n",
              "    }\n",
              "  </style>\n",
              "\n",
              "    <script>\n",
              "      const buttonEl =\n",
              "        document.querySelector('#df-49455303-c58b-4ba3-bdec-55f2c97648c4 button.colab-df-convert');\n",
              "      buttonEl.style.display =\n",
              "        google.colab.kernel.accessAllowed ? 'block' : 'none';\n",
              "\n",
              "      async function convertToInteractive(key) {\n",
              "        const element = document.querySelector('#df-49455303-c58b-4ba3-bdec-55f2c97648c4');\n",
              "        const dataTable =\n",
              "          await google.colab.kernel.invokeFunction('convertToInteractive',\n",
              "                                                    [key], {});\n",
              "        if (!dataTable) return;\n",
              "\n",
              "        const docLinkHtml = 'Like what you see? Visit the ' +\n",
              "          '<a target=\"_blank\" href=https://colab.research.google.com/notebooks/data_table.ipynb>data table notebook</a>'\n",
              "          + ' to learn more about interactive tables.';\n",
              "        element.innerHTML = '';\n",
              "        dataTable['output_type'] = 'display_data';\n",
              "        await google.colab.output.renderOutput(dataTable, element);\n",
              "        const docLink = document.createElement('div');\n",
              "        docLink.innerHTML = docLinkHtml;\n",
              "        element.appendChild(docLink);\n",
              "      }\n",
              "    </script>\n",
              "  </div>\n",
              "\n",
              "\n",
              "<div id=\"df-339242fa-e7c2-48a2-9ae6-cf95dead18ce\">\n",
              "  <button class=\"colab-df-quickchart\" onclick=\"quickchart('df-339242fa-e7c2-48a2-9ae6-cf95dead18ce')\"\n",
              "            title=\"Suggest charts\"\n",
              "            style=\"display:none;\">\n",
              "\n",
              "<svg xmlns=\"http://www.w3.org/2000/svg\" height=\"24px\"viewBox=\"0 0 24 24\"\n",
              "     width=\"24px\">\n",
              "    <g>\n",
              "        <path d=\"M19 3H5c-1.1 0-2 .9-2 2v14c0 1.1.9 2 2 2h14c1.1 0 2-.9 2-2V5c0-1.1-.9-2-2-2zM9 17H7v-7h2v7zm4 0h-2V7h2v10zm4 0h-2v-4h2v4z\"/>\n",
              "    </g>\n",
              "</svg>\n",
              "  </button>\n",
              "\n",
              "<style>\n",
              "  .colab-df-quickchart {\n",
              "      --bg-color: #E8F0FE;\n",
              "      --fill-color: #1967D2;\n",
              "      --hover-bg-color: #E2EBFA;\n",
              "      --hover-fill-color: #174EA6;\n",
              "      --disabled-fill-color: #AAA;\n",
              "      --disabled-bg-color: #DDD;\n",
              "  }\n",
              "\n",
              "  [theme=dark] .colab-df-quickchart {\n",
              "      --bg-color: #3B4455;\n",
              "      --fill-color: #D2E3FC;\n",
              "      --hover-bg-color: #434B5C;\n",
              "      --hover-fill-color: #FFFFFF;\n",
              "      --disabled-bg-color: #3B4455;\n",
              "      --disabled-fill-color: #666;\n",
              "  }\n",
              "\n",
              "  .colab-df-quickchart {\n",
              "    background-color: var(--bg-color);\n",
              "    border: none;\n",
              "    border-radius: 50%;\n",
              "    cursor: pointer;\n",
              "    display: none;\n",
              "    fill: var(--fill-color);\n",
              "    height: 32px;\n",
              "    padding: 0;\n",
              "    width: 32px;\n",
              "  }\n",
              "\n",
              "  .colab-df-quickchart:hover {\n",
              "    background-color: var(--hover-bg-color);\n",
              "    box-shadow: 0 1px 2px rgba(60, 64, 67, 0.3), 0 1px 3px 1px rgba(60, 64, 67, 0.15);\n",
              "    fill: var(--button-hover-fill-color);\n",
              "  }\n",
              "\n",
              "  .colab-df-quickchart-complete:disabled,\n",
              "  .colab-df-quickchart-complete:disabled:hover {\n",
              "    background-color: var(--disabled-bg-color);\n",
              "    fill: var(--disabled-fill-color);\n",
              "    box-shadow: none;\n",
              "  }\n",
              "\n",
              "  .colab-df-spinner {\n",
              "    border: 2px solid var(--fill-color);\n",
              "    border-color: transparent;\n",
              "    border-bottom-color: var(--fill-color);\n",
              "    animation:\n",
              "      spin 1s steps(1) infinite;\n",
              "  }\n",
              "\n",
              "  @keyframes spin {\n",
              "    0% {\n",
              "      border-color: transparent;\n",
              "      border-bottom-color: var(--fill-color);\n",
              "      border-left-color: var(--fill-color);\n",
              "    }\n",
              "    20% {\n",
              "      border-color: transparent;\n",
              "      border-left-color: var(--fill-color);\n",
              "      border-top-color: var(--fill-color);\n",
              "    }\n",
              "    30% {\n",
              "      border-color: transparent;\n",
              "      border-left-color: var(--fill-color);\n",
              "      border-top-color: var(--fill-color);\n",
              "      border-right-color: var(--fill-color);\n",
              "    }\n",
              "    40% {\n",
              "      border-color: transparent;\n",
              "      border-right-color: var(--fill-color);\n",
              "      border-top-color: var(--fill-color);\n",
              "    }\n",
              "    60% {\n",
              "      border-color: transparent;\n",
              "      border-right-color: var(--fill-color);\n",
              "    }\n",
              "    80% {\n",
              "      border-color: transparent;\n",
              "      border-right-color: var(--fill-color);\n",
              "      border-bottom-color: var(--fill-color);\n",
              "    }\n",
              "    90% {\n",
              "      border-color: transparent;\n",
              "      border-bottom-color: var(--fill-color);\n",
              "    }\n",
              "  }\n",
              "</style>\n",
              "\n",
              "  <script>\n",
              "    async function quickchart(key) {\n",
              "      const quickchartButtonEl =\n",
              "        document.querySelector('#' + key + ' button');\n",
              "      quickchartButtonEl.disabled = true;  // To prevent multiple clicks.\n",
              "      quickchartButtonEl.classList.add('colab-df-spinner');\n",
              "      try {\n",
              "        const charts = await google.colab.kernel.invokeFunction(\n",
              "            'suggestCharts', [key], {});\n",
              "      } catch (error) {\n",
              "        console.error('Error during call to suggestCharts:', error);\n",
              "      }\n",
              "      quickchartButtonEl.classList.remove('colab-df-spinner');\n",
              "      quickchartButtonEl.classList.add('colab-df-quickchart-complete');\n",
              "    }\n",
              "    (() => {\n",
              "      let quickchartButtonEl =\n",
              "        document.querySelector('#df-339242fa-e7c2-48a2-9ae6-cf95dead18ce button');\n",
              "      quickchartButtonEl.style.display =\n",
              "        google.colab.kernel.accessAllowed ? 'block' : 'none';\n",
              "    })();\n",
              "  </script>\n",
              "</div>\n",
              "    </div>\n",
              "  </div>\n"
            ],
            "application/vnd.google.colaboratory.intrinsic+json": {
              "type": "dataframe"
            }
          },
          "metadata": {},
          "execution_count": 66
        }
      ]
    },
    {
      "cell_type": "code",
      "source": [
        "for p in parser_names:\n",
        "  extra_parser_len = sum(token_parser_stat[p]['parent_match'].isnull())\n",
        "  print(p, extra_parser_len, round(extra_parser_len / len(token_parser_stat[p]), 3))"
      ],
      "metadata": {
        "colab": {
          "base_uri": "https://localhost:8080/"
        },
        "id": "pQtZKdm2DDel",
        "outputId": "8e9ab9e5-bc90-4ce9-88b0-767b852113f7"
      },
      "execution_count": 67,
      "outputs": [
        {
          "output_type": "stream",
          "name": "stdout",
          "text": [
            "udpipe 556 0.004\n",
            "stanza 397 0.003\n",
            "natasha 1732 0.011\n",
            "deeppavlov 956 0.006\n",
            "spacy 3219 0.02\n"
          ]
        }
      ]
    },
    {
      "cell_type": "code",
      "source": [
        "[(t.parent_id, t.relation) for t in res[\"deeppavlov\"]['2013Ataman_Vikhr.xml_48'].tokens]"
      ],
      "metadata": {
        "colab": {
          "base_uri": "https://localhost:8080/"
        },
        "id": "GxYVNcqg8CDs",
        "outputId": "151f9e06-51de-445c-febd-07797d6188e1"
      },
      "execution_count": 68,
      "outputs": [
        {
          "output_type": "execute_result",
          "data": {
            "text/plain": [
              "[('4', 'nsubj'),\n",
              " ('4', 'cop'),\n",
              " ('4', 'amod'),\n",
              " ('0', 'root'),\n",
              " ('6', 'amod'),\n",
              " ('4', 'nmod'),\n",
              " ('9', 'case'),\n",
              " ('9', 'amod'),\n",
              " ('4', 'nmod'),\n",
              " ('4', 'punct')]"
            ]
          },
          "metadata": {},
          "execution_count": 68
        }
      ]
    },
    {
      "cell_type": "code",
      "source": [
        "[(t.parent_id, t.relation) for t in res[\"stanza\"]['2013Ataman_Vikhr.xml_48'].tokens]"
      ],
      "metadata": {
        "colab": {
          "base_uri": "https://localhost:8080/"
        },
        "id": "tTtHo6r03E9J",
        "outputId": "7602cd97-d20b-45ed-c8d4-384cb4a64ffc"
      },
      "execution_count": 69,
      "outputs": [
        {
          "output_type": "execute_result",
          "data": {
            "text/plain": [
              "[('4', 'nsubj'),\n",
              " ('4', 'cop'),\n",
              " ('4', 'amod'),\n",
              " ('0', 'root'),\n",
              " ('6', 'amod'),\n",
              " ('4', 'nmod'),\n",
              " ('9', 'case'),\n",
              " ('9', 'amod'),\n",
              " ('4', 'nmod'),\n",
              " ('4', 'punct')]"
            ]
          },
          "metadata": {},
          "execution_count": 69
        }
      ]
    },
    {
      "cell_type": "code",
      "source": [
        "for p in parser_names:\n",
        "  t_amount = len([t for s in res[p].values() for t in s.tokens])\n",
        "  print(p, [(r, abs_rate, round(abs_rate / t_amount, 2))\n",
        "           for r, abs_rate in Counter(t.relation for s in res[p].values() for t in s.tokens).most_common()])"
      ],
      "metadata": {
        "colab": {
          "base_uri": "https://localhost:8080/"
        },
        "id": "zKheIPl38CGW",
        "outputId": "4ccce8dc-dc47-479a-f30d-fee5f317526d"
      },
      "execution_count": 70,
      "outputs": [
        {
          "output_type": "stream",
          "name": "stdout",
          "text": [
            "udpipe [('punct', 29518, 0.19), ('case', 14864, 0.09), ('obl', 14143, 0.09), ('nmod', 12140, 0.08), ('amod', 11542, 0.07), ('nsubj', 10459, 0.07), ('advmod', 9666, 0.06), ('root', 8858, 0.06), ('conj', 7848, 0.05), ('cc', 5853, 0.04), ('obj', 4691, 0.03), ('det', 3654, 0.02), ('parataxis', 3174, 0.02), ('mark', 3097, 0.02), ('nummod', 2200, 0.01), ('advcl', 1792, 0.01), ('xcomp', 1641, 0.01), ('acl', 1501, 0.01), ('fixed', 1291, 0.01), ('iobj', 1244, 0.01), ('appos', 1091, 0.01), ('acl:relcl', 1026, 0.01), ('nsubj:pass', 1019, 0.01), ('flat:name', 916, 0.01), ('ccomp', 830, 0.01), ('cop', 779, 0.0), ('csubj', 778, 0.0), ('nummod:gov', 677, 0.0), ('aux:pass', 454, 0.0), ('aux', 322, 0.0), ('flat:foreign', 238, 0.0), ('flat', 151, 0.0), ('discourse', 123, 0.0), ('compound', 95, 0.0), ('orphan', 80, 0.0), ('csubj:pass', 28, 0.0), ('nummod:entity', 6, 0.0), ('expl', 2, 0.0)]\n",
            "stanza [('punct', 29299, 0.19), ('case', 14849, 0.09), ('obl', 13954, 0.09), ('amod', 12063, 0.08), ('nmod', 12040, 0.08), ('nsubj', 10590, 0.07), ('advmod', 9545, 0.06), ('root', 8991, 0.06), ('conj', 7758, 0.05), ('cc', 5912, 0.04), ('obj', 5033, 0.03), ('det', 3715, 0.02), ('parataxis', 3361, 0.02), ('mark', 2935, 0.02), ('advcl', 1841, 0.01), ('acl', 1485, 0.01), ('xcomp', 1466, 0.01), ('fixed', 1398, 0.01), ('nummod', 1340, 0.01), ('iobj', 1278, 0.01), ('appos', 1258, 0.01), ('nsubj:pass', 1051, 0.01), ('acl:relcl', 1022, 0.01), ('flat:name', 963, 0.01), ('ccomp', 879, 0.01), ('csubj', 833, 0.01), ('cop', 707, 0.0), ('aux:pass', 471, 0.0), ('aux', 322, 0.0), ('nummod:gov', 282, 0.0), ('flat:foreign', 244, 0.0), ('flat', 157, 0.0), ('compound', 140, 0.0), ('discourse', 135, 0.0), ('orphan', 103, 0.0), ('expl', 90, 0.0), ('nummod:entity', 76, 0.0), ('vocative', 44, 0.0), ('csubj:pass', 31, 0.0), ('obl:tmod', 17, 0.0)]\n",
            "natasha [('punct', 29444, 0.19), ('case', 15178, 0.1), ('amod', 12166, 0.08), ('nmod', 12154, 0.08), ('obl', 11316, 0.07), ('advmod', 10755, 0.07), ('nsubj', 10551, 0.07), ('root', 9286, 0.06), ('conj', 6721, 0.04), ('obj', 6099, 0.04), ('cc', 5903, 0.04), ('det', 3573, 0.02), ('parataxis', 3045, 0.02), ('mark', 2659, 0.02), ('xcomp', 2082, 0.01), ('acl', 1761, 0.01), ('iobj', 1453, 0.01), ('appos', 1416, 0.01), ('advcl', 1399, 0.01), ('fixed', 1398, 0.01), ('nummod', 1246, 0.01), ('ccomp', 1050, 0.01), ('nsubj:pass', 1007, 0.01), ('flat:name', 953, 0.01), ('acl:relcl', 950, 0.01), ('csubj', 788, 0.01), ('cop', 684, 0.0), ('nummod:gov', 558, 0.0), ('aux:pass', 483, 0.0), ('aux', 322, 0.0), ('orphan', 174, 0.0), ('flat', 162, 0.0), ('discourse', 121, 0.0), ('flat:foreign', 113, 0.0), ('expl', 94, 0.0), ('obl:agent', 65, 0.0), ('compound', 27, 0.0), ('csubj:pass', 26, 0.0), ('nummod:entity', 9, 0.0), ('list', 3, 0.0)]\n",
            "deeppavlov [('punct', 28840, 0.18), ('case', 14860, 0.1), ('obl', 14041, 0.09), ('nmod', 11928, 0.08), ('amod', 11577, 0.07), ('nsubj', 10403, 0.07), ('advmod', 9637, 0.06), ('root', 8908, 0.06), ('conj', 7648, 0.05), ('cc', 5755, 0.04), ('obj', 4895, 0.03), ('det', 3644, 0.02), ('parataxis', 3304, 0.02), ('mark', 3066, 0.02), ('nummod', 1871, 0.01), ('advcl', 1830, 0.01), ('acl', 1515, 0.01), ('xcomp', 1463, 0.01), ('fixed', 1265, 0.01), ('iobj', 1245, 0.01), ('appos', 1158, 0.01), ('nsubj:pass', 1086, 0.01), ('acl:relcl', 1033, 0.01), ('ccomp', 837, 0.01), ('csubj', 829, 0.01), ('flat:name', 817, 0.01), ('cop', 715, 0.0), ('nummod:gov', 664, 0.0), ('aux:pass', 482, 0.0), ('aux', 323, 0.0), ('orphan', 222, 0.0), ('flat:foreign', 217, 0.0), ('flat', 165, 0.0), ('discourse', 84, 0.0), ('compound', 37, 0.0), ('csubj:pass', 30, 0.0), ('nummod:entity', 8, 0.0), ('expl', 2, 0.0)]\n",
            "spacy [('punct', 26925, 0.17), ('case', 15511, 0.1), ('nmod', 12694, 0.08), ('amod', 12564, 0.08), ('nsubj', 11659, 0.07), ('obl', 11643, 0.07), ('advmod', 11129, 0.07), ('root', 9050, 0.06), ('conj', 7847, 0.05), ('obj', 6112, 0.04), ('cc', 5868, 0.04), ('det', 3896, 0.02), ('mark', 2782, 0.02), ('parataxis', 2666, 0.02), ('xcomp', 2114, 0.01), ('appos', 1685, 0.01), ('advcl', 1675, 0.01), ('acl', 1520, 0.01), ('iobj', 1501, 0.01), ('fixed', 1429, 0.01), ('nummod', 1335, 0.01), ('nsubj:pass', 1075, 0.01), ('acl:relcl', 1029, 0.01), ('ccomp', 920, 0.01), ('flat:name', 855, 0.01), ('csubj', 798, 0.01), ('cop', 681, 0.0), ('nummod:gov', 607, 0.0), ('aux:pass', 477, 0.0), ('aux', 329, 0.0), ('flat', 165, 0.0), ('discourse', 121, 0.0), ('obl:agent', 102, 0.0), ('flat:foreign', 99, 0.0), ('compound', 26, 0.0), ('csubj:pass', 25, 0.0), ('dep', 22, 0.0), ('orphan', 18, 0.0), ('nummod:entity', 9, 0.0), ('expl', 6, 0.0)]\n"
          ]
        }
      ]
    },
    {
      "cell_type": "code",
      "source": [],
      "metadata": {
        "id": "W0oXtK9i8CI4"
      },
      "execution_count": 70,
      "outputs": []
    }
  ]
}