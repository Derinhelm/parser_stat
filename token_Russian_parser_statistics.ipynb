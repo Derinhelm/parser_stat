{
  "cells": [
    {
      "cell_type": "markdown",
      "metadata": {
        "id": "view-in-github",
        "colab_type": "text"
      },
      "source": [
        "<a href=\"https://colab.research.google.com/github/Derinhelm/parser_stat/blob/tokenization/token_Russian_parser_statistics.ipynb\" target=\"_parent\"><img src=\"https://colab.research.google.com/assets/colab-badge.svg\" alt=\"Open In Colab\"/></a>"
      ]
    },
    {
      "cell_type": "markdown",
      "metadata": {
        "id": "4evQZldcFtGg"
      },
      "source": [
        "# Repository cloning"
      ]
    },
    {
      "cell_type": "code",
      "execution_count": 2,
      "metadata": {
        "colab": {
          "base_uri": "https://localhost:8080/"
        },
        "id": "ecnCggplFs14",
        "outputId": "45a6a3f6-f1ea-414f-9fef-b7b4b068b915"
      },
      "outputs": [
        {
          "output_type": "stream",
          "name": "stdout",
          "text": [
            "Cloning into 'parser_stat'...\n",
            "remote: Enumerating objects: 128, done.\u001b[K\n",
            "remote: Counting objects: 100% (128/128), done.\u001b[K\n",
            "remote: Compressing objects: 100% (99/99), done.\u001b[K\n",
            "remote: Total 128 (delta 63), reused 65 (delta 28), pack-reused 0 (from 0)\u001b[K\n",
            "Receiving objects: 100% (128/128), 26.35 MiB | 5.50 MiB/s, done.\n",
            "Resolving deltas: 100% (63/63), done.\n",
            "Updating files: 100% (17/17), done.\n"
          ]
        }
      ],
      "source": [
        "!git clone https://github.com/Derinhelm/parser_stat.git"
      ]
    },
    {
      "cell_type": "code",
      "execution_count": 3,
      "metadata": {
        "id": "nwQf_f7WFsuI"
      },
      "outputs": [],
      "source": [
        "import sys\n",
        "sys.path.append('/content/parser_stat')"
      ]
    },
    {
      "cell_type": "code",
      "execution_count": 4,
      "metadata": {
        "id": "sht31S9jHGte"
      },
      "outputs": [],
      "source": [
        "!mkdir pics"
      ]
    },
    {
      "cell_type": "markdown",
      "metadata": {
        "id": "zW8TZ8knF4A0"
      },
      "source": [
        "# Data getting"
      ]
    },
    {
      "cell_type": "code",
      "execution_count": 5,
      "metadata": {
        "id": "ezvcUG5vF6pl"
      },
      "outputs": [],
      "source": [
        "from data_classes import ConllEntry, Sentence"
      ]
    },
    {
      "cell_type": "code",
      "execution_count": 6,
      "metadata": {
        "id": "RGVipa8eGJol"
      },
      "outputs": [],
      "source": [
        "import pickle"
      ]
    },
    {
      "cell_type": "code",
      "execution_count": 7,
      "metadata": {
        "id": "I3hDekdWF6jm"
      },
      "outputs": [],
      "source": [
        "with open('/content/parser_stat/treebank_test_sets/treebank_data.pickle', 'rb') as f:\n",
        "    treebanks = pickle.load(f)"
      ]
    },
    {
      "cell_type": "code",
      "execution_count": 8,
      "metadata": {
        "colab": {
          "base_uri": "https://localhost:8080/"
        },
        "id": "joCfA0AJGLHe",
        "outputId": "8f6f1f1e-1acf-42ff-eda9-c77ed892441e"
      },
      "outputs": [
        {
          "output_type": "stream",
          "name": "stdout",
          "text": [
            "gsd 601\n",
            "pud 1000\n",
            "syntagrus 8800\n",
            "poetry 728\n",
            "taiga 881\n"
          ]
        }
      ],
      "source": [
        "for t, sent_list in treebanks.items():\n",
        "    print(t, len(sent_list))\n",
        "    # checking the index uniqueness\n",
        "    assert len({s.sent_id for s in sent_list}) == len(sent_list)"
      ]
    },
    {
      "cell_type": "code",
      "execution_count": 9,
      "metadata": {
        "id": "zhhzbfc_G1fq"
      },
      "outputs": [],
      "source": [
        "treebank_names = ['gsd', 'pud', 'syntagrus', 'poetry', 'taiga']"
      ]
    },
    {
      "cell_type": "markdown",
      "metadata": {
        "id": "K9MuF8g4Uw66"
      },
      "source": [
        "# Parsing result getting"
      ]
    },
    {
      "cell_type": "code",
      "execution_count": 10,
      "metadata": {
        "id": "sPFwHaFZYbK9"
      },
      "outputs": [],
      "source": [
        "import pandas as pd"
      ]
    },
    {
      "cell_type": "code",
      "execution_count": 11,
      "metadata": {
        "id": "ikxnE3uCf6ic"
      },
      "outputs": [],
      "source": [
        "parser_names = [\"udpipe\", \"stanza\", \"natasha\", \"deeppavlov\", \"spacy\"]"
      ]
    },
    {
      "cell_type": "code",
      "execution_count": 12,
      "metadata": {
        "id": "mQBHOnbwDDGY"
      },
      "outputs": [],
      "source": [
        "parser_res = {}\n",
        "for p in parser_names:\n",
        "    with open(f'/content/parser_stat/pickle_results/{p}.pickle', 'rb') as f:\n",
        "       parser_res[p] = pickle.load(f)"
      ]
    },
    {
      "cell_type": "code",
      "execution_count": 13,
      "metadata": {
        "id": "OkXIRhqZHZu3"
      },
      "outputs": [],
      "source": [
        "for p in parser_names:\n",
        "  for t in treebanks:\n",
        "    assert len(treebanks[t]) == len(parser_res[p][t])"
      ]
    },
    {
      "cell_type": "code",
      "source": [
        "[(t.id, t.parent_id, t.relation) for t in parser_res['stanza']['syntagrus'][95].tokens]"
      ],
      "metadata": {
        "colab": {
          "base_uri": "https://localhost:8080/"
        },
        "id": "vgwWjhi1ik9U",
        "outputId": "49b59f94-9801-4858-8119-9a2e11dfef5f"
      },
      "execution_count": 14,
      "outputs": [
        {
          "output_type": "execute_result",
          "data": {
            "text/plain": [
              "[('1', '4', 'obl'),\n",
              " ('2', '4', 'case'),\n",
              " ('3', '4', 'amod'),\n",
              " ('4', '0', 'root'),\n",
              " ('5', '4', 'nsubj'),\n",
              " ('6', '5', 'flat:foreign'),\n",
              " ('7', '5', 'flat:foreign'),\n",
              " ('8', '5', 'flat:foreign'),\n",
              " ('9', '5', 'flat:foreign'),\n",
              " ('10', '4', 'punct'),\n",
              " ('1', '2', 'punct'),\n",
              " ('2', '4', 'parataxis'),\n",
              " ('3', '2', 'punct'),\n",
              " ('4', '0', 'root'),\n",
              " ('5', '4', 'xcomp'),\n",
              " ('6', '5', 'obj'),\n",
              " ('7', '8', 'amod'),\n",
              " ('8', '6', 'nmod'),\n",
              " ('9', '4', 'punct')]"
            ]
          },
          "metadata": {},
          "execution_count": 14
        }
      ]
    },
    {
      "cell_type": "code",
      "source": [
        "[i for (i, t) in enumerate(parser_res['stanza']['syntagrus'][95].tokens) if t.id == '1']"
      ],
      "metadata": {
        "colab": {
          "base_uri": "https://localhost:8080/"
        },
        "id": "3Wo_2USykzOC",
        "outputId": "49e8cb1a-cab9-4b82-96fe-077bbc0c07c2"
      },
      "execution_count": 15,
      "outputs": [
        {
          "output_type": "execute_result",
          "data": {
            "text/plain": [
              "[0, 10]"
            ]
          },
          "metadata": {},
          "execution_count": 15
        }
      ]
    },
    {
      "cell_type": "code",
      "source": [
        "parser_res['stanza']['syntagrus'][95].sent_id"
      ],
      "metadata": {
        "colab": {
          "base_uri": "https://localhost:8080/",
          "height": 35
        },
        "id": "ANa4z-YAjA7-",
        "outputId": "4f224e89-8492-4581-ecd2-4125180f6142"
      },
      "execution_count": 16,
      "outputs": [
        {
          "output_type": "execute_result",
          "data": {
            "text/plain": [
              "'2003Armeniya.xml_96'"
            ],
            "application/vnd.google.colaboratory.intrinsic+json": {
              "type": "string"
            }
          },
          "metadata": {},
          "execution_count": 16
        }
      ]
    },
    {
      "cell_type": "code",
      "source": [
        "for t in treebank_names:\n",
        "  for p in parser_names:\n",
        "      print(t, p, len([i for (i, sent) in enumerate(parser_res[p][t])\n",
        "       if len([t.relation for t in sent.tokens if t.relation == \"root\"]) > 1]))"
      ],
      "metadata": {
        "colab": {
          "base_uri": "https://localhost:8080/"
        },
        "id": "RVA0wGLhpOPL",
        "outputId": "23e50edd-d32d-40bb-ed46-6ef659eba5e3"
      },
      "execution_count": 17,
      "outputs": [
        {
          "output_type": "stream",
          "name": "stdout",
          "text": [
            "gsd udpipe 7\n",
            "gsd stanza 5\n",
            "gsd natasha 83\n",
            "gsd deeppavlov 18\n",
            "gsd spacy 14\n",
            "pud udpipe 7\n",
            "pud stanza 4\n",
            "pud natasha 98\n",
            "pud deeppavlov 3\n",
            "pud spacy 18\n",
            "syntagrus udpipe 57\n",
            "syntagrus stanza 190\n",
            "syntagrus natasha 1073\n",
            "syntagrus deeppavlov 131\n",
            "syntagrus spacy 220\n",
            "poetry udpipe 43\n",
            "poetry stanza 65\n",
            "poetry natasha 148\n",
            "poetry deeppavlov 50\n",
            "poetry spacy 24\n",
            "taiga udpipe 42\n",
            "taiga stanza 69\n",
            "taiga natasha 95\n",
            "taiga deeppavlov 67\n",
            "taiga spacy 69\n"
          ]
        }
      ]
    },
    {
      "cell_type": "code",
      "source": [
        "[i for (i, sent) in enumerate(parser_res['stanza']['syntagrus'])\n",
        "    if len([t.relation for t in sent.tokens if t.relation == \"root\"]) > 2]"
      ],
      "metadata": {
        "colab": {
          "base_uri": "https://localhost:8080/"
        },
        "id": "8w_NkKNUiQXU",
        "outputId": "2a3a9776-94b7-45e2-ad7f-bbd9702b15c4"
      },
      "execution_count": 18,
      "outputs": [
        {
          "output_type": "execute_result",
          "data": {
            "text/plain": [
              "[6424]"
            ]
          },
          "metadata": {},
          "execution_count": 18
        }
      ]
    },
    {
      "cell_type": "code",
      "source": [
        "parser_res['stanza']['syntagrus'][6424].sent_id"
      ],
      "metadata": {
        "colab": {
          "base_uri": "https://localhost:8080/",
          "height": 35
        },
        "id": "lc8at2wBuV6w",
        "outputId": "98b30482-f914-461b-e60d-31c48c5538bc"
      },
      "execution_count": 19,
      "outputs": [
        {
          "output_type": "execute_result",
          "data": {
            "text/plain": [
              "'2013Martovskaya_revolyutsiya.xml_88'"
            ],
            "application/vnd.google.colaboratory.intrinsic+json": {
              "type": "string"
            }
          },
          "metadata": {},
          "execution_count": 19
        }
      ]
    },
    {
      "cell_type": "code",
      "source": [
        "[(t.id, t.parent_id, t.relation) for t in parser_res['stanza']['syntagrus'][6424].tokens]"
      ],
      "metadata": {
        "colab": {
          "base_uri": "https://localhost:8080/"
        },
        "id": "UtDBVGi4i3WJ",
        "outputId": "1cfee20b-b7d4-4074-8e56-9e1adb5b90fd"
      },
      "execution_count": 20,
      "outputs": [
        {
          "output_type": "execute_result",
          "data": {
            "text/plain": [
              "[('1', '0', 'root'),\n",
              " ('2', '3', 'advmod'),\n",
              " ('3', '1', 'nsubj'),\n",
              " ('4', '3', 'obl'),\n",
              " ('5', '9', 'punct'),\n",
              " ('6', '9', 'cc'),\n",
              " ('7', '8', 'amod'),\n",
              " ('8', '9', 'nsubj'),\n",
              " ('9', '1', 'conj'),\n",
              " ('10', '12', 'case'),\n",
              " ('11', '12', 'det'),\n",
              " ('12', '9', 'obl'),\n",
              " ('13', '17', 'punct'),\n",
              " ('14', '17', 'amod'),\n",
              " ('15', '17', 'amod'),\n",
              " ('16', '17', 'amod'),\n",
              " ('17', '12', 'parataxis'),\n",
              " ('18', '19', 'punct'),\n",
              " ('19', '17', 'parataxis'),\n",
              " ('20', '19', 'flat'),\n",
              " ('21', '22', 'amod'),\n",
              " ('22', '19', 'nmod'),\n",
              " ('23', '19', 'punct'),\n",
              " ('24', '1', 'punct'),\n",
              " ('1', '3', 'amod'),\n",
              " ('2', '3', 'amod'),\n",
              " ('3', '0', 'root'),\n",
              " ('4', '5', 'punct'),\n",
              " ('5', '3', 'parataxis'),\n",
              " ('6', '5', 'flat'),\n",
              " ('7', '5', 'punct'),\n",
              " ('8', '3', 'punct'),\n",
              " ('1', '3', 'amod'),\n",
              " ('2', '3', 'amod'),\n",
              " ('3', '0', 'root'),\n",
              " ('4', '5', 'punct'),\n",
              " ('5', '3', 'parataxis'),\n",
              " ('6', '5', 'flat'),\n",
              " ('7', '5', 'punct'),\n",
              " ('8', '9', 'punct'),\n",
              " ('9', '3', 'conj'),\n",
              " ('10', '9', 'nmod'),\n",
              " ('11', '12', 'punct'),\n",
              " ('12', '10', 'parataxis'),\n",
              " ('13', '12', 'flat'),\n",
              " ('14', '12', 'punct'),\n",
              " ('15', '3', 'punct')]"
            ]
          },
          "metadata": {},
          "execution_count": 20
        }
      ]
    },
    {
      "cell_type": "code",
      "source": [
        "def shift_token_id(sentence):\n",
        "  first_token_shift = 0\n",
        "  for i, t in enumerate(sentence.tokens):\n",
        "    if t.id == '1':\n",
        "      first_token_shift = i\n",
        "    shift_id = str(int(t.id) + first_token_shift)\n",
        "    if t.parent_id != '0':\n",
        "      shift_parent_id = str(int(t.parent_id) + first_token_shift)\n",
        "    else:\n",
        "      shift_parent_id = '0'\n",
        "    #print(shift_id, t.id, \"    \", shift_parent_id, t.parent_id)\n",
        "    t.id = shift_id\n",
        "    t.parent_id = shift_parent_id"
      ],
      "metadata": {
        "id": "-TXAbeR-qtWO"
      },
      "execution_count": 21,
      "outputs": []
    },
    {
      "cell_type": "code",
      "source": [
        "for t in treebank_names:\n",
        "  for p in parser_names:\n",
        "    for s in parser_res[p][t]:\n",
        "      shift_token_id(s)"
      ],
      "metadata": {
        "id": "uDmFHnrgsrw6"
      },
      "execution_count": 22,
      "outputs": []
    },
    {
      "cell_type": "code",
      "source": [
        "[(t.id, t.parent_id, t.relation) for t in parser_res['stanza']['syntagrus'][6424].tokens]"
      ],
      "metadata": {
        "colab": {
          "base_uri": "https://localhost:8080/"
        },
        "id": "8Gdy8w4asYGz",
        "outputId": "c455fedc-f34d-4cd4-b195-d4812a2bc12a"
      },
      "execution_count": 23,
      "outputs": [
        {
          "output_type": "execute_result",
          "data": {
            "text/plain": [
              "[('1', '0', 'root'),\n",
              " ('2', '3', 'advmod'),\n",
              " ('3', '1', 'nsubj'),\n",
              " ('4', '3', 'obl'),\n",
              " ('5', '9', 'punct'),\n",
              " ('6', '9', 'cc'),\n",
              " ('7', '8', 'amod'),\n",
              " ('8', '9', 'nsubj'),\n",
              " ('9', '1', 'conj'),\n",
              " ('10', '12', 'case'),\n",
              " ('11', '12', 'det'),\n",
              " ('12', '9', 'obl'),\n",
              " ('13', '17', 'punct'),\n",
              " ('14', '17', 'amod'),\n",
              " ('15', '17', 'amod'),\n",
              " ('16', '17', 'amod'),\n",
              " ('17', '12', 'parataxis'),\n",
              " ('18', '19', 'punct'),\n",
              " ('19', '17', 'parataxis'),\n",
              " ('20', '19', 'flat'),\n",
              " ('21', '22', 'amod'),\n",
              " ('22', '19', 'nmod'),\n",
              " ('23', '19', 'punct'),\n",
              " ('24', '1', 'punct'),\n",
              " ('25', '27', 'amod'),\n",
              " ('26', '27', 'amod'),\n",
              " ('27', '0', 'root'),\n",
              " ('28', '29', 'punct'),\n",
              " ('29', '27', 'parataxis'),\n",
              " ('30', '29', 'flat'),\n",
              " ('31', '29', 'punct'),\n",
              " ('32', '27', 'punct'),\n",
              " ('33', '35', 'amod'),\n",
              " ('34', '35', 'amod'),\n",
              " ('35', '0', 'root'),\n",
              " ('36', '37', 'punct'),\n",
              " ('37', '35', 'parataxis'),\n",
              " ('38', '37', 'flat'),\n",
              " ('39', '37', 'punct'),\n",
              " ('40', '41', 'punct'),\n",
              " ('41', '35', 'conj'),\n",
              " ('42', '41', 'nmod'),\n",
              " ('43', '44', 'punct'),\n",
              " ('44', '42', 'parataxis'),\n",
              " ('45', '44', 'flat'),\n",
              " ('46', '44', 'punct'),\n",
              " ('47', '35', 'punct')]"
            ]
          },
          "metadata": {},
          "execution_count": 23
        }
      ]
    },
    {
      "cell_type": "markdown",
      "metadata": {
        "id": "jZT08SOtAktK"
      },
      "source": [
        "# Creating token start-end pairs"
      ]
    },
    {
      "cell_type": "markdown",
      "metadata": {
        "id": "7Q9V6RQqIIXj"
      },
      "source": [
        "be_edges - set of dependency tree edges in begin-end format"
      ]
    },
    {
      "cell_type": "code",
      "execution_count": 24,
      "metadata": {
        "id": "CKG_qHSJIPef"
      },
      "outputs": [],
      "source": [
        "def create_sent_be_nodes(sent, text_transform):\n",
        "    token_begin_end = []\n",
        "    sent_text = text_transform(sent.text)\n",
        "    original_sent_text = text_transform(sent.text)\n",
        "    del_prefix_len = 0\n",
        "    tokens = [t for t in sent.tokens if '.' not in t.id]\n",
        "    for t_i, t in enumerate(tokens):\n",
        "        token_text = text_transform(t.form)\n",
        "        t_start = sent_text.find(token_text)\n",
        "        if t_start == -1:\n",
        "            print(\"Error:\", sent.sent_id, f\"sent_text:{sent_text}, t:{token_text}\", t_i)\n",
        "        else:\n",
        "            b, e = (del_prefix_len + t_start,\n",
        "                                  del_prefix_len + t_start + len(token_text))\n",
        "            token_begin_end.append((t, (b, e)))\n",
        "            del_prefix_len += t_start + len(token_text)\n",
        "            sent_text = sent_text[t_start + len(token_text):]\n",
        "            assert text_transform(original_sent_text[b:e]) == text_transform(tokens[t_i].form)\n",
        "    sent_text = text_transform(sent.text)\n",
        "    return token_begin_end"
      ]
    },
    {
      "cell_type": "code",
      "execution_count": 25,
      "metadata": {
        "id": "Nb_gR5VZcSSl"
      },
      "outputs": [],
      "source": [
        "def create_sent_be_edges(sent_be_tokens):\n",
        "    sent_be_res = {}\n",
        "    for t_id, (t, t_be) in enumerate(sent_be_tokens): # ellipsis are deleted, so index in sent_be_tokens = token_id\n",
        "      parent_id = t.parent_id\n",
        "      if parent_id == '0': # root\n",
        "        parent_be = (-1, -1)\n",
        "      else:\n",
        "        _, parent_be = sent_be_tokens[int(parent_id) - 1]\n",
        "      sent_be_res[t_be] = (parent_be, t.relation)\n",
        "    return sent_be_res"
      ]
    },
    {
      "cell_type": "code",
      "execution_count": 26,
      "metadata": {
        "id": "naqegyoidfhW"
      },
      "outputs": [],
      "source": [
        "from collections import OrderedDict"
      ]
    },
    {
      "cell_type": "code",
      "execution_count": 27,
      "metadata": {
        "id": "bIe_DoZPdUL1"
      },
      "outputs": [],
      "source": [
        "be_treebanks = {}\n",
        "for treebank_n in treebank_names:\n",
        "    be_treebanks[treebank_n] = OrderedDict()\n",
        "    for i, sent in enumerate(treebanks[treebank_n]):\n",
        "        be_sent = create_sent_be_nodes(sent, lambda text: text.lower())\n",
        "        be_treebanks[treebank_n][sent.sent_id] = create_sent_be_edges(be_sent)"
      ]
    },
    {
      "cell_type": "code",
      "execution_count": 28,
      "metadata": {
        "colab": {
          "base_uri": "https://localhost:8080/"
        },
        "id": "XynTMoSSfl9t",
        "outputId": "3802a7d8-a1dc-4a7e-bdac-a487fd8a6227"
      },
      "outputs": [
        {
          "output_type": "execute_result",
          "data": {
            "text/plain": [
              "{(0, 2): ((16, 20), 'nsubj'),\n",
              " (3, 15): ((16, 20), 'advmod'),\n",
              " (16, 20): ((-1, -1), 'root'),\n",
              " (21, 24): ((25, 34), 'det'),\n",
              " (25, 34): ((16, 20), 'obj'),\n",
              " (35, 43): ((16, 20), 'advmod'),\n",
              " (43, 44): ((16, 20), 'punct')}"
            ]
          },
          "metadata": {},
          "execution_count": 28
        }
      ],
      "source": [
        "be_treebanks['syntagrus']['2003Artist_mimansa.xml_130']"
      ]
    },
    {
      "cell_type": "markdown",
      "metadata": {
        "id": "zegcS0y1rKd0"
      },
      "source": [
        "{(0, 2): ((16, 20), 'nsubj'),\n",
        "\n",
        " (3, 15): ((16, 20), 'advmod'),\n",
        "\n",
        " (16, 20): ((-1, -1), 'root'),\n",
        "\n",
        " (21, 24): ((25, 34), 'det'),\n",
        "\n",
        " (25, 34): ((16, 20), 'obj'),\n",
        "\n",
        " (35, 43): ((16, 20), 'advmod'),\n",
        "\n",
        " (43, 44): ((16, 20), 'punct')}\n"
      ]
    },
    {
      "cell_type": "code",
      "execution_count": 29,
      "metadata": {
        "id": "RzpwKOowqN4a"
      },
      "outputs": [],
      "source": [
        "be_parser_res = {p: {} for p in parser_names}\n",
        "for p in parser_names:\n",
        "  if p == 'deeppavlov':\n",
        "    transform_fun = lambda text: text.lower().replace('``', '\"').replace(\"''\", '\"')\n",
        "  else:\n",
        "    transform_fun = lambda text: text.lower().replace(\"''\", '\"')\n",
        "  for t in treebank_names:\n",
        "    be_parser_res[p][t] = OrderedDict()\n",
        "    for i, sent in enumerate(parser_res[p][t]):\n",
        "        be_sent = create_sent_be_nodes(sent, transform_fun)\n",
        "        be_parser_res[p][t][sent.sent_id] = create_sent_be_edges(be_sent)"
      ]
    },
    {
      "cell_type": "code",
      "execution_count": 30,
      "metadata": {
        "colab": {
          "base_uri": "https://localhost:8080/"
        },
        "id": "ehDT7wRDWDKI",
        "outputId": "115ee291-512b-47f2-fc28-b819fa8bba10"
      },
      "outputs": [
        {
          "output_type": "execute_result",
          "data": {
            "text/plain": [
              "{(0, 3): ((11, 15), 'obl'),\n",
              " (4, 5): ((11, 15), 'case'),\n",
              " (6, 10): ((11, 15), 'amod'),\n",
              " (11, 15): ((-1, -1), 'root'),\n",
              " (16, 24): ((11, 15), 'nsubj'),\n",
              " (25, 33): ((16, 24), 'flat:foreign'),\n",
              " (34, 42): ((16, 24), 'flat:foreign'),\n",
              " (43, 50): ((16, 24), 'flat:foreign'),\n",
              " (51, 54): ((16, 24), 'flat:foreign'),\n",
              " (54, 55): ((11, 15), 'punct'),\n",
              " (56, 57): ((57, 64), 'punct'),\n",
              " (57, 64): ((66, 72), 'parataxis'),\n",
              " (64, 65): ((57, 64), 'punct'),\n",
              " (66, 72): ((-1, -1), 'root'),\n",
              " (73, 86): ((66, 72), 'xcomp'),\n",
              " (87, 93): ((73, 86), 'obj'),\n",
              " (94, 105): ((106, 111), 'amod'),\n",
              " (106, 111): ((87, 93), 'nmod'),\n",
              " (111, 112): ((66, 72), 'punct')}"
            ]
          },
          "metadata": {},
          "execution_count": 30
        }
      ],
      "source": [
        "be_parser_res['stanza']['syntagrus']['2003Armeniya.xml_96']"
      ]
    },
    {
      "cell_type": "markdown",
      "metadata": {
        "id": "7xNSI7QKWGTr"
      },
      "source": [
        "((0, 2), ((16, 20), 'nsubj')),\n",
        "\n",
        "((3, 9), ((16, 20), 'obl')),\n",
        "\n",
        "((9, 10), ((10, 15), 'punct')),\n",
        "\n",
        "((10, 15), ((3, 9), 'conj')),\n",
        "\n",
        "((16, 20), ((-1, -1), 'root')),\n",
        "\n",
        "((21, 24), ((25, 34), 'det')),\n",
        "\n",
        "((25, 34), ((16, 20), 'obj')),\n",
        "\n",
        "((35, 43), ((16, 20), 'advmod')),\n",
        "\n",
        "((43, 44), ((16, 20), 'punct'))]"
      ]
    },
    {
      "cell_type": "markdown",
      "metadata": {
        "id": "kt5G6hkPAfN7"
      },
      "source": [
        "# Sentence statistics"
      ]
    },
    {
      "cell_type": "code",
      "execution_count": 31,
      "metadata": {
        "id": "JRyzodiiQ0FW"
      },
      "outputs": [],
      "source": [
        "def calculate_stat(be_gold, be_res_p):\n",
        "  stat_list = []\n",
        "  for sent_id in be_gold:\n",
        "    extra_gold = len(be_gold[sent_id].keys() - be_res_p[sent_id].keys())\n",
        "    extra_parser = len(be_res_p[sent_id].keys() - be_gold[sent_id].keys())\n",
        "    tokenisation_matched = len({t_be for t_be in be_res_p[sent_id].keys() & be_gold[sent_id].keys()})\n",
        "    parent_matched = len({t_be for t_be in be_res_p[sent_id].keys() & be_gold[sent_id].keys()\n",
        "      if be_res_p[sent_id][t_be][0] == be_gold[sent_id][t_be][0]})\n",
        "    relation_matched = len({t_be for t_be in be_res_p[sent_id].keys() & be_gold[sent_id].keys()\n",
        "      if be_res_p[sent_id][t_be] == be_gold[sent_id][t_be]})\n",
        "    stat_list.append((sent_id, extra_gold, extra_parser, tokenisation_matched,\n",
        "                      parent_matched, relation_matched, len(be_gold[sent_id])))\n",
        "  stat = pd.DataFrame(stat_list, columns=['sent_id', 'extra_gold', 'extra_parser', 'tokenisation_matched',\n",
        "                                             'parent_matched', 'relation_matched', 'token_length'])\n",
        "\n",
        "  align_uas_precision = stat['parent_matched'] / (stat['extra_parser'] + stat['tokenisation_matched'])\n",
        "  align_uas_recall = stat['parent_matched'] / (stat['extra_gold'] + stat['tokenisation_matched'])\n",
        "  align_las_precision = stat['relation_matched'] / (stat['extra_parser'] + stat['tokenisation_matched'])\n",
        "  align_las_recall = stat['relation_matched'] / (stat['extra_gold'] + stat['tokenisation_matched'])\n",
        "  align_uas_f = ((2 * align_uas_precision * align_uas_recall) / (align_uas_precision + align_uas_recall)).fillna(0.0)\n",
        "  align_las_f = ((2 * align_las_precision * align_las_recall) / (align_las_precision + align_las_recall)).fillna(0.0)\n",
        "  return align_uas_f, align_las_f, stat"
      ]
    },
    {
      "cell_type": "code",
      "execution_count": 32,
      "metadata": {
        "id": "zDez6GU9RUcf"
      },
      "outputs": [],
      "source": [
        "align_uas_f = {treebank: {} for treebank in treebank_names}\n",
        "align_las_f = {treebank: {} for treebank in treebank_names}\n",
        "stat = {treebank: {} for treebank in treebank_names}\n",
        "for treebank in treebank_names:\n",
        "  for p in parser_names:\n",
        "    align_uas_f[treebank][p], align_las_f[treebank][p], stat[treebank][p] = \\\n",
        "        calculate_stat(be_treebanks[treebank], be_parser_res[p][treebank])\n",
        "align_res = {\"uas_f\": align_uas_f,\n",
        "             \"las_f\": align_las_f}"
      ]
    },
    {
      "cell_type": "code",
      "source": [
        "t = 'gsd'\n",
        "max_metr = (2 * stat[t][p]['tokenisation_matched']) / (2 * stat[t][p]['tokenisation_matched'] + stat[t][p]['extra_gold'] + stat[t][p]['extra_parser'])\n",
        "sum(max_metr) / len(max_metr)"
      ],
      "metadata": {
        "colab": {
          "base_uri": "https://localhost:8080/"
        },
        "id": "8wz0xrXSXndY",
        "outputId": "086dc841-3774-487a-b5b0-dafaaf39f684"
      },
      "execution_count": 33,
      "outputs": [
        {
          "output_type": "execute_result",
          "data": {
            "text/plain": [
              "0.9595655293436459"
            ]
          },
          "metadata": {},
          "execution_count": 33
        }
      ]
    },
    {
      "cell_type": "code",
      "source": [
        "t = 'pud'\n",
        "max_metr = (2 * stat[t][p]['tokenisation_matched']) / (2 * stat[t][p]['tokenisation_matched'] + stat[t][p]['extra_gold'] + stat[t][p]['extra_parser'])\n",
        "sum(max_metr) / len(max_metr)"
      ],
      "metadata": {
        "colab": {
          "base_uri": "https://localhost:8080/"
        },
        "id": "w02E_WKUXrof",
        "outputId": "3711b75d-3ece-4453-8336-b03cbb36d3ae"
      },
      "execution_count": 34,
      "outputs": [
        {
          "output_type": "execute_result",
          "data": {
            "text/plain": [
              "0.9863535125851971"
            ]
          },
          "metadata": {},
          "execution_count": 34
        }
      ]
    },
    {
      "cell_type": "code",
      "source": [
        "token_dict = {}\n",
        "token_border_dict = {}\n",
        "\n",
        "for t in treebank_names:\n",
        "  token_dict[t] = {}\n",
        "  token_border_dict[t] = {}\n",
        "  for p in parser_names:\n",
        "    max_metr = (2 * stat[t][p]['tokenisation_matched']) / (2 * stat[t][p]['tokenisation_matched'] + stat[t][p]['extra_gold'] + stat[t][p]['extra_parser'])\n",
        "    token_border_dict[t][p] = max_metr\n",
        "    token_dict[t][p] = sum(max_metr) / len(max_metr)\n",
        "    #print(t, p, sum(max_metr) / len(max_metr))"
      ],
      "metadata": {
        "id": "Gte_JHIW8awK"
      },
      "execution_count": 35,
      "outputs": []
    },
    {
      "cell_type": "code",
      "source": [
        "token_top_border = pd.DataFrame([[f\"{token_dict[treebank][p]:.3f}\"\n",
        "                          for treebank in treebank_names] for p in parser_names],\n",
        "                        index=parser_names, columns=treebank_names)"
      ],
      "metadata": {
        "id": "1CiaU-a88a8e"
      },
      "execution_count": 36,
      "outputs": []
    },
    {
      "cell_type": "code",
      "source": [
        "token_top_border"
      ],
      "metadata": {
        "colab": {
          "base_uri": "https://localhost:8080/",
          "height": 206
        },
        "id": "QZZZ0YhxZYia",
        "outputId": "ec6f727d-45d9-4a4c-e7fc-b10ecb6ebda9"
      },
      "execution_count": 37,
      "outputs": [
        {
          "output_type": "execute_result",
          "data": {
            "text/plain": [
              "              gsd    pud syntagrus poetry  taiga\n",
              "udpipe      0.941  0.977     0.997  0.940  0.934\n",
              "stanza      0.939  0.996     0.998  0.950  0.947\n",
              "natasha     0.954  0.993     0.989  0.986  0.953\n",
              "deeppavlov  0.907  0.996     0.989  0.982  0.942\n",
              "spacy       0.960  0.986     0.985  0.979  0.959"
            ],
            "text/html": [
              "\n",
              "  <div id=\"df-278b7a2c-3985-44fb-9d6e-acdfb33d3bdc\" class=\"colab-df-container\">\n",
              "    <div>\n",
              "<style scoped>\n",
              "    .dataframe tbody tr th:only-of-type {\n",
              "        vertical-align: middle;\n",
              "    }\n",
              "\n",
              "    .dataframe tbody tr th {\n",
              "        vertical-align: top;\n",
              "    }\n",
              "\n",
              "    .dataframe thead th {\n",
              "        text-align: right;\n",
              "    }\n",
              "</style>\n",
              "<table border=\"1\" class=\"dataframe\">\n",
              "  <thead>\n",
              "    <tr style=\"text-align: right;\">\n",
              "      <th></th>\n",
              "      <th>gsd</th>\n",
              "      <th>pud</th>\n",
              "      <th>syntagrus</th>\n",
              "      <th>poetry</th>\n",
              "      <th>taiga</th>\n",
              "    </tr>\n",
              "  </thead>\n",
              "  <tbody>\n",
              "    <tr>\n",
              "      <th>udpipe</th>\n",
              "      <td>0.941</td>\n",
              "      <td>0.977</td>\n",
              "      <td>0.997</td>\n",
              "      <td>0.940</td>\n",
              "      <td>0.934</td>\n",
              "    </tr>\n",
              "    <tr>\n",
              "      <th>stanza</th>\n",
              "      <td>0.939</td>\n",
              "      <td>0.996</td>\n",
              "      <td>0.998</td>\n",
              "      <td>0.950</td>\n",
              "      <td>0.947</td>\n",
              "    </tr>\n",
              "    <tr>\n",
              "      <th>natasha</th>\n",
              "      <td>0.954</td>\n",
              "      <td>0.993</td>\n",
              "      <td>0.989</td>\n",
              "      <td>0.986</td>\n",
              "      <td>0.953</td>\n",
              "    </tr>\n",
              "    <tr>\n",
              "      <th>deeppavlov</th>\n",
              "      <td>0.907</td>\n",
              "      <td>0.996</td>\n",
              "      <td>0.989</td>\n",
              "      <td>0.982</td>\n",
              "      <td>0.942</td>\n",
              "    </tr>\n",
              "    <tr>\n",
              "      <th>spacy</th>\n",
              "      <td>0.960</td>\n",
              "      <td>0.986</td>\n",
              "      <td>0.985</td>\n",
              "      <td>0.979</td>\n",
              "      <td>0.959</td>\n",
              "    </tr>\n",
              "  </tbody>\n",
              "</table>\n",
              "</div>\n",
              "    <div class=\"colab-df-buttons\">\n",
              "\n",
              "  <div class=\"colab-df-container\">\n",
              "    <button class=\"colab-df-convert\" onclick=\"convertToInteractive('df-278b7a2c-3985-44fb-9d6e-acdfb33d3bdc')\"\n",
              "            title=\"Convert this dataframe to an interactive table.\"\n",
              "            style=\"display:none;\">\n",
              "\n",
              "  <svg xmlns=\"http://www.w3.org/2000/svg\" height=\"24px\" viewBox=\"0 -960 960 960\">\n",
              "    <path d=\"M120-120v-720h720v720H120Zm60-500h600v-160H180v160Zm220 220h160v-160H400v160Zm0 220h160v-160H400v160ZM180-400h160v-160H180v160Zm440 0h160v-160H620v160ZM180-180h160v-160H180v160Zm440 0h160v-160H620v160Z\"/>\n",
              "  </svg>\n",
              "    </button>\n",
              "\n",
              "  <style>\n",
              "    .colab-df-container {\n",
              "      display:flex;\n",
              "      gap: 12px;\n",
              "    }\n",
              "\n",
              "    .colab-df-convert {\n",
              "      background-color: #E8F0FE;\n",
              "      border: none;\n",
              "      border-radius: 50%;\n",
              "      cursor: pointer;\n",
              "      display: none;\n",
              "      fill: #1967D2;\n",
              "      height: 32px;\n",
              "      padding: 0 0 0 0;\n",
              "      width: 32px;\n",
              "    }\n",
              "\n",
              "    .colab-df-convert:hover {\n",
              "      background-color: #E2EBFA;\n",
              "      box-shadow: 0px 1px 2px rgba(60, 64, 67, 0.3), 0px 1px 3px 1px rgba(60, 64, 67, 0.15);\n",
              "      fill: #174EA6;\n",
              "    }\n",
              "\n",
              "    .colab-df-buttons div {\n",
              "      margin-bottom: 4px;\n",
              "    }\n",
              "\n",
              "    [theme=dark] .colab-df-convert {\n",
              "      background-color: #3B4455;\n",
              "      fill: #D2E3FC;\n",
              "    }\n",
              "\n",
              "    [theme=dark] .colab-df-convert:hover {\n",
              "      background-color: #434B5C;\n",
              "      box-shadow: 0px 1px 3px 1px rgba(0, 0, 0, 0.15);\n",
              "      filter: drop-shadow(0px 1px 2px rgba(0, 0, 0, 0.3));\n",
              "      fill: #FFFFFF;\n",
              "    }\n",
              "  </style>\n",
              "\n",
              "    <script>\n",
              "      const buttonEl =\n",
              "        document.querySelector('#df-278b7a2c-3985-44fb-9d6e-acdfb33d3bdc button.colab-df-convert');\n",
              "      buttonEl.style.display =\n",
              "        google.colab.kernel.accessAllowed ? 'block' : 'none';\n",
              "\n",
              "      async function convertToInteractive(key) {\n",
              "        const element = document.querySelector('#df-278b7a2c-3985-44fb-9d6e-acdfb33d3bdc');\n",
              "        const dataTable =\n",
              "          await google.colab.kernel.invokeFunction('convertToInteractive',\n",
              "                                                    [key], {});\n",
              "        if (!dataTable) return;\n",
              "\n",
              "        const docLinkHtml = 'Like what you see? Visit the ' +\n",
              "          '<a target=\"_blank\" href=https://colab.research.google.com/notebooks/data_table.ipynb>data table notebook</a>'\n",
              "          + ' to learn more about interactive tables.';\n",
              "        element.innerHTML = '';\n",
              "        dataTable['output_type'] = 'display_data';\n",
              "        await google.colab.output.renderOutput(dataTable, element);\n",
              "        const docLink = document.createElement('div');\n",
              "        docLink.innerHTML = docLinkHtml;\n",
              "        element.appendChild(docLink);\n",
              "      }\n",
              "    </script>\n",
              "  </div>\n",
              "\n",
              "\n",
              "<div id=\"df-2f84f9b8-7271-4f37-9df2-b74a3b7c39a9\">\n",
              "  <button class=\"colab-df-quickchart\" onclick=\"quickchart('df-2f84f9b8-7271-4f37-9df2-b74a3b7c39a9')\"\n",
              "            title=\"Suggest charts\"\n",
              "            style=\"display:none;\">\n",
              "\n",
              "<svg xmlns=\"http://www.w3.org/2000/svg\" height=\"24px\"viewBox=\"0 0 24 24\"\n",
              "     width=\"24px\">\n",
              "    <g>\n",
              "        <path d=\"M19 3H5c-1.1 0-2 .9-2 2v14c0 1.1.9 2 2 2h14c1.1 0 2-.9 2-2V5c0-1.1-.9-2-2-2zM9 17H7v-7h2v7zm4 0h-2V7h2v10zm4 0h-2v-4h2v4z\"/>\n",
              "    </g>\n",
              "</svg>\n",
              "  </button>\n",
              "\n",
              "<style>\n",
              "  .colab-df-quickchart {\n",
              "      --bg-color: #E8F0FE;\n",
              "      --fill-color: #1967D2;\n",
              "      --hover-bg-color: #E2EBFA;\n",
              "      --hover-fill-color: #174EA6;\n",
              "      --disabled-fill-color: #AAA;\n",
              "      --disabled-bg-color: #DDD;\n",
              "  }\n",
              "\n",
              "  [theme=dark] .colab-df-quickchart {\n",
              "      --bg-color: #3B4455;\n",
              "      --fill-color: #D2E3FC;\n",
              "      --hover-bg-color: #434B5C;\n",
              "      --hover-fill-color: #FFFFFF;\n",
              "      --disabled-bg-color: #3B4455;\n",
              "      --disabled-fill-color: #666;\n",
              "  }\n",
              "\n",
              "  .colab-df-quickchart {\n",
              "    background-color: var(--bg-color);\n",
              "    border: none;\n",
              "    border-radius: 50%;\n",
              "    cursor: pointer;\n",
              "    display: none;\n",
              "    fill: var(--fill-color);\n",
              "    height: 32px;\n",
              "    padding: 0;\n",
              "    width: 32px;\n",
              "  }\n",
              "\n",
              "  .colab-df-quickchart:hover {\n",
              "    background-color: var(--hover-bg-color);\n",
              "    box-shadow: 0 1px 2px rgba(60, 64, 67, 0.3), 0 1px 3px 1px rgba(60, 64, 67, 0.15);\n",
              "    fill: var(--button-hover-fill-color);\n",
              "  }\n",
              "\n",
              "  .colab-df-quickchart-complete:disabled,\n",
              "  .colab-df-quickchart-complete:disabled:hover {\n",
              "    background-color: var(--disabled-bg-color);\n",
              "    fill: var(--disabled-fill-color);\n",
              "    box-shadow: none;\n",
              "  }\n",
              "\n",
              "  .colab-df-spinner {\n",
              "    border: 2px solid var(--fill-color);\n",
              "    border-color: transparent;\n",
              "    border-bottom-color: var(--fill-color);\n",
              "    animation:\n",
              "      spin 1s steps(1) infinite;\n",
              "  }\n",
              "\n",
              "  @keyframes spin {\n",
              "    0% {\n",
              "      border-color: transparent;\n",
              "      border-bottom-color: var(--fill-color);\n",
              "      border-left-color: var(--fill-color);\n",
              "    }\n",
              "    20% {\n",
              "      border-color: transparent;\n",
              "      border-left-color: var(--fill-color);\n",
              "      border-top-color: var(--fill-color);\n",
              "    }\n",
              "    30% {\n",
              "      border-color: transparent;\n",
              "      border-left-color: var(--fill-color);\n",
              "      border-top-color: var(--fill-color);\n",
              "      border-right-color: var(--fill-color);\n",
              "    }\n",
              "    40% {\n",
              "      border-color: transparent;\n",
              "      border-right-color: var(--fill-color);\n",
              "      border-top-color: var(--fill-color);\n",
              "    }\n",
              "    60% {\n",
              "      border-color: transparent;\n",
              "      border-right-color: var(--fill-color);\n",
              "    }\n",
              "    80% {\n",
              "      border-color: transparent;\n",
              "      border-right-color: var(--fill-color);\n",
              "      border-bottom-color: var(--fill-color);\n",
              "    }\n",
              "    90% {\n",
              "      border-color: transparent;\n",
              "      border-bottom-color: var(--fill-color);\n",
              "    }\n",
              "  }\n",
              "</style>\n",
              "\n",
              "  <script>\n",
              "    async function quickchart(key) {\n",
              "      const quickchartButtonEl =\n",
              "        document.querySelector('#' + key + ' button');\n",
              "      quickchartButtonEl.disabled = true;  // To prevent multiple clicks.\n",
              "      quickchartButtonEl.classList.add('colab-df-spinner');\n",
              "      try {\n",
              "        const charts = await google.colab.kernel.invokeFunction(\n",
              "            'suggestCharts', [key], {});\n",
              "      } catch (error) {\n",
              "        console.error('Error during call to suggestCharts:', error);\n",
              "      }\n",
              "      quickchartButtonEl.classList.remove('colab-df-spinner');\n",
              "      quickchartButtonEl.classList.add('colab-df-quickchart-complete');\n",
              "    }\n",
              "    (() => {\n",
              "      let quickchartButtonEl =\n",
              "        document.querySelector('#df-2f84f9b8-7271-4f37-9df2-b74a3b7c39a9 button');\n",
              "      quickchartButtonEl.style.display =\n",
              "        google.colab.kernel.accessAllowed ? 'block' : 'none';\n",
              "    })();\n",
              "  </script>\n",
              "</div>\n",
              "    </div>\n",
              "  </div>\n"
            ],
            "application/vnd.google.colaboratory.intrinsic+json": {
              "type": "dataframe",
              "variable_name": "token_top_border",
              "summary": "{\n  \"name\": \"token_top_border\",\n  \"rows\": 5,\n  \"fields\": [\n    {\n      \"column\": \"gsd\",\n      \"properties\": {\n        \"dtype\": \"string\",\n        \"num_unique_values\": 5,\n        \"samples\": [\n          \"0.939\",\n          \"0.960\",\n          \"0.954\"\n        ],\n        \"semantic_type\": \"\",\n        \"description\": \"\"\n      }\n    },\n    {\n      \"column\": \"pud\",\n      \"properties\": {\n        \"dtype\": \"string\",\n        \"num_unique_values\": 4,\n        \"samples\": [\n          \"0.996\",\n          \"0.986\",\n          \"0.977\"\n        ],\n        \"semantic_type\": \"\",\n        \"description\": \"\"\n      }\n    },\n    {\n      \"column\": \"syntagrus\",\n      \"properties\": {\n        \"dtype\": \"string\",\n        \"num_unique_values\": 4,\n        \"samples\": [\n          \"0.998\",\n          \"0.985\",\n          \"0.997\"\n        ],\n        \"semantic_type\": \"\",\n        \"description\": \"\"\n      }\n    },\n    {\n      \"column\": \"poetry\",\n      \"properties\": {\n        \"dtype\": \"string\",\n        \"num_unique_values\": 5,\n        \"samples\": [\n          \"0.950\",\n          \"0.979\",\n          \"0.986\"\n        ],\n        \"semantic_type\": \"\",\n        \"description\": \"\"\n      }\n    },\n    {\n      \"column\": \"taiga\",\n      \"properties\": {\n        \"dtype\": \"string\",\n        \"num_unique_values\": 5,\n        \"samples\": [\n          \"0.947\",\n          \"0.959\",\n          \"0.953\"\n        ],\n        \"semantic_type\": \"\",\n        \"description\": \"\"\n      }\n    }\n  ]\n}"
            }
          },
          "metadata": {},
          "execution_count": 37
        }
      ]
    },
    {
      "cell_type": "code",
      "source": [
        "from IPython.display import Latex\n",
        "def create_latex(df):\n",
        "  return df.style.set_table_styles([\n",
        "    {'selector': 'toprule', 'props': ':hline;'},\n",
        "    {'selector': 'midrule', 'props': ':hline;'},\n",
        "    {'selector': 'bottomrule', 'props': ':hline;'},\n",
        "   ], overwrite=False).format(lambda s: s.replace(\"%\", \"\\%\")).to_latex(clines=\"all;data\",  column_format=\"|l|l|l|l|l|l|\")"
      ],
      "metadata": {
        "id": "BpDeezWbZD7z"
      },
      "execution_count": 38,
      "outputs": []
    },
    {
      "cell_type": "code",
      "source": [
        "display(Latex(create_latex(token_top_border)))"
      ],
      "metadata": {
        "colab": {
          "base_uri": "https://localhost:8080/",
          "height": 295
        },
        "id": "4t2h1qf8ZFdu",
        "outputId": "df8cd1cf-6143-4960-8dfc-a07778a99182"
      },
      "execution_count": 39,
      "outputs": [
        {
          "output_type": "display_data",
          "data": {
            "text/plain": [
              "<IPython.core.display.Latex object>"
            ],
            "text/latex": "\\begin{tabular}{|l|l|l|l|l|l|}\n\\hline\n & gsd & pud & syntagrus & poetry & taiga \\\\\n\\hline\nudpipe & 0.941 & 0.977 & 0.997 & 0.940 & 0.934 \\\\\n\\cline{1-6}\nstanza & 0.939 & 0.996 & 0.998 & 0.950 & 0.947 \\\\\n\\cline{1-6}\nnatasha & 0.954 & 0.993 & 0.989 & 0.986 & 0.953 \\\\\n\\cline{1-6}\ndeeppavlov & 0.907 & 0.996 & 0.989 & 0.982 & 0.942 \\\\\n\\cline{1-6}\nspacy & 0.960 & 0.986 & 0.985 & 0.979 & 0.959 \\\\\n\\cline{1-6}\n\\hline\n\\end{tabular}\n"
          },
          "metadata": {}
        }
      ]
    },
    {
      "cell_type": "markdown",
      "source": [
        "# Distribution"
      ],
      "metadata": {
        "id": "8uehs9nFR6xm"
      }
    },
    {
      "cell_type": "code",
      "source": [
        "for tr in treebank_names:\n",
        "  for p in parser_names:\n",
        "    print(tr, p, round(len(token_border_dict[tr][p][token_border_dict[tr][p]!=1.0]) / len(token_border_dict[tr][p]), 2))"
      ],
      "metadata": {
        "colab": {
          "base_uri": "https://localhost:8080/"
        },
        "id": "T8HlM8tccpTv",
        "outputId": "25e7e6ba-101d-4c15-a304-bf17427764bf"
      },
      "execution_count": 40,
      "outputs": [
        {
          "output_type": "stream",
          "name": "stdout",
          "text": [
            "gsd udpipe 0.35\n",
            "gsd stanza 0.34\n",
            "gsd natasha 0.2\n",
            "gsd deeppavlov 0.17\n",
            "gsd spacy 0.25\n",
            "pud udpipe 0.17\n",
            "pud stanza 0.05\n",
            "pud natasha 0.06\n",
            "pud deeppavlov 0.04\n",
            "pud spacy 0.13\n",
            "syntagrus udpipe 0.03\n",
            "syntagrus stanza 0.02\n",
            "syntagrus natasha 0.08\n",
            "syntagrus deeppavlov 0.08\n",
            "syntagrus spacy 0.13\n",
            "poetry udpipe 0.34\n",
            "poetry stanza 0.32\n",
            "poetry natasha 0.05\n",
            "poetry deeppavlov 0.1\n",
            "poetry spacy 0.11\n",
            "taiga udpipe 0.26\n",
            "taiga stanza 0.21\n",
            "taiga natasha 0.19\n",
            "taiga deeppavlov 0.24\n",
            "taiga spacy 0.18\n"
          ]
        }
      ]
    },
    {
      "cell_type": "code",
      "source": [
        "rate_border_sents = pd.DataFrame([[len(token_border_dict[tr][p][token_border_dict[tr][p]!=1.0]) / len(token_border_dict[tr][p])\n",
        "                          for tr in treebank_names] for p in parser_names],\n",
        "                        index=parser_names, columns=treebank_names)"
      ],
      "metadata": {
        "id": "pvuOZ11wcpXg"
      },
      "execution_count": 41,
      "outputs": []
    },
    {
      "cell_type": "code",
      "source": [
        "rate_border_sents.round(2) * 100"
      ],
      "metadata": {
        "colab": {
          "base_uri": "https://localhost:8080/",
          "height": 206
        },
        "id": "ZiR8-HvqxsAO",
        "outputId": "df8575ec-0359-49ed-c6e9-720069b0a29f"
      },
      "execution_count": 42,
      "outputs": [
        {
          "output_type": "execute_result",
          "data": {
            "text/plain": [
              "             gsd   pud  syntagrus  poetry  taiga\n",
              "udpipe      35.0  17.0        3.0    34.0   26.0\n",
              "stanza      34.0   5.0        2.0    32.0   21.0\n",
              "natasha     20.0   6.0        8.0     5.0   19.0\n",
              "deeppavlov  17.0   4.0        8.0    10.0   24.0\n",
              "spacy       25.0  13.0       13.0    11.0   18.0"
            ],
            "text/html": [
              "\n",
              "  <div id=\"df-89a7b1da-0062-4ceb-8a8f-ef9f5f7a5742\" class=\"colab-df-container\">\n",
              "    <div>\n",
              "<style scoped>\n",
              "    .dataframe tbody tr th:only-of-type {\n",
              "        vertical-align: middle;\n",
              "    }\n",
              "\n",
              "    .dataframe tbody tr th {\n",
              "        vertical-align: top;\n",
              "    }\n",
              "\n",
              "    .dataframe thead th {\n",
              "        text-align: right;\n",
              "    }\n",
              "</style>\n",
              "<table border=\"1\" class=\"dataframe\">\n",
              "  <thead>\n",
              "    <tr style=\"text-align: right;\">\n",
              "      <th></th>\n",
              "      <th>gsd</th>\n",
              "      <th>pud</th>\n",
              "      <th>syntagrus</th>\n",
              "      <th>poetry</th>\n",
              "      <th>taiga</th>\n",
              "    </tr>\n",
              "  </thead>\n",
              "  <tbody>\n",
              "    <tr>\n",
              "      <th>udpipe</th>\n",
              "      <td>35.0</td>\n",
              "      <td>17.0</td>\n",
              "      <td>3.0</td>\n",
              "      <td>34.0</td>\n",
              "      <td>26.0</td>\n",
              "    </tr>\n",
              "    <tr>\n",
              "      <th>stanza</th>\n",
              "      <td>34.0</td>\n",
              "      <td>5.0</td>\n",
              "      <td>2.0</td>\n",
              "      <td>32.0</td>\n",
              "      <td>21.0</td>\n",
              "    </tr>\n",
              "    <tr>\n",
              "      <th>natasha</th>\n",
              "      <td>20.0</td>\n",
              "      <td>6.0</td>\n",
              "      <td>8.0</td>\n",
              "      <td>5.0</td>\n",
              "      <td>19.0</td>\n",
              "    </tr>\n",
              "    <tr>\n",
              "      <th>deeppavlov</th>\n",
              "      <td>17.0</td>\n",
              "      <td>4.0</td>\n",
              "      <td>8.0</td>\n",
              "      <td>10.0</td>\n",
              "      <td>24.0</td>\n",
              "    </tr>\n",
              "    <tr>\n",
              "      <th>spacy</th>\n",
              "      <td>25.0</td>\n",
              "      <td>13.0</td>\n",
              "      <td>13.0</td>\n",
              "      <td>11.0</td>\n",
              "      <td>18.0</td>\n",
              "    </tr>\n",
              "  </tbody>\n",
              "</table>\n",
              "</div>\n",
              "    <div class=\"colab-df-buttons\">\n",
              "\n",
              "  <div class=\"colab-df-container\">\n",
              "    <button class=\"colab-df-convert\" onclick=\"convertToInteractive('df-89a7b1da-0062-4ceb-8a8f-ef9f5f7a5742')\"\n",
              "            title=\"Convert this dataframe to an interactive table.\"\n",
              "            style=\"display:none;\">\n",
              "\n",
              "  <svg xmlns=\"http://www.w3.org/2000/svg\" height=\"24px\" viewBox=\"0 -960 960 960\">\n",
              "    <path d=\"M120-120v-720h720v720H120Zm60-500h600v-160H180v160Zm220 220h160v-160H400v160Zm0 220h160v-160H400v160ZM180-400h160v-160H180v160Zm440 0h160v-160H620v160ZM180-180h160v-160H180v160Zm440 0h160v-160H620v160Z\"/>\n",
              "  </svg>\n",
              "    </button>\n",
              "\n",
              "  <style>\n",
              "    .colab-df-container {\n",
              "      display:flex;\n",
              "      gap: 12px;\n",
              "    }\n",
              "\n",
              "    .colab-df-convert {\n",
              "      background-color: #E8F0FE;\n",
              "      border: none;\n",
              "      border-radius: 50%;\n",
              "      cursor: pointer;\n",
              "      display: none;\n",
              "      fill: #1967D2;\n",
              "      height: 32px;\n",
              "      padding: 0 0 0 0;\n",
              "      width: 32px;\n",
              "    }\n",
              "\n",
              "    .colab-df-convert:hover {\n",
              "      background-color: #E2EBFA;\n",
              "      box-shadow: 0px 1px 2px rgba(60, 64, 67, 0.3), 0px 1px 3px 1px rgba(60, 64, 67, 0.15);\n",
              "      fill: #174EA6;\n",
              "    }\n",
              "\n",
              "    .colab-df-buttons div {\n",
              "      margin-bottom: 4px;\n",
              "    }\n",
              "\n",
              "    [theme=dark] .colab-df-convert {\n",
              "      background-color: #3B4455;\n",
              "      fill: #D2E3FC;\n",
              "    }\n",
              "\n",
              "    [theme=dark] .colab-df-convert:hover {\n",
              "      background-color: #434B5C;\n",
              "      box-shadow: 0px 1px 3px 1px rgba(0, 0, 0, 0.15);\n",
              "      filter: drop-shadow(0px 1px 2px rgba(0, 0, 0, 0.3));\n",
              "      fill: #FFFFFF;\n",
              "    }\n",
              "  </style>\n",
              "\n",
              "    <script>\n",
              "      const buttonEl =\n",
              "        document.querySelector('#df-89a7b1da-0062-4ceb-8a8f-ef9f5f7a5742 button.colab-df-convert');\n",
              "      buttonEl.style.display =\n",
              "        google.colab.kernel.accessAllowed ? 'block' : 'none';\n",
              "\n",
              "      async function convertToInteractive(key) {\n",
              "        const element = document.querySelector('#df-89a7b1da-0062-4ceb-8a8f-ef9f5f7a5742');\n",
              "        const dataTable =\n",
              "          await google.colab.kernel.invokeFunction('convertToInteractive',\n",
              "                                                    [key], {});\n",
              "        if (!dataTable) return;\n",
              "\n",
              "        const docLinkHtml = 'Like what you see? Visit the ' +\n",
              "          '<a target=\"_blank\" href=https://colab.research.google.com/notebooks/data_table.ipynb>data table notebook</a>'\n",
              "          + ' to learn more about interactive tables.';\n",
              "        element.innerHTML = '';\n",
              "        dataTable['output_type'] = 'display_data';\n",
              "        await google.colab.output.renderOutput(dataTable, element);\n",
              "        const docLink = document.createElement('div');\n",
              "        docLink.innerHTML = docLinkHtml;\n",
              "        element.appendChild(docLink);\n",
              "      }\n",
              "    </script>\n",
              "  </div>\n",
              "\n",
              "\n",
              "<div id=\"df-d06c4ce5-c0ab-4bad-8e15-52f615598da3\">\n",
              "  <button class=\"colab-df-quickchart\" onclick=\"quickchart('df-d06c4ce5-c0ab-4bad-8e15-52f615598da3')\"\n",
              "            title=\"Suggest charts\"\n",
              "            style=\"display:none;\">\n",
              "\n",
              "<svg xmlns=\"http://www.w3.org/2000/svg\" height=\"24px\"viewBox=\"0 0 24 24\"\n",
              "     width=\"24px\">\n",
              "    <g>\n",
              "        <path d=\"M19 3H5c-1.1 0-2 .9-2 2v14c0 1.1.9 2 2 2h14c1.1 0 2-.9 2-2V5c0-1.1-.9-2-2-2zM9 17H7v-7h2v7zm4 0h-2V7h2v10zm4 0h-2v-4h2v4z\"/>\n",
              "    </g>\n",
              "</svg>\n",
              "  </button>\n",
              "\n",
              "<style>\n",
              "  .colab-df-quickchart {\n",
              "      --bg-color: #E8F0FE;\n",
              "      --fill-color: #1967D2;\n",
              "      --hover-bg-color: #E2EBFA;\n",
              "      --hover-fill-color: #174EA6;\n",
              "      --disabled-fill-color: #AAA;\n",
              "      --disabled-bg-color: #DDD;\n",
              "  }\n",
              "\n",
              "  [theme=dark] .colab-df-quickchart {\n",
              "      --bg-color: #3B4455;\n",
              "      --fill-color: #D2E3FC;\n",
              "      --hover-bg-color: #434B5C;\n",
              "      --hover-fill-color: #FFFFFF;\n",
              "      --disabled-bg-color: #3B4455;\n",
              "      --disabled-fill-color: #666;\n",
              "  }\n",
              "\n",
              "  .colab-df-quickchart {\n",
              "    background-color: var(--bg-color);\n",
              "    border: none;\n",
              "    border-radius: 50%;\n",
              "    cursor: pointer;\n",
              "    display: none;\n",
              "    fill: var(--fill-color);\n",
              "    height: 32px;\n",
              "    padding: 0;\n",
              "    width: 32px;\n",
              "  }\n",
              "\n",
              "  .colab-df-quickchart:hover {\n",
              "    background-color: var(--hover-bg-color);\n",
              "    box-shadow: 0 1px 2px rgba(60, 64, 67, 0.3), 0 1px 3px 1px rgba(60, 64, 67, 0.15);\n",
              "    fill: var(--button-hover-fill-color);\n",
              "  }\n",
              "\n",
              "  .colab-df-quickchart-complete:disabled,\n",
              "  .colab-df-quickchart-complete:disabled:hover {\n",
              "    background-color: var(--disabled-bg-color);\n",
              "    fill: var(--disabled-fill-color);\n",
              "    box-shadow: none;\n",
              "  }\n",
              "\n",
              "  .colab-df-spinner {\n",
              "    border: 2px solid var(--fill-color);\n",
              "    border-color: transparent;\n",
              "    border-bottom-color: var(--fill-color);\n",
              "    animation:\n",
              "      spin 1s steps(1) infinite;\n",
              "  }\n",
              "\n",
              "  @keyframes spin {\n",
              "    0% {\n",
              "      border-color: transparent;\n",
              "      border-bottom-color: var(--fill-color);\n",
              "      border-left-color: var(--fill-color);\n",
              "    }\n",
              "    20% {\n",
              "      border-color: transparent;\n",
              "      border-left-color: var(--fill-color);\n",
              "      border-top-color: var(--fill-color);\n",
              "    }\n",
              "    30% {\n",
              "      border-color: transparent;\n",
              "      border-left-color: var(--fill-color);\n",
              "      border-top-color: var(--fill-color);\n",
              "      border-right-color: var(--fill-color);\n",
              "    }\n",
              "    40% {\n",
              "      border-color: transparent;\n",
              "      border-right-color: var(--fill-color);\n",
              "      border-top-color: var(--fill-color);\n",
              "    }\n",
              "    60% {\n",
              "      border-color: transparent;\n",
              "      border-right-color: var(--fill-color);\n",
              "    }\n",
              "    80% {\n",
              "      border-color: transparent;\n",
              "      border-right-color: var(--fill-color);\n",
              "      border-bottom-color: var(--fill-color);\n",
              "    }\n",
              "    90% {\n",
              "      border-color: transparent;\n",
              "      border-bottom-color: var(--fill-color);\n",
              "    }\n",
              "  }\n",
              "</style>\n",
              "\n",
              "  <script>\n",
              "    async function quickchart(key) {\n",
              "      const quickchartButtonEl =\n",
              "        document.querySelector('#' + key + ' button');\n",
              "      quickchartButtonEl.disabled = true;  // To prevent multiple clicks.\n",
              "      quickchartButtonEl.classList.add('colab-df-spinner');\n",
              "      try {\n",
              "        const charts = await google.colab.kernel.invokeFunction(\n",
              "            'suggestCharts', [key], {});\n",
              "      } catch (error) {\n",
              "        console.error('Error during call to suggestCharts:', error);\n",
              "      }\n",
              "      quickchartButtonEl.classList.remove('colab-df-spinner');\n",
              "      quickchartButtonEl.classList.add('colab-df-quickchart-complete');\n",
              "    }\n",
              "    (() => {\n",
              "      let quickchartButtonEl =\n",
              "        document.querySelector('#df-d06c4ce5-c0ab-4bad-8e15-52f615598da3 button');\n",
              "      quickchartButtonEl.style.display =\n",
              "        google.colab.kernel.accessAllowed ? 'block' : 'none';\n",
              "    })();\n",
              "  </script>\n",
              "</div>\n",
              "    </div>\n",
              "  </div>\n"
            ],
            "application/vnd.google.colaboratory.intrinsic+json": {
              "type": "dataframe",
              "summary": "{\n  \"name\": \"rate_border_sents\",\n  \"rows\": 5,\n  \"fields\": [\n    {\n      \"column\": \"gsd\",\n      \"properties\": {\n        \"dtype\": \"number\",\n        \"std\": 8.105553651663778,\n        \"min\": 17.0,\n        \"max\": 35.0,\n        \"num_unique_values\": 5,\n        \"samples\": [\n          34.0,\n          25.0,\n          20.0\n        ],\n        \"semantic_type\": \"\",\n        \"description\": \"\"\n      }\n    },\n    {\n      \"column\": \"pud\",\n      \"properties\": {\n        \"dtype\": \"number\",\n        \"std\": 5.70087712549569,\n        \"min\": 4.0,\n        \"max\": 17.0,\n        \"num_unique_values\": 5,\n        \"samples\": [\n          5.0,\n          13.0,\n          6.0\n        ],\n        \"semantic_type\": \"\",\n        \"description\": \"\"\n      }\n    },\n    {\n      \"column\": \"syntagrus\",\n      \"properties\": {\n        \"dtype\": \"number\",\n        \"std\": 4.43846820423443,\n        \"min\": 2.0,\n        \"max\": 13.0,\n        \"num_unique_values\": 4,\n        \"samples\": [\n          2.0,\n          13.0,\n          3.0\n        ],\n        \"semantic_type\": \"\",\n        \"description\": \"\"\n      }\n    },\n    {\n      \"column\": \"poetry\",\n      \"properties\": {\n        \"dtype\": \"number\",\n        \"std\": 13.538833036861043,\n        \"min\": 5.0,\n        \"max\": 34.0,\n        \"num_unique_values\": 5,\n        \"samples\": [\n          32.0,\n          11.0,\n          5.0\n        ],\n        \"semantic_type\": \"\",\n        \"description\": \"\"\n      }\n    },\n    {\n      \"column\": \"taiga\",\n      \"properties\": {\n        \"dtype\": \"number\",\n        \"std\": 3.361547262794322,\n        \"min\": 18.0,\n        \"max\": 26.0,\n        \"num_unique_values\": 5,\n        \"samples\": [\n          21.0,\n          18.0,\n          19.0\n        ],\n        \"semantic_type\": \"\",\n        \"description\": \"\"\n      }\n    }\n  ]\n}"
            }
          },
          "metadata": {},
          "execution_count": 42
        }
      ]
    },
    {
      "cell_type": "code",
      "source": [
        "import matplotlib.pyplot as plt"
      ],
      "metadata": {
        "id": "7-yYSwBjR8iq"
      },
      "execution_count": 43,
      "outputs": []
    },
    {
      "cell_type": "code",
      "source": [
        "len(token_border_dict['taiga']['deeppavlov'])"
      ],
      "metadata": {
        "colab": {
          "base_uri": "https://localhost:8080/"
        },
        "id": "JwNpv1npSS8v",
        "outputId": "b50df7ea-72db-4949-a649-fbeabf781573"
      },
      "execution_count": 44,
      "outputs": [
        {
          "output_type": "execute_result",
          "data": {
            "text/plain": [
              "881"
            ]
          },
          "metadata": {},
          "execution_count": 44
        }
      ]
    },
    {
      "cell_type": "code",
      "source": [
        "len(token_border_dict['taiga']['deeppavlov'][token_border_dict['taiga']['deeppavlov']!=1.0])"
      ],
      "metadata": {
        "colab": {
          "base_uri": "https://localhost:8080/"
        },
        "id": "A94gvCdASNUP",
        "outputId": "f2f0e07a-148c-48eb-b1b6-01b5f3f87375"
      },
      "execution_count": 45,
      "outputs": [
        {
          "output_type": "execute_result",
          "data": {
            "text/plain": [
              "209"
            ]
          },
          "metadata": {},
          "execution_count": 45
        }
      ]
    },
    {
      "cell_type": "code",
      "source": [
        "plt.hist(token_border_dict['taiga']['deeppavlov'][token_border_dict['taiga']['deeppavlov']!=1.0], bins=100)\n",
        "plt.show()"
      ],
      "metadata": {
        "id": "gK0X8OqGZFgw",
        "colab": {
          "base_uri": "https://localhost:8080/",
          "height": 430
        },
        "outputId": "06060ea0-4c1c-4ea7-ecd0-18fd15683f1c"
      },
      "execution_count": 46,
      "outputs": [
        {
          "output_type": "display_data",
          "data": {
            "text/plain": [
              "<Figure size 640x480 with 1 Axes>"
            ],
            "image/png": "[encoded data removed]"
          },
          "metadata": {}
        }
      ]
    },
    {
      "cell_type": "code",
      "source": [],
      "metadata": {
        "id": "j9yXAKUcRxkQ"
      },
      "execution_count": 46,
      "outputs": []
    }
  ],
  "metadata": {
    "colab": {
      "provenance": [],
      "authorship_tag": "ABX9TyMBDla1Tuo6FZ+8TeFfjj4P",
      "include_colab_link": true
    },
    "kernelspec": {
      "display_name": "Python 3",
      "name": "python3"
    },
    "language_info": {
      "name": "python"
    }
  },
  "nbformat": 4,
  "nbformat_minor": 0
}